{
 "cells": [
  {
   "cell_type": "markdown",
   "metadata": {
    "slideshow": {
     "slide_type": "slide"
    }
   },
   "source": [
    "# Welcome\n",
    "\n",
    "Welcome to the python tutorial of the AG Peter. In our work we heavily rely on the programming language python. This tutorial will guide you through all the important topics in learning the python programming language.\n",
    "\n",
    "Python is an interpreted, high-level, general purpose programming language.\n",
    "\n",
    "- It's interpreted because python programs don't need to be compiled.\n",
    "- It's a high-level programming language, because of its layer of abstraction. You don't need to write instructions which memory register to pass through which core of the CPU. This would also prohibit us from sharing code, between different processors.\n",
    "- It's general purpose, because you can do almost anything with it. From math, websites, inventory management systems to computational chemistry.\n",
    "\n",
    "\n",
    "You can write your first python code by entering the python shell. In your bash shell enter then command ```python```. You now changed into a python shell, denoted by the three chevrons: ```>>>```. Here you can type python code. Try typing the following code line-by-line hitting return after every line. The line without chevrons is the line of the output.\n",
    "\n",
    "```python\n",
    ">>> 1 + 3\n",
    "4\n",
    ">>> a = 5\n",
    ">>> a\n",
    "5\n",
    ">>> 1 + a\n",
    "6\n",
    "```\n",
    "\n",
    "To leave the python shell type ```quit()```.\n",
    "\n",
    "\n",
    "You can try to run the following commands in your shell:\n",
    "\n",
    "```bash\n",
    "user@computername:~$ echo \"print('You are awesome!')\" > my_awesome_program.py\n",
    "user@computername:~$ python my_awseome_program.py\n",
    "You are awesome!\n",
    "```\n",
    "\n",
    "This usage of python is not very useful when developing code. That's why we are using *jupyter-notebooks*.\n",
    "\n",
    "## Jupyter Notebooks\n",
    "\n",
    "What you are currently looking at is called a *jupyter-notebook* (congrats on opening it). *jupyter-notebooks* contain a number of so-called sells. Cells can either be code cells, or markdown cells. This text is written in a markdown cell. In these cells text is easier to read and can be formatted *like* **these** ~~examples~~ here. You can make lists, tables and format your text nicely. These markdown cells accompany the code cells. In the code cells the magic happens. These cells contain code segments which can be executed on a cell-by-cell basis. All variables declared in the code cells are available as long as the notebook is running. This means that contrary to a code.py file a variable declared in a cell further down can be used in a cell further up, as long as the cell with the variable declaration is ran first.\n",
    "\n",
    "**How to execute code in jupyter notebooks**\n",
    "\n"
   ]
  },
  {
   "cell_type": "code",
   "execution_count": null,
   "metadata": {},
   "outputs": [],
   "source": []
  }
 ],
 "metadata": {
  "celltoolbar": "Slideshow",
  "kernelspec": {
   "display_name": "Python 3",
   "language": "python",
   "name": "python3"
  },
  "language_info": {
   "codemirror_mode": {
    "name": "ipython",
    "version": 3
   },
   "file_extension": ".py",
   "mimetype": "text/x-python",
   "name": "python",
   "nbconvert_exporter": "python",
   "pygments_lexer": "ipython3",
   "version": "3.6.6"
  },
  "latex_envs": {
   "LaTeX_envs_menu_present": true,
   "autoclose": false,
   "autocomplete": true,
   "bibliofile": "biblio.bib",
   "cite_by": "apalike",
   "current_citInitial": 1,
   "eqLabelWithNumbers": true,
   "eqNumInitial": 1,
   "hotkeys": {
    "equation": "Ctrl-E",
    "itemize": "Ctrl-I"
   },
   "labels_anchors": false,
   "latex_user_defs": false,
   "report_style_numbering": false,
   "user_envs_cfg": false
  },
  "toc": {
   "base_numbering": 1,
   "nav_menu": {},
   "number_sections": true,
   "sideBar": true,
   "skip_h1_title": false,
   "title_cell": "Table of Contents",
   "title_sidebar": "Contents",
   "toc_cell": false,
   "toc_position": {},
   "toc_section_display": true,
   "toc_window_display": false
  }
 },
 "nbformat": 4,
 "nbformat_minor": 2
}
