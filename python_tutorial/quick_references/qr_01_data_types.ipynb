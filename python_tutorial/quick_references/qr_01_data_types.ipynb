{
 "cells": [
  {
   "cell_type": "markdown",
   "id": "96b5cc2d",
   "metadata": {},
   "source": [
    "# Data Types"
   ]
  },
  {
   "cell_type": "markdown",
   "id": "c448b5b5",
   "metadata": {},
   "source": [
    "Determine the type of an object:"
   ]
  },
  {
   "cell_type": "code",
   "execution_count": 1,
   "id": "12bf72f9",
   "metadata": {
    "execution": {
     "iopub.execute_input": "2023-02-22T15:40:16.768402Z",
     "iopub.status.busy": "2023-02-22T15:40:16.767749Z",
     "iopub.status.idle": "2023-02-22T15:40:16.828328Z",
     "shell.execute_reply": "2023-02-22T15:40:16.827740Z"
    }
   },
   "outputs": [
    {
     "name": "stdout",
     "output_type": "stream",
     "text": [
      "<class 'module'>\n",
      "<class 'type'>\n",
      "<class 'builtin_function_or_method'>\n",
      "<class 'int'>\n",
      "<class 'float'>\n",
      "<class 'str'>\n",
      "<class 'bool'>\n",
      "<class 'NoneType'>\n"
     ]
    }
   ],
   "source": [
    "import math\n",
    "print(type(math))    # module\n",
    "from numpy import ndarray\n",
    "print(type(ndarray)) # classes will print `type`\n",
    "from numpy.random import random\n",
    "print(type(random))  # builtin_function_or_method\n",
    "print(type(1))       # int (integer)\n",
    "print(type(1.1))     # float (floating point number)\n",
    "print(type('hello')) # str (string)\n",
    "print(type(True))    # bool (boolean, True/False values)\n",
    "print(type(None))    # NoneType (NoneType is a singleton)"
   ]
  },
  {
   "cell_type": "markdown",
   "id": "2e2a1df8",
   "metadata": {},
   "source": [
    "Check the type of an object:"
   ]
  },
  {
   "cell_type": "code",
   "execution_count": 2,
   "id": "9eaa65d2",
   "metadata": {
    "execution": {
     "iopub.execute_input": "2023-02-22T15:40:16.832825Z",
     "iopub.status.busy": "2023-02-22T15:40:16.831670Z",
     "iopub.status.idle": "2023-02-22T15:40:16.840602Z",
     "shell.execute_reply": "2023-02-22T15:40:16.840052Z"
    }
   },
   "outputs": [
    {
     "data": {
      "text/plain": [
       "True"
      ]
     },
     "execution_count": 2,
     "metadata": {},
     "output_type": "execute_result"
    }
   ],
   "source": [
    "isinstance(2, int) # True"
   ]
  },
  {
   "cell_type": "code",
   "execution_count": 3,
   "id": "20afbb65",
   "metadata": {
    "execution": {
     "iopub.execute_input": "2023-02-22T15:40:16.844674Z",
     "iopub.status.busy": "2023-02-22T15:40:16.843592Z",
     "iopub.status.idle": "2023-02-22T15:40:16.850044Z",
     "shell.execute_reply": "2023-02-22T15:40:16.849502Z"
    }
   },
   "outputs": [
    {
     "data": {
      "text/plain": [
       "True"
      ]
     },
     "execution_count": 3,
     "metadata": {},
     "output_type": "execute_result"
    }
   ],
   "source": [
    "isinstance(2.2, (float, int)) # True"
   ]
  },
  {
   "cell_type": "markdown",
   "id": "ae88cb79",
   "metadata": {},
   "source": [
    "Converting between types:"
   ]
  },
  {
   "cell_type": "code",
   "execution_count": 4,
   "id": "178cb483",
   "metadata": {
    "execution": {
     "iopub.execute_input": "2023-02-22T15:40:16.854082Z",
     "iopub.status.busy": "2023-02-22T15:40:16.853005Z",
     "iopub.status.idle": "2023-02-22T15:40:16.859209Z",
     "shell.execute_reply": "2023-02-22T15:40:16.858663Z"
    }
   },
   "outputs": [
    {
     "data": {
      "text/plain": [
       "2.0"
      ]
     },
     "execution_count": 4,
     "metadata": {},
     "output_type": "execute_result"
    }
   ],
   "source": [
    "float(2) # 2.0"
   ]
  },
  {
   "cell_type": "code",
   "execution_count": 5,
   "id": "b94406db",
   "metadata": {
    "execution": {
     "iopub.execute_input": "2023-02-22T15:40:16.863216Z",
     "iopub.status.busy": "2023-02-22T15:40:16.862114Z",
     "iopub.status.idle": "2023-02-22T15:40:16.868365Z",
     "shell.execute_reply": "2023-02-22T15:40:16.867823Z"
    }
   },
   "outputs": [
    {
     "data": {
      "text/plain": [
       "2"
      ]
     },
     "execution_count": 5,
     "metadata": {},
     "output_type": "execute_result"
    }
   ],
   "source": [
    "int(2.9) # 2"
   ]
  },
  {
   "cell_type": "code",
   "execution_count": 6,
   "id": "3de6f701",
   "metadata": {
    "execution": {
     "iopub.execute_input": "2023-02-22T15:40:16.872347Z",
     "iopub.status.busy": "2023-02-22T15:40:16.871266Z",
     "iopub.status.idle": "2023-02-22T15:40:16.877478Z",
     "shell.execute_reply": "2023-02-22T15:40:16.876935Z"
    }
   },
   "outputs": [
    {
     "data": {
      "text/plain": [
       "3"
      ]
     },
     "execution_count": 6,
     "metadata": {},
     "output_type": "execute_result"
    }
   ],
   "source": [
    "int(3.9) # 3"
   ]
  },
  {
   "cell_type": "code",
   "execution_count": 7,
   "id": "1837ae0e",
   "metadata": {
    "execution": {
     "iopub.execute_input": "2023-02-22T15:40:16.881468Z",
     "iopub.status.busy": "2023-02-22T15:40:16.880393Z",
     "iopub.status.idle": "2023-02-22T15:40:16.886635Z",
     "shell.execute_reply": "2023-02-22T15:40:16.886066Z"
    }
   },
   "outputs": [
    {
     "data": {
      "text/plain": [
       "'2.2'"
      ]
     },
     "execution_count": 7,
     "metadata": {},
     "output_type": "execute_result"
    }
   ],
   "source": [
    "str(2.2) # '2.2'"
   ]
  },
  {
   "cell_type": "markdown",
   "id": "342f08a6",
   "metadata": {},
   "source": [
    "Boolean values of built-in types:"
   ]
  },
  {
   "cell_type": "code",
   "execution_count": 8,
   "id": "a21968a2",
   "metadata": {
    "execution": {
     "iopub.execute_input": "2023-02-22T15:40:16.890513Z",
     "iopub.status.busy": "2023-02-22T15:40:16.889608Z",
     "iopub.status.idle": "2023-02-22T15:40:16.894216Z",
     "shell.execute_reply": "2023-02-22T15:40:16.893533Z"
    }
   },
   "outputs": [
    {
     "data": {
      "text/plain": [
       "False"
      ]
     },
     "execution_count": 8,
     "metadata": {},
     "output_type": "execute_result"
    }
   ],
   "source": [
    "bool(0)    # False"
   ]
  },
  {
   "cell_type": "code",
   "execution_count": 9,
   "id": "29ec98ce",
   "metadata": {
    "execution": {
     "iopub.execute_input": "2023-02-22T15:40:16.897331Z",
     "iopub.status.busy": "2023-02-22T15:40:16.896822Z",
     "iopub.status.idle": "2023-02-22T15:40:16.900968Z",
     "shell.execute_reply": "2023-02-22T15:40:16.900303Z"
    }
   },
   "outputs": [
    {
     "data": {
      "text/plain": [
       "False"
      ]
     },
     "execution_count": 9,
     "metadata": {},
     "output_type": "execute_result"
    }
   ],
   "source": [
    "bool(None) # False"
   ]
  },
  {
   "cell_type": "code",
   "execution_count": 10,
   "id": "f6e4cd65",
   "metadata": {
    "execution": {
     "iopub.execute_input": "2023-02-22T15:40:16.904327Z",
     "iopub.status.busy": "2023-02-22T15:40:16.904112Z",
     "iopub.status.idle": "2023-02-22T15:40:16.908215Z",
     "shell.execute_reply": "2023-02-22T15:40:16.907548Z"
    }
   },
   "outputs": [
    {
     "data": {
      "text/plain": [
       "False"
      ]
     },
     "execution_count": 10,
     "metadata": {},
     "output_type": "execute_result"
    }
   ],
   "source": [
    "bool('')   # False"
   ]
  },
  {
   "cell_type": "code",
   "execution_count": 11,
   "id": "178327a8",
   "metadata": {
    "execution": {
     "iopub.execute_input": "2023-02-22T15:40:16.911856Z",
     "iopub.status.busy": "2023-02-22T15:40:16.911353Z",
     "iopub.status.idle": "2023-02-22T15:40:16.915497Z",
     "shell.execute_reply": "2023-02-22T15:40:16.914849Z"
    }
   },
   "outputs": [
    {
     "data": {
      "text/plain": [
       "False"
      ]
     },
     "execution_count": 11,
     "metadata": {},
     "output_type": "execute_result"
    }
   ],
   "source": [
    "bool([])   # False (empty list)"
   ]
  },
  {
   "cell_type": "code",
   "execution_count": 12,
   "id": "a1bde6ad",
   "metadata": {
    "execution": {
     "iopub.execute_input": "2023-02-22T15:40:16.918852Z",
     "iopub.status.busy": "2023-02-22T15:40:16.918487Z",
     "iopub.status.idle": "2023-02-22T15:40:16.922680Z",
     "shell.execute_reply": "2023-02-22T15:40:16.921979Z"
    }
   },
   "outputs": [
    {
     "data": {
      "text/plain": [
       "False"
      ]
     },
     "execution_count": 12,
     "metadata": {},
     "output_type": "execute_result"
    }
   ],
   "source": [
    "bool({})   # False (empty dict)"
   ]
  },
  {
   "cell_type": "markdown",
   "id": "aaab37a9",
   "metadata": {},
   "source": [
    "True for variables with values and non-empty containers:"
   ]
  },
  {
   "cell_type": "code",
   "execution_count": 13,
   "id": "dd6b7271",
   "metadata": {
    "execution": {
     "iopub.execute_input": "2023-02-22T15:40:16.926058Z",
     "iopub.status.busy": "2023-02-22T15:40:16.925710Z",
     "iopub.status.idle": "2023-02-22T15:40:16.929937Z",
     "shell.execute_reply": "2023-02-22T15:40:16.929198Z"
    }
   },
   "outputs": [
    {
     "data": {
      "text/plain": [
       "True"
      ]
     },
     "execution_count": 13,
     "metadata": {},
     "output_type": "execute_result"
    }
   ],
   "source": [
    "bool(2)     # True"
   ]
  },
  {
   "cell_type": "code",
   "execution_count": 14,
   "id": "c7340643",
   "metadata": {
    "execution": {
     "iopub.execute_input": "2023-02-22T15:40:16.933439Z",
     "iopub.status.busy": "2023-02-22T15:40:16.932915Z",
     "iopub.status.idle": "2023-02-22T15:40:16.937159Z",
     "shell.execute_reply": "2023-02-22T15:40:16.936494Z"
    }
   },
   "outputs": [
    {
     "data": {
      "text/plain": [
       "True"
      ]
     },
     "execution_count": 14,
     "metadata": {},
     "output_type": "execute_result"
    }
   ],
   "source": [
    "bool([2])   # True"
   ]
  },
  {
   "cell_type": "code",
   "execution_count": 15,
   "id": "d4c4bd39",
   "metadata": {
    "execution": {
     "iopub.execute_input": "2023-02-22T15:40:16.939887Z",
     "iopub.status.busy": "2023-02-22T15:40:16.939671Z",
     "iopub.status.idle": "2023-02-22T15:40:16.944361Z",
     "shell.execute_reply": "2023-02-22T15:40:16.943682Z"
    }
   },
   "outputs": [
    {
     "data": {
      "text/plain": [
       "True"
      ]
     },
     "execution_count": 15,
     "metadata": {},
     "output_type": "execute_result"
    }
   ],
   "source": [
    "bool('two') # True"
   ]
  }
 ],
 "metadata": {
  "language_info": {
   "codemirror_mode": {
    "name": "ipython",
    "version": 3
   },
   "file_extension": ".py",
   "mimetype": "text/x-python",
   "name": "python",
   "nbconvert_exporter": "python",
   "pygments_lexer": "ipython3",
   "version": "3.8.16"
  }
 },
 "nbformat": 4,
 "nbformat_minor": 5
}
