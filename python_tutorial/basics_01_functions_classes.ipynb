{
 "cells": [
  {
   "cell_type": "markdown",
   "metadata": {},
   "source": [
    "**Todo**\n",
    "\n",
    "Combine the Functions and writing functions and extend a bit more on the classes. rajathkmp will be helpful for this."
   ]
  },
  {
   "attachments": {},
   "cell_type": "markdown",
   "metadata": {},
   "source": [
    "# 01_functions_classes\n",
    "\n",
    "Open on binder:\n",
    "[![Binder](https://mybinder.org/badge_logo.svg)](https://mybinder.org/v2/gh/kevinsawade/start-science-here/HEAD?urlpath=%2Ftree%2F?filepath=python_tutorial%2Fbasic_python%2Fbasics_01_functions_classes.ipynb)\n",
    "\n",
    "This notebook is based on the tutorial series by **Rajath Kumar M P**. Visit his GitHub to find out more: https://github.com/rajathkmp\n",
    "\n",
    "## What you will learn\n",
    "\n",
    "During the course of this tutorial you will learn:\n",
    "\n",
    "- What list/dictionary comprehensions are and how to use them to write clean code.\n",
    "- What functions are and how to write your own functions.\n",
    "- What lambda functions are and how to use them.\n",
    "- What classes are and how to write your own classes."
   ]
  },
  {
   "cell_type": "markdown",
   "metadata": {},
   "source": [
    "## Comprehensions\n",
    "\n",
    "Oftentimes you will use `for`-lopps to fill lists with some data. Let's say we want all square numbers up to and including 20 (that means we have to use `range(21)`, because python is right exclusive) in a list."
   ]
  },
  {
   "cell_type": "code",
   "execution_count": 1,
   "metadata": {
    "execution": {
     "iopub.execute_input": "2023-02-22T15:39:46.438989Z",
     "iopub.status.busy": "2023-02-22T15:39:46.438543Z",
     "iopub.status.idle": "2023-02-22T15:39:46.447164Z",
     "shell.execute_reply": "2023-02-22T15:39:46.446475Z"
    }
   },
   "outputs": [
    {
     "name": "stdout",
     "output_type": "stream",
     "text": [
      "[0, 1, 4, 9, 16, 25, 36, 49, 64, 81, 100, 121, 144, 169, 196, 225, 256, 289, 324, 361, 400]\n"
     ]
    }
   ],
   "source": [
    "squares = []\n",
    "\n",
    "for i in range(21):\n",
    "    squares.append(i ** 2)\n",
    "    \n",
    "print(squares)"
   ]
  },
  {
   "cell_type": "markdown",
   "metadata": {},
   "source": [
    "With a so-called list-comprehension you could abbreviate this code to one line:"
   ]
  },
  {
   "cell_type": "code",
   "execution_count": 2,
   "metadata": {
    "execution": {
     "iopub.execute_input": "2023-02-22T15:39:46.450354Z",
     "iopub.status.busy": "2023-02-22T15:39:46.449942Z",
     "iopub.status.idle": "2023-02-22T15:39:46.453562Z",
     "shell.execute_reply": "2023-02-22T15:39:46.453034Z"
    }
   },
   "outputs": [
    {
     "name": "stdout",
     "output_type": "stream",
     "text": [
      "[0, 1, 4, 9, 16, 25, 36, 49, 64, 81, 100, 121, 144, 169, 196, 225, 256, 289, 324, 361, 400]\n"
     ]
    }
   ],
   "source": [
    "squares = [i ** 2 for i in range(21)]\n",
    "print(squares)"
   ]
  },
  {
   "cell_type": "markdown",
   "metadata": {},
   "source": [
    "Normal list comprehensions follow a style of\n",
    "\n",
    "```\n",
    "[expression for item in iterator]\n",
    "```\n",
    "\n",
    "and can be extended with if statements to filter a list:\n",
    "\n",
    "```\n",
    "[expression for item in iterator if filter-expression]\n",
    "```\n",
    "\n",
    "and with if-else statements like so:\n",
    "\n",
    "```\n",
    "[expression if filter-expression else different-item for item in iterator]\n",
    "```\n",
    "\n",
    "If we only want to print those squared numbers, that contain '2' we can filter the list comprehension like so:"
   ]
  },
  {
   "cell_type": "code",
   "execution_count": 3,
   "metadata": {
    "execution": {
     "iopub.execute_input": "2023-02-22T15:39:46.456404Z",
     "iopub.status.busy": "2023-02-22T15:39:46.455997Z",
     "iopub.status.idle": "2023-02-22T15:39:46.460003Z",
     "shell.execute_reply": "2023-02-22T15:39:46.459318Z"
    }
   },
   "outputs": [
    {
     "name": "stdout",
     "output_type": "stream",
     "text": [
      "[25, 121, 225, 256, 289, 324]\n"
     ]
    }
   ],
   "source": [
    "squares_only_2 = [i ** 2 for i in range(21) if '2' in str(i ** 2)]\n",
    "print(squares_only_2)"
   ]
  },
  {
   "cell_type": "markdown",
   "metadata": {},
   "source": [
    "### Fizz-Buzz\n",
    "\n",
    "Let's play a game of fizz-buzz using list comprehension. Fizz-buzz is a standard exercise for new programmers. Oftentimes recruiters from software-firms use this to check the proficiency of people in a respective programming language. In the game of fizz-buzz, you count upwards from 1. When you reach a number, that is divisible by 3, you let the program print \"Fizz\", If the number is divisible by 5, you let the program print \"Buzz\", if the number is divisible by both \"FizzBuzz\". In all other cases the number itself should be printed. Here's what the code looks like without list comprehension."
   ]
  },
  {
   "cell_type": "code",
   "execution_count": 4,
   "metadata": {
    "execution": {
     "iopub.execute_input": "2023-02-22T15:39:46.463535Z",
     "iopub.status.busy": "2023-02-22T15:39:46.463190Z",
     "iopub.status.idle": "2023-02-22T15:39:46.467704Z",
     "shell.execute_reply": "2023-02-22T15:39:46.467164Z"
    }
   },
   "outputs": [
    {
     "name": "stdout",
     "output_type": "stream",
     "text": [
      "1\n",
      "2\n",
      "Fizz\n",
      "4\n",
      "Buzz\n",
      "Fizz\n",
      "7\n",
      "8\n",
      "Fizz\n",
      "Buzz\n",
      "11\n",
      "Fizz\n",
      "13\n",
      "14\n",
      "FizzBuzz\n",
      "16\n",
      "17\n",
      "Fizz\n",
      "19\n",
      "Buzz\n",
      "Fizz\n",
      "22\n",
      "23\n",
      "Fizz\n",
      "Buzz\n",
      "26\n",
      "Fizz\n",
      "28\n",
      "29\n",
      "FizzBuzz\n",
      "31\n",
      "32\n",
      "Fizz\n",
      "34\n",
      "Buzz\n",
      "Fizz\n",
      "37\n",
      "38\n",
      "Fizz\n",
      "Buzz\n",
      "41\n",
      "Fizz\n",
      "43\n",
      "44\n",
      "FizzBuzz\n",
      "46\n",
      "47\n",
      "Fizz\n",
      "49\n",
      "Buzz\n",
      "Fizz\n",
      "52\n",
      "53\n",
      "Fizz\n",
      "Buzz\n",
      "56\n",
      "Fizz\n",
      "58\n",
      "59\n",
      "FizzBuzz\n",
      "61\n",
      "62\n",
      "Fizz\n",
      "64\n",
      "Buzz\n",
      "Fizz\n",
      "67\n",
      "68\n",
      "Fizz\n",
      "Buzz\n",
      "71\n",
      "Fizz\n",
      "73\n",
      "74\n",
      "FizzBuzz\n",
      "76\n",
      "77\n",
      "Fizz\n",
      "79\n",
      "Buzz\n",
      "Fizz\n",
      "82\n",
      "83\n",
      "Fizz\n",
      "Buzz\n",
      "86\n",
      "Fizz\n",
      "88\n",
      "89\n",
      "FizzBuzz\n",
      "91\n",
      "92\n",
      "Fizz\n",
      "94\n",
      "Buzz\n",
      "Fizz\n",
      "97\n",
      "98\n",
      "Fizz\n",
      "Buzz\n"
     ]
    }
   ],
   "source": [
    "for n in range(1, 101):\n",
    "    response = \"\"\n",
    "    if n % 3 == 0:\n",
    "        response += \"Fizz\"\n",
    "    if n % 5 == 0:\n",
    "        response += \"Buzz\"\n",
    "\n",
    "    print(response or n)"
   ]
  },
  {
   "cell_type": "markdown",
   "metadata": {},
   "source": [
    "And here it is with list comprehension:"
   ]
  },
  {
   "cell_type": "code",
   "execution_count": 5,
   "metadata": {
    "execution": {
     "iopub.execute_input": "2023-02-22T15:39:46.470505Z",
     "iopub.status.busy": "2023-02-22T15:39:46.470075Z",
     "iopub.status.idle": "2023-02-22T15:39:46.478507Z",
     "shell.execute_reply": "2023-02-22T15:39:46.477818Z"
    }
   },
   "outputs": [
    {
     "data": {
      "text/plain": [
       "[1,\n",
       " 2,\n",
       " 'Fizz',\n",
       " 4,\n",
       " 'Buzz',\n",
       " 'Fizz',\n",
       " 7,\n",
       " 8,\n",
       " 'Fizz',\n",
       " 'Buzz',\n",
       " 11,\n",
       " 'Fizz',\n",
       " 13,\n",
       " 14,\n",
       " 'FizzBuzz',\n",
       " 16,\n",
       " 17,\n",
       " 'Fizz',\n",
       " 19,\n",
       " 'Buzz',\n",
       " 'Fizz',\n",
       " 22,\n",
       " 23,\n",
       " 'Fizz',\n",
       " 'Buzz',\n",
       " 26,\n",
       " 'Fizz',\n",
       " 28,\n",
       " 29,\n",
       " 'FizzBuzz',\n",
       " 31,\n",
       " 32,\n",
       " 'Fizz',\n",
       " 34,\n",
       " 'Buzz',\n",
       " 'Fizz',\n",
       " 37,\n",
       " 38,\n",
       " 'Fizz',\n",
       " 'Buzz',\n",
       " 41,\n",
       " 'Fizz',\n",
       " 43,\n",
       " 44,\n",
       " 'FizzBuzz',\n",
       " 46,\n",
       " 47,\n",
       " 'Fizz',\n",
       " 49,\n",
       " 'Buzz',\n",
       " 'Fizz',\n",
       " 52,\n",
       " 53,\n",
       " 'Fizz',\n",
       " 'Buzz',\n",
       " 56,\n",
       " 'Fizz',\n",
       " 58,\n",
       " 59,\n",
       " 'FizzBuzz',\n",
       " 61,\n",
       " 62,\n",
       " 'Fizz',\n",
       " 64,\n",
       " 'Buzz',\n",
       " 'Fizz',\n",
       " 67,\n",
       " 68,\n",
       " 'Fizz',\n",
       " 'Buzz',\n",
       " 71,\n",
       " 'Fizz',\n",
       " 73,\n",
       " 74,\n",
       " 'FizzBuzz',\n",
       " 76,\n",
       " 77,\n",
       " 'Fizz',\n",
       " 79,\n",
       " 'Buzz',\n",
       " 'Fizz',\n",
       " 82,\n",
       " 83,\n",
       " 'Fizz',\n",
       " 'Buzz',\n",
       " 86,\n",
       " 'Fizz',\n",
       " 88,\n",
       " 89,\n",
       " 'FizzBuzz',\n",
       " 91,\n",
       " 92,\n",
       " 'Fizz',\n",
       " 94,\n",
       " 'Buzz',\n",
       " 'Fizz',\n",
       " 97,\n",
       " 98,\n",
       " 'Fizz',\n",
       " 'Buzz']"
      ]
     },
     "execution_count": 5,
     "metadata": {},
     "output_type": "execute_result"
    }
   ],
   "source": [
    "[(\"Fizz\"*(not i%3) + \"Buzz\"*(not i%5) or i) for i in range(1, 101)]"
   ]
  },
  {
   "cell_type": "markdown",
   "metadata": {},
   "source": [
    "Let's understand this list comprehension. \n",
    "- The mapping expression is a tuple with the `or` boolean operator.\n",
    "- This tuple is either the expression left of the `or` or the expression right of the `or`.\n",
    "- If the left expression is an empty string (which equals the boolean value False in python) the right expression is printed.\n",
    "- If the string is not empty, the string itself is printed.\n",
    "  - The string itself is the result of the string addition of `\"Fizz\"*(not i%3)` and `\"Buzz\"*(not i%5)`.\n",
    "  - The `(not i%3)` negates the result of the modulo operator of `i` and three.\n",
    "    - If `i` is divisible by three the modulo equals 0.\n",
    "    - The integer 0 equals a boolean value of False in python. Due to the negation this becomes True.\n",
    "    - If this is True the string is multiplied with True which gives the string itself.\n",
    "  - For all other integers the `(not i%3` gives a False. False multiplied with a string gives an empty string."
   ]
  },
  {
   "cell_type": "markdown",
   "metadata": {},
   "source": [
    "### Nested list comprehensions\n",
    "\n",
    "You can also use nested for loops in list comprehensions. This might look something like this:\n",
    "\n",
    "```\n",
    "[expression for nested_iterable in iterable for expression in nested_iterable]\n",
    "```"
   ]
  },
  {
   "cell_type": "code",
   "execution_count": 6,
   "metadata": {
    "execution": {
     "iopub.execute_input": "2023-02-22T15:39:46.482156Z",
     "iopub.status.busy": "2023-02-22T15:39:46.481808Z",
     "iopub.status.idle": "2023-02-22T15:39:46.486834Z",
     "shell.execute_reply": "2023-02-22T15:39:46.486132Z"
    }
   },
   "outputs": [
    {
     "data": {
      "text/plain": [
       "[27, 54, 81, 108, 135, 162, 189, 216, 243, 270]"
      ]
     },
     "execution_count": 6,
     "metadata": {},
     "output_type": "execute_result"
    }
   ],
   "source": [
    "[27*z for i in range(50) if i==27 for z in range(1,11)]"
   ]
  },
  {
   "cell_type": "markdown",
   "metadata": {},
   "source": [
    "### Dictionary comprehensions\n",
    "\n",
    "Similarly, you can write dictionary comprehensions. Let's say we have a shop with items and prices for said items. We want to raise the prices by 10%. We use the `dict` objects built-in `items()` method to get a tuple iteration of key-value pairs."
   ]
  },
  {
   "cell_type": "code",
   "execution_count": 7,
   "metadata": {
    "execution": {
     "iopub.execute_input": "2023-02-22T15:39:46.489600Z",
     "iopub.status.busy": "2023-02-22T15:39:46.489188Z",
     "iopub.status.idle": "2023-02-22T15:39:46.493212Z",
     "shell.execute_reply": "2023-02-22T15:39:46.492539Z"
    }
   },
   "outputs": [
    {
     "name": "stdout",
     "output_type": "stream",
     "text": [
      "apple costs 1.00$\n",
      "milk costs 1.50$\n",
      "banana costs 0.50$\n",
      "potatoes costs 2.50$\n"
     ]
    }
   ],
   "source": [
    "base_prices = {'apple': 1, 'milk': 1.5, 'banana': 0.5, 'potatoes': 2.5}\n",
    "\n",
    "for key, value in base_prices.items():\n",
    "    print(f\"{key} costs {value:.02f}$\")"
   ]
  },
  {
   "cell_type": "code",
   "execution_count": 8,
   "metadata": {
    "execution": {
     "iopub.execute_input": "2023-02-22T15:39:46.496716Z",
     "iopub.status.busy": "2023-02-22T15:39:46.496371Z",
     "iopub.status.idle": "2023-02-22T15:39:46.501623Z",
     "shell.execute_reply": "2023-02-22T15:39:46.501018Z"
    }
   },
   "outputs": [
    {
     "name": "stdout",
     "output_type": "stream",
     "text": [
      "apple costs 1.10$\n",
      "milk costs 1.65$\n",
      "banana costs 0.55$\n",
      "potatoes costs 2.75$\n"
     ]
    }
   ],
   "source": [
    "new_prices = {k: v + v * 0.1 for k, v in base_prices.items()}\n",
    "\n",
    "for key, value in new_prices.items():\n",
    "    print(f\"{key} costs {value:.02f}$\")"
   ]
  },
  {
   "cell_type": "markdown",
   "metadata": {
    "solution2": "hidden",
    "solution2_first": true
   },
   "source": [
    "\\begin{exercise}\n",
    "Use dictionary comprehension and the base_prices dictionary to increase the price of all fruits by 10%.\n",
    "\\end{exercise}\n",
    "\n",
    "\n",
    "```python\n",
    "fruits = ['apple', 'banana']\n",
    "```"
   ]
  },
  {
   "cell_type": "code",
   "execution_count": 9,
   "metadata": {
    "execution": {
     "iopub.execute_input": "2023-02-22T15:39:46.504572Z",
     "iopub.status.busy": "2023-02-22T15:39:46.504241Z",
     "iopub.status.idle": "2023-02-22T15:39:46.509910Z",
     "shell.execute_reply": "2023-02-22T15:39:46.509274Z"
    }
   },
   "outputs": [
    {
     "name": "stdout",
     "output_type": "stream",
     "text": [
      "{'apple': 1.1, 'milk': 1.5, 'banana': 0.55, 'potatoes': 2.5}\n"
     ]
    }
   ],
   "source": [
    "base_prices = {'apple': 1, 'milk': 1.5, 'banana': 0.5, 'potatoes': 2.5}\n",
    "fruits = ['apple', 'banana']\n",
    "\n",
    "new_prices = {k: v + v * 0.1 if k in fruits else v for k, v in base_prices.items()}\n",
    "\n",
    "print(new_prices)"
   ]
  },
  {
   "cell_type": "markdown",
   "metadata": {},
   "source": [
    "## Functions\n",
    "\n",
    "In 01_python_basics we talked about built-in functions. For example, the `print()` function is a built-in function, meaning it is always included. A function groups a set of statements, so they can be run more than once. *Functions are an alternative for copying and pasting code segments you might often call*. Functions are the most basic program structure python provides to maximize *code reuse*.\n",
    "\n",
    "Functions are called by their name and parentheses (). Functions are defined by the `def` or the `lambda` statement.\n",
    "\n",
    "```python\n",
    "def func_name(arg1, arg2, ..., argN):\n",
    "    \"\"\"This is the documentation to that func.\"\"\"\n",
    "    Indented code belonging to the function\n",
    "    More indented code also belonging to the function\n",
    "\n",
    "lambda_func = lambda a : a + 3\n",
    "```\n",
    "\n",
    "### Return statements\n",
    "\n",
    "There are two return statements which send results to the function call. `return` and the more advanced `yield`. "
   ]
  },
  {
   "cell_type": "code",
   "execution_count": 10,
   "metadata": {
    "execution": {
     "iopub.execute_input": "2023-02-22T15:39:46.512794Z",
     "iopub.status.busy": "2023-02-22T15:39:46.512465Z",
     "iopub.status.idle": "2023-02-22T15:39:46.517295Z",
     "shell.execute_reply": "2023-02-22T15:39:46.516707Z"
    }
   },
   "outputs": [
    {
     "name": "stdout",
     "output_type": "stream",
     "text": [
      "This function is awesome\n"
     ]
    }
   ],
   "source": [
    "def some_func():\n",
    "    return 'awesome'\n",
    "\n",
    "print('This function is', some_func())"
   ]
  },
  {
   "cell_type": "markdown",
   "metadata": {},
   "source": [
    "### Variables in functions\n",
    "\n",
    "Variables assigned in functions are generally not accessible outside of these functions. Consider the following example:"
   ]
  },
  {
   "cell_type": "code",
   "execution_count": 11,
   "metadata": {
    "execution": {
     "iopub.execute_input": "2023-02-22T15:39:46.520248Z",
     "iopub.status.busy": "2023-02-22T15:39:46.519862Z",
     "iopub.status.idle": "2023-02-22T15:39:46.693593Z",
     "shell.execute_reply": "2023-02-22T15:39:46.692869Z"
    }
   },
   "outputs": [
    {
     "ename": "NameError",
     "evalue": "name 'y' is not defined",
     "output_type": "error",
     "traceback": [
      "\u001b[0;31m---------------------------------------------------------------------------\u001b[0m",
      "\u001b[0;31mNameError\u001b[0m                                 Traceback (most recent call last)",
      "Cell \u001b[0;32mIn[11], line 6\u001b[0m\n\u001b[1;32m      4\u001b[0m     \u001b[38;5;28;01mreturn\u001b[39;00m a \u001b[38;5;241m+\u001b[39m y\n\u001b[1;32m      5\u001b[0m add_two_numbers(\u001b[38;5;241m3\u001b[39m)\n\u001b[0;32m----> 6\u001b[0m \u001b[38;5;28mprint\u001b[39m(\u001b[43my\u001b[49m)\n",
      "\u001b[0;31mNameError\u001b[0m: name 'y' is not defined"
     ]
    }
   ],
   "source": [
    "def add_two_numbers(a):\n",
    "    \"\"\"Adds a number to the argument.\"\"\"\n",
    "    y = 3\n",
    "    return a + y\n",
    "add_two_numbers(3)\n",
    "print(y)"
   ]
  },
  {
   "cell_type": "markdown",
   "metadata": {},
   "source": [
    "The value of the variable y in this function is not accessible to code outside of the function. Variables from functions can be made available to the outside code via a `global` statement."
   ]
  },
  {
   "cell_type": "code",
   "execution_count": 12,
   "metadata": {
    "execution": {
     "iopub.execute_input": "2023-02-22T15:39:46.697000Z",
     "iopub.status.busy": "2023-02-22T15:39:46.696766Z",
     "iopub.status.idle": "2023-02-22T15:39:46.701995Z",
     "shell.execute_reply": "2023-02-22T15:39:46.701402Z"
    }
   },
   "outputs": [
    {
     "name": "stdout",
     "output_type": "stream",
     "text": [
      "old\n",
      "new\n"
     ]
    }
   ],
   "source": [
    "x = 'old'\n",
    "def change_x():\n",
    "    global x\n",
    "    x = 'new'\n",
    "print(x)\n",
    "change_x()\n",
    "print(x)"
   ]
  },
  {
   "cell_type": "markdown",
   "metadata": {},
   "source": [
    "Here are some important infos about functions:\n",
    "\n",
    "- `def` is executable code. The function is created when python reaches the `def` statement. Thus, different functions can be defined in if-else statements. This differentiates python functions from C functions, which are compiled before they are executed.\n",
    "- `def` creates an object and assigns it to a name. There's nothing special about that function. It can be added to lists, it can also be assigned to other names.\n",
    "- `lambda` creates an object but returns it as a result. `lambda` can be used in places, where `def` can't be used syntactically.\n",
    "- `return` sends a result object to the caller. Python only returns with the remaining code, when the function is finished. This differentiates `return` from\n",
    "- `yield` which sends a result object, but remembers where it left off. This can be used to make code faster.\n",
    "- `global` defines variables which should be taken from outside the variable.\n",
    "- `nonlocal` defined enclosing function variables that are to be assigned. It allows a nested function to access the variables of the above functions and change them."
   ]
  },
  {
   "cell_type": "code",
   "execution_count": 13,
   "metadata": {
    "execution": {
     "iopub.execute_input": "2023-02-22T15:39:46.705924Z",
     "iopub.status.busy": "2023-02-22T15:39:46.704682Z",
     "iopub.status.idle": "2023-02-22T15:39:46.710397Z",
     "shell.execute_reply": "2023-02-22T15:39:46.709790Z"
    }
   },
   "outputs": [
    {
     "name": "stdout",
     "output_type": "stream",
     "text": [
      "old\n",
      "new\n"
     ]
    }
   ],
   "source": [
    "def outer():\n",
    "    x = 'old'\n",
    "    def changer():\n",
    "        nonlocal x\n",
    "        print(x)\n",
    "        x = 'new'\n",
    "    changer()\n",
    "    print(x)\n",
    "outer()"
   ]
  },
  {
   "cell_type": "markdown",
   "metadata": {},
   "source": [
    "### Arguments\n",
    "\n",
    "- Arguments are passed by assignment. This means that we use the assignment (=) to pass arguments."
   ]
  },
  {
   "cell_type": "code",
   "execution_count": 14,
   "metadata": {
    "execution": {
     "iopub.execute_input": "2023-02-22T15:39:46.713359Z",
     "iopub.status.busy": "2023-02-22T15:39:46.713006Z",
     "iopub.status.idle": "2023-02-22T15:39:46.718278Z",
     "shell.execute_reply": "2023-02-22T15:39:46.717669Z"
    }
   },
   "outputs": [
    {
     "name": "stdout",
     "output_type": "stream",
     "text": [
      "7\n"
     ]
    }
   ],
   "source": [
    "def a_func(arg1, arg2, arg3):\n",
    "    return arg1 + (arg2 * arg3)\n",
    "\n",
    "print(a_func(arg1=1, arg2=2, arg3=3))"
   ]
  },
  {
   "cell_type": "markdown",
   "metadata": {},
   "source": [
    "- Arguments are passed by position unless you say otherwise."
   ]
  },
  {
   "cell_type": "code",
   "execution_count": 15,
   "metadata": {
    "execution": {
     "iopub.execute_input": "2023-02-22T15:39:46.722138Z",
     "iopub.status.busy": "2023-02-22T15:39:46.720913Z",
     "iopub.status.idle": "2023-02-22T15:39:46.726285Z",
     "shell.execute_reply": "2023-02-22T15:39:46.725681Z"
    }
   },
   "outputs": [
    {
     "name": "stdout",
     "output_type": "stream",
     "text": [
      "7\n",
      "6\n"
     ]
    }
   ],
   "source": [
    "print(a_func(1, 2, 3))\n",
    "print(a_func(1, arg3=1, arg2=5))"
   ]
  },
  {
   "cell_type": "markdown",
   "metadata": {},
   "source": [
    "### Keyword Arguments\n",
    "\n",
    "You can define *default* arguments by assigning them inside the parentheses of the `def` expression."
   ]
  },
  {
   "cell_type": "code",
   "execution_count": 16,
   "metadata": {
    "execution": {
     "iopub.execute_input": "2023-02-22T15:39:46.729277Z",
     "iopub.status.busy": "2023-02-22T15:39:46.728928Z",
     "iopub.status.idle": "2023-02-22T15:39:46.734301Z",
     "shell.execute_reply": "2023-02-22T15:39:46.733716Z"
    }
   },
   "outputs": [
    {
     "name": "stdout",
     "output_type": "stream",
     "text": [
      "4\n",
      "32\n"
     ]
    }
   ],
   "source": [
    "def powers(a, power=2):\n",
    "    \"\"\"Calculates powers to an argument.\n",
    "    If not specified otherwise the power\n",
    "    of 2 will be calculated.\n",
    "    \"\"\"\n",
    "    return a ** power\n",
    "print(powers(2))\n",
    "print(powers(2, 5))"
   ]
  },
  {
   "cell_type": "markdown",
   "metadata": {},
   "source": [
    "### Nested functions\n",
    "\n",
    "Functions can be nested in other statements."
   ]
  },
  {
   "cell_type": "code",
   "execution_count": 17,
   "metadata": {
    "execution": {
     "iopub.execute_input": "2023-02-22T15:39:46.737475Z",
     "iopub.status.busy": "2023-02-22T15:39:46.736938Z",
     "iopub.status.idle": "2023-02-22T15:39:46.742102Z",
     "shell.execute_reply": "2023-02-22T15:39:46.741497Z"
    }
   },
   "outputs": [
    {
     "name": "stdout",
     "output_type": "stream",
     "text": [
      "The test is true. I am a function.\n"
     ]
    }
   ],
   "source": [
    "test = True\n",
    "if test:\n",
    "    def func():\n",
    "        return \"The test is true. I am a function.\"\n",
    "else:\n",
    "    def func():\n",
    "        return \"The test is false. Sad times. I am still a function.\"\n",
    "print(func())"
   ]
  },
  {
   "cell_type": "markdown",
   "metadata": {},
   "source": [
    "### Docstrings\n",
    "\n",
    "As you have already seen some of the previous functions have segments with triple quotes. These are there for documentation purposes. If you want to help other people (and your future self) write a short summary of what your function does. These docstrings can be accessed via the built-in function `help()`."
   ]
  },
  {
   "cell_type": "code",
   "execution_count": 18,
   "metadata": {
    "execution": {
     "iopub.execute_input": "2023-02-22T15:39:46.745083Z",
     "iopub.status.busy": "2023-02-22T15:39:46.744731Z",
     "iopub.status.idle": "2023-02-22T15:39:46.749900Z",
     "shell.execute_reply": "2023-02-22T15:39:46.749284Z"
    }
   },
   "outputs": [
    {
     "name": "stdout",
     "output_type": "stream",
     "text": [
      "Help on function powers in module __main__:\n",
      "\n",
      "powers(a, power=2)\n",
      "    Calculates powers to an argument.\n",
      "    If not specified otherwise the power\n",
      "    of 2 will be calculated.\n",
      "\n"
     ]
    }
   ],
   "source": [
    "help(powers)"
   ]
  },
  {
   "cell_type": "markdown",
   "metadata": {},
   "source": [
    "## Writing functions\n",
    "\n",
    "With this we can go straight to some more advanced function stuffs. "
   ]
  },
  {
   "cell_type": "code",
   "execution_count": 19,
   "metadata": {
    "execution": {
     "iopub.execute_input": "2023-02-22T15:39:46.752907Z",
     "iopub.status.busy": "2023-02-22T15:39:46.752553Z",
     "iopub.status.idle": "2023-02-22T15:39:46.767826Z",
     "shell.execute_reply": "2023-02-22T15:39:46.767162Z"
    }
   },
   "outputs": [
    {
     "ename": "NameError",
     "evalue": "name 'print_hello_world' is not defined",
     "output_type": "error",
     "traceback": [
      "\u001b[0;31m---------------------------------------------------------------------------\u001b[0m",
      "\u001b[0;31mNameError\u001b[0m                                 Traceback (most recent call last)",
      "Cell \u001b[0;32mIn[19], line 1\u001b[0m\n\u001b[0;32m----> 1\u001b[0m \u001b[43mprint_hello_world\u001b[49m()\n",
      "\u001b[0;31mNameError\u001b[0m: name 'print_hello_world' is not defined"
     ]
    }
   ],
   "source": [
    "print_hello_world()"
   ]
  },
  {
   "cell_type": "markdown",
   "metadata": {},
   "source": [
    "To access the docstring you can call the built-in function `help()` on the function itself. Note, how the function is **not** called. The parentheses are omitted."
   ]
  },
  {
   "cell_type": "code",
   "execution_count": 20,
   "metadata": {
    "execution": {
     "iopub.execute_input": "2023-02-22T15:39:46.770965Z",
     "iopub.status.busy": "2023-02-22T15:39:46.770382Z",
     "iopub.status.idle": "2023-02-22T15:39:46.786035Z",
     "shell.execute_reply": "2023-02-22T15:39:46.785436Z"
    }
   },
   "outputs": [
    {
     "ename": "NameError",
     "evalue": "name 'print_hello_world' is not defined",
     "output_type": "error",
     "traceback": [
      "\u001b[0;31m---------------------------------------------------------------------------\u001b[0m",
      "\u001b[0;31mNameError\u001b[0m                                 Traceback (most recent call last)",
      "Cell \u001b[0;32mIn[20], line 1\u001b[0m\n\u001b[0;32m----> 1\u001b[0m help(\u001b[43mprint_hello_world\u001b[49m)\n",
      "\u001b[0;31mNameError\u001b[0m: name 'print_hello_world' is not defined"
     ]
    }
   ],
   "source": [
    "help(print_hello_world)"
   ]
  },
  {
   "cell_type": "markdown",
   "metadata": {},
   "source": [
    "### Return values\n",
    "\n",
    "Let's assign the output of the function to a variable and check that variable out."
   ]
  },
  {
   "cell_type": "code",
   "execution_count": 21,
   "metadata": {
    "execution": {
     "iopub.execute_input": "2023-02-22T15:39:46.789009Z",
     "iopub.status.busy": "2023-02-22T15:39:46.788681Z",
     "iopub.status.idle": "2023-02-22T15:39:46.832340Z",
     "shell.execute_reply": "2023-02-22T15:39:46.831614Z"
    }
   },
   "outputs": [
    {
     "ename": "NameError",
     "evalue": "name 'print_hello_world' is not defined",
     "output_type": "error",
     "traceback": [
      "\u001b[0;31m---------------------------------------------------------------------------\u001b[0m",
      "\u001b[0;31mNameError\u001b[0m                                 Traceback (most recent call last)",
      "Cell \u001b[0;32mIn[21], line 1\u001b[0m\n\u001b[0;32m----> 1\u001b[0m out \u001b[38;5;241m=\u001b[39m \u001b[43mprint_hello_world\u001b[49m()\n",
      "\u001b[0;31mNameError\u001b[0m: name 'print_hello_world' is not defined"
     ]
    }
   ],
   "source": [
    "out = print_hello_world()"
   ]
  },
  {
   "cell_type": "code",
   "execution_count": 22,
   "metadata": {
    "execution": {
     "iopub.execute_input": "2023-02-22T15:39:46.835686Z",
     "iopub.status.busy": "2023-02-22T15:39:46.835337Z",
     "iopub.status.idle": "2023-02-22T15:39:46.850483Z",
     "shell.execute_reply": "2023-02-22T15:39:46.849868Z"
    }
   },
   "outputs": [
    {
     "ename": "NameError",
     "evalue": "name 'out' is not defined",
     "output_type": "error",
     "traceback": [
      "\u001b[0;31m---------------------------------------------------------------------------\u001b[0m",
      "\u001b[0;31mNameError\u001b[0m                                 Traceback (most recent call last)",
      "Cell \u001b[0;32mIn[22], line 1\u001b[0m\n\u001b[0;32m----> 1\u001b[0m \u001b[38;5;28mprint\u001b[39m(\u001b[43mout\u001b[49m)\n",
      "\u001b[0;31mNameError\u001b[0m: name 'out' is not defined"
     ]
    }
   ],
   "source": [
    "print(out)"
   ]
  },
  {
   "cell_type": "markdown",
   "metadata": {},
   "source": [
    "See, how the function returned a `None`? That's because in python all functions return something. If not further specified, they return `None`. Let's specify the return value of our function. By executing the next cell, you overwrite the previously defined function. Be careful not to overwrite built-in functions. They are lost, until you restart the program."
   ]
  },
  {
   "cell_type": "code",
   "execution_count": 23,
   "metadata": {
    "execution": {
     "iopub.execute_input": "2023-02-22T15:39:46.853803Z",
     "iopub.status.busy": "2023-02-22T15:39:46.853469Z",
     "iopub.status.idle": "2023-02-22T15:39:46.857713Z",
     "shell.execute_reply": "2023-02-22T15:39:46.857120Z"
    }
   },
   "outputs": [],
   "source": [
    "def print_hello_world():\n",
    "    \"\"\"Prints \"Hello World!\"\n",
    "    and returns a string.\n",
    "    \"\"\"\n",
    "    print(\"Hello World!\")\n",
    "    return \"Python is awesome!\"\n",
    "    # Return is not a function, that's why it is shown in bold letters.\n",
    "    # It does not need the parentheses like print() does."
   ]
  },
  {
   "cell_type": "code",
   "execution_count": 24,
   "metadata": {
    "execution": {
     "iopub.execute_input": "2023-02-22T15:39:46.860658Z",
     "iopub.status.busy": "2023-02-22T15:39:46.860329Z",
     "iopub.status.idle": "2023-02-22T15:39:46.863710Z",
     "shell.execute_reply": "2023-02-22T15:39:46.863127Z"
    }
   },
   "outputs": [
    {
     "name": "stdout",
     "output_type": "stream",
     "text": [
      "Hello World!\n",
      "Python is awesome!\n"
     ]
    }
   ],
   "source": [
    "out = print_hello_world()\n",
    "print(out)"
   ]
  },
  {
   "cell_type": "markdown",
   "metadata": {},
   "source": [
    "### Arguments\n",
    "\n",
    "Let's add some arguments to our function."
   ]
  },
  {
   "cell_type": "code",
   "execution_count": 25,
   "metadata": {
    "execution": {
     "iopub.execute_input": "2023-02-22T15:39:46.866433Z",
     "iopub.status.busy": "2023-02-22T15:39:46.866006Z",
     "iopub.status.idle": "2023-02-22T15:39:46.870791Z",
     "shell.execute_reply": "2023-02-22T15:39:46.870107Z"
    }
   },
   "outputs": [
    {
     "name": "stdout",
     "output_type": "stream",
     "text": [
      "Hello Keith!\n"
     ]
    }
   ],
   "source": [
    "def print_hello_user(username):\n",
    "    print(f\"Hello {username}!\")\n",
    "print_hello_user(\"Keith\")"
   ]
  },
  {
   "cell_type": "markdown",
   "metadata": {},
   "source": [
    "Let's use a user provided input to print the message."
   ]
  },
  {
   "cell_type": "code",
   "execution_count": 26,
   "metadata": {
    "execution": {
     "iopub.execute_input": "2023-02-22T15:39:46.873757Z",
     "iopub.status.busy": "2023-02-22T15:39:46.873202Z",
     "iopub.status.idle": "2023-02-22T15:39:46.964894Z",
     "shell.execute_reply": "2023-02-22T15:39:46.964180Z"
    }
   },
   "outputs": [
    {
     "ename": "StdinNotImplementedError",
     "evalue": "raw_input was called, but this frontend does not support input requests.",
     "output_type": "error",
     "traceback": [
      "\u001b[0;31m---------------------------------------------------------------------------\u001b[0m",
      "\u001b[0;31mStdinNotImplementedError\u001b[0m                  Traceback (most recent call last)",
      "Cell \u001b[0;32mIn[26], line 1\u001b[0m\n\u001b[0;32m----> 1\u001b[0m name \u001b[38;5;241m=\u001b[39m \u001b[38;5;28;43minput\u001b[39;49m\u001b[43m(\u001b[49m\u001b[38;5;124;43m\"\u001b[39;49m\u001b[38;5;124;43mPlease enter your name: \u001b[39;49m\u001b[38;5;124;43m\"\u001b[39;49m\u001b[43m)\u001b[49m\n",
      "File \u001b[0;32m/opt/hostedtoolcache/Python/3.8.16/x64/lib/python3.8/site-packages/ipykernel/kernelbase.py:1181\u001b[0m, in \u001b[0;36mKernel.raw_input\u001b[0;34m(self, prompt)\u001b[0m\n\u001b[1;32m   1179\u001b[0m \u001b[38;5;28;01mif\u001b[39;00m \u001b[38;5;129;01mnot\u001b[39;00m \u001b[38;5;28mself\u001b[39m\u001b[38;5;241m.\u001b[39m_allow_stdin:\n\u001b[1;32m   1180\u001b[0m     msg \u001b[38;5;241m=\u001b[39m \u001b[38;5;124m\"\u001b[39m\u001b[38;5;124mraw_input was called, but this frontend does not support input requests.\u001b[39m\u001b[38;5;124m\"\u001b[39m\n\u001b[0;32m-> 1181\u001b[0m     \u001b[38;5;28;01mraise\u001b[39;00m StdinNotImplementedError(msg)\n\u001b[1;32m   1182\u001b[0m \u001b[38;5;28;01mreturn\u001b[39;00m \u001b[38;5;28mself\u001b[39m\u001b[38;5;241m.\u001b[39m_input_request(\n\u001b[1;32m   1183\u001b[0m     \u001b[38;5;28mstr\u001b[39m(prompt),\n\u001b[1;32m   1184\u001b[0m     \u001b[38;5;28mself\u001b[39m\u001b[38;5;241m.\u001b[39m_parent_ident[\u001b[38;5;124m\"\u001b[39m\u001b[38;5;124mshell\u001b[39m\u001b[38;5;124m\"\u001b[39m],\n\u001b[1;32m   1185\u001b[0m     \u001b[38;5;28mself\u001b[39m\u001b[38;5;241m.\u001b[39mget_parent(\u001b[38;5;124m\"\u001b[39m\u001b[38;5;124mshell\u001b[39m\u001b[38;5;124m\"\u001b[39m),\n\u001b[1;32m   1186\u001b[0m     password\u001b[38;5;241m=\u001b[39m\u001b[38;5;28;01mFalse\u001b[39;00m,\n\u001b[1;32m   1187\u001b[0m )\n",
      "\u001b[0;31mStdinNotImplementedError\u001b[0m: raw_input was called, but this frontend does not support input requests."
     ]
    }
   ],
   "source": [
    "name = input(\"Please enter your name: \")"
   ]
  },
  {
   "cell_type": "code",
   "execution_count": 27,
   "metadata": {
    "execution": {
     "iopub.execute_input": "2023-02-22T15:39:46.968201Z",
     "iopub.status.busy": "2023-02-22T15:39:46.967620Z",
     "iopub.status.idle": "2023-02-22T15:39:46.985838Z",
     "shell.execute_reply": "2023-02-22T15:39:46.985194Z"
    }
   },
   "outputs": [
    {
     "ename": "NameError",
     "evalue": "name 'name' is not defined",
     "output_type": "error",
     "traceback": [
      "\u001b[0;31m---------------------------------------------------------------------------\u001b[0m",
      "\u001b[0;31mNameError\u001b[0m                                 Traceback (most recent call last)",
      "Cell \u001b[0;32mIn[27], line 1\u001b[0m\n\u001b[0;32m----> 1\u001b[0m print_hello_user(\u001b[43mname\u001b[49m)\n",
      "\u001b[0;31mNameError\u001b[0m: name 'name' is not defined"
     ]
    }
   ],
   "source": [
    "print_hello_user(name)"
   ]
  },
  {
   "cell_type": "markdown",
   "metadata": {},
   "source": [
    "You can also have multiple arguments, separated by comma."
   ]
  },
  {
   "cell_type": "code",
   "execution_count": 28,
   "metadata": {
    "execution": {
     "iopub.execute_input": "2023-02-22T15:39:46.989189Z",
     "iopub.status.busy": "2023-02-22T15:39:46.988832Z",
     "iopub.status.idle": "2023-02-22T15:39:46.994220Z",
     "shell.execute_reply": "2023-02-22T15:39:46.993609Z"
    }
   },
   "outputs": [
    {
     "name": "stdout",
     "output_type": "stream",
     "text": [
      "Nice to see you, Keith!\n"
     ]
    }
   ],
   "source": [
    "def print_hello_user(greeting, username):\n",
    "    print(f\"{greeting} {username}!\")\n",
    "print_hello_user(\"Nice to see you,\", \"Keith\")"
   ]
  },
  {
   "cell_type": "markdown",
   "metadata": {},
   "source": [
    "### Order of arguments matter\n",
    "\n",
    "The order of arguments matter when functions are called."
   ]
  },
  {
   "cell_type": "code",
   "execution_count": 29,
   "metadata": {
    "execution": {
     "iopub.execute_input": "2023-02-22T15:39:46.997311Z",
     "iopub.status.busy": "2023-02-22T15:39:46.996952Z",
     "iopub.status.idle": "2023-02-22T15:39:47.002050Z",
     "shell.execute_reply": "2023-02-22T15:39:47.001444Z"
    }
   },
   "outputs": [
    {
     "name": "stdout",
     "output_type": "stream",
     "text": [
      "Kurt Good afternoon,!\n"
     ]
    }
   ],
   "source": [
    "name = 'Kurt'\n",
    "greet = 'Good afternoon,'\n",
    "print_hello_user(name, greet)"
   ]
  },
  {
   "cell_type": "markdown",
   "metadata": {},
   "source": [
    "But when you specifically type the name of the arguments, order does not matter anymore."
   ]
  },
  {
   "cell_type": "code",
   "execution_count": 30,
   "metadata": {
    "execution": {
     "iopub.execute_input": "2023-02-22T15:39:47.005223Z",
     "iopub.status.busy": "2023-02-22T15:39:47.004787Z",
     "iopub.status.idle": "2023-02-22T15:39:47.009947Z",
     "shell.execute_reply": "2023-02-22T15:39:47.009330Z"
    }
   },
   "outputs": [
    {
     "name": "stdout",
     "output_type": "stream",
     "text": [
      "Good afternoon, Kurt!\n"
     ]
    }
   ],
   "source": [
    "print_hello_user(username=name, greeting=greet)"
   ]
  },
  {
   "cell_type": "markdown",
   "metadata": {},
   "source": [
    "### Return multiple values\n",
    "\n",
    "Let's recap the return statement at the end of functions. Instead of returning a more or less static string it would be beneficial to return something that has been calculated inside the function."
   ]
  },
  {
   "cell_type": "markdown",
   "metadata": {
    "solution2": "hidden",
    "solution2_first": true
   },
   "source": [
    "\\begin{exercise}\\label{ex:Multiplication}\n",
    "Write a function that takes two input arguments, x and y, multiplies them and returns the result.\n",
    "\\end{exercise}"
   ]
  },
  {
   "cell_type": "code",
   "execution_count": 31,
   "metadata": {
    "execution": {
     "iopub.execute_input": "2023-02-22T15:39:47.013271Z",
     "iopub.status.busy": "2023-02-22T15:39:47.012766Z",
     "iopub.status.idle": "2023-02-22T15:39:47.017030Z",
     "shell.execute_reply": "2023-02-22T15:39:47.016429Z"
    }
   },
   "outputs": [],
   "source": [
    "def multiplication(x, y):\n",
    "    \"\"\"Instead of assigning a result to a useless variable return it directly\"\"\"\n",
    "    return x * y"
   ]
  },
  {
   "cell_type": "markdown",
   "metadata": {},
   "source": [
    "Sometimes you want your function to return multiple values. However ,the return statement breaks the execution of the function. Instead of two separate return statements, you should separate the return values with a comma."
   ]
  },
  {
   "cell_type": "code",
   "execution_count": 32,
   "metadata": {
    "execution": {
     "iopub.execute_input": "2023-02-22T15:39:47.019931Z",
     "iopub.status.busy": "2023-02-22T15:39:47.019500Z",
     "iopub.status.idle": "2023-02-22T15:39:47.027231Z",
     "shell.execute_reply": "2023-02-22T15:39:47.026610Z"
    }
   },
   "outputs": [
    {
     "data": {
      "text/plain": [
       "100"
      ]
     },
     "execution_count": 32,
     "metadata": {},
     "output_type": "execute_result"
    }
   ],
   "source": [
    "examplelist = [10,50,30,12,6,8,100]\n",
    "def exfunc(examplelist):\n",
    "    highest = max(examplelist)\n",
    "    lowest = min(examplelist)\n",
    "    first = examplelist[0]\n",
    "    last = examplelist[-1]\n",
    "    return highest\n",
    "    return lowest\n",
    "    return first\n",
    "    return last\n",
    "\n",
    "exfunc(examplelist)"
   ]
  },
  {
   "cell_type": "code",
   "execution_count": 33,
   "metadata": {
    "execution": {
     "iopub.execute_input": "2023-02-22T15:39:47.030280Z",
     "iopub.status.busy": "2023-02-22T15:39:47.029794Z",
     "iopub.status.idle": "2023-02-22T15:39:47.037451Z",
     "shell.execute_reply": "2023-02-22T15:39:47.036839Z"
    }
   },
   "outputs": [
    {
     "data": {
      "text/plain": [
       "(100, 6, 10, 100)"
      ]
     },
     "execution_count": 33,
     "metadata": {},
     "output_type": "execute_result"
    }
   ],
   "source": [
    "examplelist = [10,50,30,12,6,8,100]\n",
    "def exfunc(examplelist):\n",
    "    highest = max(examplelist)\n",
    "    lowest = min(examplelist)\n",
    "    first = examplelist[0]\n",
    "    last = examplelist[-1]\n",
    "    return highest, lowest, first, last\n",
    "\n",
    "exfunc(examplelist)"
   ]
  },
  {
   "cell_type": "code",
   "execution_count": 34,
   "metadata": {
    "execution": {
     "iopub.execute_input": "2023-02-22T15:39:47.040488Z",
     "iopub.status.busy": "2023-02-22T15:39:47.040122Z",
     "iopub.status.idle": "2023-02-22T15:39:47.043506Z",
     "shell.execute_reply": "2023-02-22T15:39:47.042972Z"
    }
   },
   "outputs": [
    {
     "name": "stdout",
     "output_type": "stream",
     "text": [
      "<class 'tuple'>\n"
     ]
    }
   ],
   "source": [
    "print(type(exfunc(examplelist)))"
   ]
  },
  {
   "cell_type": "markdown",
   "metadata": {},
   "source": [
    "The return values are packed in  a tuple. Which makes sense, because you want to have the result be immutable as to not accidentally scramble it. The return tuple can be unpacked like this:"
   ]
  },
  {
   "cell_type": "code",
   "execution_count": 35,
   "metadata": {
    "execution": {
     "iopub.execute_input": "2023-02-22T15:39:47.046431Z",
     "iopub.status.busy": "2023-02-22T15:39:47.045893Z",
     "iopub.status.idle": "2023-02-22T15:39:47.051138Z",
     "shell.execute_reply": "2023-02-22T15:39:47.050544Z"
    }
   },
   "outputs": [
    {
     "name": "stdout",
     "output_type": "stream",
     "text": [
      "6\n"
     ]
    }
   ],
   "source": [
    "rval_one, rval_two, rval_three, rval_four = exfunc(examplelist)\n",
    "print(rval_two)"
   ]
  },
  {
   "cell_type": "markdown",
   "metadata": {},
   "source": [
    "More about packing and unpacking below."
   ]
  },
  {
   "cell_type": "markdown",
   "metadata": {},
   "source": [
    "### Nested functions\n",
    "\n",
    "Functions can also be nested. In fact that's one of the beautiful aspects of python. By stacking functions, you can create increasingly complex programs relying on a number of easy functions. Let me show it to you."
   ]
  },
  {
   "cell_type": "code",
   "execution_count": 36,
   "metadata": {
    "execution": {
     "iopub.execute_input": "2023-02-22T15:39:47.054484Z",
     "iopub.status.busy": "2023-02-22T15:39:47.053924Z",
     "iopub.status.idle": "2023-02-22T15:39:47.060293Z",
     "shell.execute_reply": "2023-02-22T15:39:47.059627Z"
    }
   },
   "outputs": [],
   "source": [
    "def convert_12_h_to_24_h(time):\n",
    "    timevalue = int(time.split()[0]) # split the string into a list, use 0th element and make it an integer\n",
    "    if 'pm' in time:\n",
    "        timevalue = timevalue + 12\n",
    "    return timevalue\n",
    "\n",
    "def return_greeting(time):\n",
    "    # convert time string to numbers\n",
    "    if 'am' in time or 'pm' in time:\n",
    "        time = convert_12_h_to_24_h(time)\n",
    "    # decide on greeting\n",
    "    if time >= 0 and time < 6:\n",
    "        greeting = \"Sleep tight\"\n",
    "    elif time >= 6 and time < 12:\n",
    "        greeting = \"Good morning\"\n",
    "    elif time >= 12 and time < 18:\n",
    "        greeting = \"Good afternoon\"\n",
    "    elif time >= 18 and time < 22:\n",
    "        greeting = \"Good evening\"\n",
    "    else:\n",
    "        greeting = \"Good night\"\n",
    "    return greeting\n",
    "\n",
    "\n",
    "def print_hello_user_time(username, time):\n",
    "    greeting = return_greeting(time)\n",
    "    print(f\"{greeting} {username}!\")"
   ]
  },
  {
   "cell_type": "code",
   "execution_count": 37,
   "metadata": {
    "execution": {
     "iopub.execute_input": "2023-02-22T15:39:47.062885Z",
     "iopub.status.busy": "2023-02-22T15:39:47.062670Z",
     "iopub.status.idle": "2023-02-22T15:39:47.065945Z",
     "shell.execute_reply": "2023-02-22T15:39:47.065409Z"
    }
   },
   "outputs": [
    {
     "name": "stdout",
     "output_type": "stream",
     "text": [
      "Good afternoon Sandra!\n"
     ]
    }
   ],
   "source": [
    "print_hello_user_time(\"Sandra\", \"12 am\")"
   ]
  },
  {
   "cell_type": "markdown",
   "metadata": {},
   "source": [
    "\\begin{exercise}\\label{ex:timed_greeting}\n",
    "Take some time and try to understand the previous functions. Try and change something and see what happens.\n",
    "\\end{exercise}"
   ]
  },
  {
   "cell_type": "markdown",
   "metadata": {},
   "source": [
    "### Keyword arguments\n",
    "\n",
    "By explicitly stating the argument in your function, you can change the order in which you pass arguments to a function."
   ]
  },
  {
   "cell_type": "code",
   "execution_count": 38,
   "metadata": {
    "execution": {
     "iopub.execute_input": "2023-02-22T15:39:47.068828Z",
     "iopub.status.busy": "2023-02-22T15:39:47.068408Z",
     "iopub.status.idle": "2023-02-22T15:39:47.072542Z",
     "shell.execute_reply": "2023-02-22T15:39:47.071838Z"
    }
   },
   "outputs": [
    {
     "name": "stdout",
     "output_type": "stream",
     "text": [
      "1 -1\n"
     ]
    }
   ],
   "source": [
    "def subtract(x, y):\n",
    "    \"\"\"Subtracts y from x.\"\"\"\n",
    "    return x - y\n",
    "\n",
    "one = subtract(5, 4)\n",
    "two = subtract(y=5, x=4)\n",
    "print(one, two)"
   ]
  },
  {
   "cell_type": "markdown",
   "metadata": {},
   "source": [
    "In the same fashion you can set the defaults for a functions arguments, when defining the function. In that case you only need to provide as many arguments as there are non-keyword arguments."
   ]
  },
  {
   "cell_type": "code",
   "execution_count": 39,
   "metadata": {
    "execution": {
     "iopub.execute_input": "2023-02-22T15:39:47.076216Z",
     "iopub.status.busy": "2023-02-22T15:39:47.075798Z",
     "iopub.status.idle": "2023-02-22T15:39:47.079816Z",
     "shell.execute_reply": "2023-02-22T15:39:47.079131Z"
    }
   },
   "outputs": [
    {
     "name": "stdout",
     "output_type": "stream",
     "text": [
      "5\n",
      "-10\n"
     ]
    }
   ],
   "source": [
    "def subtract(x, y=5):\n",
    "    \"\"\"Subtracts y from x.\n",
    "    If not specified otherwise 5 will be subtracted from x.\"\"\"\n",
    "    return x - y\n",
    "\n",
    "print(subtract(10))\n",
    "print(subtract(10, 20))"
   ]
  },
  {
   "cell_type": "markdown",
   "metadata": {},
   "source": [
    "## Lambda functions\n",
    "\n",
    "As previously stated, lambda functions are functions returned by the `lambda` keyword. They are often used as throwaway functions, that are only used a single time. They can come in quite useful, when something needs to be a function, but you want to make your code more readable. The keyword `lambda` returns a function that is now accessible under the assigned variable name.\n",
    "\n",
    "```python\n",
    "myfunc = lambda x: x * 2\n",
    "```\n",
    "\n",
    "Besides the `lambda` keyword, you can give arguments and use them in the expression after the colon (`:`). In this case, the input argument x is multiplied by 2. Multiple arguments can also be given like so:\n",
    "\n",
    "```python\n",
    "myfunc = lambda x, y: x + y\n",
    "```"
   ]
  },
  {
   "cell_type": "code",
   "execution_count": 40,
   "metadata": {
    "execution": {
     "iopub.execute_input": "2023-02-22T15:39:47.083398Z",
     "iopub.status.busy": "2023-02-22T15:39:47.083049Z",
     "iopub.status.idle": "2023-02-22T15:39:47.087484Z",
     "shell.execute_reply": "2023-02-22T15:39:47.086802Z"
    }
   },
   "outputs": [
    {
     "data": {
      "text/plain": [
       "10"
      ]
     },
     "execution_count": 40,
     "metadata": {},
     "output_type": "execute_result"
    }
   ],
   "source": [
    "myfunc = lambda x: x * 2\n",
    "myfunc(5)"
   ]
  },
  {
   "cell_type": "markdown",
   "metadata": {},
   "source": [
    "### Use case: filter\n",
    "\n",
    "The built-in `filter()` function can filter an iterable based on boolean values. It expects as the first argument a function (more on that later) and an iterable as the second. Let's say we have a list of ints and want to remove all ints below 10 and above 25"
   ]
  },
  {
   "cell_type": "code",
   "execution_count": 41,
   "metadata": {
    "execution": {
     "iopub.execute_input": "2023-02-22T15:39:47.091274Z",
     "iopub.status.busy": "2023-02-22T15:39:47.090745Z",
     "iopub.status.idle": "2023-02-22T15:39:47.094783Z",
     "shell.execute_reply": "2023-02-22T15:39:47.094076Z"
    }
   },
   "outputs": [
    {
     "name": "stdout",
     "output_type": "stream",
     "text": [
      "[10, 11, 12, 13, 14, 15, 16, 17, 18, 19, 20, 21, 22, 23, 24, 25]\n"
     ]
    }
   ],
   "source": [
    "mylist = [i for i in range(50)]\n",
    "\n",
    "filtered = list(filter(lambda x: x >= 10 and x <= 25, mylist))\n",
    "print(filtered)"
   ]
  },
  {
   "cell_type": "markdown",
   "metadata": {},
   "source": [
    "The `lambda` function was directly supplied without writing a function with `def`. You have no way of using that function again, because it wasn't assigned to a variable. This makes the code easily to read. However, if you use this function (check whether greater than 9 and smaller than 26) often consider putting it into it own function.\n",
    "\n",
    "```python\n",
    "def in_range(x):\n",
    "    return x >= 10 and x <= 25\n",
    "```\n",
    "\n",
    "Because now, you can use this function repeatedly and a change in this function changes all code that uses this function.\n",
    "\n",
    "```python\n",
    "filtered = list(filter(in_range, [i for i in range(50)]))\n",
    "filtered = list(filter(in_range, [i ** 2 - 50 for i in range(50)]))\n",
    "filtered = list(filter(in_range, [i * 2 - 10 for i in range(50)]))\n",
    "```"
   ]
  },
  {
   "cell_type": "markdown",
   "metadata": {},
   "source": [
    "## Functions as arguments\n",
    "\n",
    "To further elaborate on functions as arguments. Keep in mind: Everything in python is an object and as such there is principally no difference between int, str and function."
   ]
  },
  {
   "cell_type": "code",
   "execution_count": 42,
   "metadata": {
    "execution": {
     "iopub.execute_input": "2023-02-22T15:39:47.098574Z",
     "iopub.status.busy": "2023-02-22T15:39:47.098139Z",
     "iopub.status.idle": "2023-02-22T15:39:47.101944Z",
     "shell.execute_reply": "2023-02-22T15:39:47.101363Z"
    }
   },
   "outputs": [
    {
     "name": "stdout",
     "output_type": "stream",
     "text": [
      "7\n"
     ]
    }
   ],
   "source": [
    "def apply_arithmetic(x, y, operation=lambda x, y: x + y):\n",
    "    return operation(x, y)\n",
    "\n",
    "print(apply_arithmetic(2, 5))"
   ]
  },
  {
   "cell_type": "code",
   "execution_count": 43,
   "metadata": {
    "execution": {
     "iopub.execute_input": "2023-02-22T15:39:47.105048Z",
     "iopub.status.busy": "2023-02-22T15:39:47.104496Z",
     "iopub.status.idle": "2023-02-22T15:39:47.109817Z",
     "shell.execute_reply": "2023-02-22T15:39:47.109061Z"
    }
   },
   "outputs": [
    {
     "name": "stdout",
     "output_type": "stream",
     "text": [
      "10\n"
     ]
    }
   ],
   "source": [
    "print(apply_arithmetic(2, 5, lambda x, y: x * y))"
   ]
  },
  {
   "cell_type": "markdown",
   "metadata": {},
   "source": [
    "## Classes\n",
    "\n",
    "Classes is where python starts to shine. Welcome to object-oriented programming. At first we want to get some terminology right. First we need to know the difference between `class` and the *instance* of a class. If we define a class like so (The `pass` statement can be used to do nothing here)."
   ]
  },
  {
   "cell_type": "code",
   "execution_count": 44,
   "metadata": {
    "execution": {
     "iopub.execute_input": "2023-02-22T15:39:47.113032Z",
     "iopub.status.busy": "2023-02-22T15:39:47.112494Z",
     "iopub.status.idle": "2023-02-22T15:39:47.116437Z",
     "shell.execute_reply": "2023-02-22T15:39:47.115836Z"
    }
   },
   "outputs": [],
   "source": [
    "class MyClass:\n",
    "    pass"
   ]
  },
  {
   "cell_type": "markdown",
   "metadata": {},
   "source": [
    "After running this cell the `class MyClass` now is available to us, and we do stuff with it."
   ]
  },
  {
   "cell_type": "code",
   "execution_count": 45,
   "metadata": {
    "execution": {
     "iopub.execute_input": "2023-02-22T15:39:47.119580Z",
     "iopub.status.busy": "2023-02-22T15:39:47.119044Z",
     "iopub.status.idle": "2023-02-22T15:39:47.123791Z",
     "shell.execute_reply": "2023-02-22T15:39:47.123183Z"
    }
   },
   "outputs": [
    {
     "name": "stdout",
     "output_type": "stream",
     "text": [
      "<class '__main__.MyClass'>\n"
     ]
    }
   ],
   "source": [
    "print(MyClass)"
   ]
  },
  {
   "cell_type": "markdown",
   "metadata": {},
   "source": [
    "A class can be filled with *class variables*"
   ]
  },
  {
   "cell_type": "code",
   "execution_count": 46,
   "metadata": {
    "execution": {
     "iopub.execute_input": "2023-02-22T15:39:47.126744Z",
     "iopub.status.busy": "2023-02-22T15:39:47.126393Z",
     "iopub.status.idle": "2023-02-22T15:39:47.131554Z",
     "shell.execute_reply": "2023-02-22T15:39:47.130936Z"
    }
   },
   "outputs": [
    {
     "name": "stdout",
     "output_type": "stream",
     "text": [
      "Hello\n"
     ]
    }
   ],
   "source": [
    "class MyClass:\n",
    "    greeting = 'Hello'\n",
    "    name = 'John'\n",
    "\n",
    "print(MyClass.greeting)"
   ]
  },
  {
   "cell_type": "markdown",
   "metadata": {},
   "source": [
    "Classes can also be filled with methods. Methods are just like functions, except they belong to a class."
   ]
  },
  {
   "cell_type": "code",
   "execution_count": 47,
   "metadata": {
    "execution": {
     "iopub.execute_input": "2023-02-22T15:39:47.134496Z",
     "iopub.status.busy": "2023-02-22T15:39:47.134185Z",
     "iopub.status.idle": "2023-02-22T15:39:47.140996Z",
     "shell.execute_reply": "2023-02-22T15:39:47.140395Z"
    }
   },
   "outputs": [
    {
     "data": {
      "text/plain": [
       "'Hello John!'"
      ]
     },
     "execution_count": 47,
     "metadata": {},
     "output_type": "execute_result"
    }
   ],
   "source": [
    "class MyClass:\n",
    "    greeting = 'Hello'\n",
    "    name = 'John'\n",
    "    \n",
    "    def greet(self):\n",
    "        return f'{self.greeting} {self.name}!'\n",
    "    \n",
    "MyClass.greet(MyClass)"
   ]
  },
  {
   "cell_type": "markdown",
   "metadata": {},
   "source": [
    "You probably wonder, what the `self` inside the greet method does. That's because of *instances*. What you do normally with a class, is instantiate it by calling `MyClass()`. The `self` in the method refers to the current instance. Because we didn't instantiate the class, we don't have an instance and have to do the `MyClass.greet(MyClass)` workaround.\n",
    "\n",
    "\\begin{remark}\n",
    "Functions are called by using ```function()```, classes are instantiated by calling ```class()```.\n",
    "\\end{remark}"
   ]
  },
  {
   "cell_type": "code",
   "execution_count": 48,
   "metadata": {
    "execution": {
     "iopub.execute_input": "2023-02-22T15:39:47.143751Z",
     "iopub.status.busy": "2023-02-22T15:39:47.143322Z",
     "iopub.status.idle": "2023-02-22T15:39:47.149703Z",
     "shell.execute_reply": "2023-02-22T15:39:47.149103Z"
    }
   },
   "outputs": [
    {
     "data": {
      "text/plain": [
       "'Hello John!'"
      ]
     },
     "execution_count": 48,
     "metadata": {},
     "output_type": "execute_result"
    }
   ],
   "source": [
    "instance = MyClass()\n",
    "instance.greet()"
   ]
  },
  {
   "cell_type": "markdown",
   "metadata": {},
   "source": [
    "And this is where classes become interesting. Consider this:"
   ]
  },
  {
   "cell_type": "code",
   "execution_count": 49,
   "metadata": {
    "execution": {
     "iopub.execute_input": "2023-02-22T15:39:47.152547Z",
     "iopub.status.busy": "2023-02-22T15:39:47.152195Z",
     "iopub.status.idle": "2023-02-22T15:39:47.157339Z",
     "shell.execute_reply": "2023-02-22T15:39:47.156663Z"
    }
   },
   "outputs": [
    {
     "name": "stdout",
     "output_type": "stream",
     "text": [
      "Hello John!\n",
      "Goodbye Jane!\n"
     ]
    }
   ],
   "source": [
    "john = MyClass()\n",
    "jane = MyClass()\n",
    "jane.greeting = 'Goodbye'\n",
    "jane.name = 'Jane'\n",
    "\n",
    "print(john.greet())\n",
    "print(jane.greet())"
   ]
  },
  {
   "cell_type": "markdown",
   "metadata": {},
   "source": [
    "We have two instances of one class, both doing something similar, but with different variables. Overwriting the variables if an instance like this:\n",
    "\n",
    "```python\n",
    "jane.greeting = 'Goodbye'\n",
    "jane.name = 'Jane'\n",
    "```\n",
    "\n",
    "What you would normally do is, using a special method called `__init__()`, which is called when the class is instantiated and set the variables of the instance like in the next cell. The `self` in the class refers to a current instance of that class. More on that in `03_intermediate_python.ipynb`.\n",
    "\n",
    "(Normally you would also not set the variables `greeting` and `name` as class variables but only as instance variables.)"
   ]
  },
  {
   "cell_type": "code",
   "execution_count": 50,
   "metadata": {
    "execution": {
     "iopub.execute_input": "2023-02-22T15:39:47.160178Z",
     "iopub.status.busy": "2023-02-22T15:39:47.159831Z",
     "iopub.status.idle": "2023-02-22T15:39:47.164163Z",
     "shell.execute_reply": "2023-02-22T15:39:47.163480Z"
    }
   },
   "outputs": [],
   "source": [
    "class MyClass:\n",
    "    \n",
    "    def __init__(self, name, greeting):\n",
    "        self.greeting = greeting\n",
    "        self.name = name\n",
    "        \n",
    "    def greet(self):\n",
    "        return f'{self.greeting} {self.name}!'\n",
    "    \n",
    "    def change_greeting(self, new_greet=''):\n",
    "        if not new_greet:\n",
    "            self.greeting = input(f\"Give {self.name} a new greeting:\")\n",
    "        else:\n",
    "            self.greeting = new_greet"
   ]
  },
  {
   "cell_type": "code",
   "execution_count": 51,
   "metadata": {
    "execution": {
     "iopub.execute_input": "2023-02-22T15:39:47.167269Z",
     "iopub.status.busy": "2023-02-22T15:39:47.166688Z",
     "iopub.status.idle": "2023-02-22T15:39:47.170010Z",
     "shell.execute_reply": "2023-02-22T15:39:47.169357Z"
    }
   },
   "outputs": [],
   "source": [
    "john = MyClass('John', 'Hello')\n",
    "jane = MyClass('Jane', 'Goodbye')"
   ]
  },
  {
   "cell_type": "code",
   "execution_count": 52,
   "metadata": {
    "execution": {
     "iopub.execute_input": "2023-02-22T15:39:47.172957Z",
     "iopub.status.busy": "2023-02-22T15:39:47.172614Z",
     "iopub.status.idle": "2023-02-22T15:39:47.176125Z",
     "shell.execute_reply": "2023-02-22T15:39:47.175587Z"
    }
   },
   "outputs": [
    {
     "name": "stdout",
     "output_type": "stream",
     "text": [
      "Hello John!\n",
      "Goodbye Jane!\n"
     ]
    }
   ],
   "source": [
    "print(john.greet())\n",
    "print(jane.greet())"
   ]
  },
  {
   "cell_type": "markdown",
   "metadata": {},
   "source": [
    "You can also try to interactively change Jane's greeting by calling:\n",
    "\n",
    "```python\n",
    "jane.change_greeting()\n",
    "```"
   ]
  },
  {
   "cell_type": "code",
   "execution_count": 53,
   "metadata": {
    "execution": {
     "iopub.execute_input": "2023-02-22T15:39:47.179130Z",
     "iopub.status.busy": "2023-02-22T15:39:47.178529Z",
     "iopub.status.idle": "2023-02-22T15:39:47.181722Z",
     "shell.execute_reply": "2023-02-22T15:39:47.181071Z"
    }
   },
   "outputs": [],
   "source": [
    "jane.change_greeting('Hi')"
   ]
  },
  {
   "cell_type": "code",
   "execution_count": 54,
   "metadata": {
    "execution": {
     "iopub.execute_input": "2023-02-22T15:39:47.184779Z",
     "iopub.status.busy": "2023-02-22T15:39:47.184231Z",
     "iopub.status.idle": "2023-02-22T15:39:47.187705Z",
     "shell.execute_reply": "2023-02-22T15:39:47.187158Z"
    }
   },
   "outputs": [
    {
     "name": "stdout",
     "output_type": "stream",
     "text": [
      "Hello John!\n",
      "Hi Jane!\n"
     ]
    }
   ],
   "source": [
    "print(john.greet())\n",
    "print(jane.greet())"
   ]
  },
  {
   "cell_type": "markdown",
   "metadata": {},
   "source": [
    "## Moving on\n",
    "\n",
    "The last two notebooks [basics_00_datatypes.ipynb](https://mybinder.org/v2/gh/kevinsawade/start-science-here/HEAD?urlpath=%2Ftree%2F?filepath=python_tutorial%2Fbasic_python%2Fbasics_00_datatypes.ipynb) and this one ([basics_01_functions_classes.ipynb](https://mybinder.org/v2/gh/kevinsawade/start-science-here/HEAD?urlpath=%2Ftree%2F?filepath=python_tutorial%2Fbasic_python%2Fbasics_01_functions_and_classes.ipynb)) have brought you most of what you need to know to work yourself through some code. At this point you can choose, whether you want to continue with the python tutorials, which progressively become more advanced ([intermediate_02_OOP.ipynb](https://mybinder.org/v2/gh/kevinsawade/start-science-here/HEAD?urlpath=%2Ftree%2F?filepath=python_tutorial%2Fintermediate_python%2Fintermediate_02_OOP.ipynb)). You could also take a look at the builtin notebook introducing you to some of python's built-in modules ([builtins.ipynb](https://mybinder.org/v2/gh/kevinsawade/start-science-here/HEAD?urlpath=%2Ftree%2F?filepath=python_tutorial%2Fbuiltins%2Fbuiltins.ipynb)), or you take a look at the package-specific notebooks:\n",
    "\n",
    "- [NumPy.ipynb](https://mybinder.org/v2/gh/kevinsawade/start-science-here/HEAD?urlpath=%2Ftree%2F?filepath=python_tutorial%2Fpackages%2FNumPy.ipynb)\n",
    "- [MDTraj.ipynb](https://mybinder.org/v2/gh/kevinsawade/start-science-here/HEAD?urlpath=%2Ftree%2F?filepath=python_tutorial%2Fpackages%2FMDTraj.ipynb)\n",
    "- [matplotlib.ipynb](https://mybinder.org/v2/gh/kevinsawade/start-science-here/HEAD?urlpath=%2Ftree%2F?filepath=python_tutorial%2Fpackages%2Fmatplotlib.ipynb)\n",
    "- [pandas.ipynb](https://mybinder.org/v2/gh/kevinsawade/start-science-here/HEAD?urlpath=%2Ftree%2F?filepath=python_tutorial%2Fpackages%2Fpandas.ipynb)\n",
    "- [MDAnalysis.ipynb](https://mybinder.org/v2/gh/kevinsawade/start-science-here/HEAD?urlpath=%2Ftree%2F?filepath=python_tutorial%2Fpackages%2FMDAnalysis.ipynb)"
   ]
  }
 ],
 "metadata": {
  "language_info": {
   "codemirror_mode": {
    "name": "ipython",
    "version": 3
   },
   "file_extension": ".py",
   "mimetype": "text/x-python",
   "name": "python",
   "nbconvert_exporter": "python",
   "pygments_lexer": "ipython3",
   "version": "3.8.16"
  }
 },
 "nbformat": 4,
 "nbformat_minor": 2
}
