{
 "cells": [
  {
   "cell_type": "markdown",
   "id": "d148b2b7",
   "metadata": {},
   "source": [
    "## A python program\n",
    "\n",
    "Writing code that way is not very convenient. You have to retype quite a lot and making changes to something would have you re-typing quite a lot. That's why we put python code into files (normally with the `.py` file extension). If you tell python to run on a file it will execute the code in that file line-after-line. These files are basically complete python programs. Try creating a simple text file called `my_awesome_program.py` and put this line of code into it:\n",
    "\n",
    "```python\n",
    "print('You are awesome!')\n",
    "```\n",
    "\n",
    "**For linux/WSL/mybinder users**\n",
    "\n",
    "You can use either `nano` to create the file.\n",
    "\n",
    "```bash\n",
    "$ nano my_awesome_program.py\n",
    "```\n",
    "\n",
    "Write the code and save it by hitting (`Ctrl` and `X` to save and `y` to confirm). You can also put the contents into the file using `echo`:\n",
    "\n",
    "```bash\n",
    "$ echo \"print('You are awesome!')\" > my_awesome_program.py\n",
    "$ # check contents with \n",
    "$ cat my_awesome_program.py\n",
    "```\n",
    "\n",
    "**For windows users**\n",
    "\n",
    "Create a new text file with the text editor of you choice. For this basic program the windos notepad (aka editor) will suffice. Make sure the file extension is `.py` and rename the file if not. You can now double-click the file, which will run it with python. **However,** after it has finished running the window will close automatically and you probably won't be able to read the output of the program. We need a windows shell to run the program. Open the Windows command prompt by hitting the `Windows Key` + `X` and navigate to the location of the file. If you saved the file to a different drive, than the standard `C:\\` drive, you can change to that drive by calling simply:\n",
    "\n",
    "```cmd\n",
    "> D:\n",
    "```\n",
    "\n",
    "Now you can navigate to the file. Use backslashes `\\` and not slashes as path separators and use `cd ..` to go back one directory.\n",
    "\n",
    "**Run the program**\n",
    "\n",
    "Run your program on either of the command lines/shells by calling:\n",
    "\n",
    "```bash\n",
    "$ python my_awesome_program.py\n",
    "```\n",
    "\n",
    "on bash and\n",
    "\n",
    "```cmd\n",
    "> python my_awesome_program.py\n",
    "```\n",
    "\n",
    "on Windows Command prompt. This usage of python is still not very useful when developing code. That's why we are using *jupyter-notebooks*."
   ]
  }
 ],
 "metadata": {
  "kernelspec": {
   "display_name": "Python 3",
   "language": "python",
   "name": "python3"
  },
  "language_info": {
   "codemirror_mode": {
    "name": "ipython",
    "version": 3
   },
   "file_extension": ".py",
   "mimetype": "text/x-python",
   "name": "python",
   "nbconvert_exporter": "python",
   "pygments_lexer": "ipython3",
   "version": "3.8.8"
  },
  "latex_envs": {
   "LaTeX_envs_menu_present": true,
   "autoclose": false,
   "autocomplete": true,
   "bibliofile": "biblio.bib",
   "cite_by": "apalike",
   "current_citInitial": 1,
   "eqLabelWithNumbers": true,
   "eqNumInitial": 1,
   "hotkeys": {
    "equation": "Ctrl-E",
    "itemize": "Ctrl-I"
   },
   "labels_anchors": false,
   "latex_user_defs": false,
   "report_style_numbering": false,
   "user_envs_cfg": false
  },
  "toc": {
   "base_numbering": 1,
   "nav_menu": {},
   "number_sections": true,
   "sideBar": true,
   "skip_h1_title": false,
   "title_cell": "Table of Contents",
   "title_sidebar": "Contents",
   "toc_cell": false,
   "toc_position": {},
   "toc_section_display": true,
   "toc_window_display": false
  }
 },
 "nbformat": 4,
 "nbformat_minor": 5
}
