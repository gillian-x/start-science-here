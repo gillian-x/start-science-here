{
 "cells": [
  {
   "attachments": {},
   "cell_type": "markdown",
   "metadata": {},
   "source": [
    "# 02_intermediate_python\n",
    "\n",
    "Open on binder:\n",
    "[![Binder](https://mybinder.org/badge_logo.svg)](https://mybinder.org/v2/gh/kevinsawade/start-science-here/HEAD?urlpath=%2Ftree%2F?filepath=python_tutorial%2Fintermediate_python%2Fintermediate_02_OOP.ipynb)\n",
    "\n",
    "**Call out to Corey Schafer**\n",
    "\n",
    "Lots of the code here is taken from Corey Schafer and his excellent python tutorials. When you are more the video-learning type of person, definitely check out his youtube channel:\n",
    "\n",
    "https://www.youtube.com/user/schafer5\n",
    "\n",
    "## What you will learn\n",
    "\n",
    "In this tutorial you will learn:\n",
    "\n",
    "- How to add functionality to your iterations and make theam more readable.\n",
    "- How to make your classes awesome.\n",
    "  - How to inherit from parent classes.\n",
    "  - How to make your classes work with builtin operators (operator overloading).\n",
    "  - How to write decorators in classes and on functions."
   ]
  },
  {
   "cell_type": "markdown",
   "metadata": {},
   "source": [
    "## Advanced iteration\n",
    "\n",
    "There are multiple objects than can be iterated. `str`, `list`, and `tuple` are the most common. We will later look at how to make our own object iterable. But first let's go back to the iteration over a list:"
   ]
  },
  {
   "cell_type": "code",
   "execution_count": 1,
   "metadata": {
    "execution": {
     "iopub.execute_input": "2023-02-22T15:39:51.354932Z",
     "iopub.status.busy": "2023-02-22T15:39:51.354475Z",
     "iopub.status.idle": "2023-02-22T15:39:51.362579Z",
     "shell.execute_reply": "2023-02-22T15:39:51.361856Z"
    }
   },
   "outputs": [
    {
     "name": "stdout",
     "output_type": "stream",
     "text": [
      "0\n",
      "1\n",
      "5\n",
      "hello\n",
      "1.2\n",
      "(1, 'world')\n"
     ]
    }
   ],
   "source": [
    "iterable = [0, 1, 5, 'hello', 1.2, (1, 'world')]\n",
    "for i in iterable:\n",
    "    print(i)"
   ]
  },
  {
   "cell_type": "markdown",
   "metadata": {},
   "source": [
    "### Any and all\n",
    "\n",
    "You can use the builtin function `any()` or `all()` to check if any object or all objects are True. Because all objects have a boolean value assigned to them, you can do stuff like this:"
   ]
  },
  {
   "cell_type": "code",
   "execution_count": 2,
   "metadata": {
    "execution": {
     "iopub.execute_input": "2023-02-22T15:39:51.365727Z",
     "iopub.status.busy": "2023-02-22T15:39:51.365300Z",
     "iopub.status.idle": "2023-02-22T15:39:51.369613Z",
     "shell.execute_reply": "2023-02-22T15:39:51.368926Z"
    }
   },
   "outputs": [
    {
     "name": "stdout",
     "output_type": "stream",
     "text": [
      "False\n",
      "True\n"
     ]
    }
   ],
   "source": [
    "check = any(['', 0, 0.0, None, False, [], {}, ()])\n",
    "print(check)\n",
    "\n",
    "check = any(['', 0, 0.0, None, False, [], ~False])\n",
    "print(check)"
   ]
  },
  {
   "cell_type": "code",
   "execution_count": 3,
   "metadata": {
    "execution": {
     "iopub.execute_input": "2023-02-22T15:39:51.373378Z",
     "iopub.status.busy": "2023-02-22T15:39:51.372961Z",
     "iopub.status.idle": "2023-02-22T15:39:51.379684Z",
     "shell.execute_reply": "2023-02-22T15:39:51.379019Z"
    }
   },
   "outputs": [
    {
     "data": {
      "text/plain": [
       "True"
      ]
     },
     "execution_count": 3,
     "metadata": {},
     "output_type": "execute_result"
    }
   ],
   "source": [
    "all([True, True, True, True])"
   ]
  },
  {
   "cell_type": "markdown",
   "metadata": {
    "solution2": "hidden",
    "solution2_first": true
   },
   "source": [
    "\\begin{exercise}\n",
    "What does the ~ (tilde) operator do?\n",
    "\\end{exercise}"
   ]
  },
  {
   "cell_type": "markdown",
   "metadata": {
    "solution2": "hidden"
   },
   "source": [
    "Bitwise not. It will, for example invert a binary number and return its compliment."
   ]
  },
  {
   "cell_type": "code",
   "execution_count": 4,
   "metadata": {
    "execution": {
     "iopub.execute_input": "2023-02-22T15:39:51.383342Z",
     "iopub.status.busy": "2023-02-22T15:39:51.382995Z",
     "iopub.status.idle": "2023-02-22T15:39:51.386493Z",
     "shell.execute_reply": "2023-02-22T15:39:51.385860Z"
    }
   },
   "outputs": [
    {
     "name": "stdout",
     "output_type": "stream",
     "text": [
      "0b100111111\n",
      "-0b101000000\n"
     ]
    }
   ],
   "source": [
    "b = 0b100111111\n",
    "print(bin(b))\n",
    "print(bin(~b))"
   ]
  },
  {
   "cell_type": "markdown",
   "metadata": {},
   "source": [
    "### Combining lists"
   ]
  },
  {
   "cell_type": "code",
   "execution_count": 5,
   "metadata": {
    "execution": {
     "iopub.execute_input": "2023-02-22T15:39:51.389633Z",
     "iopub.status.busy": "2023-02-22T15:39:51.389291Z",
     "iopub.status.idle": "2023-02-22T15:39:51.392946Z",
     "shell.execute_reply": "2023-02-22T15:39:51.392422Z"
    }
   },
   "outputs": [
    {
     "name": "stdout",
     "output_type": "stream",
     "text": [
      "0\n",
      "1\n",
      "5\n",
      "hello\n",
      "1.2\n",
      "(1, 'world')\n",
      "0\n",
      "1\n",
      "4\n",
      "9\n",
      "16\n",
      "25\n"
     ]
    }
   ],
   "source": [
    "iterable2 = [i**2 for i in range(len(iterable))]\n",
    "for i in iterable + iterable2:\n",
    "    print(i)"
   ]
  },
  {
   "cell_type": "markdown",
   "metadata": {},
   "source": [
    "### Enumerate\n",
    "\n",
    "With `enumerate()` we get the ability to get the current iteration count without doing something like this:\n",
    "\n",
    "```python\n",
    "i = 0\n",
    "for j in something:\n",
    "    important_variable = something_else[i]\n",
    "    i += 1\n",
    "```\n",
    "`enumerate()` returns an iterator that gives tuples when it is iterated over."
   ]
  },
  {
   "cell_type": "code",
   "execution_count": 6,
   "metadata": {
    "execution": {
     "iopub.execute_input": "2023-02-22T15:39:51.395823Z",
     "iopub.status.busy": "2023-02-22T15:39:51.395282Z",
     "iopub.status.idle": "2023-02-22T15:39:51.398750Z",
     "shell.execute_reply": "2023-02-22T15:39:51.398188Z"
    }
   },
   "outputs": [
    {
     "name": "stdout",
     "output_type": "stream",
     "text": [
      "(0, 0)\n",
      "(1, 1)\n",
      "(2, 5)\n",
      "(3, 'hello')\n",
      "(4, 1.2)\n",
      "(5, (1, 'world'))\n"
     ]
    }
   ],
   "source": [
    "for tup in enumerate(iterable):\n",
    "    print(tup)"
   ]
  },
  {
   "cell_type": "markdown",
   "metadata": {},
   "source": [
    "The returned tuple can be directly unpacked."
   ]
  },
  {
   "cell_type": "code",
   "execution_count": 7,
   "metadata": {
    "execution": {
     "iopub.execute_input": "2023-02-22T15:39:51.401461Z",
     "iopub.status.busy": "2023-02-22T15:39:51.400911Z",
     "iopub.status.idle": "2023-02-22T15:39:51.404555Z",
     "shell.execute_reply": "2023-02-22T15:39:51.403967Z"
    }
   },
   "outputs": [
    {
     "name": "stdout",
     "output_type": "stream",
     "text": [
      "Value at 0 is: 0\n",
      "Value at 1 is: 1\n",
      "Value at 2 is: 5\n",
      "Value at 3 is: hello\n",
      "Value at 4 is: 1.2\n",
      "Value at 5 is: (1, 'world')\n"
     ]
    }
   ],
   "source": [
    "for i, val in enumerate(iterable):\n",
    "    print(f\"Value at {i} is: {val}\")"
   ]
  },
  {
   "cell_type": "markdown",
   "metadata": {},
   "source": [
    "### Zip\n",
    "\n",
    "With `zip()`, two iterables can be iterated through at the same time or they can be iterated one after the other. The number of iterations by zip correspond to the number of elements of the shortest itearable. `zip()` also gives a tuple which can directly unpacked."
   ]
  },
  {
   "cell_type": "markdown",
   "metadata": {},
   "source": [
    "#### Zip through two lists"
   ]
  },
  {
   "cell_type": "code",
   "execution_count": 8,
   "metadata": {
    "execution": {
     "iopub.execute_input": "2023-02-22T15:39:51.407605Z",
     "iopub.status.busy": "2023-02-22T15:39:51.407064Z",
     "iopub.status.idle": "2023-02-22T15:39:51.410591Z",
     "shell.execute_reply": "2023-02-22T15:39:51.410022Z"
    }
   },
   "outputs": [
    {
     "name": "stdout",
     "output_type": "stream",
     "text": [
      "0 0\n",
      "1 1\n",
      "5 4\n",
      "hello 9\n",
      "1.2 16\n",
      "(1, 'world') 25\n"
     ]
    }
   ],
   "source": [
    "for i, j in zip(iterable, iterable2):\n",
    "    print(i, j)"
   ]
  },
  {
   "cell_type": "markdown",
   "metadata": {},
   "source": [
    "#### Zip with enumerate\n",
    "\n",
    "zip and enumerate can be used simultaneously, but you have to watch, how you unpack everything."
   ]
  },
  {
   "cell_type": "code",
   "execution_count": 9,
   "metadata": {
    "execution": {
     "iopub.execute_input": "2023-02-22T15:39:51.413276Z",
     "iopub.status.busy": "2023-02-22T15:39:51.412712Z",
     "iopub.status.idle": "2023-02-22T15:39:51.416507Z",
     "shell.execute_reply": "2023-02-22T15:39:51.415864Z"
    }
   },
   "outputs": [
    {
     "name": "stdout",
     "output_type": "stream",
     "text": [
      "Value1at 0 is: 0. Value2 is 0\n",
      "Value1at 1 is: 1. Value2 is 1\n",
      "Value1at 2 is: 5. Value2 is 4\n",
      "Value1at 3 is: hello. Value2 is 9\n",
      "Value1at 4 is: 1.2. Value2 is 16\n",
      "Value1at 5 is: (1, 'world'). Value2 is 25\n"
     ]
    }
   ],
   "source": [
    "for i, (val1, val2) in enumerate(zip(iterable, iterable2)):\n",
    "    print(f\"Value1at {i} is: {val1}. Value2 is {val2}\")"
   ]
  },
  {
   "cell_type": "markdown",
   "metadata": {},
   "source": [
    "#### Constructing a dict from two lists using zip\n",
    "\n",
    "We can construct a dict using zip like this:\n",
    "\n",
    "```python\n",
    "weird_dict = dict(zip(iterable2, iterable))\n",
    "```\n",
    "\n",
    "**BUT**, because normally the keys in a `dict` are `str` we have to make the values in iterable2 to `str`. Let me introduce you to the built-in function `map()`. With `map()` we can map any function to an iterable. `map()` returns a map object. This map object is iterable itself. But if you want to create a list from it, you have to call the `list()` built-in function, which creates lists from iterables.\n",
    "\n",
    "**Showcase of the `list()` built-in function**"
   ]
  },
  {
   "cell_type": "code",
   "execution_count": 10,
   "metadata": {
    "execution": {
     "iopub.execute_input": "2023-02-22T15:39:51.419310Z",
     "iopub.status.busy": "2023-02-22T15:39:51.418766Z",
     "iopub.status.idle": "2023-02-22T15:39:51.423167Z",
     "shell.execute_reply": "2023-02-22T15:39:51.422524Z"
    }
   },
   "outputs": [
    {
     "data": {
      "text/plain": [
       "['H', 'e', 'l', 'l', 'o', ' ', 'w', 'o', 'r', 'l', 'd', '!']"
      ]
     },
     "execution_count": 10,
     "metadata": {},
     "output_type": "execute_result"
    }
   ],
   "source": [
    "list('Hello world!')"
   ]
  },
  {
   "cell_type": "markdown",
   "metadata": {},
   "source": [
    "**Map the bui-in function `str()` to the iterable2 list**"
   ]
  },
  {
   "cell_type": "code",
   "execution_count": 11,
   "metadata": {
    "execution": {
     "iopub.execute_input": "2023-02-22T15:39:51.425978Z",
     "iopub.status.busy": "2023-02-22T15:39:51.425428Z",
     "iopub.status.idle": "2023-02-22T15:39:51.429076Z",
     "shell.execute_reply": "2023-02-22T15:39:51.428531Z"
    }
   },
   "outputs": [
    {
     "name": "stdout",
     "output_type": "stream",
     "text": [
      "<map object at 0x7f5b68e0b520>\n",
      "['0', '1', '4', '9', '16', '25']\n"
     ]
    }
   ],
   "source": [
    "tmp = map(str, iterable2)\n",
    "print(tmp)\n",
    "tmp = list(tmp)\n",
    "print(tmp)"
   ]
  },
  {
   "cell_type": "markdown",
   "metadata": {},
   "source": [
    "**Finally. Built the dict**"
   ]
  },
  {
   "cell_type": "code",
   "execution_count": 12,
   "metadata": {
    "execution": {
     "iopub.execute_input": "2023-02-22T15:39:51.431779Z",
     "iopub.status.busy": "2023-02-22T15:39:51.431247Z",
     "iopub.status.idle": "2023-02-22T15:39:51.434863Z",
     "shell.execute_reply": "2023-02-22T15:39:51.434301Z"
    }
   },
   "outputs": [
    {
     "name": "stdout",
     "output_type": "stream",
     "text": [
      "{'0': 0, '1': 1, '4': 5, '9': 'hello', '16': 1.2, '25': (1, 'world')}\n",
      "hello\n"
     ]
    }
   ],
   "source": [
    "weird_dict = dict(zip(tmp, iterable))\n",
    "print(weird_dict)\n",
    "print(weird_dict['9'])"
   ]
  },
  {
   "cell_type": "markdown",
   "metadata": {},
   "source": [
    "### Map\n",
    "\n",
    "The builtin function `map()` applies a function to every element of an iterable. Python3.x returns a map object (This is done for performance reasons. The execution of the function `square()` is halted until the result is truly needed. This saves memory and computation time, especially, if you only want to use the first n items). To create a list from this, pass it to the `list()` builtin."
   ]
  },
  {
   "cell_type": "code",
   "execution_count": 13,
   "metadata": {
    "execution": {
     "iopub.execute_input": "2023-02-22T15:39:51.437587Z",
     "iopub.status.busy": "2023-02-22T15:39:51.437022Z",
     "iopub.status.idle": "2023-02-22T15:39:51.441785Z",
     "shell.execute_reply": "2023-02-22T15:39:51.441123Z"
    }
   },
   "outputs": [
    {
     "data": {
      "text/plain": [
       "<map at 0x7f5b68d9ddf0>"
      ]
     },
     "execution_count": 13,
     "metadata": {},
     "output_type": "execute_result"
    }
   ],
   "source": [
    "def square(num):\n",
    "    return num **2\n",
    "\n",
    "map(square, [1, 2, 3, 4])"
   ]
  },
  {
   "cell_type": "code",
   "execution_count": 14,
   "metadata": {
    "execution": {
     "iopub.execute_input": "2023-02-22T15:39:51.444568Z",
     "iopub.status.busy": "2023-02-22T15:39:51.444225Z",
     "iopub.status.idle": "2023-02-22T15:39:51.448616Z",
     "shell.execute_reply": "2023-02-22T15:39:51.448058Z"
    }
   },
   "outputs": [
    {
     "data": {
      "text/plain": [
       "[1, 4, 9, 16]"
      ]
     },
     "execution_count": 14,
     "metadata": {},
     "output_type": "execute_result"
    }
   ],
   "source": [
    "list(map(square, [1, 2, 3, 4]))"
   ]
  },
  {
   "cell_type": "code",
   "execution_count": 15,
   "metadata": {
    "execution": {
     "iopub.execute_input": "2023-02-22T15:39:51.451412Z",
     "iopub.status.busy": "2023-02-22T15:39:51.450862Z",
     "iopub.status.idle": "2023-02-22T15:39:53.158438Z",
     "shell.execute_reply": "2023-02-22T15:39:53.157592Z"
    }
   },
   "outputs": [
    {
     "name": "stdout",
     "output_type": "stream",
     "text": [
      "209 ns ± 1.45 ns per loop (mean ± std. dev. of 7 runs, 1,000,000 loops each)\n"
     ]
    }
   ],
   "source": [
    "%%timeit\n",
    "map(square, [1, 2, 3, 4])"
   ]
  },
  {
   "cell_type": "code",
   "execution_count": 16,
   "metadata": {
    "execution": {
     "iopub.execute_input": "2023-02-22T15:39:53.161750Z",
     "iopub.status.busy": "2023-02-22T15:39:53.161510Z",
     "iopub.status.idle": "2023-02-22T15:40:04.634104Z",
     "shell.execute_reply": "2023-02-22T15:40:04.632534Z"
    }
   },
   "outputs": [
    {
     "name": "stdout",
     "output_type": "stream",
     "text": [
      "1.41 µs ± 2.26 ns per loop (mean ± std. dev. of 7 runs, 1,000,000 loops each)\n"
     ]
    }
   ],
   "source": [
    "%%timeit\n",
    "list(map(square, [1, 2, 3, 4]))"
   ]
  },
  {
   "cell_type": "markdown",
   "metadata": {},
   "source": [
    "### Filter\n",
    "\n",
    "Instead of mapping a function to be applied to every element. You can give a function, that either returns `True` or `False`. Elements which would cause the function to return False are dropped from the iterable."
   ]
  },
  {
   "cell_type": "code",
   "execution_count": 17,
   "metadata": {
    "execution": {
     "iopub.execute_input": "2023-02-22T15:40:04.637770Z",
     "iopub.status.busy": "2023-02-22T15:40:04.637117Z",
     "iopub.status.idle": "2023-02-22T15:40:04.643777Z",
     "shell.execute_reply": "2023-02-22T15:40:04.643100Z"
    }
   },
   "outputs": [
    {
     "data": {
      "text/plain": [
       "['Cat', 'Noodles', 'List', 'Window']"
      ]
     },
     "execution_count": 17,
     "metadata": {},
     "output_type": "execute_result"
    }
   ],
   "source": [
    "strings = ['Spam', 'Foo', 'Cat', 'Bar', 'Noodles', 'Parrot', 'List', 'Hello', 'Window', 'World']\n",
    "\n",
    "def filter_programmer_humor(inp):\n",
    "    humor = ['spam', 'foo', 'bar', 'parrot', 'hello', 'world']\n",
    "    if inp.lower() in humor:\n",
    "        return False\n",
    "    else:\n",
    "        return True\n",
    "    \n",
    "list(filter(filter_programmer_humor, strings))"
   ]
  },
  {
   "cell_type": "markdown",
   "metadata": {},
   "source": [
    "### Reduce\n",
    "\n",
    "Reduce is a function from the functools builtin library. It provides powerful rolling computation for something that you would use a for-loop otherwise.\n",
    "\n",
    "That way, you can calculate the geometric mean of a set of numbers."
   ]
  },
  {
   "cell_type": "code",
   "execution_count": 18,
   "metadata": {
    "execution": {
     "iopub.execute_input": "2023-02-22T15:40:04.646685Z",
     "iopub.status.busy": "2023-02-22T15:40:04.646311Z",
     "iopub.status.idle": "2023-02-22T15:40:04.650642Z",
     "shell.execute_reply": "2023-02-22T15:40:04.649945Z"
    }
   },
   "outputs": [
    {
     "name": "stdout",
     "output_type": "stream",
     "text": [
      "2.993795165523909\n"
     ]
    }
   ],
   "source": [
    "from functools import reduce\n",
    "\n",
    "def multiplication(x, y):\n",
    "    return x * y\n",
    "\n",
    "values = [1, 2, 3, 4, 5, 6]\n",
    "\n",
    "print(reduce(multiplication, values) ** (1/len(values)))"
   ]
  },
  {
   "cell_type": "markdown",
   "metadata": {},
   "source": [
    "### Even more advanced iteration, combination, permutation (package: itertools)\n",
    "\n",
    "Check out the built-in package `itertools` to get more iterators, like combinations and permutations."
   ]
  },
  {
   "cell_type": "markdown",
   "metadata": {},
   "source": [
    "## Advanced functions \\*args and \\*\\*kwargs\n",
    "\n",
    "If you've looked at some python code, you've certainly come across these two expressions. Let's demystify them.\n",
    "\n",
    "Taken from: https://realpython.com/python-kwargs-and-args/\n",
    "\n",
    "The \\*args argument in a function definition allows any number of arguments to be passed. Additional to a defined number of arguments declared beforehand."
   ]
  },
  {
   "cell_type": "code",
   "execution_count": 19,
   "metadata": {
    "execution": {
     "iopub.execute_input": "2023-02-22T15:40:04.654377Z",
     "iopub.status.busy": "2023-02-22T15:40:04.654023Z",
     "iopub.status.idle": "2023-02-22T15:40:04.660092Z",
     "shell.execute_reply": "2023-02-22T15:40:04.659413Z"
    }
   },
   "outputs": [
    {
     "name": "stdout",
     "output_type": "stream",
     "text": [
      "Argument prt got value: I think. At some point you should take a break\n"
     ]
    },
    {
     "data": {
      "text/plain": [
       "23"
      ]
     },
     "execution_count": 19,
     "metadata": {},
     "output_type": "execute_result"
    }
   ],
   "source": [
    "def summation(prt, *args):\n",
    "    \"\"\"Prints the first argument and sums the remaining args.\"\"\"\n",
    "    print(f\"Argument prt got value: {prt}\")\n",
    "    out = 0\n",
    "    for i in args:\n",
    "        out += i\n",
    "    return out\n",
    "        \n",
    "summation('I think. At some point you should take a break', 2, 3, 5, 6, 7)"
   ]
  },
  {
   "cell_type": "markdown",
   "metadata": {},
   "source": [
    "We can supply any arguments from iterables by unpacking them in the function call."
   ]
  },
  {
   "cell_type": "code",
   "execution_count": 20,
   "metadata": {
    "execution": {
     "iopub.execute_input": "2023-02-22T15:40:04.664315Z",
     "iopub.status.busy": "2023-02-22T15:40:04.663741Z",
     "iopub.status.idle": "2023-02-22T15:40:04.669734Z",
     "shell.execute_reply": "2023-02-22T15:40:04.669061Z"
    }
   },
   "outputs": [
    {
     "name": "stdout",
     "output_type": "stream",
     "text": [
      "Argument prt got value: 0\n"
     ]
    },
    {
     "data": {
      "text/plain": [
       "7140"
      ]
     },
     "execution_count": 20,
     "metadata": {},
     "output_type": "execute_result"
    }
   ],
   "source": [
    "summation(*range(120))"
   ]
  },
  {
   "cell_type": "markdown",
   "metadata": {},
   "source": [
    "The unpacking elements can be calles whatever, but it is advised to use \\*args and \\*\\*kwargs"
   ]
  },
  {
   "cell_type": "code",
   "execution_count": 21,
   "metadata": {
    "execution": {
     "iopub.execute_input": "2023-02-22T15:40:04.672430Z",
     "iopub.status.busy": "2023-02-22T15:40:04.672088Z",
     "iopub.status.idle": "2023-02-22T15:40:04.678631Z",
     "shell.execute_reply": "2023-02-22T15:40:04.677914Z"
    }
   },
   "outputs": [
    {
     "name": "stdout",
     "output_type": "stream",
     "text": [
      "Nancy is in department.\n",
      "Keith is in department.\n",
      "Sandra is in department.\n",
      "Ben is in department.\n",
      "Richard is in department.\n"
     ]
    },
    {
     "data": {
      "text/plain": [
       "32"
      ]
     },
     "execution_count": 21,
     "metadata": {},
     "output_type": "execute_result"
    }
   ],
   "source": [
    "employee_numbers = {'Nancy': 20, 'Keith': 5, 'Sandra': 10, 'Ben': 5}\n",
    "department_members = ['Nancy', 'Keith', 'Richard']\n",
    "\n",
    "def add_department(members, **kwargs):\n",
    "    \"\"\"Adds numbers belonging to department members.\"\"\"\n",
    "    sum_ = 0\n",
    "    for member in kwargs:\n",
    "        print(f\"{member} is in department.\")\n",
    "        if member in department_members:\n",
    "            sum_ = sum_ + kwargs[member]\n",
    "    return sum_\n",
    "            \n",
    "add_department(department_members, **employee_numbers, Richard=7)"
   ]
  },
  {
   "cell_type": "markdown",
   "metadata": {},
   "source": [
    "There's a lot going on in the last cell. Let's summarize it:\n",
    "\n",
    "- The first line defines a dictionary with multiple employees and some numbers belonging to them.\n",
    "- The second line defines a list of strings. The members of a specific department.\n",
    "\n",
    "- After the docstring in the function a variable called sum_ is set to zero. The trailing underscore is added, so the built-in function `sum()` is not overwritten with the value zero.\n",
    "- The members in the kwargs argument are iterated over.\n",
    "- An if-check is made to see whether the member is in the list members.\n",
    "- If that's the case the value of the key is added to sum_\n",
    "\n",
    "When the function was called an impromptu employee was added as a keyworded argument. He also gets passed into the `for member in kwargs` for-loop."
   ]
  },
  {
   "cell_type": "markdown",
   "metadata": {},
   "source": [
    "### Overwriting default values\n",
    "\n",
    "The \\*\\*kwargs can be used to define standard values for the function, which convienently can be overwritten by an input \\*\\*kwargs."
   ]
  },
  {
   "cell_type": "code",
   "execution_count": 22,
   "metadata": {
    "execution": {
     "iopub.execute_input": "2023-02-22T15:40:04.682646Z",
     "iopub.status.busy": "2023-02-22T15:40:04.682284Z",
     "iopub.status.idle": "2023-02-22T15:40:04.688831Z",
     "shell.execute_reply": "2023-02-22T15:40:04.688293Z"
    }
   },
   "outputs": [
    {
     "name": "stdout",
     "output_type": "stream",
     "text": [
      "Nancy gets 52500 €.\n",
      "Keith gets 52500 €.\n",
      "Richard gets 52500 €.\n",
      "Ben gets 52500 €.\n",
      "Greg, the manager gets 11500 €.\n",
      "John, the CEO gets 171000 €.\n"
     ]
    }
   ],
   "source": [
    "department_members = ['Nancy', 'Keith', 'Richard', 'Ben']\n",
    "\n",
    "def calculate_new_salary(member, **kwargs):\n",
    "    \"\"\"Calculate new salaries for employees.\"\"\"\n",
    "    defaults = {'payment': 50000, 'increase': 1.05}\n",
    "    for key in kwargs:\n",
    "        if key not in defaults and not isinstance(kwargs[key], int):\n",
    "            raise ValueError(f\"Can't parse arguments {key}\")\n",
    "            \n",
    "    # replace values in default with kwargs\n",
    "    data = {**defaults, **kwargs}\n",
    "    pay = data['payment']\n",
    "    increase = data['increase']\n",
    "    \n",
    "    # get the remaining **kwargs not in defaults\n",
    "    boni = sum([value for key, value in data.items() if key not in defaults])\n",
    "    \n",
    "    new_salary = int(pay * increase + boni)\n",
    "    print(f\"{member} gets {new_salary} €.\")\n",
    "            \n",
    "for member in department_members:\n",
    "    calculate_new_salary(member)\n",
    "    \n",
    "calculate_new_salary('Greg, the manager', payment=10000, increase=1.15)\n",
    "\n",
    "calculate_new_salary('John, the CEO', payment=150000, increase=1.05, bonus1=5000, bonus2=8500)\n",
    "            \n",
    "# add_department(department_members, **employee_numbers, Richard=7)"
   ]
  },
  {
   "cell_type": "markdown",
   "metadata": {},
   "source": [
    "## Advanced Classes OOP\n",
    "\n",
    "The strength of python lies in the easy creation of new classes and their object-oriented nature.\n",
    "\n",
    "**Why OOP?**\n",
    "\n",
    "- Modularity for easier troubleshooting\n",
    "- Reuse of code through inheritance\n",
    "- Flexibility through polymorphism\n",
    "- Effective problem solving\n"
   ]
  },
  {
   "cell_type": "markdown",
   "metadata": {},
   "source": [
    "### Instance variables\n",
    "\n",
    "There are class variables and instance variables. Consider this example with a class defining an employee. Let's start at the most basic level:"
   ]
  },
  {
   "cell_type": "code",
   "execution_count": 23,
   "metadata": {
    "execution": {
     "iopub.execute_input": "2023-02-22T15:40:04.691708Z",
     "iopub.status.busy": "2023-02-22T15:40:04.691163Z",
     "iopub.status.idle": "2023-02-22T15:40:04.696325Z",
     "shell.execute_reply": "2023-02-22T15:40:04.695645Z"
    }
   },
   "outputs": [
    {
     "name": "stdout",
     "output_type": "stream",
     "text": [
      "<__main__.Employee object at 0x7f5b68d9d160> <__main__.Employee object at 0x7f5b68d9d220>\n",
      "Diana Prince diana.price@company.com 5000\n",
      "Clark Kent clark.kene@company.com 6000\n"
     ]
    }
   ],
   "source": [
    "class Employee:\n",
    "    pass\n",
    "\n",
    "emp1 = Employee()\n",
    "emp2 = Employee()\n",
    "\n",
    "emp1.first = 'Diana'\n",
    "emp1.last = 'Prince'\n",
    "emp1.email = 'diana.price@company.com'\n",
    "emp1.pay = 5000\n",
    "\n",
    "emp2.first = 'Clark'\n",
    "emp2.last = 'Kent'\n",
    "emp2.email = 'clark.kene@company.com'\n",
    "emp2.pay = 6000\n",
    "\n",
    "print(emp1, emp2)\n",
    "print(emp1.first, emp1.last, emp1.email, emp1.pay)\n",
    "print(emp2.first, emp2.last, emp2.email, emp2.pay)"
   ]
  },
  {
   "cell_type": "markdown",
   "metadata": {},
   "source": [
    "What we have done here is:\n",
    "- Created a class called Employee.\n",
    "- Created two instances of this class (`emp1` and `emp2`), also called instantiating.\n",
    "- Created some variables of these instances (variables of instances are also called attributes).\n",
    "\n",
    "Instead of setting the instance variables, tediously one after the other for all instances, we can define a placeholder for the current instance in our classes. By convention the instance is called `self` and this instance needs to be the first argument to all methods in our class. The next step is thus:"
   ]
  },
  {
   "cell_type": "code",
   "execution_count": 24,
   "metadata": {
    "execution": {
     "iopub.execute_input": "2023-02-22T15:40:04.699861Z",
     "iopub.status.busy": "2023-02-22T15:40:04.699444Z",
     "iopub.status.idle": "2023-02-22T15:40:04.703848Z",
     "shell.execute_reply": "2023-02-22T15:40:04.703166Z"
    }
   },
   "outputs": [
    {
     "name": "stdout",
     "output_type": "stream",
     "text": [
      "Diana Price\n",
      "Clark Kent\n"
     ]
    }
   ],
   "source": [
    "class Employee:\n",
    "    \n",
    "    def __init__(self, first, last):\n",
    "        self.first = first\n",
    "        self.last = last\n",
    "        \n",
    "emp1 = Employee('Diana', 'Price')\n",
    "emp2 = Employee('Clark', 'Kent')\n",
    "\n",
    "print(emp1.first, emp1.last)\n",
    "print(emp2.first, emp2.last)"
   ]
  },
  {
   "cell_type": "markdown",
   "metadata": {},
   "source": [
    "Notice how we saved some lines. Also notice how we assigned the input arguments `first` and `last` to the instance variables `self.first` and `self.last`. Wihtout these `self`s, the variables would not be accessible from outside of the method inside the class. We will now add the email and the pay to `__init__(self)`:"
   ]
  },
  {
   "cell_type": "code",
   "execution_count": 25,
   "metadata": {
    "execution": {
     "iopub.execute_input": "2023-02-22T15:40:04.707310Z",
     "iopub.status.busy": "2023-02-22T15:40:04.706967Z",
     "iopub.status.idle": "2023-02-22T15:40:04.711788Z",
     "shell.execute_reply": "2023-02-22T15:40:04.711105Z"
    }
   },
   "outputs": [
    {
     "name": "stdout",
     "output_type": "stream",
     "text": [
      "diana.price@company.com\n",
      "clark.kent@company.com\n"
     ]
    }
   ],
   "source": [
    "class Employee:\n",
    "    \n",
    "    def __init__(self, first, last, pay):\n",
    "        self.first = first\n",
    "        self.last = last\n",
    "        self.pay = pay\n",
    "        self.email = f'{first.lower()}.{last.lower()}@company.com'\n",
    "        \n",
    "emp1 = Employee('Diana', 'Price', 5000)\n",
    "emp2 = Employee('Clark', 'Kent', 6000)\n",
    "\n",
    "print(emp1.email)\n",
    "print(emp2.email)"
   ]
  },
  {
   "cell_type": "markdown",
   "metadata": {},
   "source": [
    "Now let's say we want to perform some actions with our classes. This is done by methods. These methods are like functions inside the scope of a class. And they always take the instance (convention `self`) as first argument. Let's say we want to print the full name of an employee:"
   ]
  },
  {
   "cell_type": "code",
   "execution_count": 26,
   "metadata": {
    "execution": {
     "iopub.execute_input": "2023-02-22T15:40:04.715155Z",
     "iopub.status.busy": "2023-02-22T15:40:04.714814Z",
     "iopub.status.idle": "2023-02-22T15:40:04.719688Z",
     "shell.execute_reply": "2023-02-22T15:40:04.719153Z"
    }
   },
   "outputs": [
    {
     "name": "stdout",
     "output_type": "stream",
     "text": [
      "Diana Price\n",
      "Clark Kent\n"
     ]
    }
   ],
   "source": [
    "class Employee:\n",
    "    \n",
    "    def __init__(self, first, last, pay):\n",
    "        self.first = first\n",
    "        self.last = last\n",
    "        self.pay = pay\n",
    "        self.email = f'{first.lower()}.{last.lower()}@company.com'\n",
    "        \n",
    "    def fullname(self):\n",
    "        return f'{self.first} {self.last}'\n",
    "    \n",
    "emp1 = Employee('Diana', 'Price', 5000)\n",
    "emp2 = Employee('Clark', 'Kent', 6000)\n",
    "\n",
    "print(emp1.fullname())\n",
    "print(emp2.fullname())"
   ]
  },
  {
   "cell_type": "markdown",
   "metadata": {},
   "source": [
    "This might look confusing, because we don't pass any arguments into the `fullname()` method of the `emp1` instance. but as previously said, **Class methods automatically take the instance as first arguemnt**. What is really happening is this:"
   ]
  },
  {
   "cell_type": "code",
   "execution_count": 27,
   "metadata": {
    "execution": {
     "iopub.execute_input": "2023-02-22T15:40:04.722536Z",
     "iopub.status.busy": "2023-02-22T15:40:04.721921Z",
     "iopub.status.idle": "2023-02-22T15:40:04.725757Z",
     "shell.execute_reply": "2023-02-22T15:40:04.725069Z"
    }
   },
   "outputs": [
    {
     "name": "stdout",
     "output_type": "stream",
     "text": [
      "Diana Price\n"
     ]
    }
   ],
   "source": [
    "emp1 = Employee('Diana', 'Price', 5000)\n",
    "fullname = Employee.fullname(emp1)\n",
    "print(fullname)"
   ]
  },
  {
   "cell_type": "markdown",
   "metadata": {},
   "source": [
    "Here, we provided the instance (`emp1`) to the method `fullname()` of the `Employee` class and because the `Employee` class is not an instance, we need to provide the instance ourselves."
   ]
  },
  {
   "cell_type": "markdown",
   "metadata": {},
   "source": [
    "### Class variables\n",
    "\n",
    "Class variables are shared between all instances of the class. Let's say our company raises the payout every year and always by a factor. That would be a good idea to put into a class variable. Let's first try to hardcode the raise with instance variables and see why class variables are better later."
   ]
  },
  {
   "cell_type": "code",
   "execution_count": 28,
   "metadata": {
    "execution": {
     "iopub.execute_input": "2023-02-22T15:40:04.728775Z",
     "iopub.status.busy": "2023-02-22T15:40:04.728434Z",
     "iopub.status.idle": "2023-02-22T15:40:04.733790Z",
     "shell.execute_reply": "2023-02-22T15:40:04.733080Z"
    }
   },
   "outputs": [
    {
     "name": "stdout",
     "output_type": "stream",
     "text": [
      "5000\n",
      "5200\n"
     ]
    }
   ],
   "source": [
    "class Employee:\n",
    "    \n",
    "    def __init__(self, first, last, pay):\n",
    "        self.first = first\n",
    "        self.last = last\n",
    "        self.pay = pay\n",
    "        self.email = f'{first.lower()}.{last.lower()}@company.com'\n",
    "        \n",
    "    def fullname(self):\n",
    "        return f'{self.first} {self.last}'\n",
    "    \n",
    "    def apply_raise(self):\n",
    "        self.pay = int(self.pay * 1.04)\n",
    "        \n",
    "emp1 = Employee('Diana', 'Price', 5000)\n",
    "emp2 = Employee('Clark', 'Kent', 6000)\n",
    "\n",
    "print(emp1.pay)\n",
    "emp1.apply_raise()\n",
    "print(emp1.pay)"
   ]
  },
  {
   "cell_type": "markdown",
   "metadata": {},
   "source": [
    "Let's say we want to alter the raise factor by doing something like:\n",
    "\n",
    "```python\n",
    "emp1.raise_amount\n",
    "Employee.raise_amount\n",
    "```\n",
    "\n",
    "This 4% raise amount (times 1.04) can easily set as an class variable. Inside the `apply_raise()` mehtod we could either use the instance (`self`):\n",
    "\n",
    "```python\n",
    "def apply_raise(self):\n",
    "    self.pay = int(self.pay * self.raise_amount)\n",
    "```\n",
    "\n",
    "or use the class `Employee` itself:\n",
    "\n",
    "```python\n",
    "def apply_raise(self):\n",
    "    self.pay = int(self.pay * Employee.raise_amount)\n",
    "```\n",
    "\n",
    "Which is better?\n",
    "\n",
    "Depends.\n",
    "\n",
    "The first one would allow us to increase the `pay_amount` of one Employee:"
   ]
  },
  {
   "cell_type": "code",
   "execution_count": 29,
   "metadata": {
    "execution": {
     "iopub.execute_input": "2023-02-22T15:40:04.737250Z",
     "iopub.status.busy": "2023-02-22T15:40:04.736910Z",
     "iopub.status.idle": "2023-02-22T15:40:04.742977Z",
     "shell.execute_reply": "2023-02-22T15:40:04.742265Z"
    }
   },
   "outputs": [
    {
     "name": "stdout",
     "output_type": "stream",
     "text": [
      "1.04\n",
      "1.04\n",
      "1.04\n",
      "1.04\n",
      "1.06\n",
      "1.04\n"
     ]
    }
   ],
   "source": [
    "class Employee:\n",
    "    \n",
    "    raise_amount = 1.04\n",
    "    \n",
    "    def __init__(self, first, last, pay):\n",
    "        self.first = first\n",
    "        self.last = last\n",
    "        self.pay = pay\n",
    "        self.email = f'{first.lower()}.{last.lower()}@company.com'\n",
    "        \n",
    "    def fullname(self):\n",
    "        return f'{self.first} {self.last}'\n",
    "    \n",
    "    def apply_raise(self):\n",
    "        self.pay = int(self.pay * self.raise_amount)\n",
    "        \n",
    "emp1 = Employee('Diana', 'Price', 5000)\n",
    "emp2 = Employee('Clark', 'Kent', 6000)\n",
    "\n",
    "print(Employee.raise_amount)\n",
    "print(emp1.raise_amount)\n",
    "print(emp2.raise_amount)\n",
    "\n",
    "emp1.raise_amount = 1.06\n",
    "\n",
    "print(Employee.raise_amount)\n",
    "print(emp1.raise_amount)\n",
    "print(emp2.raise_amount)"
   ]
  },
  {
   "cell_type": "markdown",
   "metadata": {},
   "source": [
    "The second one would allow us to increase the `raise_amount` of all employees at the same time."
   ]
  },
  {
   "cell_type": "code",
   "execution_count": 30,
   "metadata": {
    "execution": {
     "iopub.execute_input": "2023-02-22T15:40:04.746462Z",
     "iopub.status.busy": "2023-02-22T15:40:04.746107Z",
     "iopub.status.idle": "2023-02-22T15:40:04.752023Z",
     "shell.execute_reply": "2023-02-22T15:40:04.751348Z"
    }
   },
   "outputs": [
    {
     "name": "stdout",
     "output_type": "stream",
     "text": [
      "1.04\n",
      "1.04\n",
      "1.04\n",
      "1.06\n",
      "1.06\n",
      "1.06\n"
     ]
    }
   ],
   "source": [
    "class Employee:\n",
    "    \n",
    "    raise_amount = 1.04\n",
    "    \n",
    "    def __init__(self, first, last, pay):\n",
    "        self.first = first\n",
    "        self.last = last\n",
    "        self.pay = pay\n",
    "        self.email = f'{first.lower()}.{last.lower()}@company.com'\n",
    "        \n",
    "    def fullname(self):\n",
    "        return f'{self.first} {self.last}'\n",
    "    \n",
    "    def apply_raise(self):\n",
    "        self.pay = int(self.pay * Employee.raise_amount)\n",
    "        \n",
    "emp1 = Employee('Diana', 'Price', 5000)\n",
    "emp2 = Employee('Clark', 'Kent', 6000)\n",
    "\n",
    "print(Employee.raise_amount)\n",
    "print(emp1.raise_amount)\n",
    "print(emp2.raise_amount)\n",
    "\n",
    "Employee.raise_amount = 1.06\n",
    "\n",
    "print(Employee.raise_amount)\n",
    "print(emp1.raise_amount)\n",
    "print(emp2.raise_amount)"
   ]
  },
  {
   "cell_type": "markdown",
   "metadata": {},
   "source": [
    "As a second example for class variables, where it makes no sense to use the instance `self` as a namespace, but the class would be a counter that counts how many instances there are of one class."
   ]
  },
  {
   "cell_type": "code",
   "execution_count": 31,
   "metadata": {
    "execution": {
     "iopub.execute_input": "2023-02-22T15:40:04.755408Z",
     "iopub.status.busy": "2023-02-22T15:40:04.755192Z",
     "iopub.status.idle": "2023-02-22T15:40:04.942675Z",
     "shell.execute_reply": "2023-02-22T15:40:04.941813Z"
    }
   },
   "outputs": [
    {
     "ename": "AttributeError",
     "evalue": "type object 'Employee' has no attribute 'num_of_employees'",
     "output_type": "error",
     "traceback": [
      "\u001b[0;31m---------------------------------------------------------------------------\u001b[0m",
      "\u001b[0;31mAttributeError\u001b[0m                            Traceback (most recent call last)",
      "Cell \u001b[0;32mIn[31], line 19\u001b[0m\n\u001b[1;32m     16\u001b[0m     \u001b[38;5;28;01mdef\u001b[39;00m \u001b[38;5;21mapply_raise\u001b[39m(\u001b[38;5;28mself\u001b[39m):\n\u001b[1;32m     17\u001b[0m         \u001b[38;5;28mself\u001b[39m\u001b[38;5;241m.\u001b[39mpay \u001b[38;5;241m=\u001b[39m \u001b[38;5;28mint\u001b[39m(\u001b[38;5;28mself\u001b[39m\u001b[38;5;241m.\u001b[39mpay \u001b[38;5;241m*\u001b[39m \u001b[38;5;28mself\u001b[39m\u001b[38;5;241m.\u001b[39mraise_amount)\n\u001b[0;32m---> 19\u001b[0m emp1 \u001b[38;5;241m=\u001b[39m \u001b[43mEmployee\u001b[49m\u001b[43m(\u001b[49m\u001b[38;5;124;43m'\u001b[39;49m\u001b[38;5;124;43mDiana\u001b[39;49m\u001b[38;5;124;43m'\u001b[39;49m\u001b[43m,\u001b[49m\u001b[43m \u001b[49m\u001b[38;5;124;43m'\u001b[39;49m\u001b[38;5;124;43mPrice\u001b[39;49m\u001b[38;5;124;43m'\u001b[39;49m\u001b[43m,\u001b[49m\u001b[43m \u001b[49m\u001b[38;5;241;43m5000\u001b[39;49m\u001b[43m)\u001b[49m\n\u001b[1;32m     20\u001b[0m emp2 \u001b[38;5;241m=\u001b[39m Employee(\u001b[38;5;124m'\u001b[39m\u001b[38;5;124mClark\u001b[39m\u001b[38;5;124m'\u001b[39m, \u001b[38;5;124m'\u001b[39m\u001b[38;5;124mKent\u001b[39m\u001b[38;5;124m'\u001b[39m, \u001b[38;5;241m6000\u001b[39m)\n\u001b[1;32m     21\u001b[0m emp3 \u001b[38;5;241m=\u001b[39m Employee(\u001b[38;5;124m'\u001b[39m\u001b[38;5;124mWade\u001b[39m\u001b[38;5;124m'\u001b[39m, \u001b[38;5;124m'\u001b[39m\u001b[38;5;124mWilson\u001b[39m\u001b[38;5;124m'\u001b[39m, \u001b[38;5;241m-\u001b[39m\u001b[38;5;241m20\u001b[39m)\n",
      "Cell \u001b[0;32mIn[31], line 11\u001b[0m, in \u001b[0;36mEmployee.__init__\u001b[0;34m(self, first, last, pay)\u001b[0m\n\u001b[1;32m      9\u001b[0m \u001b[38;5;28mself\u001b[39m\u001b[38;5;241m.\u001b[39mpay \u001b[38;5;241m=\u001b[39m pay\n\u001b[1;32m     10\u001b[0m \u001b[38;5;28mself\u001b[39m\u001b[38;5;241m.\u001b[39memail \u001b[38;5;241m=\u001b[39m \u001b[38;5;124mf\u001b[39m\u001b[38;5;124m'\u001b[39m\u001b[38;5;132;01m{\u001b[39;00mfirst\u001b[38;5;241m.\u001b[39mlower()\u001b[38;5;132;01m}\u001b[39;00m\u001b[38;5;124m.\u001b[39m\u001b[38;5;132;01m{\u001b[39;00mlast\u001b[38;5;241m.\u001b[39mlower()\u001b[38;5;132;01m}\u001b[39;00m\u001b[38;5;124m@company.com\u001b[39m\u001b[38;5;124m'\u001b[39m\n\u001b[0;32m---> 11\u001b[0m Employee\u001b[38;5;241m.\u001b[39mnum_of_employees \u001b[38;5;241m+\u001b[39m\u001b[38;5;241m=\u001b[39m \u001b[38;5;241m1\u001b[39m\n",
      "\u001b[0;31mAttributeError\u001b[0m: type object 'Employee' has no attribute 'num_of_employees'"
     ]
    }
   ],
   "source": [
    "class Employee:\n",
    "    \n",
    "    raise_amount = 1.04\n",
    "    num_of_emps = 0\n",
    "    \n",
    "    def __init__(self, first, last, pay):\n",
    "        self.first = first\n",
    "        self.last = last\n",
    "        self.pay = pay\n",
    "        self.email = f'{first.lower()}.{last.lower()}@company.com'\n",
    "        Employee.num_of_employees += 1\n",
    "        \n",
    "    def fullname(self):\n",
    "        return f'{self.first} {self.last}'\n",
    "    \n",
    "    def apply_raise(self):\n",
    "        self.pay = int(self.pay * self.raise_amount)\n",
    "        \n",
    "emp1 = Employee('Diana', 'Price', 5000)\n",
    "emp2 = Employee('Clark', 'Kent', 6000)\n",
    "emp3 = Employee('Wade', 'Wilson', -20)\n",
    "\n",
    "print(Employee.num_of_emps)"
   ]
  },
  {
   "cell_type": "markdown",
   "metadata": {},
   "source": [
    "### Inheritance\n",
    "\n",
    "Inheritance allows us to inherit attribnutes and method of parent classes into child classes and overwrite attributes and methods as we like. Let's say we want to create different type of employees: developers and managers. Both have names and emails. So we can reuse the code from the `Employee` class. With parentheses after the `class` statement we can inherit from other classes."
   ]
  },
  {
   "cell_type": "code",
   "execution_count": 32,
   "metadata": {
    "execution": {
     "iopub.execute_input": "2023-02-22T15:40:04.946056Z",
     "iopub.status.busy": "2023-02-22T15:40:04.945676Z",
     "iopub.status.idle": "2023-02-22T15:40:04.951588Z",
     "shell.execute_reply": "2023-02-22T15:40:04.950889Z"
    }
   },
   "outputs": [
    {
     "name": "stdout",
     "output_type": "stream",
     "text": [
      "diana.price@company.com\n",
      "clark.kent@company.com\n"
     ]
    }
   ],
   "source": [
    "class Employee:\n",
    "    \n",
    "    raise_amount = 1.04\n",
    "    \n",
    "    def __init__(self, first, last, pay):\n",
    "        self.first = first\n",
    "        self.last = last\n",
    "        self.pay = pay\n",
    "        self.email = f'{first.lower()}.{last.lower()}@company.com'\n",
    "        \n",
    "    def fullname(self):\n",
    "        return f'{self.first} {self.last}'\n",
    "    \n",
    "    def apply_raise(self):\n",
    "        self.pay = int(self.pay * self.raise_amount)\n",
    "        \n",
    "        \n",
    "class Developer(Employee):\n",
    "    pass\n",
    "        \n",
    "        \n",
    "dev1 = Developer('Diana', 'Price', 5000)\n",
    "dev2 = Developer('Clark', 'Kent', 6000)\n",
    "\n",
    "print(dev1.email)\n",
    "print(dev2.email)"
   ]
  },
  {
   "cell_type": "markdown",
   "metadata": {},
   "source": [
    "We want to customize our child classes. Let's first see, what happens, if we raise the pay of developers."
   ]
  },
  {
   "cell_type": "code",
   "execution_count": 33,
   "metadata": {
    "execution": {
     "iopub.execute_input": "2023-02-22T15:40:04.955284Z",
     "iopub.status.busy": "2023-02-22T15:40:04.954927Z",
     "iopub.status.idle": "2023-02-22T15:40:04.958606Z",
     "shell.execute_reply": "2023-02-22T15:40:04.958044Z"
    }
   },
   "outputs": [
    {
     "name": "stdout",
     "output_type": "stream",
     "text": [
      "5000\n",
      "5200\n"
     ]
    }
   ],
   "source": [
    "print(dev1.pay)\n",
    "dev1.apply_raise()\n",
    "print(dev1.pay)"
   ]
  },
  {
   "cell_type": "markdown",
   "metadata": {},
   "source": [
    "Let's say we want out Developers to have a higher `raise_amount`:"
   ]
  },
  {
   "cell_type": "code",
   "execution_count": 34,
   "metadata": {
    "execution": {
     "iopub.execute_input": "2023-02-22T15:40:04.961380Z",
     "iopub.status.busy": "2023-02-22T15:40:04.960825Z",
     "iopub.status.idle": "2023-02-22T15:40:04.965128Z",
     "shell.execute_reply": "2023-02-22T15:40:04.964446Z"
    }
   },
   "outputs": [
    {
     "name": "stdout",
     "output_type": "stream",
     "text": [
      "5000\n",
      "5500\n"
     ]
    }
   ],
   "source": [
    "class Developer(Employee):\n",
    "    raise_amount = 1.1\n",
    "    pass\n",
    "\n",
    "dev1 = Developer('Diana', 'Price', 5000)\n",
    "print(dev1.pay)\n",
    "dev1.apply_raise()\n",
    "print(dev1.pay)"
   ]
  },
  {
   "cell_type": "markdown",
   "metadata": {},
   "source": [
    "You can see, that the pay increased by 10%. Our Employees are untouched by this change. Let's make a few more changes. Let's say we have additional information for Developers, like their current programming language. Instead of writing a completely new function (the `email` attribute and the `fullname()` methoud should stay the same), we can give the `Developer` class its own `__init__()` method."
   ]
  },
  {
   "cell_type": "code",
   "execution_count": 35,
   "metadata": {
    "execution": {
     "iopub.execute_input": "2023-02-22T15:40:04.968632Z",
     "iopub.status.busy": "2023-02-22T15:40:04.968287Z",
     "iopub.status.idle": "2023-02-22T15:40:04.972211Z",
     "shell.execute_reply": "2023-02-22T15:40:04.971525Z"
    }
   },
   "outputs": [],
   "source": [
    "class Developer(Employee):\n",
    "    \n",
    "    raise_amount = 1.1\n",
    "    \n",
    "    def __init__(self, first, last, pay, prog_lang):\n",
    "        super().__init__(first, last, pay)\n",
    "        self.prog_lang = prog_lang"
   ]
  },
  {
   "cell_type": "markdown",
   "metadata": {},
   "source": [
    "With the `super().__init__()` method, we make the `Employee` class handle the pay and email and everything that happens in the `__init__()` method of the `Employee` class. The `Developer` class then does its own stuff with the `prog_lang`."
   ]
  },
  {
   "cell_type": "code",
   "execution_count": 36,
   "metadata": {
    "execution": {
     "iopub.execute_input": "2023-02-22T15:40:04.975045Z",
     "iopub.status.busy": "2023-02-22T15:40:04.974698Z",
     "iopub.status.idle": "2023-02-22T15:40:04.978845Z",
     "shell.execute_reply": "2023-02-22T15:40:04.978147Z"
    }
   },
   "outputs": [
    {
     "name": "stdout",
     "output_type": "stream",
     "text": [
      "diana.price@company.com\n",
      "python\n"
     ]
    }
   ],
   "source": [
    "dev1 = Developer('Diana', 'Price', 5000, 'python')\n",
    "dev2 = Developer('Clark', 'Kent', 6000, 'java')\n",
    "\n",
    "print(dev1.email)\n",
    "print(dev1.prog_lang)"
   ]
  },
  {
   "cell_type": "markdown",
   "metadata": {},
   "source": [
    "**Let's look at another example using class inheritance**"
   ]
  },
  {
   "cell_type": "code",
   "execution_count": 37,
   "metadata": {
    "execution": {
     "iopub.execute_input": "2023-02-22T15:40:04.982412Z",
     "iopub.status.busy": "2023-02-22T15:40:04.981883Z",
     "iopub.status.idle": "2023-02-22T15:40:04.989077Z",
     "shell.execute_reply": "2023-02-22T15:40:04.988471Z"
    }
   },
   "outputs": [],
   "source": [
    "class Polygon:\n",
    "    def __init__(self, no_of_sides):\n",
    "        self.n = no_of_sides\n",
    "        self.sides = [0 for i in range(self.n)]\n",
    "        print(f\"{self.__class__.__name__} init.\")\n",
    "        \n",
    "    def inputSides(self, *args):\n",
    "        # take an undefined number of args\n",
    "        if args:\n",
    "            self.sides = [i for i in args]\n",
    "        else:\n",
    "            self.sides = [float(input(f\"Enter {self.__class__.__name__}'s side {i+1} length: \")) for i in range(self.n)]\n",
    "        \n",
    "    def dispSides(self):\n",
    "        for i in range(self.n):\n",
    "            print(f\"Side {i+1} of {self.__class__.__name__} is {self.sides[i]} length units long.\")\n",
    "            \n",
    "    def _findArea(self):\n",
    "        raise Exception(\"Area of arbitrary Polygon not defined.\")\n",
    "            \n",
    "    def printArea(self):\n",
    "        self._findArea()\n",
    "        print(f\"The area of the {self.__class__.__name__.lower()} is {self.area:.2f} area units.\")"
   ]
  },
  {
   "cell_type": "code",
   "execution_count": 38,
   "metadata": {
    "execution": {
     "iopub.execute_input": "2023-02-22T15:40:04.992050Z",
     "iopub.status.busy": "2023-02-22T15:40:04.991697Z",
     "iopub.status.idle": "2023-02-22T15:40:04.996984Z",
     "shell.execute_reply": "2023-02-22T15:40:04.996242Z"
    }
   },
   "outputs": [
    {
     "name": "stdout",
     "output_type": "stream",
     "text": [
      "Polygon init.\n",
      "Side 1 of Polygon is 7 length units long.\n",
      "Side 2 of Polygon is 8 length units long.\n",
      "Side 3 of Polygon is 9 length units long.\n",
      "Side 4 of Polygon is 19 length units long.\n"
     ]
    }
   ],
   "source": [
    "quadrilateral = Polygon(4)\n",
    "quadrilateral.inputSides(7, 8, 9, 19)\n",
    "quadrilateral.dispSides()"
   ]
  },
  {
   "cell_type": "markdown",
   "metadata": {},
   "source": [
    "The Triangle class inherits from the Polygon class.\n",
    "\n",
    "In the Triangle class' `__init__()` method, the `__init__()` method of the parent class needs to be called, this can be done with either:\n",
    "\n",
    "```python\n",
    "class Child(Base):\n",
    "    def __init__(self):\n",
    "        Base.__init__(self)\n",
    "    ...\n",
    "    ...\n",
    "```\n",
    "\n",
    "However, if we do it this way, the lookup for methods might get scrambled, when we have multiple inheritances (So a Base class, a Child_A class, that inherits from Base and a Child_B class, that inherits from Child_A). With the builtin `super()` method that Method-Resolution-Order (MRO) is like expected: First look for the method in Child_B, then Child_A, then Base.\n",
    "\n",
    "```python\n",
    "class Child(Base):\n",
    "    def __init__(self):\n",
    "        super().__init__()\n",
    "    ...\n",
    "    ...\n",
    "```"
   ]
  },
  {
   "cell_type": "code",
   "execution_count": 39,
   "metadata": {
    "execution": {
     "iopub.execute_input": "2023-02-22T15:40:04.999713Z",
     "iopub.status.busy": "2023-02-22T15:40:04.999297Z",
     "iopub.status.idle": "2023-02-22T15:40:05.003440Z",
     "shell.execute_reply": "2023-02-22T15:40:05.002762Z"
    }
   },
   "outputs": [],
   "source": [
    "class Triangle(Polygon):\n",
    "    def __init__(self):\n",
    "        super().__init__(3) # pass 3 to the parent class' __init__\n",
    "        \n",
    "    def _findArea(self):\n",
    "        a, b, c = self.sides\n",
    "        s = (a + b + c) / 2\n",
    "        self.area = (s*(s-a)*(s-b)*(s-c)) ** 0.5"
   ]
  },
  {
   "cell_type": "code",
   "execution_count": 40,
   "metadata": {
    "execution": {
     "iopub.execute_input": "2023-02-22T15:40:05.006419Z",
     "iopub.status.busy": "2023-02-22T15:40:05.005985Z",
     "iopub.status.idle": "2023-02-22T15:40:05.009686Z",
     "shell.execute_reply": "2023-02-22T15:40:05.009010Z"
    }
   },
   "outputs": [
    {
     "name": "stdout",
     "output_type": "stream",
     "text": [
      "Triangle init.\n",
      "The area of the triangle is 2.90 area units.\n"
     ]
    }
   ],
   "source": [
    "tri = Triangle()\n",
    "tri.inputSides(2, 3, 4)\n",
    "tri.printArea()"
   ]
  },
  {
   "cell_type": "markdown",
   "metadata": {},
   "source": [
    "Let's create a rectangle and include checks for the side lengths."
   ]
  },
  {
   "cell_type": "code",
   "execution_count": 41,
   "metadata": {
    "execution": {
     "iopub.execute_input": "2023-02-22T15:40:05.013226Z",
     "iopub.status.busy": "2023-02-22T15:40:05.012879Z",
     "iopub.status.idle": "2023-02-22T15:40:05.017579Z",
     "shell.execute_reply": "2023-02-22T15:40:05.016900Z"
    }
   },
   "outputs": [],
   "source": [
    "class Rectangle(Polygon):\n",
    "    def __init__(self):\n",
    "        super().__init__(4) # pass 4 to the parent class' __init__\n",
    "        \n",
    "    def inputSides(self, *args):\n",
    "        # check the length of the sides\n",
    "        if args:\n",
    "            assert args[0] == args[2], \"Side a and c of a rectangle need to be of equal length.\"\n",
    "            assert args[1] == args[3], \"Side b and d of a rectangle need to be of equal length.\"\n",
    "        super().inputSides(*args) # call the parent class' inputSides() method.\n",
    "        \n",
    "    def _findArea(self):\n",
    "        self.area = self.sides[0] * self.sides[1]"
   ]
  },
  {
   "cell_type": "code",
   "execution_count": 42,
   "metadata": {
    "execution": {
     "iopub.execute_input": "2023-02-22T15:40:05.020443Z",
     "iopub.status.busy": "2023-02-22T15:40:05.020100Z",
     "iopub.status.idle": "2023-02-22T15:40:05.023970Z",
     "shell.execute_reply": "2023-02-22T15:40:05.023297Z"
    }
   },
   "outputs": [
    {
     "name": "stdout",
     "output_type": "stream",
     "text": [
      "Rectangle init.\n",
      "The area of the rectangle is 6.00 area units.\n"
     ]
    }
   ],
   "source": [
    "rect = Rectangle()\n",
    "rect.inputSides(2, 3, 2, 3)\n",
    "rect.printArea()"
   ]
  },
  {
   "cell_type": "markdown",
   "metadata": {},
   "source": [
    "There are some checks builtin to class inheritance for your convenience."
   ]
  },
  {
   "cell_type": "code",
   "execution_count": 43,
   "metadata": {
    "execution": {
     "iopub.execute_input": "2023-02-22T15:40:05.027424Z",
     "iopub.status.busy": "2023-02-22T15:40:05.027078Z",
     "iopub.status.idle": "2023-02-22T15:40:05.030986Z",
     "shell.execute_reply": "2023-02-22T15:40:05.030274Z"
    }
   },
   "outputs": [
    {
     "name": "stdout",
     "output_type": "stream",
     "text": [
      "True\n",
      "True\n",
      "True\n"
     ]
    }
   ],
   "source": [
    "print(isinstance(tri, Triangle)) # standard isinstance builtin function\n",
    "\n",
    "print(issubclass(Rectangle, Polygon)) # there is also a issubclass() builtin\n",
    "\n",
    "print(issubclass(bool, int)) # interestingly, bool is a subclass of int. Whomst'd've !"
   ]
  },
  {
   "cell_type": "markdown",
   "metadata": {},
   "source": [
    "### Double under methods\n",
    "\n",
    "These double under methods also called magic methods allow our classes to work with some builtin functions and also use operator overloading. Here is a short overview over these so-called dunder methods:"
   ]
  },
  {
   "cell_type": "markdown",
   "metadata": {},
   "source": [
    "#### Creation \\_\\_new\\_\\_\n",
    "\n",
    "The `__new__` method can be used to either execute the class' `__init__` method or not. Sometimes you don't want to instantiate an instance from a class, because of something. You can control that with the `__new__` method. It takes the class (convention `cls`) as first argument and needs all other arguments, that `__init__` also takes."
   ]
  },
  {
   "cell_type": "code",
   "execution_count": 44,
   "metadata": {
    "execution": {
     "iopub.execute_input": "2023-02-22T15:40:05.034827Z",
     "iopub.status.busy": "2023-02-22T15:40:05.034299Z",
     "iopub.status.idle": "2023-02-22T15:40:05.040844Z",
     "shell.execute_reply": "2023-02-22T15:40:05.040167Z"
    }
   },
   "outputs": [
    {
     "name": "stdout",
     "output_type": "stream",
     "text": [
      "<class '__main__.Triangle'>\n",
      "12.0\n",
      "<class '__main__.Square'>\n",
      "4\n"
     ]
    }
   ],
   "source": [
    "class Shape:\n",
    "    def __new__(cls, sides, *args, **kwargs):\n",
    "        if sides == 3:\n",
    "            return Triangle(*args, **kwargs)\n",
    "        else:\n",
    "            return Square(*args, **kwargs)\n",
    "        \n",
    "        \n",
    "class Triangle:\n",
    "    def __init__(self, base, height):\n",
    "        self.base = base\n",
    "        self.height = height\n",
    " \n",
    "    def area(self):\n",
    "        return (self.base * self.height) / 2\n",
    " \n",
    " \n",
    "class Square:\n",
    "    def __init__(self, length):\n",
    "        self.length = length\n",
    " \n",
    "    def area(self):\n",
    "        return self.length*self.length\n",
    " \n",
    " \n",
    "a = Shape(sides=3, base=2, height=12)\n",
    "b = Shape(sides=4, length=2)\n",
    " \n",
    "print(str(a.__class__))\n",
    "print(a.area())\n",
    " \n",
    "print(str(b.__class__))\n",
    "print(b.area())"
   ]
  },
  {
   "cell_type": "markdown",
   "metadata": {},
   "source": [
    "#### Representation \\_\\_str\\_\\_ and \\_\\_repr\\_\\_\n",
    "\n",
    "The `__str__()` and `__repr__()` Methods are what's called when the class is printed and returned, respectively."
   ]
  },
  {
   "cell_type": "code",
   "execution_count": 45,
   "metadata": {
    "execution": {
     "iopub.execute_input": "2023-02-22T15:40:05.044453Z",
     "iopub.status.busy": "2023-02-22T15:40:05.044108Z",
     "iopub.status.idle": "2023-02-22T15:40:05.048610Z",
     "shell.execute_reply": "2023-02-22T15:40:05.048068Z"
    }
   },
   "outputs": [
    {
     "name": "stdout",
     "output_type": "stream",
     "text": [
      "Instance of MyClass. Contains the integer 1.\n"
     ]
    }
   ],
   "source": [
    "class MyClass:\n",
    "    def __init__(self, integer=1):\n",
    "        self.int = integer\n",
    "        pass\n",
    "    \n",
    "    def __repr__(self):\n",
    "        return \"<%s at memory address 0x%02x>\" % (self.__str__(), id(self))\n",
    "    \n",
    "    def __str__(self):\n",
    "        return f'Instance of MyClass. Contains the integer {self.int}.'\n",
    "    \n",
    "myclass = MyClass()\n",
    "print(myclass)"
   ]
  },
  {
   "cell_type": "code",
   "execution_count": 46,
   "metadata": {
    "execution": {
     "iopub.execute_input": "2023-02-22T15:40:05.051430Z",
     "iopub.status.busy": "2023-02-22T15:40:05.051017Z",
     "iopub.status.idle": "2023-02-22T15:40:05.055230Z",
     "shell.execute_reply": "2023-02-22T15:40:05.054561Z"
    }
   },
   "outputs": [
    {
     "data": {
      "text/plain": [
       "<Instance of MyClass. Contains the integer 1. at memory address 0x7f5b68c5ec70>"
      ]
     },
     "execution_count": 46,
     "metadata": {},
     "output_type": "execute_result"
    }
   ],
   "source": [
    "myclass"
   ]
  },
  {
   "cell_type": "markdown",
   "metadata": {},
   "source": [
    "#### Types \\_\\_bool\\_\\_\n",
    "\n",
    "You can assign your custom class a boolean value:"
   ]
  },
  {
   "cell_type": "code",
   "execution_count": 47,
   "metadata": {
    "execution": {
     "iopub.execute_input": "2023-02-22T15:40:05.058777Z",
     "iopub.status.busy": "2023-02-22T15:40:05.058429Z",
     "iopub.status.idle": "2023-02-22T15:40:05.063163Z",
     "shell.execute_reply": "2023-02-22T15:40:05.062625Z"
    }
   },
   "outputs": [
    {
     "name": "stdout",
     "output_type": "stream",
     "text": [
      "False\n",
      "True\n"
     ]
    }
   ],
   "source": [
    "class Items:\n",
    "    def __init__(self, items=None):\n",
    "        if items is None:\n",
    "            self.items = []\n",
    "        else:\n",
    "            self.items = items\n",
    "            \n",
    "    def __bool__(self):\n",
    "        return len(self.items) != 0\n",
    "    \n",
    "items1 = Items()\n",
    "items2 = Items(['pen', 'book', 'binder'])\n",
    "\n",
    "print(bool(items1))\n",
    "print(bool(items2))"
   ]
  },
  {
   "cell_type": "markdown",
   "metadata": {},
   "source": [
    "#### Indexing \\_\\_len\\_\\_ , \\_\\_getitem\\_\\_ and \\_\\_reversed\\_\\_\n",
    "\n",
    "With these dunder methods you can make your items iterable `for item in iterable`, indexable `class[index]` and also let the buildin function `reversed()` act on your classes."
   ]
  },
  {
   "cell_type": "code",
   "execution_count": 48,
   "metadata": {
    "execution": {
     "iopub.execute_input": "2023-02-22T15:40:05.066066Z",
     "iopub.status.busy": "2023-02-22T15:40:05.065518Z",
     "iopub.status.idle": "2023-02-22T15:40:05.071519Z",
     "shell.execute_reply": "2023-02-22T15:40:05.070861Z"
    }
   },
   "outputs": [],
   "source": [
    "class MyClass:\n",
    "    def __init__(self, some_numbers):\n",
    "        # sort the numbers into negative and postive numbers\n",
    "        self.positive = [i for i in some_numbers if i >= 0]\n",
    "        self.negative = [i for i in some_numbers if i < 0]\n",
    "        \n",
    "    def __len__(self):\n",
    "        \"\"\"Gives the length of positive and negative numbers.\"\"\"\n",
    "        return len(self.positive) + len(self.negative)\n",
    "    \n",
    "    def __getitem__(self, key):\n",
    "        \"\"\"-1 gives negative numbers, +1 gives positive.\n",
    "        Otherwise this __getitem__ is pretty stupid.\n",
    "        \n",
    "        \"\"\"\n",
    "        if key == -1:\n",
    "            return self.negative\n",
    "        elif key == 1:\n",
    "            return self.positive\n",
    "        else:\n",
    "            raise IndexError(f'MyClass index can either be -1 or 1. You provided {key}')\n",
    "            \n",
    "    def __reversed__(self):\n",
    "        \"\"\"Return a new instance with negative and positives swapped.\n",
    "        Also a pretty stupid idea.\n",
    "        \n",
    "        \"\"\"\n",
    "        new_instance = MyClass(self.positive + self.negative)\n",
    "        new_instance.negative, new_instance.positive = self.positive, self.negative\n",
    "        return new_instance"
   ]
  },
  {
   "cell_type": "code",
   "execution_count": 49,
   "metadata": {
    "execution": {
     "iopub.execute_input": "2023-02-22T15:40:05.074382Z",
     "iopub.status.busy": "2023-02-22T15:40:05.074026Z",
     "iopub.status.idle": "2023-02-22T15:40:05.078732Z",
     "shell.execute_reply": "2023-02-22T15:40:05.078034Z"
    }
   },
   "outputs": [
    {
     "name": "stdout",
     "output_type": "stream",
     "text": [
      "12 12\n",
      "[-5, -7, -10, -4, -2, -5]\n",
      "[0, 1, 5, 15, 5, 10]\n",
      "[0, 1, 5, 15, 5, 10]\n"
     ]
    }
   ],
   "source": [
    "my_numbers = [-5, -7, 0, 1, 5, -10, 15, -4, -2, -5, 5, 10]\n",
    "\n",
    "myclass = MyClass(my_numbers)\n",
    "\n",
    "print(len(myclass), len(my_numbers))\n",
    "print(myclass[-1])\n",
    "print(myclass[1])\n",
    "\n",
    "notmyclass = reversed(myclass)\n",
    "print(notmyclass[-1])"
   ]
  },
  {
   "cell_type": "markdown",
   "metadata": {},
   "source": [
    "#### Comparing \\_\\_eq\\_\\_ and \\_\\_lt\\_\\_ and so on.\n",
    "\n",
    "With these dunder methods you can use the comparison operators with your custom classes."
   ]
  },
  {
   "cell_type": "code",
   "execution_count": 50,
   "metadata": {
    "execution": {
     "iopub.execute_input": "2023-02-22T15:40:05.082317Z",
     "iopub.status.busy": "2023-02-22T15:40:05.081971Z",
     "iopub.status.idle": "2023-02-22T15:40:05.088962Z",
     "shell.execute_reply": "2023-02-22T15:40:05.088438Z"
    }
   },
   "outputs": [
    {
     "name": "stdout",
     "output_type": "stream",
     "text": [
      "False\n",
      "True\n",
      "False\n",
      "True\n",
      "True\n",
      "True\n"
     ]
    }
   ],
   "source": [
    "class Animal:\n",
    "    \n",
    "    animal_weights = {'blue whale': 136000, 'giraffe': 800, 'polar bear': 475,\n",
    "                      'red deer': 200, 'tiger': 120, 'cheetah': 54, 'chimpanzee': 45,\n",
    "                      'coyote': 14, 'nutria': 8}\n",
    "    \n",
    "    def __init__(self, animal):\n",
    "        self.animal = animal\n",
    "        self.weight = Animal.animal_weights[animal]\n",
    "        \n",
    "    def __eq__(self, other):\n",
    "        return self.weight == other.weight\n",
    "    \n",
    "    def __lt__(self, other):\n",
    "        return self.weight < other.weight\n",
    "    \n",
    "    def __gt__(self, other):\n",
    "        return self.weight > other.weight\n",
    "    \n",
    "    def __ge__(self, other):\n",
    "        return self.weight >= other.weight\n",
    "    \n",
    "    def __le__(self, other):\n",
    "        return self.weight <= other.weight\n",
    "    \n",
    "    def __ne__(self, other):\n",
    "        return self.weight != other.weight\n",
    "    \n",
    "animal1 = Animal('blue whale')\n",
    "animal2 = Animal('polar bear')\n",
    "animal3 = Animal('nutria')\n",
    "animal4 = Animal('polar bear')\n",
    "\n",
    "print(animal1 == animal2)\n",
    "print(animal1 > animal2)\n",
    "print(animal1 < animal2)\n",
    "print(animal2 == animal4)\n",
    "print(animal2 >= animal4)\n",
    "print(animal2 <= animal4)"
   ]
  },
  {
   "cell_type": "markdown",
   "metadata": {},
   "source": [
    "#### Merging \\_\\_add\\_\\_ \n",
    "\n",
    "With this dunder method, you can choose what happens, if the `+` operator is called with your class. Here, you are free to choose what happens. You don't need to add similar instances:"
   ]
  },
  {
   "cell_type": "code",
   "execution_count": 51,
   "metadata": {
    "execution": {
     "iopub.execute_input": "2023-02-22T15:40:05.091926Z",
     "iopub.status.busy": "2023-02-22T15:40:05.091313Z",
     "iopub.status.idle": "2023-02-22T15:40:05.095535Z",
     "shell.execute_reply": "2023-02-22T15:40:05.095007Z"
    }
   },
   "outputs": [
    {
     "name": "stdout",
     "output_type": "stream",
     "text": [
      "475\n",
      "525\n"
     ]
    }
   ],
   "source": [
    "class NewAnimal(Animal):\n",
    "    def __add__(self, other):\n",
    "        self.weight += other\n",
    "        return self\n",
    "        \n",
    "animal = NewAnimal('polar bear')\n",
    "print(animal.weight)\n",
    "animal += 50\n",
    "print(animal.weight)"
   ]
  },
  {
   "cell_type": "markdown",
   "metadata": {},
   "source": [
    "But most often, it is advised, that `__add__` takes the same class as self. But the returned class doesn't need to be the same."
   ]
  },
  {
   "cell_type": "code",
   "execution_count": 52,
   "metadata": {
    "execution": {
     "iopub.execute_input": "2023-02-22T15:40:05.098448Z",
     "iopub.status.busy": "2023-02-22T15:40:05.098085Z",
     "iopub.status.idle": "2023-02-22T15:40:05.104085Z",
     "shell.execute_reply": "2023-02-22T15:40:05.103553Z"
    }
   },
   "outputs": [
    {
     "name": "stdout",
     "output_type": "stream",
     "text": [
      "Herd with 3 animals\n"
     ]
    }
   ],
   "source": [
    "class Herd:\n",
    "    def __init__(self, animals):\n",
    "        self.animals = animals\n",
    "        self.weight = sum([animal.weight for animal in animals])\n",
    "        \n",
    "    def __add__(self, other):\n",
    "        if isinstance(other, Herd):\n",
    "            animals = self.animals + other.animals\n",
    "        if isinstance(other, HerdAnimal):\n",
    "            animals = self.animals + [other]\n",
    "        return Herd(animals)\n",
    "    \n",
    "    def __str__(self):\n",
    "        return f\"Herd with {len(self.animals)} animals\"\n",
    "        \n",
    "class HerdAnimal(Animal):\n",
    "    def __add__(self, other):\n",
    "        return Herd([self, other])\n",
    "    \n",
    "animal1 = HerdAnimal('blue whale')\n",
    "animal2 = HerdAnimal('polar bear')\n",
    "animal3 = HerdAnimal('nutria')\n",
    "    \n",
    "herd = animal1 + animal2 + animal3\n",
    "print(herd)"
   ]
  },
  {
   "cell_type": "markdown",
   "metadata": {},
   "source": [
    "#### Callable objects \\_\\_call\\_\\_ \n",
    "\n",
    "You can call instances. Calls are always done by parentheses `()` in python. Just like when you call functions."
   ]
  },
  {
   "cell_type": "code",
   "execution_count": 53,
   "metadata": {
    "execution": {
     "iopub.execute_input": "2023-02-22T15:40:05.107005Z",
     "iopub.status.busy": "2023-02-22T15:40:05.106442Z",
     "iopub.status.idle": "2023-02-22T15:40:05.112230Z",
     "shell.execute_reply": "2023-02-22T15:40:05.111011Z"
    }
   },
   "outputs": [
    {
     "name": "stdout",
     "output_type": "stream",
     "text": [
      "2.0\n"
     ]
    }
   ],
   "source": [
    "class Division:\n",
    "    def __init__(self, dividend):\n",
    "        self.dividend = dividend\n",
    "        \n",
    "    def __call__(self, x):\n",
    "        return self.dividend / x\n",
    "    \n",
    "div = Division(10)\n",
    "print(div(5))"
   ]
  },
  {
   "attachments": {},
   "cell_type": "markdown",
   "metadata": {},
   "source": [
    "#### Context Manager \\_\\_enter\\_\\_ and \\_\\_exit\\_\\_\n",
    "\n",
    "To open files in python you can do something like this:\n",
    "\n",
    "```python\n",
    "f = open(\"test.txt\")\n",
    "data = f.read()\n",
    "f.close()\n",
    "line1 = data[0]\n",
    "...\n",
    "...\n",
    "```\n",
    "\n",
    "However, you might already have come across this syntax:\n",
    "\n",
    "```python\n",
    "with open(\"test.txt\") as f:\n",
    "    data = f.read()\n",
    "# more code\n",
    "line1 = data[0]\n",
    "...\n",
    "...\n",
    "```\n",
    "\n",
    "This is the new syntax, which replaces the old `open()` and `close()` builtin function and file-object method. The `with` expression starts what is called a context manager. Context managers are used when you want to free up system resources. Opened file objects and opened databases for example don't need to stay in memory once the needed information has been extracted. Context managers also come in handy, because on linux systems the number of concurrently opened files is limited to 1024. To create a context manager for your class you need to add some magic, dunder methods.\n",
    "\n",
    "Take a close look at how the `__enter__()` method returns the self instance of the class. This is the instance of the class, that will be used inside the context manager.\n",
    "\n",
    "The arguments in the `__exit__()` method are used to deal with Exceptions. Take note, how instance variables are deleted to free up space."
   ]
  },
  {
   "cell_type": "code",
   "execution_count": 54,
   "metadata": {
    "execution": {
     "iopub.execute_input": "2023-02-22T15:40:05.114954Z",
     "iopub.status.busy": "2023-02-22T15:40:05.114434Z",
     "iopub.status.idle": "2023-02-22T15:40:05.120041Z",
     "shell.execute_reply": "2023-02-22T15:40:05.119365Z"
    }
   },
   "outputs": [
    {
     "name": "stdout",
     "output_type": "stream",
     "text": [
      "Init called\n",
      "Enter method called. Populating scope...\n",
      "Inside Context\n",
      "40\n",
      "Exit method called.\n"
     ]
    }
   ],
   "source": [
    "class MyContextManager:\n",
    "    def __init__(self):\n",
    "        print('Init called')\n",
    "        \n",
    "    def __enter__(self):\n",
    "        print(\"Enter method called. Populating scope...\")\n",
    "        self.int = 1\n",
    "        self.str = 'Tim the Enchanter!'\n",
    "        self.large_variable = [i*2 for i in range(1000)]\n",
    "        return self\n",
    "        \n",
    "    def __exit__(self, exc_type, exc_value, exc_traceback):\n",
    "        print('Exit method called.')\n",
    "        del self.int\n",
    "        del self.str\n",
    "        del self.large_variable\n",
    "        \n",
    "    def divide_by_zero_err(self):\n",
    "        return self.int / 0\n",
    "        \n",
    "with MyContextManager() as manager:\n",
    "    print(\"Inside Context\")\n",
    "    print(manager.large_variable[20])"
   ]
  },
  {
   "cell_type": "markdown",
   "metadata": {},
   "source": [
    "The instance variables str, int, and large_variable have been deleted, once the context is closed."
   ]
  },
  {
   "cell_type": "code",
   "execution_count": 55,
   "metadata": {
    "execution": {
     "iopub.execute_input": "2023-02-22T15:40:05.123585Z",
     "iopub.status.busy": "2023-02-22T15:40:05.123171Z",
     "iopub.status.idle": "2023-02-22T15:40:05.166490Z",
     "shell.execute_reply": "2023-02-22T15:40:05.165654Z"
    }
   },
   "outputs": [
    {
     "ename": "AttributeError",
     "evalue": "'MyContextManager' object has no attribute 'str'",
     "output_type": "error",
     "traceback": [
      "\u001b[0;31m---------------------------------------------------------------------------\u001b[0m",
      "\u001b[0;31mAttributeError\u001b[0m                            Traceback (most recent call last)",
      "Cell \u001b[0;32mIn[55], line 1\u001b[0m\n\u001b[0;32m----> 1\u001b[0m \u001b[43mmanager\u001b[49m\u001b[38;5;241;43m.\u001b[39;49m\u001b[43mstr\u001b[49m\n",
      "\u001b[0;31mAttributeError\u001b[0m: 'MyContextManager' object has no attribute 'str'"
     ]
    }
   ],
   "source": [
    "manager.str"
   ]
  },
  {
   "cell_type": "markdown",
   "metadata": {},
   "source": [
    "What about the exc_type arguments? Those are to make sure the `__exit__()` method is called, although some Exception is encountered in the context manager. First the method with the arguments"
   ]
  },
  {
   "cell_type": "markdown",
   "metadata": {},
   "source": [
    "#### Iteration \\_\\_iter\\_\\_ and \\_\\_next\\_\\_\n",
    "\n",
    "These methods allow you to iterate over something in your custom class."
   ]
  },
  {
   "cell_type": "code",
   "execution_count": 56,
   "metadata": {
    "execution": {
     "iopub.execute_input": "2023-02-22T15:40:05.170546Z",
     "iopub.status.busy": "2023-02-22T15:40:05.170100Z",
     "iopub.status.idle": "2023-02-22T15:40:05.176385Z",
     "shell.execute_reply": "2023-02-22T15:40:05.175686Z"
    }
   },
   "outputs": [
    {
     "name": "stdout",
     "output_type": "stream",
     "text": [
      "0 a\n",
      "1 b\n",
      "2 c\n",
      "3 d\n",
      "4 e\n",
      "5 f\n",
      "6 g\n",
      "7 h\n",
      "8 i\n",
      "9 j\n",
      "10 k\n",
      "11 l\n",
      "12 m\n",
      "13 n\n",
      "14 o\n",
      "15 p\n",
      "16 q\n",
      "17 r\n",
      "18 s\n",
      "19 t\n",
      "20 u\n",
      "21 v\n",
      "22 w\n",
      "23 x\n",
      "0 A\n",
      "1 B\n",
      "2 C\n",
      "3 D\n",
      "4 E\n",
      "5 F\n",
      "6 G\n",
      "7 H\n",
      "8 I\n",
      "9 J\n",
      "10 K\n",
      "11 L\n",
      "12 M\n",
      "13 N\n",
      "14 O\n",
      "15 P\n",
      "16 Q\n",
      "17 R\n",
      "18 S\n",
      "19 T\n",
      "20 U\n",
      "21 V\n",
      "22 W\n",
      "23 X\n"
     ]
    }
   ],
   "source": [
    "from string import ascii_letters, ascii_uppercase\n",
    "\n",
    "class Alphabet:\n",
    "    def __init__(self, alphabet=ascii_letters):\n",
    "        self.alphabet = alphabet\n",
    "        self._max = 24\n",
    "        \n",
    "    def __iter__(self):\n",
    "        self._index = 0\n",
    "        return self\n",
    "    \n",
    "    def __next__(self):\n",
    "        if self._index >= self._max:\n",
    "            raise StopIteration\n",
    "        else:\n",
    "            self._index += 1\n",
    "            return self._index - 1, self.alphabet[self._index - 1]\n",
    "        \n",
    "alphabet1 = Alphabet()\n",
    "alphabet2 = Alphabet(ascii_uppercase)\n",
    "\n",
    "for number, letter in alphabet1:\n",
    "    print(number, letter)\n",
    "    \n",
    "for number, letter in alphabet2:\n",
    "    print(number, letter)"
   ]
  },
  {
   "cell_type": "markdown",
   "metadata": {},
   "source": [
    "### Built-in decorators\n",
    "\n",
    "Before going on some lengthy tangent about what a decorator is and how to write one on your own, let's just one of the three built-in decorators:\n",
    "\n",
    "- `@property`\n",
    "- `@setter`\n",
    "- `@classmethod`\n",
    "- `@staticmethod`\n",
    "\n",
    "#### The property decorator\n",
    "\n",
    "The `@property` decorator is often used and adds a nice way of dynamically defining instance variables (also called attributes). Let's reuse our `Employee` function and say don't want to set the `self.email` attribute inside the `__init__()` method. What if the name of a employee changes? The email would still be the same. So let's create a method called `email()`"
   ]
  },
  {
   "cell_type": "code",
   "execution_count": 57,
   "metadata": {
    "execution": {
     "iopub.execute_input": "2023-02-22T15:40:05.180320Z",
     "iopub.status.busy": "2023-02-22T15:40:05.179707Z",
     "iopub.status.idle": "2023-02-22T15:40:05.184575Z",
     "shell.execute_reply": "2023-02-22T15:40:05.183882Z"
    }
   },
   "outputs": [
    {
     "name": "stdout",
     "output_type": "stream",
     "text": [
      "jane.doe@company.com\n"
     ]
    }
   ],
   "source": [
    "class Employee:\n",
    "    \n",
    "    def __init__(self, first, last):\n",
    "        self.first = first\n",
    "        self.last = last\n",
    "        \n",
    "    def email(self):\n",
    "        return f'{self.first.lower()}.{self.last.lower()}@company.com'\n",
    "        \n",
    "    def fullname(self):\n",
    "        return f'{self.first} {self.last}'\n",
    "    \n",
    "emp_1 = Employee('Jane', 'Doe')\n",
    "print(emp_1.email())"
   ]
  },
  {
   "cell_type": "markdown",
   "metadata": {},
   "source": [
    "This is good and all, but now we need to call the `email()` method every time, we need the email. Some of the above code only uses the `self.email` attribute. Changing the class this way might break some of our old code. So let's use the `@propert` decorator:"
   ]
  },
  {
   "cell_type": "code",
   "execution_count": 58,
   "metadata": {
    "execution": {
     "iopub.execute_input": "2023-02-22T15:40:05.187680Z",
     "iopub.status.busy": "2023-02-22T15:40:05.187262Z",
     "iopub.status.idle": "2023-02-22T15:40:05.193759Z",
     "shell.execute_reply": "2023-02-22T15:40:05.193131Z"
    }
   },
   "outputs": [
    {
     "name": "stdout",
     "output_type": "stream",
     "text": [
      "jane.doe@company.com\n"
     ]
    }
   ],
   "source": [
    "class Employee:\n",
    "    \n",
    "    def __init__(self, first, last):\n",
    "        self.first = first\n",
    "        self.last = last\n",
    "        \n",
    "    @property\n",
    "    def email(self):\n",
    "        return f'{self.first.lower()}.{self.last.lower()}@company.com'\n",
    "        \n",
    "    def fullname(self):\n",
    "        return f'{self.first} {self.last}'\n",
    "    \n",
    "emp_1 = Employee('Jane', 'Doe')\n",
    "print(emp_1.email)"
   ]
  },
  {
   "cell_type": "markdown",
   "metadata": {},
   "source": [
    "And now `self.email` behaves just like an attribute. That's the purpose of the `@property` decorator. The same could be done for the `fullname()` method. But let's not stop there. With a `@setter` decorator we could achieve a piece of code that returns fullname as an attribute (without parentheses):\n",
    "\n",
    "```python\n",
    ">>> print(emp_1.fullname)\n",
    "Jane Doe\n",
    "```\n",
    "\n",
    "but also allows us to change the instance's `first` and `last` arttributes by doing:\n",
    "\n",
    "```python\n",
    ">>> emp_1.fullname = 'Jane Smith'\n",
    ">>> print(emp_1.email)\n",
    "jane.smith@company.com\n",
    "```\n",
    "\n",
    "#### The setter decorator"
   ]
  },
  {
   "cell_type": "code",
   "execution_count": 59,
   "metadata": {
    "execution": {
     "iopub.execute_input": "2023-02-22T15:40:05.196941Z",
     "iopub.status.busy": "2023-02-22T15:40:05.196399Z",
     "iopub.status.idle": "2023-02-22T15:40:05.201858Z",
     "shell.execute_reply": "2023-02-22T15:40:05.201169Z"
    }
   },
   "outputs": [
    {
     "name": "stdout",
     "output_type": "stream",
     "text": [
      "jane.doe@company.com\n",
      "jane.smith@company.com\n"
     ]
    }
   ],
   "source": [
    "class Employee:\n",
    "    \n",
    "    def __init__(self, first, last):\n",
    "        self.first = first\n",
    "        self.last = last\n",
    "        \n",
    "    @property\n",
    "    def email(self):\n",
    "        return f'{self.first.lower()}.{self.last.lower()}@company.com'\n",
    "        \n",
    "    @property\n",
    "    def fullname(self):\n",
    "        return f'{self.first} {self.last}'\n",
    "    \n",
    "    @fullname.setter\n",
    "    def fullname(self, new_fullname):\n",
    "        self.first, self.last = new_fullname.split()\n",
    "        \n",
    "emp_1 = Employee('Jane', 'Doe')\n",
    "print(emp_1.email)\n",
    "emp_1.fullname = 'Jane Smith'\n",
    "print(emp_1.email)"
   ]
  },
  {
   "cell_type": "markdown",
   "metadata": {},
   "source": [
    "#### The deleter decorator\n",
    "\n",
    "The code inside the deleter decorator is executed once the variable is accessed."
   ]
  },
  {
   "cell_type": "code",
   "execution_count": 60,
   "metadata": {
    "execution": {
     "iopub.execute_input": "2023-02-22T15:40:05.205450Z",
     "iopub.status.busy": "2023-02-22T15:40:05.205036Z",
     "iopub.status.idle": "2023-02-22T15:40:05.210835Z",
     "shell.execute_reply": "2023-02-22T15:40:05.210132Z"
    }
   },
   "outputs": [
    {
     "name": "stdout",
     "output_type": "stream",
     "text": [
      "jane.doe@company.com\n",
      "Deleting Name!\n",
      "None\n"
     ]
    }
   ],
   "source": [
    "class Employee:\n",
    "    \n",
    "    def __init__(self, first, last):\n",
    "        self.first = first\n",
    "        self.last = last\n",
    "        \n",
    "    @property\n",
    "    def email(self):\n",
    "        return f'{self.first.lower()}.{self.last.lower()}@company.com'\n",
    "        \n",
    "    @property\n",
    "    def fullname(self):\n",
    "        return f'{self.first} {self.last}'\n",
    "    \n",
    "    @fullname.setter\n",
    "    def fullname(self, new_fullname):\n",
    "        self.first, self.last = new_fullname.split()\n",
    "        \n",
    "    @fullname.deleter\n",
    "    def fullname(self):\n",
    "        print(\"Deleting Name!\")\n",
    "        self.first = None\n",
    "        self.last = None\n",
    "        \n",
    "emp_1 = Employee('Jane', 'Doe')\n",
    "print(emp_1.email)\n",
    "del emp_1.fullname\n",
    "print(emp_1.first)"
   ]
  },
  {
   "cell_type": "markdown",
   "metadata": {},
   "source": [
    "#### The classmethod decorator\n",
    "\n",
    "Regular methods (also the `__init__()` method) take the instance of the class as first argument. By convention, we call the instance of the class inside the class itself `self`, but other variables are possible. There are, however some special decorators (more on decorators later) that you can use to circumvent this.\n",
    "\n",
    "Class methods take the class as first argument (per convention `cls`) and return a new instance of the class, with something altered. For example, the raise_amount:"
   ]
  },
  {
   "cell_type": "code",
   "execution_count": 61,
   "metadata": {
    "execution": {
     "iopub.execute_input": "2023-02-22T15:40:05.214290Z",
     "iopub.status.busy": "2023-02-22T15:40:05.213947Z",
     "iopub.status.idle": "2023-02-22T15:40:05.221300Z",
     "shell.execute_reply": "2023-02-22T15:40:05.220748Z"
    }
   },
   "outputs": [
    {
     "name": "stdout",
     "output_type": "stream",
     "text": [
      "50000 60000\n",
      "52000 62400 \n",
      "\n",
      "50000 60000\n",
      "55000 66000\n"
     ]
    }
   ],
   "source": [
    "class Employee:\n",
    "    \n",
    "    raise_amount = 1.04\n",
    "    num_of_emps = 0\n",
    "    \n",
    "    def __init__(self, first, last, pay):\n",
    "        self.first = first\n",
    "        self.last = last\n",
    "        self.pay = pay\n",
    "        self.email = f\"{self.first.lower()}.{self.last.lower()}@company.com\"\n",
    "        \n",
    "        # change the class variable of the Employee class everytime __init__ is called\n",
    "        Employee.num_of_emps += 1\n",
    "        \n",
    "    def fullname(self):\n",
    "        return f\"{self.first} {self.last}\"\n",
    "    \n",
    "    def apply_raise(self):\n",
    "        self.pay = int(self.pay * self.raise_amount)\n",
    "        \n",
    "    @classmethod\n",
    "    def set_raise_amount(cls, amount):\n",
    "        cls.raise_amount = amount\n",
    "    \n",
    "\n",
    "emp1 = Employee('Clark', 'Kent', 50000)\n",
    "emp2 = Employee('Bruce', 'Wayne', 60000)\n",
    "print(emp1.pay, emp2.pay)\n",
    "emp1.apply_raise(); emp2.apply_raise()\n",
    "print(emp1.pay, emp2.pay, '\\n')\n",
    "\n",
    "# Apply changes class-wide\n",
    "Employee.set_raise_amount(1.1)\n",
    "emp1 = Employee('Clark', 'Kent', 50000)\n",
    "emp2 = Employee('Bruce', 'Wayne', 60000)\n",
    "print(emp1.pay, emp2.pay)\n",
    "emp1.apply_raise(); emp2.apply_raise()\n",
    "print(emp1.pay, emp2.pay)"
   ]
  },
  {
   "cell_type": "markdown",
   "metadata": {},
   "source": [
    "**Classes with different constructors**\n",
    "\n",
    "Let's say, we want to create new employees from a string of the type: firstname-lastname-pay. We use the split() method of the string object to split it based on the hyphens.\n",
    "\n",
    "We use a class method for this alternate constructor. Per convention, these methods start with *from*"
   ]
  },
  {
   "cell_type": "code",
   "execution_count": 62,
   "metadata": {
    "execution": {
     "iopub.execute_input": "2023-02-22T15:40:05.224028Z",
     "iopub.status.busy": "2023-02-22T15:40:05.223484Z",
     "iopub.status.idle": "2023-02-22T15:40:05.227532Z",
     "shell.execute_reply": "2023-02-22T15:40:05.226960Z"
    }
   },
   "outputs": [
    {
     "name": "stdout",
     "output_type": "stream",
     "text": [
      "Clark Kent 50000\n"
     ]
    }
   ],
   "source": [
    "str1 = 'Clark-Kent-50000'\n",
    "str2 = 'Bruce-Wayne-60000'\n",
    "\n",
    "first, last, pay = str1.split('-')\n",
    "print(first, last, pay)"
   ]
  },
  {
   "cell_type": "code",
   "execution_count": 63,
   "metadata": {
    "execution": {
     "iopub.execute_input": "2023-02-22T15:40:05.230572Z",
     "iopub.status.busy": "2023-02-22T15:40:05.229958Z",
     "iopub.status.idle": "2023-02-22T15:40:05.236396Z",
     "shell.execute_reply": "2023-02-22T15:40:05.235705Z"
    }
   },
   "outputs": [
    {
     "name": "stdout",
     "output_type": "stream",
     "text": [
      "clark.kent@company.com bruce.wayne@company.com\n"
     ]
    }
   ],
   "source": [
    "class Employee:\n",
    "    \n",
    "    raise_amount = 1.04\n",
    "    num_of_emps = 0\n",
    "    \n",
    "    def __init__(self, first, last, pay):\n",
    "        self.first = first\n",
    "        self.last = last\n",
    "        self.pay = pay\n",
    "        self.email = f\"{self.first.lower()}.{self.last.lower()}@company.com\"\n",
    "        \n",
    "        # change the class variable of the Employee class everytime __init__ is called\n",
    "        Employee.num_of_emps += 1\n",
    "        \n",
    "    def fullname(self):\n",
    "        return f\"{self.first} {self.last}\"\n",
    "    \n",
    "    def apply_raise(self):\n",
    "        self.pay = int(self.pay * self.raise_amount)\n",
    "        \n",
    "    @classmethod\n",
    "    def set_raise_amount(cls, amount):\n",
    "        cls.raise_amount = amount\n",
    "        \n",
    "    @classmethod\n",
    "    def from_string(cls, employee_string):\n",
    "        first, last, pay = employee_string.split('-')\n",
    "        return cls(first, last, pay)\n",
    "    \n",
    "emp1 = Employee('Clark', 'Kent', 50000)\n",
    "emp2 = Employee.from_string('Bruce-Wayne-60000')\n",
    "\n",
    "print(emp1.email, emp2.email)"
   ]
  },
  {
   "cell_type": "markdown",
   "metadata": {},
   "source": [
    "**Static method decorator**\n",
    "\n",
    "If there's a method inside a class, that would also make sense outside the scope of the class, you can make it a static method. This static method can now be called directly from the class without having to create an instance. Note, how there is no `self` or `cls` in the `is_workday()` static method.\n",
    "\n",
    "A good giveaway, whether a method should be a staticmethod is, when you don't access the class, or the instance."
   ]
  },
  {
   "cell_type": "code",
   "execution_count": 64,
   "metadata": {
    "execution": {
     "iopub.execute_input": "2023-02-22T15:40:05.240109Z",
     "iopub.status.busy": "2023-02-22T15:40:05.239588Z",
     "iopub.status.idle": "2023-02-22T15:40:05.246888Z",
     "shell.execute_reply": "2023-02-22T15:40:05.246188Z"
    }
   },
   "outputs": [
    {
     "name": "stdout",
     "output_type": "stream",
     "text": [
      "False\n",
      "True\n"
     ]
    }
   ],
   "source": [
    "class Employee:\n",
    "    \n",
    "    raise_amount = 1.04\n",
    "    num_of_emps = 0\n",
    "    \n",
    "    def __init__(self, first, last, pay):\n",
    "        self.first = first\n",
    "        self.last = last\n",
    "        self.pay = pay\n",
    "        self.email = f\"{self.first.lower()}.{self.last.lower()}@company.com\"\n",
    "        \n",
    "        # change the class variable of the Employee class everytime __init__ is called\n",
    "        Employee.num_of_emps += 1\n",
    "        \n",
    "    def fullname(self):\n",
    "        return f\"{self.first} {self.last}\"\n",
    "    \n",
    "    def apply_raise(self):\n",
    "        self.pay = int(self.pay * self.raise_amount)\n",
    "        \n",
    "    @classmethod\n",
    "    def set_raise_amount(cls, amount):\n",
    "        cls.raise_amount = amount\n",
    "        \n",
    "    @classmethod\n",
    "    def from_string(cls, employee_string):\n",
    "        first, last, pay = employee_string.split('-')\n",
    "        return cls(first, last, pay)\n",
    "    \n",
    "    @staticmethod\n",
    "    def is_workday(day):\n",
    "        if day.weekday() == 5 or day.weekday() == 6:\n",
    "            return False\n",
    "        return True\n",
    "    \n",
    "import datetime\n",
    "my_date = datetime.date(2016, 7, 10)\n",
    "print(Employee.is_workday(my_date))\n",
    "\n",
    "emp1 = Employee.from_string('Clark-Kent-50000')\n",
    "my_date = datetime.date(2016, 7, 11)\n",
    "print(emp1.is_workday(my_date))"
   ]
  },
  {
   "cell_type": "markdown",
   "metadata": {},
   "source": [
    "## Custom decorators\n",
    "\n",
    "Now that we have learned about the built-in decorators let's write our own. For that we need to write a *closure*. A closure is a function that returns a function. The general style is as follows:\n",
    "\n",
    "```python\n",
    "def outer(*args, **kwargs):\n",
    "    def inner(*args, **kwargs):\n",
    "        return args\n",
    "    return inner\n",
    "```"
   ]
  },
  {
   "cell_type": "code",
   "execution_count": 65,
   "metadata": {
    "execution": {
     "iopub.execute_input": "2023-02-22T15:40:05.250512Z",
     "iopub.status.busy": "2023-02-22T15:40:05.250154Z",
     "iopub.status.idle": "2023-02-22T15:40:05.256100Z",
     "shell.execute_reply": "2023-02-22T15:40:05.255427Z"
    }
   },
   "outputs": [
    {
     "data": {
      "text/plain": [
       "-1"
      ]
     },
     "execution_count": 65,
     "metadata": {},
     "output_type": "execute_result"
    }
   ],
   "source": [
    "def arithmetic(operation='addition'):\n",
    "    def addition(x, y):\n",
    "        return x + y\n",
    "    def subtraction(x, y):\n",
    "        return x - y\n",
    "    def multiplication(x, y):\n",
    "        return x * y\n",
    "    def division(x, y):\n",
    "        return x / y\n",
    "    return locals()[operation]\n",
    "    \n",
    "arithmetic('addition')(1, 2)\n",
    "arithmetic('subtraction')(1, 2)"
   ]
  },
  {
   "cell_type": "markdown",
   "metadata": {},
   "source": [
    "But not only that, we need our outer function to accept a function as argument. Like so:\n",
    "\n",
    "```python\n",
    "def my_decorator(func):\n",
    "    def wrapper(*args, **kwargs):\n",
    "        print(\"Do something before function call\")\n",
    "        func(*args, **kwargs)\n",
    "        print(\"Do something after the function call\")\n",
    "    return wrapper\n",
    "```\n",
    "\n",
    "Let's write a decorator that sorts the `**kwargs` alphabetically:"
   ]
  },
  {
   "cell_type": "code",
   "execution_count": 66,
   "metadata": {
    "execution": {
     "iopub.execute_input": "2023-02-22T15:40:05.259597Z",
     "iopub.status.busy": "2023-02-22T15:40:05.259184Z",
     "iopub.status.idle": "2023-02-22T15:40:05.264628Z",
     "shell.execute_reply": "2023-02-22T15:40:05.263951Z"
    }
   },
   "outputs": [
    {
     "name": "stdout",
     "output_type": "stream",
     "text": [
      "{'apple': 1.5, 'milk': 2.25, 'banana': 0.75, 'potatoes': 3.75}\n",
      "{'apple': 1.5, 'banana': 0.75, 'milk': 2.25, 'potatoes': 3.75}\n"
     ]
    }
   ],
   "source": [
    "def sorted_kwargs(func):\n",
    "    def wrapper(*args, **kwargs):\n",
    "        kwargs = {key: value for key, value in sorted(kwargs.items())}\n",
    "        return func(*args, **kwargs)\n",
    "    return wrapper\n",
    "\n",
    "def increase_price(increase=1.5, **kwargs):\n",
    "    return {key: value * increase for key, value in kwargs.items()}\n",
    "\n",
    "items = {'apple': 1, 'milk': 1.5, 'banana': 0.5, 'potatoes': 2.5}\n",
    "\n",
    "# first without decorator\n",
    "print(increase_price(**items))\n",
    "\n",
    "# now with decorator so let's decorate our function\n",
    "increase_price = sorted_kwargs(increase_price)\n",
    "print(increase_price(**items))"
   ]
  },
  {
   "cell_type": "markdown",
   "metadata": {},
   "source": [
    "Instead of defining our `increase_price()` function twice (once for creating the function and once for adding the decorator), we could add the decorator as a syntactic sugar with the known `@decorator` function:"
   ]
  },
  {
   "cell_type": "code",
   "execution_count": 67,
   "metadata": {
    "execution": {
     "iopub.execute_input": "2023-02-22T15:40:05.268358Z",
     "iopub.status.busy": "2023-02-22T15:40:05.267778Z",
     "iopub.status.idle": "2023-02-22T15:40:05.271992Z",
     "shell.execute_reply": "2023-02-22T15:40:05.271282Z"
    }
   },
   "outputs": [
    {
     "name": "stdout",
     "output_type": "stream",
     "text": [
      "{'apple': 1.5, 'banana': 0.75, 'milk': 2.25, 'potatoes': 3.75}\n"
     ]
    }
   ],
   "source": [
    "@sorted_kwargs\n",
    "def increase_price(increase=1.5, **kwargs):\n",
    "    return {key: value * increase for key, value in kwargs.items()}\n",
    "\n",
    "print(increase_price(**items))"
   ]
  },
  {
   "cell_type": "markdown",
   "metadata": {},
   "source": [
    "### Useful use-cases\n",
    "\n",
    "Do something more often."
   ]
  },
  {
   "cell_type": "code",
   "execution_count": 68,
   "metadata": {
    "execution": {
     "iopub.execute_input": "2023-02-22T15:40:05.275094Z",
     "iopub.status.busy": "2023-02-22T15:40:05.274752Z",
     "iopub.status.idle": "2023-02-22T15:40:05.279007Z",
     "shell.execute_reply": "2023-02-22T15:40:05.278314Z"
    }
   },
   "outputs": [
    {
     "name": "stdout",
     "output_type": "stream",
     "text": [
      "Hello world\n",
      "Hello world\n",
      "Hello world\n"
     ]
    }
   ],
   "source": [
    "def do_three_times(func):\n",
    "    def wrapper(*args, **kwargs):\n",
    "        func()\n",
    "        func()\n",
    "        func()\n",
    "    return wrapper\n",
    "\n",
    "@do_three_times\n",
    "def print_hello_world():\n",
    "    print(\"Hello world\")\n",
    "    \n",
    "print_hello_world()"
   ]
  },
  {
   "cell_type": "markdown",
   "metadata": {},
   "source": [
    "Debug a function py printing `*args` and `**kwargs`:"
   ]
  },
  {
   "cell_type": "code",
   "execution_count": 69,
   "metadata": {
    "execution": {
     "iopub.execute_input": "2023-02-22T15:40:05.282635Z",
     "iopub.status.busy": "2023-02-22T15:40:05.282113Z",
     "iopub.status.idle": "2023-02-22T15:40:05.287216Z",
     "shell.execute_reply": "2023-02-22T15:40:05.286538Z"
    }
   },
   "outputs": [],
   "source": [
    "def debug(func):\n",
    "    def wrapper(*args, **kwargs):\n",
    "        args_repr = [repr(a) for a in args]                      # 1\n",
    "        kwargs_repr = [f\"{k}={v!r}\" for k, v in kwargs.items()]  # 2\n",
    "        signature = \", \".join(args_repr + kwargs_repr)           # 3\n",
    "        print(f\"Calling {func.__name__}({signature})\")\n",
    "        value = func(*args, **kwargs)\n",
    "        print(f\"{func.__name__!r} returned {value!r}\")           # 4\n",
    "        return value\n",
    "    return wrapper\n",
    "\n",
    "@debug\n",
    "def make_greeting(name, age=None):\n",
    "    if age is None:\n",
    "        return f\"Howdy {name}!\"\n",
    "    else:\n",
    "        return f\"Whoa {name}! {age} already, you are growing up!\""
   ]
  },
  {
   "cell_type": "code",
   "execution_count": 70,
   "metadata": {
    "execution": {
     "iopub.execute_input": "2023-02-22T15:40:05.289993Z",
     "iopub.status.busy": "2023-02-22T15:40:05.289650Z",
     "iopub.status.idle": "2023-02-22T15:40:05.294196Z",
     "shell.execute_reply": "2023-02-22T15:40:05.293650Z"
    }
   },
   "outputs": [
    {
     "name": "stdout",
     "output_type": "stream",
     "text": [
      "Calling make_greeting('Benjamin')\n",
      "'make_greeting' returned 'Howdy Benjamin!'\n"
     ]
    },
    {
     "data": {
      "text/plain": [
       "'Howdy Benjamin!'"
      ]
     },
     "execution_count": 70,
     "metadata": {},
     "output_type": "execute_result"
    }
   ],
   "source": [
    "make_greeting(\"Benjamin\")"
   ]
  },
  {
   "cell_type": "code",
   "execution_count": 71,
   "metadata": {
    "execution": {
     "iopub.execute_input": "2023-02-22T15:40:05.296962Z",
     "iopub.status.busy": "2023-02-22T15:40:05.296328Z",
     "iopub.status.idle": "2023-02-22T15:40:05.301110Z",
     "shell.execute_reply": "2023-02-22T15:40:05.300571Z"
    }
   },
   "outputs": [
    {
     "name": "stdout",
     "output_type": "stream",
     "text": [
      "Calling make_greeting('Richard', age=112)\n",
      "'make_greeting' returned 'Whoa Richard! 112 already, you are growing up!'\n"
     ]
    },
    {
     "data": {
      "text/plain": [
       "'Whoa Richard! 112 already, you are growing up!'"
      ]
     },
     "execution_count": 71,
     "metadata": {},
     "output_type": "execute_result"
    }
   ],
   "source": [
    "make_greeting(\"Richard\", age=112)"
   ]
  },
  {
   "cell_type": "markdown",
   "metadata": {},
   "source": [
    "### Preserve identity with functools.wraps\n",
    "\n",
    "We have a small problem, when using decorators this way:"
   ]
  },
  {
   "cell_type": "code",
   "execution_count": 72,
   "metadata": {
    "execution": {
     "iopub.execute_input": "2023-02-22T15:40:05.303959Z",
     "iopub.status.busy": "2023-02-22T15:40:05.303304Z",
     "iopub.status.idle": "2023-02-22T15:40:05.306932Z",
     "shell.execute_reply": "2023-02-22T15:40:05.306388Z"
    }
   },
   "outputs": [
    {
     "name": "stdout",
     "output_type": "stream",
     "text": [
      "<function debug.<locals>.wrapper at 0x7f5b6883a820>\n",
      "wrapper\n"
     ]
    }
   ],
   "source": [
    "print(make_greeting)\n",
    "print(make_greeting.__name__)"
   ]
  },
  {
   "cell_type": "markdown",
   "metadata": {},
   "source": [
    "Our function now has the `__name__` attribute `wrapper`. Ugh. That's not good and can lead to some problems later down the line. That's why it is recommended to use `@functools.wraps(func)` in decorator definitions:"
   ]
  },
  {
   "cell_type": "code",
   "execution_count": 73,
   "metadata": {
    "execution": {
     "iopub.execute_input": "2023-02-22T15:40:05.309746Z",
     "iopub.status.busy": "2023-02-22T15:40:05.309086Z",
     "iopub.status.idle": "2023-02-22T15:40:05.313767Z",
     "shell.execute_reply": "2023-02-22T15:40:05.313238Z"
    }
   },
   "outputs": [
    {
     "name": "stdout",
     "output_type": "stream",
     "text": [
      "<function print_hello_world at 0x7f5b6883af70>\n",
      "print_hello_world\n"
     ]
    }
   ],
   "source": [
    "import functools\n",
    "\n",
    "def do_three_times(func):\n",
    "    @functools.wraps(func)\n",
    "    def wrapper(*args, **kwargs):\n",
    "        func()\n",
    "        func()\n",
    "        func()\n",
    "    return wrapper\n",
    "\n",
    "@do_three_times\n",
    "def print_hello_world():\n",
    "    print(\"Hello world\")\n",
    "    \n",
    "print(print_hello_world)\n",
    "print(print_hello_world.__name__)"
   ]
  },
  {
   "cell_type": "markdown",
   "metadata": {},
   "source": [
    "All good."
   ]
  },
  {
   "cell_type": "markdown",
   "metadata": {},
   "source": [
    "## Decorator classes\n",
    "\n",
    "We could use a decorator class to count how often a function that has this decorator has been called. For that we need the previously introduced `__call__` method of python classes."
   ]
  },
  {
   "cell_type": "code",
   "execution_count": 74,
   "metadata": {
    "execution": {
     "iopub.execute_input": "2023-02-22T15:40:05.316622Z",
     "iopub.status.busy": "2023-02-22T15:40:05.315984Z",
     "iopub.status.idle": "2023-02-22T15:40:05.321379Z",
     "shell.execute_reply": "2023-02-22T15:40:05.320059Z"
    }
   },
   "outputs": [],
   "source": [
    "import functools\n",
    "\n",
    "class CountCalls:\n",
    "    def __init__(self, func):\n",
    "        functools.update_wrapper(self, func)\n",
    "        self.func = func\n",
    "        self.num_calls = 0\n",
    "\n",
    "    def __call__(self, *args, **kwargs):\n",
    "        self.num_calls += 1\n",
    "        print(f\"Call {self.num_calls} of {self.func.__name__!r}\")\n",
    "        return self.func(*args, **kwargs)\n",
    "\n",
    "@CountCalls\n",
    "def say_whee():\n",
    "    print(\"Whee!\")"
   ]
  },
  {
   "cell_type": "code",
   "execution_count": 75,
   "metadata": {
    "execution": {
     "iopub.execute_input": "2023-02-22T15:40:05.324135Z",
     "iopub.status.busy": "2023-02-22T15:40:05.323498Z",
     "iopub.status.idle": "2023-02-22T15:40:05.327005Z",
     "shell.execute_reply": "2023-02-22T15:40:05.326476Z"
    }
   },
   "outputs": [
    {
     "name": "stdout",
     "output_type": "stream",
     "text": [
      "Call 1 of 'say_whee'\n",
      "Whee!\n"
     ]
    }
   ],
   "source": [
    "say_whee()"
   ]
  },
  {
   "cell_type": "code",
   "execution_count": 76,
   "metadata": {
    "execution": {
     "iopub.execute_input": "2023-02-22T15:40:05.329731Z",
     "iopub.status.busy": "2023-02-22T15:40:05.329095Z",
     "iopub.status.idle": "2023-02-22T15:40:05.332603Z",
     "shell.execute_reply": "2023-02-22T15:40:05.332075Z"
    }
   },
   "outputs": [
    {
     "name": "stdout",
     "output_type": "stream",
     "text": [
      "Call 2 of 'say_whee'\n",
      "Whee!\n"
     ]
    }
   ],
   "source": [
    "say_whee()"
   ]
  },
  {
   "cell_type": "code",
   "execution_count": 77,
   "metadata": {
    "execution": {
     "iopub.execute_input": "2023-02-22T15:40:05.335223Z",
     "iopub.status.busy": "2023-02-22T15:40:05.334707Z",
     "iopub.status.idle": "2023-02-22T15:40:05.338142Z",
     "shell.execute_reply": "2023-02-22T15:40:05.337470Z"
    }
   },
   "outputs": [
    {
     "name": "stdout",
     "output_type": "stream",
     "text": [
      "Call 3 of 'say_whee'\n",
      "Whee!\n"
     ]
    }
   ],
   "source": [
    "say_whee()"
   ]
  },
  {
   "cell_type": "code",
   "execution_count": 78,
   "metadata": {
    "execution": {
     "iopub.execute_input": "2023-02-22T15:40:05.341649Z",
     "iopub.status.busy": "2023-02-22T15:40:05.341144Z",
     "iopub.status.idle": "2023-02-22T15:40:05.344598Z",
     "shell.execute_reply": "2023-02-22T15:40:05.343891Z"
    }
   },
   "outputs": [
    {
     "name": "stdout",
     "output_type": "stream",
     "text": [
      "Call 4 of 'say_whee'\n",
      "Whee!\n"
     ]
    }
   ],
   "source": [
    "say_whee()"
   ]
  },
  {
   "cell_type": "markdown",
   "metadata": {},
   "source": [
    "## Further keywords"
   ]
  },
  {
   "cell_type": "code",
   "execution_count": 79,
   "metadata": {
    "execution": {
     "iopub.execute_input": "2023-02-22T15:40:05.348053Z",
     "iopub.status.busy": "2023-02-22T15:40:05.347711Z",
     "iopub.status.idle": "2023-02-22T15:40:05.351168Z",
     "shell.execute_reply": "2023-02-22T15:40:05.350487Z"
    }
   },
   "outputs": [
    {
     "name": "stdout",
     "output_type": "stream",
     "text": [
      "['False', 'None', 'True', 'and', 'as', 'assert', 'async', 'await', 'break', 'class', 'continue', 'def', 'del', 'elif', 'else', 'except', 'finally', 'for', 'from', 'global', 'if', 'import', 'in', 'is', 'lambda', 'nonlocal', 'not', 'or', 'pass', 'raise', 'return', 'try', 'while', 'with', 'yield']\n"
     ]
    }
   ],
   "source": [
    "import keyword\n",
    "print(keyword.kwlist)"
   ]
  },
  {
   "cell_type": "markdown",
   "metadata": {},
   "source": [
    "### Recap: Builtins\n",
    "\n",
    "Don't confuse these Keywords with the builtin-functions, that you can access via:\n",
    "\n",
    "(The filter function drops the Error, Warnings and Exception, we'll look into later)"
   ]
  },
  {
   "cell_type": "code",
   "execution_count": 80,
   "metadata": {
    "execution": {
     "iopub.execute_input": "2023-02-22T15:40:05.354656Z",
     "iopub.status.busy": "2023-02-22T15:40:05.354294Z",
     "iopub.status.idle": "2023-02-22T15:40:05.358707Z",
     "shell.execute_reply": "2023-02-22T15:40:05.358151Z"
    }
   },
   "outputs": [
    {
     "name": "stdout",
     "output_type": "stream",
     "text": [
      "['Ellipsis', 'False', 'GeneratorExit', 'KeyboardInterrupt', 'None', 'NotImplemented', 'StopAsyncIteration', 'StopIteration', 'SystemExit', 'True', '__IPYTHON__', '__build_class__', '__debug__', '__doc__', '__import__', '__loader__', '__name__', '__package__', '__spec__', 'abs', 'all', 'any', 'ascii', 'bin', 'bool', 'breakpoint', 'bytearray', 'bytes', 'callable', 'chr', 'classmethod', 'compile', 'complex', 'copyright', 'credits', 'delattr', 'dict', 'dir', 'display', 'divmod', 'enumerate', 'eval', 'exec', 'execfile', 'filter', 'float', 'format', 'frozenset', 'get_ipython', 'getattr', 'globals', 'hasattr', 'hash', 'help', 'hex', 'id', 'input', 'int', 'isinstance', 'issubclass', 'iter', 'len', 'license', 'list', 'locals', 'map', 'max', 'memoryview', 'min', 'next', 'object', 'oct', 'open', 'ord', 'pow', 'print', 'property', 'range', 'repr', 'reversed', 'round', 'runfile', 'set', 'setattr', 'slice', 'sorted', 'staticmethod', 'str', 'sum', 'super', 'tuple', 'type', 'vars', 'zip']\n"
     ]
    }
   ],
   "source": [
    "def drop_err_warn_exc(string):\n",
    "    if not any(i in string for i in ['Error', 'Warning', 'Exception']):\n",
    "        return True\n",
    "\n",
    "non_error_builtins = list(filter(drop_err_warn_exc, [builtin for builtin in dir(__builtins__)]))\n",
    "print(non_error_builtins)"
   ]
  },
  {
   "cell_type": "markdown",
   "metadata": {
    "solution2": "hidden",
    "solution2_first": true
   },
   "source": [
    "\\begin{problem}\n",
    "Why does the `drop_err_warn_exc()` function work without explicitly returning `False`?\n",
    "\\end{problem}"
   ]
  },
  {
   "cell_type": "markdown",
   "metadata": {
    "solution2": "hidden"
   },
   "source": [
    "Every python function returns `None` by default, which boolean value is False. If the function has been completely executed and nothing has been returned yet, a `None` will be returned."
   ]
  },
  {
   "cell_type": "markdown",
   "metadata": {},
   "source": [
    "### Accidentally overwritten Builtins\n",
    "\n",
    "You may find yourself in a situation, where you have accidentally overwritten one of the builtin functions. To restore them, you can simply use the `del` keyword to delete the variable, thus freeing up the namespace to be occupied again by the builtin."
   ]
  },
  {
   "cell_type": "code",
   "execution_count": 81,
   "metadata": {
    "execution": {
     "iopub.execute_input": "2023-02-22T15:40:05.361579Z",
     "iopub.status.busy": "2023-02-22T15:40:05.360944Z",
     "iopub.status.idle": "2023-02-22T15:40:05.364781Z",
     "shell.execute_reply": "2023-02-22T15:40:05.364253Z"
    }
   },
   "outputs": [
    {
     "name": "stdout",
     "output_type": "stream",
     "text": [
      "<built-in function sum>\n",
      "Run away!\n",
      "<built-in function sum>\n"
     ]
    }
   ],
   "source": [
    "print(sum)\n",
    "sum = 'Run away!'\n",
    "print(sum)\n",
    "del sum\n",
    "print(sum)"
   ]
  },
  {
   "cell_type": "markdown",
   "metadata": {},
   "source": [
    "## Lambda expressions\n",
    "\n",
    "Lambda expressions are used to generate fast 'throwaway' functions. The general syntax is as follows:\n",
    "\n",
    "```python\n",
    "func = lambda var: expression_with(var)\n",
    "square = lambda x: x **2\n",
    "```\n",
    "\n",
    "For multiple arguments use this syntax:\n",
    "```python\n",
    "multiplication = lambda x, y: x * y\n",
    "```\n",
    "\n",
    "If you want your lambda function to return `True` or `False` for a `filter()` function call, for example, you can use syntax similar to this:\n",
    "\n",
    "```python\n",
    "contains_vowels = lambda x: True if not any(s in x for s in ['a', 'e', 'i', 'o', 'u']) else False\n",
    "```"
   ]
  },
  {
   "cell_type": "code",
   "execution_count": 82,
   "metadata": {
    "execution": {
     "iopub.execute_input": "2023-02-22T15:40:05.367575Z",
     "iopub.status.busy": "2023-02-22T15:40:05.366939Z",
     "iopub.status.idle": "2023-02-22T15:40:05.371256Z",
     "shell.execute_reply": "2023-02-22T15:40:05.370728Z"
    }
   },
   "outputs": [
    {
     "data": {
      "text/plain": [
       "4"
      ]
     },
     "execution_count": 82,
     "metadata": {},
     "output_type": "execute_result"
    }
   ],
   "source": [
    "func = lambda var: var**2\n",
    "func(2)"
   ]
  },
  {
   "cell_type": "code",
   "execution_count": 83,
   "metadata": {
    "execution": {
     "iopub.execute_input": "2023-02-22T15:40:05.374013Z",
     "iopub.status.busy": "2023-02-22T15:40:05.373372Z",
     "iopub.status.idle": "2023-02-22T15:40:05.378230Z",
     "shell.execute_reply": "2023-02-22T15:40:05.377700Z"
    }
   },
   "outputs": [
    {
     "data": {
      "text/plain": [
       "False"
      ]
     },
     "execution_count": 83,
     "metadata": {},
     "output_type": "execute_result"
    }
   ],
   "source": [
    "contains_vowels = lambda x: True if not any(s in x for s in ['a', 'e', 'i', 'o', 'u']) else False\n",
    "contains_vowels('Hello')"
   ]
  },
  {
   "cell_type": "code",
   "execution_count": 84,
   "metadata": {
    "execution": {
     "iopub.execute_input": "2023-02-22T15:40:05.380994Z",
     "iopub.status.busy": "2023-02-22T15:40:05.380364Z",
     "iopub.status.idle": "2023-02-22T15:40:05.385275Z",
     "shell.execute_reply": "2023-02-22T15:40:05.384752Z"
    }
   },
   "outputs": [
    {
     "name": "stdout",
     "output_type": "stream",
     "text": [
      "['Ellipsis', 'False', 'GeneratorExit', 'KeyboardInterrupt', 'None', 'NotImplemented', 'StopAsyncIteration', 'StopIteration', 'SystemExit', 'True', '__IPYTHON__', '__build_class__', '__debug__', '__doc__', '__import__', '__loader__', '__name__', '__package__', '__spec__', 'abs', 'all', 'any', 'ascii', 'bin', 'bool', 'breakpoint', 'bytearray', 'bytes', 'callable', 'chr', 'classmethod', 'compile', 'complex', 'copyright', 'credits', 'delattr', 'dict', 'dir', 'display', 'divmod', 'enumerate', 'eval', 'exec', 'execfile', 'filter', 'float', 'format', 'frozenset', 'get_ipython', 'getattr', 'globals', 'hasattr', 'hash', 'help', 'hex', 'id', 'input', 'int', 'isinstance', 'issubclass', 'iter', 'len', 'license', 'list', 'locals', 'map', 'max', 'memoryview', 'min', 'next', 'object', 'oct', 'open', 'ord', 'pow', 'print', 'property', 'range', 'repr', 'reversed', 'round', 'runfile', 'set', 'setattr', 'slice', 'sorted', 'staticmethod', 'str', 'sum', 'super', 'tuple', 'type', 'vars', 'zip']"
     ]
    },
    {
     "name": "stdout",
     "output_type": "stream",
     "text": [
      "\n"
     ]
    }
   ],
   "source": [
    "filter_func = lambda string: True if not any(i in string for i in ['Error', 'Warning', 'Exception']) else False\n",
    "\n",
    "non_error_builtins = list(filter(filter_func ,[builtin for builtin in dir(__builtins__)]))\n",
    "\n",
    "print(non_error_builtins)"
   ]
  },
  {
   "attachments": {},
   "cell_type": "markdown",
   "metadata": {},
   "source": [
    "## Global and Nonlocal -> Scope and Namespace\n",
    "\n",
    "Python's namespace is the mapping from object to name. So if we call:\n",
    "\n",
    "```python\n",
    "a = 2\n",
    "```\n",
    "\n",
    "we map an object (remember: everything in python is an object) called `int`, or integer to the variable `a`. This creates a name, that is accessible in the global namespace. The namespaces are sorted hierarchically and you can remember them with the abbreviation LEGB for Local - Enclosing - Global - Built-in. \n",
    "\n",
    "<img src=\"nested-namespaces-python.jpg\" alt=\"Drawing\" style=\"width: 400px;\"/>\n",
    "\n",
    "\n",
    "\n",
    "*Scope* is a term which describes which namespace a call looks into. A function call can for example look into the Built-in namespace (you can call `list()` from within a function, without declaring it. Top-level calls (like code in jupyter cells) can't look into a function's namespace. Their scope is limited to the Global and Built-in namespace.\n",
    "\n",
    "Let's get into some examples...\n",
    "We declare a global variable called x and assign it a string object."
   ]
  },
  {
   "cell_type": "code",
   "execution_count": 85,
   "metadata": {
    "execution": {
     "iopub.execute_input": "2023-02-22T15:40:05.388077Z",
     "iopub.status.busy": "2023-02-22T15:40:05.387441Z",
     "iopub.status.idle": "2023-02-22T15:40:05.391205Z",
     "shell.execute_reply": "2023-02-22T15:40:05.390676Z"
    }
   },
   "outputs": [
    {
     "name": "stdout",
     "output_type": "stream",
     "text": [
      "global x\n"
     ]
    }
   ],
   "source": [
    "x = 'global x'\n",
    "\n",
    "def test():\n",
    "    print(x)\n",
    "    \n",
    "test()"
   ]
  },
  {
   "cell_type": "markdown",
   "metadata": {},
   "source": [
    "The function `test()` has access to the global variable x."
   ]
  },
  {
   "cell_type": "code",
   "execution_count": 86,
   "metadata": {
    "execution": {
     "iopub.execute_input": "2023-02-22T15:40:05.394022Z",
     "iopub.status.busy": "2023-02-22T15:40:05.393389Z",
     "iopub.status.idle": "2023-02-22T15:40:05.409733Z",
     "shell.execute_reply": "2023-02-22T15:40:05.408760Z"
    }
   },
   "outputs": [
    {
     "name": "stdout",
     "output_type": "stream",
     "text": [
      "global x 5\n"
     ]
    },
    {
     "ename": "NameError",
     "evalue": "name 'y' is not defined",
     "output_type": "error",
     "traceback": [
      "\u001b[0;31m---------------------------------------------------------------------------\u001b[0m",
      "\u001b[0;31mNameError\u001b[0m                                 Traceback (most recent call last)",
      "Cell \u001b[0;32mIn[86], line 8\u001b[0m\n\u001b[1;32m      5\u001b[0m     \u001b[38;5;28mprint\u001b[39m(x, y)\n\u001b[1;32m      7\u001b[0m test()\n\u001b[0;32m----> 8\u001b[0m \u001b[38;5;28mprint\u001b[39m(x, \u001b[43my\u001b[49m)\n",
      "\u001b[0;31mNameError\u001b[0m: name 'y' is not defined"
     ]
    }
   ],
   "source": [
    "x = 'global x'\n",
    "\n",
    "def test():\n",
    "    y = 5\n",
    "    print(x, y)\n",
    "\n",
    "test()\n",
    "print(x, y)"
   ]
  },
  {
   "cell_type": "markdown",
   "metadata": {},
   "source": [
    "The global scope (including the global and builtin namespace) can't access teh variable y, unless..."
   ]
  },
  {
   "cell_type": "code",
   "execution_count": 87,
   "metadata": {
    "execution": {
     "iopub.execute_input": "2023-02-22T15:40:05.412545Z",
     "iopub.status.busy": "2023-02-22T15:40:05.411934Z",
     "iopub.status.idle": "2023-02-22T15:40:05.415908Z",
     "shell.execute_reply": "2023-02-22T15:40:05.415380Z"
    }
   },
   "outputs": [
    {
     "name": "stdout",
     "output_type": "stream",
     "text": [
      "global x 5\n",
      "global x 5\n"
     ]
    }
   ],
   "source": [
    "x = 'global x'\n",
    "\n",
    "def test():\n",
    "    global y\n",
    "    y = 5\n",
    "    print(x, y)\n",
    "\n",
    "test()\n",
    "print(x, y)"
   ]
  },
  {
   "cell_type": "markdown",
   "metadata": {},
   "source": [
    "We declare y to be a global variable.\n",
    "\n",
    "Arguments to functions are also part of the function's scope and won't be accessible to the outside."
   ]
  },
  {
   "cell_type": "code",
   "execution_count": 88,
   "metadata": {
    "execution": {
     "iopub.execute_input": "2023-02-22T15:40:05.418460Z",
     "iopub.status.busy": "2023-02-22T15:40:05.418057Z",
     "iopub.status.idle": "2023-02-22T15:40:05.422026Z",
     "shell.execute_reply": "2023-02-22T15:40:05.421385Z"
    }
   },
   "outputs": [
    {
     "name": "stdout",
     "output_type": "stream",
     "text": [
      "local x local z\n"
     ]
    }
   ],
   "source": [
    "x = 'global x'\n",
    "\n",
    "def test(z):\n",
    "    x = 'local x' # overwrite global\n",
    "    print(x, z)\n",
    "\n",
    "test('local z')"
   ]
  },
  {
   "cell_type": "markdown",
   "metadata": {},
   "source": [
    "### What is the enclosing scope?\n",
    "\n",
    "The enclosing scope is used for nested functions. Here is a simple example of nested functions. Note the call `inner()` of the inner function."
   ]
  },
  {
   "cell_type": "code",
   "execution_count": 89,
   "metadata": {
    "execution": {
     "iopub.execute_input": "2023-02-22T15:40:05.424722Z",
     "iopub.status.busy": "2023-02-22T15:40:05.424509Z",
     "iopub.status.idle": "2023-02-22T15:40:05.428373Z",
     "shell.execute_reply": "2023-02-22T15:40:05.427705Z"
    }
   },
   "outputs": [
    {
     "name": "stdout",
     "output_type": "stream",
     "text": [
      "inner x\n",
      "outer x\n"
     ]
    }
   ],
   "source": [
    "# global namespace\n",
    "x = 'global x'\n",
    "\n",
    "def outer():\n",
    "    # local namespace\n",
    "    x = 'outer x'\n",
    "    \n",
    "    def inner():\n",
    "        # enclosed namespace\n",
    "        x = 'inner x'\n",
    "        print(x)\n",
    "        \n",
    "    inner()\n",
    "    print(x)\n",
    "    \n",
    "outer()"
   ]
  },
  {
   "cell_type": "markdown",
   "metadata": {},
   "source": [
    "Similar to top-level functions, the inner function has access to the outer functions namespace. We can look at this by commenting out the `x = 'inner x'` statement."
   ]
  },
  {
   "cell_type": "code",
   "execution_count": 90,
   "metadata": {
    "execution": {
     "iopub.execute_input": "2023-02-22T15:40:05.431917Z",
     "iopub.status.busy": "2023-02-22T15:40:05.431703Z",
     "iopub.status.idle": "2023-02-22T15:40:05.435495Z",
     "shell.execute_reply": "2023-02-22T15:40:05.434822Z"
    }
   },
   "outputs": [
    {
     "name": "stdout",
     "output_type": "stream",
     "text": [
      "outer x\n",
      "outer x\n"
     ]
    }
   ],
   "source": [
    "x = 'global x'\n",
    "\n",
    "def outer():\n",
    "    x = 'outer x'\n",
    "    \n",
    "    def inner():\n",
    "        # x = 'inner x'\n",
    "        print(x)\n",
    "        \n",
    "    inner()\n",
    "    print(x)\n",
    "    \n",
    "outer()"
   ]
  },
  {
   "cell_type": "markdown",
   "metadata": {},
   "source": [
    "And here's where the `nonlocal` keyword comes into play. The `nonlocal` keyword overwrites the outer functions variable but leaves the global variable unchanged."
   ]
  },
  {
   "cell_type": "code",
   "execution_count": 91,
   "metadata": {
    "execution": {
     "iopub.execute_input": "2023-02-22T15:40:05.439216Z",
     "iopub.status.busy": "2023-02-22T15:40:05.439003Z",
     "iopub.status.idle": "2023-02-22T15:40:05.443019Z",
     "shell.execute_reply": "2023-02-22T15:40:05.442332Z"
    }
   },
   "outputs": [
    {
     "name": "stdout",
     "output_type": "stream",
     "text": [
      "outer x\n",
      "inner x\n",
      "inner x\n",
      "global x\n"
     ]
    }
   ],
   "source": [
    "x = 'global x'\n",
    "\n",
    "def outer():\n",
    "    x = 'outer x'\n",
    "    print(x)\n",
    "    def inner():\n",
    "        nonlocal x\n",
    "        x = 'inner x'\n",
    "        print(x)\n",
    "        \n",
    "    inner()\n",
    "    print(x)\n",
    "    \n",
    "outer()\n",
    "print(x)"
   ]
  },
  {
   "cell_type": "markdown",
   "metadata": {},
   "source": [
    "The keyword `global` however, does not affect the local scope of the function `outer()`"
   ]
  },
  {
   "cell_type": "code",
   "execution_count": 92,
   "metadata": {
    "execution": {
     "iopub.execute_input": "2023-02-22T15:40:05.446534Z",
     "iopub.status.busy": "2023-02-22T15:40:05.446301Z",
     "iopub.status.idle": "2023-02-22T15:40:05.450326Z",
     "shell.execute_reply": "2023-02-22T15:40:05.449651Z"
    }
   },
   "outputs": [
    {
     "name": "stdout",
     "output_type": "stream",
     "text": [
      "outer x\n",
      "inner x\n",
      "outer x\n",
      "inner x\n"
     ]
    }
   ],
   "source": [
    "x = 'global x'\n",
    "\n",
    "def outer():\n",
    "    x = 'outer x'\n",
    "    print(x)\n",
    "    def inner():\n",
    "        global x\n",
    "        x = 'inner x'\n",
    "        print(x)\n",
    "        \n",
    "    inner()\n",
    "    print(x)\n",
    "    \n",
    "outer()\n",
    "print(x)"
   ]
  },
  {
   "cell_type": "markdown",
   "metadata": {},
   "source": [
    "## Generators and yield\n",
    "\n",
    "Generators are your way of making python a little bit faster. We've already seen how the builtins `range()` and `map()` don't actually return a list. They also use generators to keep the calculation of something on hold until it is really needed.\n",
    "\n",
    "```python\n",
    ">>> out = map(func, [1, 2, 3, 4])\n",
    ">>> print(out)\n",
    "<map object at 0x7f2d5c4385c0>\n",
    "```\n",
    "\n",
    "We can create our own generators using the `yield` keyword. Consider this example. We have a function that returns a list of square numbers. And the generator function, making use of the `yield` keyword. Let's say we want to find out, which number's square is greater than 100."
   ]
  },
  {
   "cell_type": "code",
   "execution_count": 93,
   "metadata": {
    "execution": {
     "iopub.execute_input": "2023-02-22T15:40:05.453715Z",
     "iopub.status.busy": "2023-02-22T15:40:05.453501Z",
     "iopub.status.idle": "2023-02-22T15:40:05.457047Z",
     "shell.execute_reply": "2023-02-22T15:40:05.456378Z"
    }
   },
   "outputs": [],
   "source": [
    "def square_iterator(nums):\n",
    "    result = []\n",
    "    for i in nums:\n",
    "        result.append(i * i)\n",
    "    return result\n",
    "\n",
    "def square_generator(nums):\n",
    "    for i in nums:\n",
    "        yield i * i"
   ]
  },
  {
   "cell_type": "code",
   "execution_count": 94,
   "metadata": {
    "execution": {
     "iopub.execute_input": "2023-02-22T15:40:05.459758Z",
     "iopub.status.busy": "2023-02-22T15:40:05.459546Z",
     "iopub.status.idle": "2023-02-22T15:40:05.463942Z",
     "shell.execute_reply": "2023-02-22T15:40:05.463263Z"
    }
   },
   "outputs": [
    {
     "name": "stdout",
     "output_type": "stream",
     "text": [
      "The first integer whose square is greater than 50 is '8'. The square is '64'\n"
     ]
    }
   ],
   "source": [
    "greater_than = 50\n",
    "my_nums = [1, 2, 3, 4, 5, 6, 7, 8, 9, 10, 11, 12, 13, 14, 15]\n",
    "my_squares = square_iterator(my_nums)\n",
    "index = list(map(lambda x: True if x > greater_than else False, my_squares)).index(True)\n",
    "print(f\"The first integer whose square is greater than {greater_than} is '{my_nums[index]}'. The square is '{my_squares[index]}'\")"
   ]
  },
  {
   "cell_type": "markdown",
   "metadata": {},
   "source": [
    "The function call `square_iterator(my_nums)` makes python calculate the square of all the nums in the list `my_nums`. However, it would be great if we can just stop the calculation when we reach 100, without writing a new function (that is writing a function specifically for the purpose of finding this number. A function which returns the squares of a list has a much broader application).\n",
    "\n",
    "For this we need to actually make the generator calculate stuff, because right now, it only returns a generator object."
   ]
  },
  {
   "cell_type": "code",
   "execution_count": 95,
   "metadata": {
    "execution": {
     "iopub.execute_input": "2023-02-22T15:40:05.467347Z",
     "iopub.status.busy": "2023-02-22T15:40:05.467135Z",
     "iopub.status.idle": "2023-02-22T15:40:05.470408Z",
     "shell.execute_reply": "2023-02-22T15:40:05.469710Z"
    }
   },
   "outputs": [
    {
     "name": "stdout",
     "output_type": "stream",
     "text": [
      "<generator object square_generator at 0x7f5b689f3430>\n"
     ]
    }
   ],
   "source": [
    "generator = square_generator(my_nums)\n",
    "print(generator)"
   ]
  },
  {
   "cell_type": "markdown",
   "metadata": {},
   "source": [
    "The generator is ready to take the next result. For this, we'll use the `next()` builtin function."
   ]
  },
  {
   "cell_type": "code",
   "execution_count": 96,
   "metadata": {
    "execution": {
     "iopub.execute_input": "2023-02-22T15:40:05.473754Z",
     "iopub.status.busy": "2023-02-22T15:40:05.473540Z",
     "iopub.status.idle": "2023-02-22T15:40:05.477551Z",
     "shell.execute_reply": "2023-02-22T15:40:05.476889Z"
    }
   },
   "outputs": [
    {
     "data": {
      "text/plain": [
       "1"
      ]
     },
     "execution_count": 96,
     "metadata": {},
     "output_type": "execute_result"
    }
   ],
   "source": [
    "next(generator)"
   ]
  },
  {
   "cell_type": "code",
   "execution_count": 97,
   "metadata": {
    "execution": {
     "iopub.execute_input": "2023-02-22T15:40:05.480799Z",
     "iopub.status.busy": "2023-02-22T15:40:05.480584Z",
     "iopub.status.idle": "2023-02-22T15:40:05.485499Z",
     "shell.execute_reply": "2023-02-22T15:40:05.484964Z"
    }
   },
   "outputs": [
    {
     "data": {
      "text/plain": [
       "4"
      ]
     },
     "execution_count": 97,
     "metadata": {},
     "output_type": "execute_result"
    }
   ],
   "source": [
    "next(generator)"
   ]
  },
  {
   "cell_type": "code",
   "execution_count": 98,
   "metadata": {
    "execution": {
     "iopub.execute_input": "2023-02-22T15:40:05.488216Z",
     "iopub.status.busy": "2023-02-22T15:40:05.487643Z",
     "iopub.status.idle": "2023-02-22T15:40:05.491594Z",
     "shell.execute_reply": "2023-02-22T15:40:05.491044Z"
    }
   },
   "outputs": [
    {
     "data": {
      "text/plain": [
       "9"
      ]
     },
     "execution_count": 98,
     "metadata": {},
     "output_type": "execute_result"
    }
   ],
   "source": [
    "next(generator)"
   ]
  },
  {
   "cell_type": "markdown",
   "metadata": {},
   "source": [
    "What happens, when we reach the end of the `my_nums` list?"
   ]
  },
  {
   "cell_type": "code",
   "execution_count": 99,
   "metadata": {
    "execution": {
     "iopub.execute_input": "2023-02-22T15:40:05.494328Z",
     "iopub.status.busy": "2023-02-22T15:40:05.493752Z",
     "iopub.status.idle": "2023-02-22T15:40:05.508948Z",
     "shell.execute_reply": "2023-02-22T15:40:05.508412Z"
    }
   },
   "outputs": [
    {
     "name": "stdout",
     "output_type": "stream",
     "text": [
      "1\n",
      "4\n",
      "9\n",
      "16\n",
      "25\n",
      "36\n",
      "49\n",
      "64\n",
      "81\n",
      "100\n",
      "121\n",
      "144\n",
      "169\n",
      "196\n",
      "225\n"
     ]
    },
    {
     "ename": "StopIteration",
     "evalue": "",
     "output_type": "error",
     "traceback": [
      "\u001b[0;31m---------------------------------------------------------------------------\u001b[0m",
      "\u001b[0;31mStopIteration\u001b[0m                             Traceback (most recent call last)",
      "Cell \u001b[0;32mIn[99], line 3\u001b[0m\n\u001b[1;32m      1\u001b[0m generator \u001b[38;5;241m=\u001b[39m square_generator(my_nums)\n\u001b[1;32m      2\u001b[0m \u001b[38;5;28;01mwhile\u001b[39;00m \u001b[38;5;28;01mTrue\u001b[39;00m:\n\u001b[0;32m----> 3\u001b[0m     \u001b[38;5;28mprint\u001b[39m(\u001b[38;5;28;43mnext\u001b[39;49m\u001b[43m(\u001b[49m\u001b[43mgenerator\u001b[49m\u001b[43m)\u001b[49m)\n",
      "\u001b[0;31mStopIteration\u001b[0m: "
     ]
    }
   ],
   "source": [
    "generator = square_generator(my_nums)\n",
    "while True:\n",
    "    print(next(generator))"
   ]
  },
  {
   "cell_type": "markdown",
   "metadata": {},
   "source": [
    "We get a StopIteration Exception (More on Errors later). The generator has been **exhausted**.\n",
    "\n",
    "This is a very important differentiation between iterators (lists, tuples, dicts) and generators. Generators can become **exhausted**. Once all calculations have been done with the generator no values can be accessed any further.\n",
    "\n",
    "However, generators can still be used as iterables in for loops. The StopIteration Exception automatically terminates the for loop. In this next example the result of the `square_generator()` function call is not assigned to a variable. This way we don't have to worry about exhaustion."
   ]
  },
  {
   "cell_type": "code",
   "execution_count": 100,
   "metadata": {
    "execution": {
     "iopub.execute_input": "2023-02-22T15:40:05.512588Z",
     "iopub.status.busy": "2023-02-22T15:40:05.511951Z",
     "iopub.status.idle": "2023-02-22T15:40:05.517196Z",
     "shell.execute_reply": "2023-02-22T15:40:05.516543Z"
    }
   },
   "outputs": [
    {
     "name": "stdout",
     "output_type": "stream",
     "text": [
      "1\n",
      "4\n",
      "9\n",
      "16\n",
      "25\n",
      "36\n",
      "49\n",
      "64\n",
      "81\n",
      "100\n",
      "121\n",
      "144\n",
      "169\n",
      "196\n",
      "225\n"
     ]
    }
   ],
   "source": [
    "for i in square_generator(my_nums):\n",
    "    print(i)"
   ]
  },
  {
   "cell_type": "markdown",
   "metadata": {},
   "source": [
    "With this, we can accelerate the search above. This function is much faster than the one above.\n",
    "\n",
    "By defining the variable my_nums with a generator, rather than a list `[1, 2, 3, 4, 5, 6, ...]` we can save time by not typing the list explicitly. And we can pass as great a number, as we like into the greater_than variable."
   ]
  },
  {
   "cell_type": "code",
   "execution_count": 101,
   "metadata": {
    "execution": {
     "iopub.execute_input": "2023-02-22T15:40:05.520172Z",
     "iopub.status.busy": "2023-02-22T15:40:05.519954Z",
     "iopub.status.idle": "2023-02-22T15:40:05.524633Z",
     "shell.execute_reply": "2023-02-22T15:40:05.523972Z"
    }
   },
   "outputs": [
    {
     "name": "stdout",
     "output_type": "stream",
     "text": [
      "The first integer whose square is greater than 50000 is '224'. The square is '50176'\n"
     ]
    }
   ],
   "source": [
    "def int_generator():\n",
    "    i = 0\n",
    "    while True:\n",
    "        yield i\n",
    "        i += 1\n",
    "\n",
    "my_nums = int_generator()\n",
    "generator = square_generator(my_nums)\n",
    "i = 0\n",
    "greater_than = 50000\n",
    "while True:\n",
    "    value = next(generator)\n",
    "    if value > greater_than:\n",
    "        break\n",
    "    i += 1\n",
    "    \n",
    "print(f\"The first integer whose square is greater than {greater_than} is '{i}'. The square is '{value}'\")"
   ]
  },
  {
   "cell_type": "markdown",
   "metadata": {},
   "source": [
    "## Exceptions\n",
    "\n",
    "The time has finally come to talk about Exceptions, Errors, Warnings and Exception Handling.\n",
    "\n",
    "The words Exception and Error are often used interchangeably. However, it is pretty clear, that Exception is the base class. All other Exceptions are Errors, that inherit from Exception."
   ]
  },
  {
   "cell_type": "code",
   "execution_count": 102,
   "metadata": {
    "execution": {
     "iopub.execute_input": "2023-02-22T15:40:05.528419Z",
     "iopub.status.busy": "2023-02-22T15:40:05.527910Z",
     "iopub.status.idle": "2023-02-22T15:40:05.532236Z",
     "shell.execute_reply": "2023-02-22T15:40:05.531559Z"
    }
   },
   "outputs": [
    {
     "data": {
      "text/plain": [
       "True"
      ]
     },
     "execution_count": 102,
     "metadata": {},
     "output_type": "execute_result"
    }
   ],
   "source": [
    "issubclass(NotImplementedError, Exception)"
   ]
  },
  {
   "cell_type": "markdown",
   "metadata": {},
   "source": [
    "So Exception is the base class. How can we use it. We can use the builtin class Exception to stop the Execution of some code."
   ]
  },
  {
   "cell_type": "code",
   "execution_count": 103,
   "metadata": {
    "execution": {
     "iopub.execute_input": "2023-02-22T15:40:05.535694Z",
     "iopub.status.busy": "2023-02-22T15:40:05.535283Z",
     "iopub.status.idle": "2023-02-22T15:40:05.558354Z",
     "shell.execute_reply": "2023-02-22T15:40:05.557638Z"
    }
   },
   "outputs": [
    {
     "ename": "Exception",
     "evalue": "All provided types need to be <int>, you provided <list>.",
     "output_type": "error",
     "traceback": [
      "\u001b[0;31m---------------------------------------------------------------------------\u001b[0m",
      "\u001b[0;31mException\u001b[0m                                 Traceback (most recent call last)",
      "Cell \u001b[0;32mIn[103], line 9\u001b[0m\n\u001b[1;32m      6\u001b[0m         out \u001b[38;5;241m+\u001b[39m\u001b[38;5;241m=\u001b[39m i\n\u001b[1;32m      7\u001b[0m     \u001b[38;5;28;01mreturn\u001b[39;00m out\n\u001b[0;32m----> 9\u001b[0m \u001b[43minteger_addition\u001b[49m\u001b[43m(\u001b[49m\u001b[38;5;241;43m1\u001b[39;49m\u001b[43m,\u001b[49m\u001b[43m \u001b[49m\u001b[38;5;241;43m2\u001b[39;49m\u001b[43m,\u001b[49m\u001b[43m \u001b[49m\u001b[38;5;241;43m3\u001b[39;49m\u001b[43m,\u001b[49m\u001b[43m \u001b[49m\u001b[38;5;241;43m4\u001b[39;49m\u001b[43m,\u001b[49m\u001b[43m \u001b[49m\u001b[38;5;241;43m5\u001b[39;49m\u001b[43m,\u001b[49m\u001b[43m \u001b[49m\u001b[43m[\u001b[49m\u001b[38;5;124;43m'\u001b[39;49m\u001b[38;5;124;43mthis is a list\u001b[39;49m\u001b[38;5;124;43m'\u001b[39;49m\u001b[43m]\u001b[49m\u001b[43m)\u001b[49m\n",
      "Cell \u001b[0;32mIn[103], line 5\u001b[0m, in \u001b[0;36minteger_addition\u001b[0;34m(*args)\u001b[0m\n\u001b[1;32m      3\u001b[0m \u001b[38;5;28;01mfor\u001b[39;00m i \u001b[38;5;129;01min\u001b[39;00m args:\n\u001b[1;32m      4\u001b[0m     \u001b[38;5;28;01mif\u001b[39;00m \u001b[38;5;129;01mnot\u001b[39;00m \u001b[38;5;28misinstance\u001b[39m(i, \u001b[38;5;28mint\u001b[39m):\n\u001b[0;32m----> 5\u001b[0m         \u001b[38;5;28;01mraise\u001b[39;00m \u001b[38;5;167;01mException\u001b[39;00m(\u001b[38;5;124mf\u001b[39m\u001b[38;5;124m\"\u001b[39m\u001b[38;5;124mAll provided types need to be <int>, you provided <\u001b[39m\u001b[38;5;132;01m{\u001b[39;00mi\u001b[38;5;241m.\u001b[39m\u001b[38;5;18m__class__\u001b[39m\u001b[38;5;241m.\u001b[39m\u001b[38;5;18m__name__\u001b[39m\u001b[38;5;132;01m}\u001b[39;00m\u001b[38;5;124m>.\u001b[39m\u001b[38;5;124m\"\u001b[39m)\n\u001b[1;32m      6\u001b[0m     out \u001b[38;5;241m+\u001b[39m\u001b[38;5;241m=\u001b[39m i\n\u001b[1;32m      7\u001b[0m \u001b[38;5;28;01mreturn\u001b[39;00m out\n",
      "\u001b[0;31mException\u001b[0m: All provided types need to be <int>, you provided <list>."
     ]
    }
   ],
   "source": [
    "def integer_addition(*args):\n",
    "    out = 0\n",
    "    for i in args:\n",
    "        if not isinstance(i, int):\n",
    "            raise Exception(f\"All provided types need to be <int>, you provided <{i.__class__.__name__}>.\")\n",
    "        out += i\n",
    "    return out\n",
    "\n",
    "integer_addition(1, 2, 3, 4, 5, ['this is a list'])"
   ]
  },
  {
   "cell_type": "markdown",
   "metadata": {},
   "source": [
    "It would be clearer, if we substituted *Exception* with *TypeError*, to make it more clear, what exactly made our function stop: A wrong type."
   ]
  },
  {
   "cell_type": "markdown",
   "metadata": {},
   "source": [
    "### Assert\n",
    "\n",
    "The keyword assert allows us to save some space by putting the is expression and the raise of an Exception onto the same line.\n",
    "\n",
    "Assert is often used for small checks and the Description (the part that gives more info about the Error) is often omitted."
   ]
  },
  {
   "cell_type": "code",
   "execution_count": 104,
   "metadata": {
    "execution": {
     "iopub.execute_input": "2023-02-22T15:40:05.561188Z",
     "iopub.status.busy": "2023-02-22T15:40:05.560843Z",
     "iopub.status.idle": "2023-02-22T15:40:05.586415Z",
     "shell.execute_reply": "2023-02-22T15:40:05.585241Z"
    }
   },
   "outputs": [
    {
     "ename": "AssertionError",
     "evalue": "All provided types need to be <class 'int'>, you provided <class 'list'>.",
     "output_type": "error",
     "traceback": [
      "\u001b[0;31m---------------------------------------------------------------------------\u001b[0m",
      "\u001b[0;31mAssertionError\u001b[0m                            Traceback (most recent call last)",
      "Cell \u001b[0;32mIn[104], line 8\u001b[0m\n\u001b[1;32m      5\u001b[0m         out \u001b[38;5;241m+\u001b[39m\u001b[38;5;241m=\u001b[39m i\n\u001b[1;32m      6\u001b[0m     \u001b[38;5;28;01mreturn\u001b[39;00m out\n\u001b[0;32m----> 8\u001b[0m \u001b[43minteger_addition\u001b[49m\u001b[43m(\u001b[49m\u001b[38;5;241;43m1\u001b[39;49m\u001b[43m,\u001b[49m\u001b[43m \u001b[49m\u001b[38;5;241;43m2\u001b[39;49m\u001b[43m,\u001b[49m\u001b[43m \u001b[49m\u001b[38;5;241;43m3\u001b[39;49m\u001b[43m,\u001b[49m\u001b[43m \u001b[49m\u001b[38;5;241;43m4\u001b[39;49m\u001b[43m,\u001b[49m\u001b[43m \u001b[49m\u001b[38;5;241;43m5\u001b[39;49m\u001b[43m,\u001b[49m\u001b[43m \u001b[49m\u001b[43m[\u001b[49m\u001b[38;5;124;43m'\u001b[39;49m\u001b[38;5;124;43mthis is a list\u001b[39;49m\u001b[38;5;124;43m'\u001b[39;49m\u001b[43m]\u001b[49m\u001b[43m)\u001b[49m\n",
      "Cell \u001b[0;32mIn[104], line 4\u001b[0m, in \u001b[0;36minteger_addition\u001b[0;34m(*args)\u001b[0m\n\u001b[1;32m      2\u001b[0m out \u001b[38;5;241m=\u001b[39m \u001b[38;5;241m0\u001b[39m\n\u001b[1;32m      3\u001b[0m \u001b[38;5;28;01mfor\u001b[39;00m i \u001b[38;5;129;01min\u001b[39;00m args:\n\u001b[0;32m----> 4\u001b[0m     \u001b[38;5;28;01massert\u001b[39;00m \u001b[38;5;28misinstance\u001b[39m(i, \u001b[38;5;28mint\u001b[39m), \u001b[38;5;124mf\u001b[39m\u001b[38;5;124m\"\u001b[39m\u001b[38;5;124mAll provided types need to be <class \u001b[39m\u001b[38;5;124m'\u001b[39m\u001b[38;5;124mint\u001b[39m\u001b[38;5;124m'\u001b[39m\u001b[38;5;124m>, you provided <class \u001b[39m\u001b[38;5;124m'\u001b[39m\u001b[38;5;132;01m{\u001b[39;00mi\u001b[38;5;241m.\u001b[39m\u001b[38;5;18m__class__\u001b[39m\u001b[38;5;241m.\u001b[39m\u001b[38;5;18m__name__\u001b[39m\u001b[38;5;132;01m}\u001b[39;00m\u001b[38;5;124m'\u001b[39m\u001b[38;5;124m>.\u001b[39m\u001b[38;5;124m\"\u001b[39m\n\u001b[1;32m      5\u001b[0m     out \u001b[38;5;241m+\u001b[39m\u001b[38;5;241m=\u001b[39m i\n\u001b[1;32m      6\u001b[0m \u001b[38;5;28;01mreturn\u001b[39;00m out\n",
      "\u001b[0;31mAssertionError\u001b[0m: All provided types need to be <class 'int'>, you provided <class 'list'>."
     ]
    }
   ],
   "source": [
    "def integer_addition(*args):\n",
    "    out = 0\n",
    "    for i in args:\n",
    "        assert isinstance(i, int), f\"All provided types need to be <class 'int'>, you provided <class '{i.__class__.__name__}'>.\"\n",
    "        out += i\n",
    "    return out\n",
    "\n",
    "integer_addition(1, 2, 3, 4, 5, ['this is a list'])"
   ]
  },
  {
   "cell_type": "markdown",
   "metadata": {},
   "source": [
    "### Exception handling\n",
    "\n",
    "There are some keywords that help you manage Exceptions and Errors. The general flow looks like this:\n",
    "\n",
    "```python\n",
    "try:\n",
    "    pass\n",
    "except Exception:\n",
    "    pass\n",
    "else:\n",
    "    pass\n",
    "finally:\n",
    "    pass\n",
    "\n",
    "```\n",
    "\n",
    "That's a lot of keywords. Let's go through them in order. Let's use the `integer_addition()` function."
   ]
  },
  {
   "cell_type": "code",
   "execution_count": 105,
   "metadata": {
    "execution": {
     "iopub.execute_input": "2023-02-22T15:40:05.589163Z",
     "iopub.status.busy": "2023-02-22T15:40:05.588749Z",
     "iopub.status.idle": "2023-02-22T15:40:05.594333Z",
     "shell.execute_reply": "2023-02-22T15:40:05.593653Z"
    }
   },
   "outputs": [
    {
     "name": "stdout",
     "output_type": "stream",
     "text": [
      "Dropping every non-integer values.\n",
      "11\n"
     ]
    }
   ],
   "source": [
    "numbers = [1, 2, 3, 4.5, 5, 5.6]\n",
    "try: out = integer_addition(*numbers)\n",
    "except Exception:\n",
    "    print('Dropping every non-integer values.')\n",
    "    out = integer_addition(*filter(lambda x: isinstance(x, int), numbers))\n",
    "print(out)"
   ]
  },
  {
   "cell_type": "markdown",
   "metadata": {},
   "source": [
    "If we want to do something after the Exception is raised, but still stop the execution, we can simply input a `raise`"
   ]
  },
  {
   "cell_type": "code",
   "execution_count": 106,
   "metadata": {
    "execution": {
     "iopub.execute_input": "2023-02-22T15:40:05.597313Z",
     "iopub.status.busy": "2023-02-22T15:40:05.596814Z",
     "iopub.status.idle": "2023-02-22T15:40:05.622465Z",
     "shell.execute_reply": "2023-02-22T15:40:05.621127Z"
    }
   },
   "outputs": [
    {
     "name": "stdout",
     "output_type": "stream",
     "text": [
      "There are some non-integer values.\n",
      "[<class 'int'>, <class 'int'>, <class 'int'>, <class 'float'>, <class 'int'>, <class 'float'>]\n"
     ]
    },
    {
     "ename": "AssertionError",
     "evalue": "All provided types need to be <class 'int'>, you provided <class 'float'>.",
     "output_type": "error",
     "traceback": [
      "\u001b[0;31m---------------------------------------------------------------------------\u001b[0m",
      "\u001b[0;31mAssertionError\u001b[0m                            Traceback (most recent call last)",
      "Cell \u001b[0;32mIn[106], line 2\u001b[0m\n\u001b[1;32m      1\u001b[0m numbers \u001b[38;5;241m=\u001b[39m [\u001b[38;5;241m1\u001b[39m, \u001b[38;5;241m2\u001b[39m, \u001b[38;5;241m3\u001b[39m, \u001b[38;5;241m4.5\u001b[39m, \u001b[38;5;241m5\u001b[39m, \u001b[38;5;241m5.6\u001b[39m]\n\u001b[0;32m----> 2\u001b[0m \u001b[38;5;28;01mtry\u001b[39;00m: out \u001b[38;5;241m=\u001b[39m integer_addition(\u001b[38;5;241m*\u001b[39mnumbers)\n\u001b[1;32m      3\u001b[0m \u001b[38;5;28;01mexcept\u001b[39;00m \u001b[38;5;167;01mException\u001b[39;00m:\n\u001b[1;32m      4\u001b[0m     \u001b[38;5;28mprint\u001b[39m(\u001b[38;5;124m'\u001b[39m\u001b[38;5;124mThere are some non-integer values.\u001b[39m\u001b[38;5;124m'\u001b[39m)\n",
      "Cell \u001b[0;32mIn[104], line 4\u001b[0m, in \u001b[0;36minteger_addition\u001b[0;34m(*args)\u001b[0m\n\u001b[1;32m      2\u001b[0m out \u001b[38;5;241m=\u001b[39m \u001b[38;5;241m0\u001b[39m\n\u001b[1;32m      3\u001b[0m \u001b[38;5;28;01mfor\u001b[39;00m i \u001b[38;5;129;01min\u001b[39;00m args:\n\u001b[0;32m----> 4\u001b[0m     \u001b[38;5;28;01massert\u001b[39;00m \u001b[38;5;28misinstance\u001b[39m(i, \u001b[38;5;28mint\u001b[39m), \u001b[38;5;124mf\u001b[39m\u001b[38;5;124m\"\u001b[39m\u001b[38;5;124mAll provided types need to be <class \u001b[39m\u001b[38;5;124m'\u001b[39m\u001b[38;5;124mint\u001b[39m\u001b[38;5;124m'\u001b[39m\u001b[38;5;124m>, you provided <class \u001b[39m\u001b[38;5;124m'\u001b[39m\u001b[38;5;132;01m{\u001b[39;00mi\u001b[38;5;241m.\u001b[39m\u001b[38;5;18m__class__\u001b[39m\u001b[38;5;241m.\u001b[39m\u001b[38;5;18m__name__\u001b[39m\u001b[38;5;132;01m}\u001b[39;00m\u001b[38;5;124m'\u001b[39m\u001b[38;5;124m>.\u001b[39m\u001b[38;5;124m\"\u001b[39m\n\u001b[1;32m      5\u001b[0m     out \u001b[38;5;241m+\u001b[39m\u001b[38;5;241m=\u001b[39m i\n\u001b[1;32m      6\u001b[0m \u001b[38;5;28;01mreturn\u001b[39;00m out\n",
      "\u001b[0;31mAssertionError\u001b[0m: All provided types need to be <class 'int'>, you provided <class 'float'>."
     ]
    }
   ],
   "source": [
    "numbers = [1, 2, 3, 4.5, 5, 5.6]\n",
    "try: out = integer_addition(*numbers)\n",
    "except Exception:\n",
    "    print('There are some non-integer values.')\n",
    "    print([type(i) for i in numbers])\n",
    "    raise"
   ]
  },
  {
   "cell_type": "markdown",
   "metadata": {},
   "source": [
    "Using the `except Exception` expression is oftentimes too vague, because it catches all Errors (it is after all the base class). It would be better to just catch the Error we're after.\n",
    "\n",
    "This is bad practice, because it does not catch the correct Exception."
   ]
  },
  {
   "cell_type": "code",
   "execution_count": 107,
   "metadata": {
    "execution": {
     "iopub.execute_input": "2023-02-22T15:40:05.625344Z",
     "iopub.status.busy": "2023-02-22T15:40:05.625126Z",
     "iopub.status.idle": "2023-02-22T15:40:05.630427Z",
     "shell.execute_reply": "2023-02-22T15:40:05.629754Z"
    }
   },
   "outputs": [
    {
     "name": "stdout",
     "output_type": "stream",
     "text": [
      "There are some non-integer values.\n",
      "[<class 'int'>, <class 'int'>, <class 'int'>, <class 'int'>]\n"
     ]
    }
   ],
   "source": [
    "numbers = [1, 2, 3, 5]\n",
    "try:\n",
    "    out = integer_addition(*numbers)\n",
    "    var = bad_var\n",
    "except Exception:\n",
    "    print('There are some non-integer values.')\n",
    "    print([type(i) for i in numbers])"
   ]
  },
  {
   "cell_type": "markdown",
   "metadata": {},
   "source": [
    "With this code, which catches the `integer_addition()`'s AssertionError we see, that the `var = bad_var` statement is the one causing trouble."
   ]
  },
  {
   "cell_type": "code",
   "execution_count": 108,
   "metadata": {
    "execution": {
     "iopub.execute_input": "2023-02-22T15:40:05.633168Z",
     "iopub.status.busy": "2023-02-22T15:40:05.632823Z",
     "iopub.status.idle": "2023-02-22T15:40:05.650601Z",
     "shell.execute_reply": "2023-02-22T15:40:05.649762Z"
    }
   },
   "outputs": [
    {
     "ename": "NameError",
     "evalue": "name 'bad_var' is not defined",
     "output_type": "error",
     "traceback": [
      "\u001b[0;31m---------------------------------------------------------------------------\u001b[0m",
      "\u001b[0;31mNameError\u001b[0m                                 Traceback (most recent call last)",
      "Cell \u001b[0;32mIn[108], line 4\u001b[0m\n\u001b[1;32m      2\u001b[0m \u001b[38;5;28;01mtry\u001b[39;00m:\n\u001b[1;32m      3\u001b[0m     out \u001b[38;5;241m=\u001b[39m integer_addition(\u001b[38;5;241m*\u001b[39mnumbers)\n\u001b[0;32m----> 4\u001b[0m     var \u001b[38;5;241m=\u001b[39m \u001b[43mbad_var\u001b[49m\n\u001b[1;32m      5\u001b[0m \u001b[38;5;28;01mexcept\u001b[39;00m \u001b[38;5;167;01mAssertionError\u001b[39;00m:\n\u001b[1;32m      6\u001b[0m     \u001b[38;5;28mprint\u001b[39m(\u001b[38;5;124m'\u001b[39m\u001b[38;5;124mThere are some non-integer values.\u001b[39m\u001b[38;5;124m'\u001b[39m)\n",
      "\u001b[0;31mNameError\u001b[0m: name 'bad_var' is not defined"
     ]
    }
   ],
   "source": [
    "numbers = [1, 2, 3, 5]\n",
    "try:\n",
    "    out = integer_addition(*numbers)\n",
    "    var = bad_var\n",
    "except AssertionError:\n",
    "    print('There are some non-integer values.')\n",
    "    print([type(i) for i in numbers])"
   ]
  },
  {
   "cell_type": "markdown",
   "metadata": {},
   "source": [
    "Wit the `as` keyword we can also save the Exception to a variable."
   ]
  },
  {
   "cell_type": "code",
   "execution_count": 109,
   "metadata": {
    "execution": {
     "iopub.execute_input": "2023-02-22T15:40:05.653562Z",
     "iopub.status.busy": "2023-02-22T15:40:05.653232Z",
     "iopub.status.idle": "2023-02-22T15:40:05.659350Z",
     "shell.execute_reply": "2023-02-22T15:40:05.658382Z"
    }
   },
   "outputs": [
    {
     "name": "stdout",
     "output_type": "stream",
     "text": [
      "name 'bad_var' is not defined\n",
      "Some variables are missing.\n"
     ]
    }
   ],
   "source": [
    "numbers = [1, 2, 3, 5]\n",
    "try:\n",
    "    out = integer_addition(*numbers)\n",
    "    var = bad_var\n",
    "except AssertionError:\n",
    "    print('There are some non-integer values.')\n",
    "    print([type(i) for i in numbers])\n",
    "except NameError as e:\n",
    "    print(e)\n",
    "    print(\"Some variables are missing.\")"
   ]
  },
  {
   "cell_type": "markdown",
   "metadata": {},
   "source": [
    "Now let's look into the very long exception handling from above:\n",
    "\n",
    "The `else` clause is run, when the `try` clause does not raise an exception."
   ]
  },
  {
   "cell_type": "code",
   "execution_count": 110,
   "metadata": {
    "execution": {
     "iopub.execute_input": "2023-02-22T15:40:05.662229Z",
     "iopub.status.busy": "2023-02-22T15:40:05.661905Z",
     "iopub.status.idle": "2023-02-22T15:40:05.668005Z",
     "shell.execute_reply": "2023-02-22T15:40:05.667378Z"
    }
   },
   "outputs": [
    {
     "name": "stdout",
     "output_type": "stream",
     "text": [
      "Everything ran successfully.\n",
      "The sum is:  11\n"
     ]
    }
   ],
   "source": [
    "numbers = [1, 2, 3, 5]\n",
    "bad_var = 1\n",
    "try:\n",
    "    out = integer_addition(*numbers)\n",
    "    var = bad_var\n",
    "except AssertionError:\n",
    "    print('There are some non-integer values.')\n",
    "    print([type(i) for i in numbers])\n",
    "except NameError as e:\n",
    "    print(e)\n",
    "    print(\"Some variables are missing.\")\n",
    "else:\n",
    "    print('Everything ran successfully.')\n",
    "    print('The sum is: ', out)\n",
    "    \n",
    "# delete bad_var, so the cells above still raise a NameError\n",
    "del bad_var"
   ]
  },
  {
   "cell_type": "markdown",
   "metadata": {},
   "source": [
    "The `fianlly` clause runs no matter what happens. This can be used to free resources no matter what happens. If one of your objects occupies much space in the RAM (opened files, opened databases), you can use the finally as a sort-of garbage collection to free up the RAM again."
   ]
  },
  {
   "cell_type": "code",
   "execution_count": 111,
   "metadata": {
    "execution": {
     "iopub.execute_input": "2023-02-22T15:40:05.671117Z",
     "iopub.status.busy": "2023-02-22T15:40:05.670576Z",
     "iopub.status.idle": "2023-02-22T15:40:05.675784Z",
     "shell.execute_reply": "2023-02-22T15:40:05.675132Z"
    }
   },
   "outputs": [
    {
     "name": "stdout",
     "output_type": "stream",
     "text": [
      "Everything ran successfully.\n",
      "The sum is:  11\n",
      "Executing Finally...\n"
     ]
    }
   ],
   "source": [
    "numbers = [1, 2, 3, 5]\n",
    "bad_var = 1\n",
    "try:\n",
    "    out = integer_addition(*numbers)\n",
    "    var = bad_var\n",
    "except AssertionError:\n",
    "    print('There are some non-integer values.')\n",
    "    print([type(i) for i in numbers])\n",
    "except NameError as e:\n",
    "    print(e)\n",
    "    print(\"Some variables are missing.\")\n",
    "else:\n",
    "    print('Everything ran successfully.')\n",
    "    print('The sum is: ', out)\n",
    "finally:\n",
    "    print('Executing Finally...')\n",
    "    \n",
    "# delete bad_var, so the cells above still raise a NameError\n",
    "del bad_var"
   ]
  },
  {
   "cell_type": "markdown",
   "metadata": {},
   "source": [
    "### Custom Exceptions\n",
    "\n",
    "You can also create your own custom Exceptions."
   ]
  },
  {
   "cell_type": "code",
   "execution_count": 112,
   "metadata": {
    "execution": {
     "iopub.execute_input": "2023-02-22T15:40:05.678693Z",
     "iopub.status.busy": "2023-02-22T15:40:05.678476Z",
     "iopub.status.idle": "2023-02-22T15:40:05.695886Z",
     "shell.execute_reply": "2023-02-22T15:40:05.695220Z"
    }
   },
   "outputs": [
    {
     "ename": "BadError",
     "evalue": "(╯°□°)╯︵ ┻━┻ Welp. That's all about Exceptions. ┬─┬ノ( ◕◡◕ ノ)",
     "output_type": "error",
     "traceback": [
      "\u001b[0;31m---------------------------------------------------------------------------\u001b[0m",
      "\u001b[0;31mBadError\u001b[0m                                  Traceback (most recent call last)",
      "Cell \u001b[0;32mIn[112], line 7\u001b[0m\n\u001b[1;32m      4\u001b[0m         \u001b[38;5;28mself\u001b[39m\u001b[38;5;241m.\u001b[39mmessage \u001b[38;5;241m=\u001b[39m \u001b[38;5;124m'\u001b[39m\u001b[38;5;124m(╯°□°)╯︵ ┻━┻ \u001b[39m\u001b[38;5;124m'\u001b[39m \u001b[38;5;241m+\u001b[39m message \u001b[38;5;241m+\u001b[39m \u001b[38;5;124m'\u001b[39m\u001b[38;5;124m ┬─┬ノ( ◕◡◕ ノ)\u001b[39m\u001b[38;5;124m'\u001b[39m\n\u001b[1;32m      5\u001b[0m         \u001b[38;5;28msuper\u001b[39m()\u001b[38;5;241m.\u001b[39m\u001b[38;5;21m__init__\u001b[39m(\u001b[38;5;28mself\u001b[39m\u001b[38;5;241m.\u001b[39mmessage)\n\u001b[0;32m----> 7\u001b[0m \u001b[38;5;28;01mraise\u001b[39;00m BadError(\u001b[38;5;124m\"\u001b[39m\u001b[38;5;124mWelp. That\u001b[39m\u001b[38;5;124m'\u001b[39m\u001b[38;5;124ms all about Exceptions.\u001b[39m\u001b[38;5;124m\"\u001b[39m)\n",
      "\u001b[0;31mBadError\u001b[0m: (╯°□°)╯︵ ┻━┻ Welp. That's all about Exceptions. ┬─┬ノ( ◕◡◕ ノ)"
     ]
    }
   ],
   "source": [
    "class BadError(Exception):\n",
    "    \"\"\"Raised when the Error is really bad.\"\"\"\n",
    "    def __init__(self, message):\n",
    "        self.message = '(╯°□°)╯︵ ┻━┻ ' + message + ' ┬─┬ノ( ◕◡◕ ノ)'\n",
    "        super().__init__(self.message)\n",
    "        \n",
    "raise BadError(\"Welp. That's all about Exceptions.\")"
   ]
  },
  {
   "cell_type": "markdown",
   "metadata": {},
   "source": [
    "### Warnings\n",
    "\n",
    "Wanrings can be imported from the builtin library *warnings*. Warnings can:\n",
    " - Print text to the output to inform the user ('default').\n",
    " - Turn matching warnings into Exceptions ('error').\n",
    " - Never print matching warnings ('ignore').\n",
    " - Always print matching warnings ('always').\n",
    " - Print the first occurrence of a warning inside a module (used to inform the user about upcoming deprecations) ('module').\n",
    " - Print only the first occurrence of matching warnings ('once').\n",
    "\n",
    "Let's get into it. To print a standard warning just do something like this:"
   ]
  },
  {
   "cell_type": "markdown",
   "metadata": {},
   "source": [
    "**Simple warning**"
   ]
  },
  {
   "cell_type": "code",
   "execution_count": 113,
   "metadata": {
    "execution": {
     "iopub.execute_input": "2023-02-22T15:40:05.699044Z",
     "iopub.status.busy": "2023-02-22T15:40:05.698597Z",
     "iopub.status.idle": "2023-02-22T15:40:05.703888Z",
     "shell.execute_reply": "2023-02-22T15:40:05.703364Z"
    }
   },
   "outputs": [
    {
     "name": "stdout",
     "output_type": "stream",
     "text": [
      "0\n",
      "0\n",
      "0\n",
      "0\n"
     ]
    },
    {
     "name": "stderr",
     "output_type": "stream",
     "text": [
      "/tmp/ipykernel_5016/1203745237.py:7: UserWarning: Protected division. Returning 0.\n",
      "  warnings.warn(\"Protected division. Returning 0.\")\n"
     ]
    }
   ],
   "source": [
    "import warnings\n",
    "# resets warnings to default\n",
    "warnings.resetwarnings()\n",
    "\n",
    "def protected_division(x, y):\n",
    "    if y == 0:\n",
    "        warnings.warn(\"Protected division. Returning 0.\")\n",
    "        return 0\n",
    "    else:\n",
    "        return x / y\n",
    "    \n",
    "print(protected_division(1, 0))\n",
    "print(protected_division(2, 0))\n",
    "print(protected_division(3, 0))\n",
    "print(protected_division(4, 0))"
   ]
  },
  {
   "cell_type": "markdown",
   "metadata": {},
   "source": [
    "**Turn consecutive warnings into Exceptions**"
   ]
  },
  {
   "cell_type": "code",
   "execution_count": 114,
   "metadata": {
    "execution": {
     "iopub.execute_input": "2023-02-22T15:40:05.706841Z",
     "iopub.status.busy": "2023-02-22T15:40:05.706413Z",
     "iopub.status.idle": "2023-02-22T15:40:05.731457Z",
     "shell.execute_reply": "2023-02-22T15:40:05.730305Z"
    }
   },
   "outputs": [
    {
     "ename": "UserWarning",
     "evalue": "Protected division. Returning 0.",
     "output_type": "error",
     "traceback": [
      "\u001b[0;31m---------------------------------------------------------------------------\u001b[0m",
      "\u001b[0;31mUserWarning\u001b[0m                               Traceback (most recent call last)",
      "Cell \u001b[0;32mIn[114], line 14\u001b[0m\n\u001b[1;32m     11\u001b[0m     \u001b[38;5;28;01melse\u001b[39;00m:\n\u001b[1;32m     12\u001b[0m         \u001b[38;5;28;01mreturn\u001b[39;00m x \u001b[38;5;241m/\u001b[39m y\n\u001b[0;32m---> 14\u001b[0m \u001b[38;5;28mprint\u001b[39m(\u001b[43mprotected_division\u001b[49m\u001b[43m(\u001b[49m\u001b[38;5;241;43m1\u001b[39;49m\u001b[43m,\u001b[49m\u001b[43m \u001b[49m\u001b[38;5;241;43m0\u001b[39;49m\u001b[43m)\u001b[49m)\n\u001b[1;32m     15\u001b[0m \u001b[38;5;28mprint\u001b[39m(protected_division(\u001b[38;5;241m2\u001b[39m, \u001b[38;5;241m0\u001b[39m))\n\u001b[1;32m     16\u001b[0m \u001b[38;5;28mprint\u001b[39m(protected_division(\u001b[38;5;241m3\u001b[39m, \u001b[38;5;241m0\u001b[39m))\n",
      "Cell \u001b[0;32mIn[114], line 9\u001b[0m, in \u001b[0;36mprotected_division\u001b[0;34m(x, y)\u001b[0m\n\u001b[1;32m      7\u001b[0m \u001b[38;5;28;01mdef\u001b[39;00m \u001b[38;5;21mprotected_division\u001b[39m(x, y):\n\u001b[1;32m      8\u001b[0m     \u001b[38;5;28;01mif\u001b[39;00m y \u001b[38;5;241m==\u001b[39m \u001b[38;5;241m0\u001b[39m:\n\u001b[0;32m----> 9\u001b[0m         \u001b[43mwarnings\u001b[49m\u001b[38;5;241;43m.\u001b[39;49m\u001b[43mwarn\u001b[49m\u001b[43m(\u001b[49m\u001b[38;5;124;43m\"\u001b[39;49m\u001b[38;5;124;43mProtected division. Returning 0.\u001b[39;49m\u001b[38;5;124;43m\"\u001b[39;49m\u001b[43m)\u001b[49m\n\u001b[1;32m     10\u001b[0m         \u001b[38;5;28;01mreturn\u001b[39;00m \u001b[38;5;241m0\u001b[39m\n\u001b[1;32m     11\u001b[0m     \u001b[38;5;28;01melse\u001b[39;00m:\n",
      "\u001b[0;31mUserWarning\u001b[0m: Protected division. Returning 0."
     ]
    }
   ],
   "source": [
    "import warnings\n",
    "# resets warnings to default\n",
    "warnings.resetwarnings()\n",
    "\n",
    "warnings.filterwarnings('error')\n",
    "\n",
    "def protected_division(x, y):\n",
    "    if y == 0:\n",
    "        warnings.warn(\"Protected division. Returning 0.\")\n",
    "        return 0\n",
    "    else:\n",
    "        return x / y\n",
    "    \n",
    "print(protected_division(1, 0))\n",
    "print(protected_division(2, 0))\n",
    "print(protected_division(3, 0))\n",
    "print(protected_division(4, 0))"
   ]
  }
 ],
 "metadata": {
  "language_info": {
   "codemirror_mode": {
    "name": "ipython",
    "version": 3
   },
   "file_extension": ".py",
   "mimetype": "text/x-python",
   "name": "python",
   "nbconvert_exporter": "python",
   "pygments_lexer": "ipython3",
   "version": "3.8.16"
  }
 },
 "nbformat": 4,
 "nbformat_minor": 2
}
