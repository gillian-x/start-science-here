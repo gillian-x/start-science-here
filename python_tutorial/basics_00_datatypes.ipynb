{
 "cells": [
  {
   "attachments": {},
   "cell_type": "markdown",
   "metadata": {},
   "source": [
    "# 00_datatypes\n",
    "\n",
    "Open on binder:\n",
    "[![Binder](https://mybinder.org/badge_logo.svg)](https://mybinder.org/v2/gh/kevinsawade/start-science-here/HEAD?urlpath=%2Ftree%2F?filepath=python_tutorial%2Fbasic_python%2Fbasics_00_datatypes.ipynb)\n",
    "\n",
    "This notebook is based on the tutorial series by **Rajath Kumar M P**. Visit his GitHub to find out more: https://github.com/rajathkmp\n",
    "\n",
    "## What you will learn\n",
    "\n",
    "In this tutorial, you will learn:\n",
    "- How to run code in jupyter notebooks.\n",
    "- What operators there are and how to use them.\n",
    "- How python stores numbers.\n",
    "- What functions are already available in python (built-in).\n",
    "- What data structures python provides and what special methods they offer.\n",
    "- How to control the flow of python code.\n",
    "\n",
    "\n",
    "## How to navigate jupyter notebooks\n",
    "\n",
    "\n",
    "You are currently looking at a jupyter notebook. These notebooks are one of the possibilities how to write and execute python code. A jupyter notebook consists of separate code cells. A cell can be executed either by clicking on the play button in the toolbar on top or by pressing ```shift``` + ```enter```.\n",
    "\n",
    "\n",
    "## The zen of python\n",
    "\n",
    "This little snippet by Tim Peters contains 19 guiding principles how the python programming language should be used. We use it as a way to demonstrate how to execute code in jupyter-notebook cells. Click into the cell reading \"import this\" and run it by hitting \"shift\" and \"enter\" at the same time. Alternatively you can click on the \"run\" button in the top toolbar. After that continue in executing the cells. Have fun in learning python!"
   ]
  },
  {
   "cell_type": "code",
   "execution_count": 1,
   "metadata": {
    "execution": {
     "iopub.execute_input": "2023-02-22T15:39:32.994991Z",
     "iopub.status.busy": "2023-02-22T15:39:32.994608Z",
     "iopub.status.idle": "2023-02-22T15:39:33.087754Z",
     "shell.execute_reply": "2023-02-22T15:39:33.087089Z"
    }
   },
   "outputs": [
    {
     "name": "stdout",
     "output_type": "stream",
     "text": [
      "The Zen of Python, by Tim Peters\n",
      "\n",
      "Beautiful is better than ugly.\n",
      "Explicit is better than implicit.\n",
      "Simple is better than complex.\n",
      "Complex is better than complicated.\n",
      "Flat is better than nested.\n",
      "Sparse is better than dense.\n",
      "Readability counts.\n",
      "Special cases aren't special enough to break the rules.\n",
      "Although practicality beats purity.\n",
      "Errors should never pass silently.\n",
      "Unless explicitly silenced.\n",
      "In the face of ambiguity, refuse the temptation to guess.\n",
      "There should be one-- and preferably only one --obvious way to do it.\n",
      "Although that way may not be obvious at first unless you're Dutch.\n",
      "Now is better than never.\n",
      "Although never is often better than *right* now.\n",
      "If the implementation is hard to explain, it's a bad idea.\n",
      "If the implementation is easy to explain, it may be a good idea.\n",
      "Namespaces are one honking great idea -- let's do more of those!\n"
     ]
    }
   ],
   "source": [
    "import this"
   ]
  },
  {
   "cell_type": "markdown",
   "metadata": {},
   "source": [
    "## Antigravity\n",
    "\n",
    "Just execute this cell. Trust me I'm a tutorial."
   ]
  },
  {
   "cell_type": "code",
   "execution_count": 2,
   "metadata": {
    "execution": {
     "iopub.execute_input": "2023-02-22T15:39:33.125766Z",
     "iopub.status.busy": "2023-02-22T15:39:33.125189Z",
     "iopub.status.idle": "2023-02-22T15:39:33.155519Z",
     "shell.execute_reply": "2023-02-22T15:39:33.154771Z"
    }
   },
   "outputs": [],
   "source": [
    "import antigravity"
   ]
  },
  {
   "cell_type": "markdown",
   "metadata": {},
   "source": [
    "## Keywords\n",
    "\n",
    "Some words are automatically recognized by your viewer (in this case jupyter notebook) and highlighted accordingly. Keywords are case-sensitive. See the examples below:"
   ]
  },
  {
   "cell_type": "code",
   "execution_count": 3,
   "metadata": {
    "execution": {
     "iopub.execute_input": "2023-02-22T15:39:33.158909Z",
     "iopub.status.busy": "2023-02-22T15:39:33.158527Z",
     "iopub.status.idle": "2023-02-22T15:39:33.165709Z",
     "shell.execute_reply": "2023-02-22T15:39:33.165174Z"
    }
   },
   "outputs": [
    {
     "data": {
      "text/plain": [
       "['False',\n",
       " 'None',\n",
       " 'True',\n",
       " 'and',\n",
       " 'as',\n",
       " 'assert',\n",
       " 'async',\n",
       " 'await',\n",
       " 'break',\n",
       " 'class',\n",
       " 'continue',\n",
       " 'def',\n",
       " 'del',\n",
       " 'elif',\n",
       " 'else',\n",
       " 'except',\n",
       " 'finally',\n",
       " 'for',\n",
       " 'from',\n",
       " 'global',\n",
       " 'if',\n",
       " 'import',\n",
       " 'in',\n",
       " 'is',\n",
       " 'lambda',\n",
       " 'nonlocal',\n",
       " 'not',\n",
       " 'or',\n",
       " 'pass',\n",
       " 'raise',\n",
       " 'return',\n",
       " 'try',\n",
       " 'while',\n",
       " 'with',\n",
       " 'yield']"
      ]
     },
     "execution_count": 3,
     "metadata": {},
     "output_type": "execute_result"
    }
   ],
   "source": [
    "import keyword\n",
    "keyword.kwlist"
   ]
  },
  {
   "cell_type": "markdown",
   "metadata": {},
   "source": [
    "## Variables\n",
    "\n",
    "Values or other kinds of data in python is stored in variables. Variables are declared with an equal sign, which assigns the value on the right to the variable name on the left."
   ]
  },
  {
   "cell_type": "code",
   "execution_count": 4,
   "metadata": {
    "execution": {
     "iopub.execute_input": "2023-02-22T15:39:33.168631Z",
     "iopub.status.busy": "2023-02-22T15:39:33.168218Z",
     "iopub.status.idle": "2023-02-22T15:39:33.171461Z",
     "shell.execute_reply": "2023-02-22T15:39:33.170814Z"
    }
   },
   "outputs": [],
   "source": [
    "a = 3\n",
    "b = 2\n",
    "c = 'Hello World!'"
   ]
  },
  {
   "cell_type": "markdown",
   "metadata": {},
   "source": [
    "Access the variables values this way. Note how the cell returns the string with the annotation ```Out [4]:``` or a different integer. However, this way you can only return the value of the last line in a code cell."
   ]
  },
  {
   "cell_type": "code",
   "execution_count": 5,
   "metadata": {
    "execution": {
     "iopub.execute_input": "2023-02-22T15:39:33.174288Z",
     "iopub.status.busy": "2023-02-22T15:39:33.173877Z",
     "iopub.status.idle": "2023-02-22T15:39:33.177923Z",
     "shell.execute_reply": "2023-02-22T15:39:33.177293Z"
    }
   },
   "outputs": [
    {
     "data": {
      "text/plain": [
       "'Hello World!'"
      ]
     },
     "execution_count": 5,
     "metadata": {},
     "output_type": "execute_result"
    }
   ],
   "source": [
    "c"
   ]
  },
  {
   "cell_type": "code",
   "execution_count": 6,
   "metadata": {
    "execution": {
     "iopub.execute_input": "2023-02-22T15:39:33.180784Z",
     "iopub.status.busy": "2023-02-22T15:39:33.180375Z",
     "iopub.status.idle": "2023-02-22T15:39:33.184421Z",
     "shell.execute_reply": "2023-02-22T15:39:33.183756Z"
    }
   },
   "outputs": [
    {
     "data": {
      "text/plain": [
       "3"
      ]
     },
     "execution_count": 6,
     "metadata": {},
     "output_type": "execute_result"
    }
   ],
   "source": [
    "c\n",
    "b\n",
    "a"
   ]
  },
  {
   "cell_type": "markdown",
   "metadata": {},
   "source": [
    "If you want to see the values of multiple variables at once you can use the print function. See the examples below:\n",
    "```python\n",
    ">>> print(a) # prints variable a\n",
    "```\n",
    "Notice how the ```Out [x]:``` is missing from the output of these cells. This is because the print() function returns ```None```."
   ]
  },
  {
   "cell_type": "code",
   "execution_count": 7,
   "metadata": {
    "execution": {
     "iopub.execute_input": "2023-02-22T15:39:33.187113Z",
     "iopub.status.busy": "2023-02-22T15:39:33.186709Z",
     "iopub.status.idle": "2023-02-22T15:39:33.190143Z",
     "shell.execute_reply": "2023-02-22T15:39:33.189612Z"
    }
   },
   "outputs": [
    {
     "name": "stdout",
     "output_type": "stream",
     "text": [
      "3\n",
      "5\n",
      "Hello World!\n"
     ]
    }
   ],
   "source": [
    "print(a)\n",
    "print(a + b)\n",
    "print(c)"
   ]
  },
  {
   "cell_type": "code",
   "execution_count": 8,
   "metadata": {
    "execution": {
     "iopub.execute_input": "2023-02-22T15:39:33.192886Z",
     "iopub.status.busy": "2023-02-22T15:39:33.192350Z",
     "iopub.status.idle": "2023-02-22T15:39:33.195727Z",
     "shell.execute_reply": "2023-02-22T15:39:33.195186Z"
    }
   },
   "outputs": [
    {
     "name": "stdout",
     "output_type": "stream",
     "text": [
      "3\n",
      "None\n"
     ]
    }
   ],
   "source": [
    "d = print(a)\n",
    "print(d)"
   ]
  },
  {
   "cell_type": "markdown",
   "metadata": {},
   "source": [
    "There are some best practices when declaring variables.\n",
    " - Variable names should say something about their content.\n",
    " - When the variable uses a built-in name (e.g. print, None) an underscore ('\\_') can be appended.\n",
    " - Throwaway variables are most often called '\\_\\_' (double underscore)\n",
    " \n",
    "In the next cell a string is declared as a variable called print_ (with trailing underscore)"
   ]
  },
  {
   "cell_type": "code",
   "execution_count": 9,
   "metadata": {
    "execution": {
     "iopub.execute_input": "2023-02-22T15:39:33.198416Z",
     "iopub.status.busy": "2023-02-22T15:39:33.197863Z",
     "iopub.status.idle": "2023-02-22T15:39:33.201282Z",
     "shell.execute_reply": "2023-02-22T15:39:33.200763Z"
    }
   },
   "outputs": [
    {
     "name": "stdout",
     "output_type": "stream",
     "text": [
      "This should be printed\n"
     ]
    }
   ],
   "source": [
    "print_ = 'This should be printed'\n",
    "print(print_)"
   ]
  },
  {
   "cell_type": "markdown",
   "metadata": {
    "solution2": "hidden",
    "solution2_first": true
   },
   "source": [
    "\\begin{exercise}\\label{ex:ex0}\n",
    "Assign the number 1 to variable a and the number 1.2 to variable b.\n",
    "Print the values of each individual variable and the value of their sum using the print function.\n",
    "\\end{exercise}"
   ]
  },
  {
   "cell_type": "code",
   "execution_count": 10,
   "metadata": {
    "execution": {
     "iopub.execute_input": "2023-02-22T15:39:33.204314Z",
     "iopub.status.busy": "2023-02-22T15:39:33.203774Z",
     "iopub.status.idle": "2023-02-22T15:39:33.207371Z",
     "shell.execute_reply": "2023-02-22T15:39:33.206850Z"
    }
   },
   "outputs": [
    {
     "name": "stdout",
     "output_type": "stream",
     "text": [
      "1\n",
      "1.2\n",
      "2.2\n"
     ]
    }
   ],
   "source": [
    "a = 1\n",
    "b = 1.2\n",
    "print(a)\n",
    "print(b)\n",
    "print(a + b)"
   ]
  },
  {
   "cell_type": "markdown",
   "metadata": {},
   "source": [
    "## Comments\n",
    "\n",
    "Comments are declared by hashes (\\#). Python styleguides also dictate a space between the hash and the actual line. However, this is not a requirement for comments. Multi-line comments are declared by triple quotes ('''). If you like, you can un-comment the next lines and see how overwriting the print() function with a variable called print (without trailing underscore) breaks the system. If you want to resume you need to restart the Kernel. You can do this by clicking on \"Kernel\" in the top toolbar and then \"Restart\", or with button highlighted with a red box.\n",
    "\n",
    "<img src=\"restart_kernel.png\" alt=\"Toc\" width=\"1500\"/>"
   ]
  },
  {
   "cell_type": "code",
   "execution_count": 11,
   "metadata": {
    "execution": {
     "iopub.execute_input": "2023-02-22T15:39:33.210389Z",
     "iopub.status.busy": "2023-02-22T15:39:33.209829Z",
     "iopub.status.idle": "2023-02-22T15:39:33.213883Z",
     "shell.execute_reply": "2023-02-22T15:39:33.213238Z"
    }
   },
   "outputs": [
    {
     "name": "stdout",
     "output_type": "stream",
     "text": [
      "3\n"
     ]
    }
   ],
   "source": [
    "'''\n",
    "This is a multiline\n",
    "comment.\n",
    "'''\n",
    "\n",
    "a = 3\n",
    "\n",
    "# The next line breaks the system. Restart of the Kernel required.\n",
    "# print = 'This should be printed'\n",
    "\n",
    "print(a)"
   ]
  },
  {
   "cell_type": "markdown",
   "metadata": {},
   "source": [
    "## Operators\n",
    "\n",
    "### Arithmetic operations\n",
    "\n",
    "Following operations are built into python.\n",
    "\n",
    "| $\\Large Symbol$ | $\\Large Task\\ Performed$ |\n",
    "|-----------------|-------------------------|\n",
    "| $\\Large +$      | Addition                |\n",
    "| $\\Large -$      | Subtraction             |\n",
    "| $\\Large *$      | Multiplication          |\n",
    "| $\\Large /$      | Division                |\n",
    "| $\\Large \\%$     | Modulo                  |\n",
    "| $\\Large //$     | Floor Division          |\n",
    "| $\\Large **$     | Power of                |"
   ]
  },
  {
   "cell_type": "code",
   "execution_count": 12,
   "metadata": {
    "execution": {
     "iopub.execute_input": "2023-02-22T15:39:33.216834Z",
     "iopub.status.busy": "2023-02-22T15:39:33.216310Z",
     "iopub.status.idle": "2023-02-22T15:39:33.219953Z",
     "shell.execute_reply": "2023-02-22T15:39:33.219429Z"
    }
   },
   "outputs": [
    {
     "name": "stdout",
     "output_type": "stream",
     "text": [
      "4\n",
      "9\n",
      "3\n",
      "0.5\n"
     ]
    }
   ],
   "source": [
    "print(1 + 3)\n",
    "print(3 ** 2)\n",
    "print(5 - 2)\n",
    "print(1 / 2) # The result of this operation is special. We'll learn later why."
   ]
  },
  {
   "cell_type": "markdown",
   "metadata": {},
   "source": [
    "Prepare for some modulo functions!"
   ]
  },
  {
   "cell_type": "code",
   "execution_count": 13,
   "metadata": {
    "execution": {
     "iopub.execute_input": "2023-02-22T15:39:33.222683Z",
     "iopub.status.busy": "2023-02-22T15:39:33.222257Z",
     "iopub.status.idle": "2023-02-22T15:39:33.225992Z",
     "shell.execute_reply": "2023-02-22T15:39:33.225360Z"
    }
   },
   "outputs": [
    {
     "name": "stdout",
     "output_type": "stream",
     "text": [
      "0\n",
      "1\n",
      "0\n",
      "4\n"
     ]
    }
   ],
   "source": [
    "print(5 % 5)\n",
    "print(5 % 2)\n",
    "print(9 % 3)\n",
    "print(9 % 5)"
   ]
  },
  {
   "cell_type": "markdown",
   "metadata": {
    "solution2": "hidden",
    "solution2_first": true
   },
   "source": [
    "\\begin{exercise}\\label{ex:modulo}\n",
    "What does the modulo operation calculate?\n",
    "\\end{exercise}"
   ]
  },
  {
   "cell_type": "markdown",
   "metadata": {
    "solution2": "hidden"
   },
   "source": [
    "It computes the remainder of a division."
   ]
  },
  {
   "cell_type": "markdown",
   "metadata": {},
   "source": [
    "### Relational operators\n",
    "\n",
    "Following relational operators are in python:\n",
    "\n",
    "| $\\Large Symbol$ | $\\Large Task Performed$              |\n",
    "|----------------|---------------------------------------|\n",
    "| $\\Large ==$    | True if equal                         |\n",
    "| $\\Large !=$    | True if not equal                     |\n",
    "| $\\Large <$     | less than                             |\n",
    "| $\\Large >$     | greater than                          |\n",
    "| $\\Large <=$    | less than or equal to                 |\n",
    "| $\\Large >=$    | greater than or equal to              |\n",
    "| $\\Large is$    | Identity operator                     |"
   ]
  },
  {
   "cell_type": "code",
   "execution_count": 14,
   "metadata": {
    "execution": {
     "iopub.execute_input": "2023-02-22T15:39:33.228795Z",
     "iopub.status.busy": "2023-02-22T15:39:33.228390Z",
     "iopub.status.idle": "2023-02-22T15:39:33.231743Z",
     "shell.execute_reply": "2023-02-22T15:39:33.231212Z"
    }
   },
   "outputs": [
    {
     "name": "stdout",
     "output_type": "stream",
     "text": [
      "True\n"
     ]
    }
   ],
   "source": [
    "print(5 == 5)"
   ]
  },
  {
   "cell_type": "code",
   "execution_count": 15,
   "metadata": {
    "execution": {
     "iopub.execute_input": "2023-02-22T15:39:33.234467Z",
     "iopub.status.busy": "2023-02-22T15:39:33.233922Z",
     "iopub.status.idle": "2023-02-22T15:39:33.237274Z",
     "shell.execute_reply": "2023-02-22T15:39:33.236730Z"
    }
   },
   "outputs": [
    {
     "name": "stdout",
     "output_type": "stream",
     "text": [
      "True\n"
     ]
    }
   ],
   "source": [
    "print(4 <= 5)"
   ]
  },
  {
   "cell_type": "code",
   "execution_count": 16,
   "metadata": {
    "execution": {
     "iopub.execute_input": "2023-02-22T15:39:33.239918Z",
     "iopub.status.busy": "2023-02-22T15:39:33.239399Z",
     "iopub.status.idle": "2023-02-22T15:39:33.243538Z",
     "shell.execute_reply": "2023-02-22T15:39:33.242740Z"
    }
   },
   "outputs": [
    {
     "name": "stdout",
     "output_type": "stream",
     "text": [
      "False\n"
     ]
    }
   ],
   "source": [
    "print(5 != 5)"
   ]
  },
  {
   "cell_type": "code",
   "execution_count": 17,
   "metadata": {
    "execution": {
     "iopub.execute_input": "2023-02-22T15:39:33.246521Z",
     "iopub.status.busy": "2023-02-22T15:39:33.246093Z",
     "iopub.status.idle": "2023-02-22T15:39:33.249678Z",
     "shell.execute_reply": "2023-02-22T15:39:33.249129Z"
    }
   },
   "outputs": [
    {
     "name": "stdout",
     "output_type": "stream",
     "text": [
      "True\n",
      "False\n"
     ]
    }
   ],
   "source": [
    "a = 5\n",
    "b = 5.0\n",
    "print(a == b)\n",
    "print(a is b)"
   ]
  },
  {
   "cell_type": "markdown",
   "metadata": {
    "solution2": "hidden",
    "solution2_first": true
   },
   "source": [
    "\\begin{exercise}\\label{ex:equality_operator}\n",
    "Can you already guess, why the second relational operation is False?\n",
    "\\end{exercise}"
   ]
  },
  {
   "cell_type": "markdown",
   "metadata": {
    "solution2": "hidden"
   },
   "source": [
    "I have to admit that this question requires a certain amount of prior knowledge. It boils down to datatypes. A is an integer and b is a float. Datatypes will be introduced later on. Stay tuned."
   ]
  },
  {
   "cell_type": "markdown",
   "metadata": {},
   "source": [
    "### Bitwise operators\n",
    "\n",
    "Following bitwise operators are available:\n",
    "\n",
    "| $\\Large Symbol$ | $\\Large Task Performed$              |\n",
    "|----------------|---------------------------------------|\n",
    "| $\\Large \\&$    | Logical And                           |\n",
    "| $\\Large |$     | Logical OR                            |\n",
    "| $\\Large \\hat{}$| XOR (exclusive OR)                    |\n",
    "| $\\Large \\sim$  | Negate                                |\n",
    "| $\\Large >>$    | Right shift                           |\n",
    "| $\\Large <<$    | Left shift                            |"
   ]
  },
  {
   "cell_type": "code",
   "execution_count": 18,
   "metadata": {
    "execution": {
     "iopub.execute_input": "2023-02-22T15:39:33.253431Z",
     "iopub.status.busy": "2023-02-22T15:39:33.253096Z",
     "iopub.status.idle": "2023-02-22T15:39:33.256131Z",
     "shell.execute_reply": "2023-02-22T15:39:33.255578Z"
    }
   },
   "outputs": [],
   "source": [
    "a = 2 # 0b10 in binary\n",
    "b = 3 # 0b11 in binary"
   ]
  },
  {
   "cell_type": "code",
   "execution_count": 19,
   "metadata": {
    "execution": {
     "iopub.execute_input": "2023-02-22T15:39:33.258572Z",
     "iopub.status.busy": "2023-02-22T15:39:33.258214Z",
     "iopub.status.idle": "2023-02-22T15:39:33.262032Z",
     "shell.execute_reply": "2023-02-22T15:39:33.261509Z"
    }
   },
   "outputs": [
    {
     "name": "stdout",
     "output_type": "stream",
     "text": [
      "0b10\n",
      "0b11\n",
      "2\n",
      "0b10\n"
     ]
    }
   ],
   "source": [
    "print(bin(a))\n",
    "print(bin(b))\n",
    "print(a & b)\n",
    "print(bin(a & b))"
   ]
  },
  {
   "cell_type": "markdown",
   "metadata": {},
   "source": [
    "The result can be explained by remembering that '&' is a **bitwise** operator. So let's compare the binaries on a bitwise basis:\n",
    "\n",
    "- First bits: 1 & 1 equals 1\n",
    "- Second bits: 1 & 0 equals 0"
   ]
  },
  {
   "cell_type": "code",
   "execution_count": 20,
   "metadata": {
    "execution": {
     "iopub.execute_input": "2023-02-22T15:39:33.264598Z",
     "iopub.status.busy": "2023-02-22T15:39:33.264195Z",
     "iopub.status.idle": "2023-02-22T15:39:33.267712Z",
     "shell.execute_reply": "2023-02-22T15:39:33.267168Z"
    }
   },
   "outputs": [
    {
     "name": "stdout",
     "output_type": "stream",
     "text": [
      "1\n",
      "0\n"
     ]
    }
   ],
   "source": [
    "print(1 & 1)\n",
    "print(0 & 1)"
   ]
  },
  {
   "cell_type": "code",
   "execution_count": 21,
   "metadata": {
    "execution": {
     "iopub.execute_input": "2023-02-22T15:39:33.270212Z",
     "iopub.status.busy": "2023-02-22T15:39:33.269808Z",
     "iopub.status.idle": "2023-02-22T15:39:33.273231Z",
     "shell.execute_reply": "2023-02-22T15:39:33.272706Z"
    }
   },
   "outputs": [
    {
     "name": "stdout",
     "output_type": "stream",
     "text": [
      "2\n"
     ]
    }
   ],
   "source": [
    "print(5 >> 1)"
   ]
  },
  {
   "cell_type": "markdown",
   "metadata": {},
   "source": [
    "0000 0101 -> 5\n",
    "\n",
    "Shifting the digits by 1 to the right and zero padding\n",
    "\n",
    "0000 0010 -> 2"
   ]
  },
  {
   "cell_type": "code",
   "execution_count": 22,
   "metadata": {
    "execution": {
     "iopub.execute_input": "2023-02-22T15:39:33.276036Z",
     "iopub.status.busy": "2023-02-22T15:39:33.275402Z",
     "iopub.status.idle": "2023-02-22T15:39:33.278916Z",
     "shell.execute_reply": "2023-02-22T15:39:33.278370Z"
    }
   },
   "outputs": [
    {
     "name": "stdout",
     "output_type": "stream",
     "text": [
      "10\n"
     ]
    }
   ],
   "source": [
    "print(5 << 1)"
   ]
  },
  {
   "cell_type": "markdown",
   "metadata": {},
   "source": [
    "0000 0101 -> 5\n",
    "\n",
    "Shifting the digits by 1 to the left and zero padding\n",
    "\n",
    "0000 1010 -> 10"
   ]
  },
  {
   "cell_type": "markdown",
   "metadata": {
    "solution2": "hidden",
    "solution2_first": true
   },
   "source": [
    "\\begin{exercise}\n",
    "Using bitwise operators do some logic calculations. Try to find out what 1 AND 1, 1 AND 0, 1 OR 0, 0 OR 1, 1 XOR 0, 1 XOR 1 are.\n",
    "\\end{exercise}\n",
    "\n",
    "```python\n",
    "# example for False AND False\n",
    "print(0 & 0)\n",
    "```"
   ]
  },
  {
   "cell_type": "code",
   "execution_count": 23,
   "metadata": {
    "execution": {
     "iopub.execute_input": "2023-02-22T15:39:33.281538Z",
     "iopub.status.busy": "2023-02-22T15:39:33.281108Z",
     "iopub.status.idle": "2023-02-22T15:39:33.285120Z",
     "shell.execute_reply": "2023-02-22T15:39:33.284600Z"
    }
   },
   "outputs": [
    {
     "name": "stdout",
     "output_type": "stream",
     "text": [
      "1\n",
      "0\n",
      "1\n",
      "1\n",
      "1\n",
      "0\n"
     ]
    }
   ],
   "source": [
    "print(1 & 1)\n",
    "print(1 & 0)\n",
    "print(1 | 0)\n",
    "print(0 | 1)\n",
    "print(1 ^ 0)\n",
    "print(1 ^ 1)"
   ]
  },
  {
   "cell_type": "markdown",
   "metadata": {
    "solution2": "shown",
    "solution2_first": true
   },
   "source": [
    "### Boolean operators\n",
    "\n",
    "Boolean operators are used on booleans, that is truth, values. Following boolean operators are available:\n",
    "\n",
    "| $\\Large Operator$ | $\\Large Task Performed$               |\n",
    "|-------------------|---------------------------------------|\n",
    "| $\\Large and$      | Logical AND                           |\n",
    "| $\\Large or$       | Logical OR                            |\n",
    "| $\\Large not$      | Negate                                |\n",
    "\n",
    "Because python's booleans `True` and `False` are just different representations of `1` (or any other integer) and `0`, we can write the exercise from above with boolean values, but using bitwise operators:"
   ]
  },
  {
   "cell_type": "code",
   "execution_count": 24,
   "metadata": {
    "execution": {
     "iopub.execute_input": "2023-02-22T15:39:33.287934Z",
     "iopub.status.busy": "2023-02-22T15:39:33.287298Z",
     "iopub.status.idle": "2023-02-22T15:39:33.291342Z",
     "shell.execute_reply": "2023-02-22T15:39:33.290823Z"
    }
   },
   "outputs": [
    {
     "name": "stdout",
     "output_type": "stream",
     "text": [
      "True\n",
      "False\n",
      "True\n",
      "True\n",
      "True\n",
      "False\n"
     ]
    }
   ],
   "source": [
    "print(True & True)\n",
    "print(True & False)\n",
    "print(True | False)\n",
    "print(False | True)\n",
    "print(True ^ False)\n",
    "print(True ^ True)"
   ]
  },
  {
   "cell_type": "code",
   "execution_count": 25,
   "metadata": {
    "execution": {
     "iopub.execute_input": "2023-02-22T15:39:33.294067Z",
     "iopub.status.busy": "2023-02-22T15:39:33.293450Z",
     "iopub.status.idle": "2023-02-22T15:39:33.297499Z",
     "shell.execute_reply": "2023-02-22T15:39:33.296979Z"
    }
   },
   "outputs": [
    {
     "name": "stdout",
     "output_type": "stream",
     "text": [
      "True\n",
      "False\n",
      "True\n",
      "True\n",
      "True\n",
      "False\n"
     ]
    }
   ],
   "source": [
    "print(False or True)\n",
    "print(False and False)\n",
    "print(True or False)\n",
    "print(True or True)\n",
    "print(not False)\n",
    "print(not True)"
   ]
  },
  {
   "cell_type": "markdown",
   "metadata": {},
   "source": [
    "## Floats and ints\n",
    "\n",
    "There are two datatypes to hold numerical values in python. The `int` (integer) datatype captures negative and positive numbers `(-2, -1, 0, 1, 2, 15)`. The `float` (floating point) datatype captures all numbers imaginable `(1.0, 2.3, 5.245, 3.141)`. Certain floats (`1.0`) can also be integers (you can omit the decimal zero and just use a dot to tell python, that the number is a float (`1.`)). Python is pretty easy-going on datatypes (polymorphism) and can compare `int` and `float`. This would not be possible for some other programming languages."
   ]
  },
  {
   "cell_type": "code",
   "execution_count": 26,
   "metadata": {
    "execution": {
     "iopub.execute_input": "2023-02-22T15:39:33.300283Z",
     "iopub.status.busy": "2023-02-22T15:39:33.299659Z",
     "iopub.status.idle": "2023-02-22T15:39:33.303790Z",
     "shell.execute_reply": "2023-02-22T15:39:33.303269Z"
    }
   },
   "outputs": [
    {
     "data": {
      "text/plain": [
       "True"
      ]
     },
     "execution_count": 26,
     "metadata": {},
     "output_type": "execute_result"
    }
   ],
   "source": [
    "1 == 1."
   ]
  },
  {
   "cell_type": "markdown",
   "metadata": {},
   "source": [
    "Addition of floats and ints also works like a charm and yields the higher order datatype."
   ]
  },
  {
   "cell_type": "code",
   "execution_count": 27,
   "metadata": {
    "execution": {
     "iopub.execute_input": "2023-02-22T15:39:33.306499Z",
     "iopub.status.busy": "2023-02-22T15:39:33.305929Z",
     "iopub.status.idle": "2023-02-22T15:39:33.309396Z",
     "shell.execute_reply": "2023-02-22T15:39:33.308879Z"
    }
   },
   "outputs": [
    {
     "name": "stdout",
     "output_type": "stream",
     "text": [
      "3\n",
      "3.0\n",
      "3.5\n"
     ]
    }
   ],
   "source": [
    "print(1 + 2)\n",
    "print(1.0 + 2.0)\n",
    "print(1.5 + 2)"
   ]
  },
  {
   "cell_type": "markdown",
   "metadata": {},
   "source": [
    "Also, integer division (in contrast to other programming languages) works even when the result is not an integer. Some programming languages yield 2 as the result for `5 / 2`. In python, we can reproduce that behavior by using the floor division (`//`):"
   ]
  },
  {
   "cell_type": "code",
   "execution_count": 28,
   "metadata": {
    "execution": {
     "iopub.execute_input": "2023-02-22T15:39:33.312047Z",
     "iopub.status.busy": "2023-02-22T15:39:33.311691Z",
     "iopub.status.idle": "2023-02-22T15:39:33.315341Z",
     "shell.execute_reply": "2023-02-22T15:39:33.314819Z"
    }
   },
   "outputs": [
    {
     "data": {
      "text/plain": [
       "2"
      ]
     },
     "execution_count": 28,
     "metadata": {},
     "output_type": "execute_result"
    }
   ],
   "source": [
    "5 // 2"
   ]
  },
  {
   "cell_type": "markdown",
   "metadata": {},
   "source": [
    "So don't worry about divisions:"
   ]
  },
  {
   "cell_type": "code",
   "execution_count": 29,
   "metadata": {
    "execution": {
     "iopub.execute_input": "2023-02-22T15:39:33.317963Z",
     "iopub.status.busy": "2023-02-22T15:39:33.317609Z",
     "iopub.status.idle": "2023-02-22T15:39:33.321234Z",
     "shell.execute_reply": "2023-02-22T15:39:33.320715Z"
    }
   },
   "outputs": [
    {
     "data": {
      "text/plain": [
       "2.5"
      ]
     },
     "execution_count": 29,
     "metadata": {},
     "output_type": "execute_result"
    }
   ],
   "source": [
    "5 / 2"
   ]
  },
  {
   "cell_type": "markdown",
   "metadata": {},
   "source": [
    "However, some tasks require ints and floats are not allowed. Python will let you know, that it expected an `int` with a handy error message:"
   ]
  },
  {
   "cell_type": "code",
   "execution_count": 30,
   "metadata": {
    "execution": {
     "iopub.execute_input": "2023-02-22T15:39:33.323870Z",
     "iopub.status.busy": "2023-02-22T15:39:33.323520Z",
     "iopub.status.idle": "2023-02-22T15:39:33.495988Z",
     "shell.execute_reply": "2023-02-22T15:39:33.495283Z"
    }
   },
   "outputs": [
    {
     "name": "stderr",
     "output_type": "stream",
     "text": [
      "<>:1: SyntaxWarning: list indices must be integers or slices, not float; perhaps you missed a comma?\n",
      "<>:1: SyntaxWarning: list indices must be integers or slices, not float; perhaps you missed a comma?\n",
      "/tmp/ipykernel_2468/3465051626.py:1: SyntaxWarning: list indices must be integers or slices, not float; perhaps you missed a comma?\n",
      "  ['a', 'b', 'c'][1.0]\n",
      "/tmp/ipykernel_2468/3465051626.py:1: SyntaxWarning: list indices must be integers or slices, not float; perhaps you missed a comma?\n",
      "  ['a', 'b', 'c'][1.0]\n",
      "/tmp/ipykernel_2468/3465051626.py:1: SyntaxWarning: list indices must be integers or slices, not float; perhaps you missed a comma?\n",
      "  ['a', 'b', 'c'][1.0]\n"
     ]
    },
    {
     "ename": "TypeError",
     "evalue": "list indices must be integers or slices, not float",
     "output_type": "error",
     "traceback": [
      "\u001b[0;31m---------------------------------------------------------------------------\u001b[0m",
      "\u001b[0;31mTypeError\u001b[0m                                 Traceback (most recent call last)",
      "Cell \u001b[0;32mIn[30], line 1\u001b[0m\n\u001b[0;32m----> 1\u001b[0m \u001b[43m[\u001b[49m\u001b[38;5;124;43m'\u001b[39;49m\u001b[38;5;124;43ma\u001b[39;49m\u001b[38;5;124;43m'\u001b[39;49m\u001b[43m,\u001b[49m\u001b[43m \u001b[49m\u001b[38;5;124;43m'\u001b[39;49m\u001b[38;5;124;43mb\u001b[39;49m\u001b[38;5;124;43m'\u001b[39;49m\u001b[43m,\u001b[49m\u001b[43m \u001b[49m\u001b[38;5;124;43m'\u001b[39;49m\u001b[38;5;124;43mc\u001b[39;49m\u001b[38;5;124;43m'\u001b[39;49m\u001b[43m]\u001b[49m\u001b[43m[\u001b[49m\u001b[38;5;241;43m1.0\u001b[39;49m\u001b[43m]\u001b[49m\n",
      "\u001b[0;31mTypeError\u001b[0m: list indices must be integers or slices, not float"
     ]
    }
   ],
   "source": [
    "['a', 'b', 'c'][1.0]"
   ]
  },
  {
   "cell_type": "markdown",
   "metadata": {},
   "source": [
    "## Built-in functions and printing\n",
    "\n",
    "Bog-standard python comes with some already declared functions which we can use right from the start."
   ]
  },
  {
   "cell_type": "markdown",
   "metadata": {},
   "source": [
    "### The help() function\n",
    "\n",
    "The ```help()``` function can be used to get information more information about objects, functions and methods."
   ]
  },
  {
   "cell_type": "code",
   "execution_count": 31,
   "metadata": {
    "execution": {
     "iopub.execute_input": "2023-02-22T15:39:33.499429Z",
     "iopub.status.busy": "2023-02-22T15:39:33.498961Z",
     "iopub.status.idle": "2023-02-22T15:39:33.503774Z",
     "shell.execute_reply": "2023-02-22T15:39:33.503140Z"
    }
   },
   "outputs": [
    {
     "name": "stdout",
     "output_type": "stream",
     "text": [
      "Help on built-in function print in module builtins:\n",
      "\n",
      "print(...)\n",
      "    print(value, ..., sep=' ', end='\\n', file=sys.stdout, flush=False)\n",
      "    \n",
      "    Prints the values to a stream, or to sys.stdout by default.\n",
      "    Optional keyword arguments:\n",
      "    file:  a file-like object (stream); defaults to the current sys.stdout.\n",
      "    sep:   string inserted between values, default a space.\n",
      "    end:   string appended after the last value, default a newline.\n",
      "    flush: whether to forcibly flush the stream.\n",
      "\n"
     ]
    }
   ],
   "source": [
    "help(print)"
   ]
  },
  {
   "cell_type": "markdown",
   "metadata": {},
   "source": [
    "### Conversion between numbering systems\n",
    "\n",
    "To differentiate our base-10 numbers from binary, hexadecimal, and octal numbering systems the other systems get prefixed with these prefixes:\n",
    "\n",
    "- 0b: binary\n",
    "- 0x: hexadecimal\n",
    "- 0o: octal\n",
    "\n",
    "With the built-in functions bin(), hex() and oct() numbers can be converted."
   ]
  },
  {
   "cell_type": "code",
   "execution_count": 32,
   "metadata": {
    "execution": {
     "iopub.execute_input": "2023-02-22T15:39:33.506669Z",
     "iopub.status.busy": "2023-02-22T15:39:33.506238Z",
     "iopub.status.idle": "2023-02-22T15:39:33.509409Z",
     "shell.execute_reply": "2023-02-22T15:39:33.508741Z"
    }
   },
   "outputs": [],
   "source": [
    "a = 5\n",
    "b = 0b00001111\n",
    "c = 0xff"
   ]
  },
  {
   "cell_type": "code",
   "execution_count": 33,
   "metadata": {
    "execution": {
     "iopub.execute_input": "2023-02-22T15:39:33.512371Z",
     "iopub.status.busy": "2023-02-22T15:39:33.511965Z",
     "iopub.status.idle": "2023-02-22T15:39:33.515480Z",
     "shell.execute_reply": "2023-02-22T15:39:33.514809Z"
    }
   },
   "outputs": [
    {
     "name": "stdout",
     "output_type": "stream",
     "text": [
      "5\n",
      "15\n",
      "255\n"
     ]
    }
   ],
   "source": [
    "print(a)\n",
    "print(b)\n",
    "print(c)"
   ]
  },
  {
   "cell_type": "code",
   "execution_count": 34,
   "metadata": {
    "execution": {
     "iopub.execute_input": "2023-02-22T15:39:33.519176Z",
     "iopub.status.busy": "2023-02-22T15:39:33.518837Z",
     "iopub.status.idle": "2023-02-22T15:39:33.522696Z",
     "shell.execute_reply": "2023-02-22T15:39:33.522006Z"
    }
   },
   "outputs": [
    {
     "name": "stdout",
     "output_type": "stream",
     "text": [
      "0o5\n",
      "0o17\n",
      "0b11111111\n"
     ]
    }
   ],
   "source": [
    "print(oct(a))\n",
    "print(oct(b))\n",
    "print(bin(c))"
   ]
  },
  {
   "cell_type": "markdown",
   "metadata": {},
   "source": [
    "### The IEEE-754 numbering system\n",
    "\n",
    "The IEEE-754 (spoken: I-triple-E) standard defines a numbering system, that is most commonly known for its 32 and 64 bit (single and double precision) numbers. The IEEE system is used on almost all computers to store floating point numbers. If you tell python to store a float like `0.5` as the variable `a` your computer stores it as a sequence of 32 bits.\n",
    "\n",
    "<img src=\"Single-Precision-IEEE-754-Floating-Point-Standard.jpg\" alt=\"IEE-754 standard\" width=\"500\"/>\n",
    "\n",
    "(image from https://www.geeksforgeeks.org/)\n",
    "\n",
    "- The 31st bit (also called sign bit) tells whether the number is negative (1) or positive (-1)\n",
    "- The next 8 bits (bits 30 to 23) are the exponent bits. The sign is an 8-bit based integer. Meaning an exponent bit of `0b00000000` means the exponent is $0 - 127 = -127$. The base of the exponent is 2 ($2^{-127}$). An exponent of `0b11111111` is ($255 - 127 = 128$).\n",
    "- The remaining 23 bits are the significant precision bits with the formula:\n",
    "\n",
    "\\begin{equation}\n",
    "1 + \\sum_{i = 1}^{23} b_{23-i} \\cdot 2^{-i}\n",
    "\\end{equation}\n",
    "\n",
    "This means the bits \n",
    "- `0b100000...` translate to $ 1 + 1 \\cdot 2^{-1} + 0 + \\dots = 1.5$\n",
    "- `0b010000...` to $ 1 + 0 \\cdot 2^{-1} + 1 \\cdot 2^{-2} + 0 + \\dots = 1.25$\n",
    "- `0b001000...` to $1.125$.\n",
    "- `0b000100...` to $1.0625$.\n",
    "- `0b100100...` to $1.5625$."
   ]
  },
  {
   "cell_type": "code",
   "execution_count": 35,
   "metadata": {
    "execution": {
     "iopub.execute_input": "2023-02-22T15:39:33.526383Z",
     "iopub.status.busy": "2023-02-22T15:39:33.525829Z",
     "iopub.status.idle": "2023-02-22T15:39:33.529206Z",
     "shell.execute_reply": "2023-02-22T15:39:33.528636Z"
    }
   },
   "outputs": [
    {
     "name": "stdout",
     "output_type": "stream",
     "text": [
      "255\n"
     ]
    }
   ],
   "source": [
    "print(0b11111111)"
   ]
  },
  {
   "cell_type": "code",
   "execution_count": 36,
   "metadata": {
    "execution": {
     "iopub.execute_input": "2023-02-22T15:39:33.531754Z",
     "iopub.status.busy": "2023-02-22T15:39:33.531344Z",
     "iopub.status.idle": "2023-02-22T15:39:33.546698Z",
     "shell.execute_reply": "2023-02-22T15:39:33.545990Z"
    }
   },
   "outputs": [
    {
     "ename": "ModuleNotFoundError",
     "evalue": "No module named 'IEEE754'",
     "output_type": "error",
     "traceback": [
      "\u001b[0;31m---------------------------------------------------------------------------\u001b[0m",
      "\u001b[0;31mModuleNotFoundError\u001b[0m                       Traceback (most recent call last)",
      "Cell \u001b[0;32mIn[36], line 1\u001b[0m\n\u001b[0;32m----> 1\u001b[0m \u001b[38;5;28;01mfrom\u001b[39;00m \u001b[38;5;21;01mIEEE754\u001b[39;00m \u001b[38;5;28;01mimport\u001b[39;00m float_to_ieee\n\u001b[1;32m      3\u001b[0m \u001b[38;5;28mprint\u001b[39m(float_to_ieee(\u001b[38;5;241m0.5\u001b[39m))\n\u001b[1;32m      4\u001b[0m \u001b[38;5;28mprint\u001b[39m(float_to_ieee(\u001b[38;5;241m-\u001b[39m\u001b[38;5;241m0.5\u001b[39m))\n",
      "\u001b[0;31mModuleNotFoundError\u001b[0m: No module named 'IEEE754'"
     ]
    }
   ],
   "source": [
    "from IEEE754 import float_to_ieee\n",
    "\n",
    "print(float_to_ieee(0.5))\n",
    "print(float_to_ieee(-0.5))"
   ]
  },
  {
   "cell_type": "code",
   "execution_count": 37,
   "metadata": {
    "execution": {
     "iopub.execute_input": "2023-02-22T15:39:33.549416Z",
     "iopub.status.busy": "2023-02-22T15:39:33.549080Z",
     "iopub.status.idle": "2023-02-22T15:39:33.595293Z",
     "shell.execute_reply": "2023-02-22T15:39:33.594643Z"
    }
   },
   "outputs": [
    {
     "ename": "ModuleNotFoundError",
     "evalue": "No module named 'IEEE754'",
     "output_type": "error",
     "traceback": [
      "\u001b[0;31m---------------------------------------------------------------------------\u001b[0m",
      "\u001b[0;31mModuleNotFoundError\u001b[0m                       Traceback (most recent call last)",
      "Cell \u001b[0;32mIn[37], line 1\u001b[0m\n\u001b[0;32m----> 1\u001b[0m \u001b[38;5;28;01mfrom\u001b[39;00m \u001b[38;5;21;01mIEEE754\u001b[39;00m \u001b[38;5;28;01mimport\u001b[39;00m ieee_to_float\n\u001b[1;32m      3\u001b[0m \u001b[38;5;28mprint\u001b[39m(ieee_to_float(\u001b[38;5;124m'\u001b[39m\u001b[38;5;124m10111111000000000000000000000000\u001b[39m\u001b[38;5;124m'\u001b[39m))\n\u001b[1;32m      4\u001b[0m \u001b[38;5;28mprint\u001b[39m(ieee_to_float(\u001b[38;5;124m'\u001b[39m\u001b[38;5;124m10111111000000000000010000000000\u001b[39m\u001b[38;5;124m'\u001b[39m))\n",
      "\u001b[0;31mModuleNotFoundError\u001b[0m: No module named 'IEEE754'"
     ]
    }
   ],
   "source": [
    "from IEEE754 import ieee_to_float\n",
    "\n",
    "print(ieee_to_float('10111111000000000000000000000000'))\n",
    "print(ieee_to_float('10111111000000000000010000000000'))"
   ]
  },
  {
   "cell_type": "markdown",
   "metadata": {
    "solution2": "shown",
    "solution2_first": true
   },
   "source": [
    "\\begin{exercise}\n",
    "What do you think is the problem with IEEE754 and the number `0.1`?\n",
    "\\end{exercise}"
   ]
  },
  {
   "cell_type": "markdown",
   "metadata": {
    "solution2": "shown"
   },
   "source": [
    "The number 0.1 does not have a representation in IEE547, because in binary it is a real non-rational (i.e. periodic) number. Just like the number 1/3 can't be represented in decimal notation, as the decimal places never halt (0.333333333). For the IEEE754 representation of 0.1, the periodic repeat unit is `1001`:"
   ]
  },
  {
   "cell_type": "code",
   "execution_count": 38,
   "metadata": {
    "execution": {
     "iopub.execute_input": "2023-02-22T15:39:33.598588Z",
     "iopub.status.busy": "2023-02-22T15:39:33.598140Z",
     "iopub.status.idle": "2023-02-22T15:39:33.612408Z",
     "shell.execute_reply": "2023-02-22T15:39:33.611737Z"
    }
   },
   "outputs": [
    {
     "ename": "ModuleNotFoundError",
     "evalue": "No module named 'IEEE754'",
     "output_type": "error",
     "traceback": [
      "\u001b[0;31m---------------------------------------------------------------------------\u001b[0m",
      "\u001b[0;31mModuleNotFoundError\u001b[0m                       Traceback (most recent call last)",
      "Cell \u001b[0;32mIn[38], line 1\u001b[0m\n\u001b[0;32m----> 1\u001b[0m \u001b[38;5;28;01mfrom\u001b[39;00m \u001b[38;5;21;01mIEEE754\u001b[39;00m \u001b[38;5;28;01mimport\u001b[39;00m float_to_ieee\n\u001b[1;32m      3\u001b[0m \u001b[38;5;28mprint\u001b[39m(float_to_ieee(\u001b[38;5;241m0.1\u001b[39m))\n",
      "\u001b[0;31mModuleNotFoundError\u001b[0m: No module named 'IEEE754'"
     ]
    }
   ],
   "source": [
    "from IEEE754 import float_to_ieee\n",
    "\n",
    "print(float_to_ieee(0.1))"
   ]
  },
  {
   "cell_type": "markdown",
   "metadata": {},
   "source": [
    "### Using int() for conversion"
   ]
  },
  {
   "cell_type": "markdown",
   "metadata": {},
   "source": [
    "The built-in function ```int()``` accepts two values when used for conversion, one is the value in a different number system and the other is its base. Note that input number in the different number system should be of string type."
   ]
  },
  {
   "cell_type": "code",
   "execution_count": 39,
   "metadata": {
    "execution": {
     "iopub.execute_input": "2023-02-22T15:39:33.615476Z",
     "iopub.status.busy": "2023-02-22T15:39:33.615129Z",
     "iopub.status.idle": "2023-02-22T15:39:33.618931Z",
     "shell.execute_reply": "2023-02-22T15:39:33.618237Z"
    }
   },
   "outputs": [
    {
     "name": "stdout",
     "output_type": "stream",
     "text": [
      "8\n",
      "170\n",
      "10\n"
     ]
    }
   ],
   "source": [
    "print(int('010',8))\n",
    "print(int('0xaa',16))\n",
    "print(int('1010',2))"
   ]
  },
  {
   "cell_type": "markdown",
   "metadata": {},
   "source": [
    "`int()` can also be used to get only the integer value of a float number or can be used to convert a number which is of type string to integer format. Similarly, the function str( ) can be used to convert the integer back to string format"
   ]
  },
  {
   "cell_type": "code",
   "execution_count": 40,
   "metadata": {
    "execution": {
     "iopub.execute_input": "2023-02-22T15:39:33.622794Z",
     "iopub.status.busy": "2023-02-22T15:39:33.622382Z",
     "iopub.status.idle": "2023-02-22T15:39:33.625909Z",
     "shell.execute_reply": "2023-02-22T15:39:33.625241Z"
    }
   },
   "outputs": [
    {
     "name": "stdout",
     "output_type": "stream",
     "text": [
      "7\n",
      "7\n"
     ]
    }
   ],
   "source": [
    "print(int(7.7))\n",
    "print(int('7'))"
   ]
  },
  {
   "cell_type": "markdown",
   "metadata": {},
   "source": [
    "### chr()\n",
    "\n",
    "\n",
    "Also note that function `bin()` is used for binary and `float()` for decimal/float values. `chr()` is used for converting ASCII to its alphabet equivalent, `ord()` is used for the other way round."
   ]
  },
  {
   "cell_type": "code",
   "execution_count": 41,
   "metadata": {
    "execution": {
     "iopub.execute_input": "2023-02-22T15:39:33.629754Z",
     "iopub.status.busy": "2023-02-22T15:39:33.629416Z",
     "iopub.status.idle": "2023-02-22T15:39:33.633039Z",
     "shell.execute_reply": "2023-02-22T15:39:33.632505Z"
    }
   },
   "outputs": [
    {
     "name": "stdout",
     "output_type": "stream",
     "text": [
      "b\n",
      "65\n",
      "\u001b\n"
     ]
    }
   ],
   "source": [
    "print(chr(98))\n",
    "print(ord('A'))\n",
    "print(chr(27))"
   ]
  },
  {
   "cell_type": "markdown",
   "metadata": {},
   "source": [
    "Never seen the symbol of the ASCII-character number 27? That's because it's a so-called control-character. These go back to the times of Teleprinters, which were used to communicate via text. These control-characters mark stuff like beginning and end of a transmission. ASCII-character 27 is the escape control-character (ESC).\n",
    "\n",
    "<img src=\"Fernschreiber_T100_Siemens.jpg\" alt=\"Toc\" width=\"500\"/>\n",
    "\n",
    "Image taken from wikipedia"
   ]
  },
  {
   "cell_type": "markdown",
   "metadata": {},
   "source": [
    "### The ord() function\n",
    "\n",
    "The ord function is the exact opposite of the chr() function. "
   ]
  },
  {
   "cell_type": "code",
   "execution_count": 42,
   "metadata": {
    "execution": {
     "iopub.execute_input": "2023-02-22T15:39:33.635943Z",
     "iopub.status.busy": "2023-02-22T15:39:33.635343Z",
     "iopub.status.idle": "2023-02-22T15:39:33.639477Z",
     "shell.execute_reply": "2023-02-22T15:39:33.638793Z"
    }
   },
   "outputs": [
    {
     "name": "stdout",
     "output_type": "stream",
     "text": [
      "97\n",
      "98\n",
      "99\n",
      "h\n",
      "i\n"
     ]
    }
   ],
   "source": [
    "print(ord('a'))\n",
    "print(ord('b'))\n",
    "print(ord('c'))\n",
    "print(chr(ord('h')))\n",
    "print(chr(ord('i')))"
   ]
  },
  {
   "cell_type": "markdown",
   "metadata": {},
   "source": [
    "### The type function\n",
    "\n",
    "Python has a very handy builtin function called `type()` which you can use to get the datatype of a variable."
   ]
  },
  {
   "cell_type": "code",
   "execution_count": 43,
   "metadata": {
    "execution": {
     "iopub.execute_input": "2023-02-22T15:39:33.642764Z",
     "iopub.status.busy": "2023-02-22T15:39:33.642224Z",
     "iopub.status.idle": "2023-02-22T15:39:33.646195Z",
     "shell.execute_reply": "2023-02-22T15:39:33.645515Z"
    }
   },
   "outputs": [
    {
     "name": "stdout",
     "output_type": "stream",
     "text": [
      "<class 'int'>\n",
      "<class 'float'>\n",
      "<class 'int'>\n",
      "<class 'bool'>\n",
      "<class 'NoneType'>\n"
     ]
    }
   ],
   "source": [
    "print(type(1))\n",
    "print(type(1.))\n",
    "print(type(0xff))\n",
    "print(type(False))\n",
    "print(type(None))"
   ]
  },
  {
   "cell_type": "markdown",
   "metadata": {},
   "source": [
    "### Simpifying arithmetic operations"
   ]
  },
  {
   "cell_type": "markdown",
   "metadata": {},
   "source": [
    "The `round()` function rounds the input value to a specified number of places or to the nearest integer.\n",
    "\n",
    "**Note:** Python rounding is not the same as mathematical rounding. In python even numbers are rounded down and uneven are rounded up. For mathematical rounding you will need the built-in module math."
   ]
  },
  {
   "cell_type": "code",
   "execution_count": 44,
   "metadata": {
    "execution": {
     "iopub.execute_input": "2023-02-22T15:39:33.649245Z",
     "iopub.status.busy": "2023-02-22T15:39:33.648907Z",
     "iopub.status.idle": "2023-02-22T15:39:33.652610Z",
     "shell.execute_reply": "2023-02-22T15:39:33.651940Z"
    }
   },
   "outputs": [
    {
     "name": "stdout",
     "output_type": "stream",
     "text": [
      "6\n",
      "6\n"
     ]
    }
   ],
   "source": [
    "print(round(5.5))\n",
    "print(round(6.5))"
   ]
  },
  {
   "cell_type": "code",
   "execution_count": 45,
   "metadata": {
    "execution": {
     "iopub.execute_input": "2023-02-22T15:39:33.655900Z",
     "iopub.status.busy": "2023-02-22T15:39:33.655564Z",
     "iopub.status.idle": "2023-02-22T15:39:33.659022Z",
     "shell.execute_reply": "2023-02-22T15:39:33.658488Z"
    }
   },
   "outputs": [
    {
     "name": "stdout",
     "output_type": "stream",
     "text": [
      "6\n",
      "8\n"
     ]
    }
   ],
   "source": [
    "print(round(6.5))\n",
    "print(round(7.5))"
   ]
  },
  {
   "cell_type": "code",
   "execution_count": 46,
   "metadata": {
    "execution": {
     "iopub.execute_input": "2023-02-22T15:39:33.661878Z",
     "iopub.status.busy": "2023-02-22T15:39:33.661354Z",
     "iopub.status.idle": "2023-02-22T15:39:33.666210Z",
     "shell.execute_reply": "2023-02-22T15:39:33.665608Z"
    }
   },
   "outputs": [
    {
     "name": "stdout",
     "output_type": "stream",
     "text": [
      "6\n",
      "4.56\n"
     ]
    }
   ],
   "source": [
    "print(round(5.6231))\n",
    "print(round(4.55892, 2))"
   ]
  },
  {
   "cell_type": "markdown",
   "metadata": {},
   "source": [
    "`complex()` is used to define a complex number and `abs()` outputs the absolute value of the same."
   ]
  },
  {
   "cell_type": "code",
   "execution_count": 47,
   "metadata": {
    "execution": {
     "iopub.execute_input": "2023-02-22T15:39:33.669129Z",
     "iopub.status.busy": "2023-02-22T15:39:33.668797Z",
     "iopub.status.idle": "2023-02-22T15:39:33.673766Z",
     "shell.execute_reply": "2023-02-22T15:39:33.673069Z"
    }
   },
   "outputs": [
    {
     "name": "stdout",
     "output_type": "stream",
     "text": [
      "5.385164807134504\n"
     ]
    }
   ],
   "source": [
    "c = complex('5+2j')\n",
    "print(abs(c))"
   ]
  },
  {
   "cell_type": "markdown",
   "metadata": {},
   "source": [
    "`divmod(x,y)` outputs the quotient and the remainder in a tuple (you will be learning about tuples in further chapters) in the format (quotient, remainder)."
   ]
  },
  {
   "cell_type": "code",
   "execution_count": 48,
   "metadata": {
    "execution": {
     "iopub.execute_input": "2023-02-22T15:39:33.676730Z",
     "iopub.status.busy": "2023-02-22T15:39:33.676411Z",
     "iopub.status.idle": "2023-02-22T15:39:33.681237Z",
     "shell.execute_reply": "2023-02-22T15:39:33.680655Z"
    }
   },
   "outputs": [
    {
     "name": "stdout",
     "output_type": "stream",
     "text": [
      "(4, 1)\n",
      "4\n",
      "1\n"
     ]
    }
   ],
   "source": [
    "print(divmod(9,2))\n",
    "print(9 // 2)\n",
    "print(9 % 2)"
   ]
  },
  {
   "cell_type": "markdown",
   "metadata": {},
   "source": [
    "`isinstance()` returns True, if the first argument is an instance of that class. Multiple classes can also be checked at once."
   ]
  },
  {
   "cell_type": "code",
   "execution_count": 49,
   "metadata": {
    "execution": {
     "iopub.execute_input": "2023-02-22T15:39:33.684023Z",
     "iopub.status.busy": "2023-02-22T15:39:33.683696Z",
     "iopub.status.idle": "2023-02-22T15:39:33.688985Z",
     "shell.execute_reply": "2023-02-22T15:39:33.688388Z"
    }
   },
   "outputs": [
    {
     "name": "stdout",
     "output_type": "stream",
     "text": [
      "True\n",
      "False\n",
      "True\n",
      "True\n"
     ]
    }
   ],
   "source": [
    "instances = (int, float)\n",
    "\n",
    "print(isinstance(1, int))\n",
    "print(isinstance(1.0, int))\n",
    "print(isinstance(1.0, instances))\n",
    "print(isinstance(1, instances))"
   ]
  },
  {
   "cell_type": "markdown",
   "metadata": {},
   "source": [
    "`pow(x,y,z)` can be used to find the power $x^y$ also the mod of the resulting value with the third specified number can be found i.e. : ($x^y$ % z)."
   ]
  },
  {
   "cell_type": "code",
   "execution_count": 50,
   "metadata": {
    "execution": {
     "iopub.execute_input": "2023-02-22T15:39:33.691603Z",
     "iopub.status.busy": "2023-02-22T15:39:33.691187Z",
     "iopub.status.idle": "2023-02-22T15:39:33.695882Z",
     "shell.execute_reply": "2023-02-22T15:39:33.695232Z"
    }
   },
   "outputs": [
    {
     "name": "stdout",
     "output_type": "stream",
     "text": [
      "27\n",
      "2\n"
     ]
    }
   ],
   "source": [
    "print(pow(3,3))\n",
    "print(pow(3,3,5))"
   ]
  },
  {
   "cell_type": "markdown",
   "metadata": {},
   "source": [
    "The `range()` function outputs the integers of the specified range. It can also be used to generate a series by specifying the difference between the two numbers within a particular range. The elements are returned in a list (will be discussing in detail later.)"
   ]
  },
  {
   "cell_type": "code",
   "execution_count": 51,
   "metadata": {
    "execution": {
     "iopub.execute_input": "2023-02-22T15:39:33.698677Z",
     "iopub.status.busy": "2023-02-22T15:39:33.698252Z",
     "iopub.status.idle": "2023-02-22T15:39:33.703116Z",
     "shell.execute_reply": "2023-02-22T15:39:33.702451Z"
    }
   },
   "outputs": [
    {
     "name": "stdout",
     "output_type": "stream",
     "text": [
      "range(0, 3)\n",
      "range(2, 9)\n",
      "range(2, 27, 8)\n"
     ]
    }
   ],
   "source": [
    "print(range(3))\n",
    "print(range(2,9))\n",
    "print(range(2,27,8))"
   ]
  },
  {
   "cell_type": "markdown",
   "metadata": {},
   "source": [
    "### Accepting user inputs\n",
    "`input()` accepts input and stores it as a string. Hence, if the user inputs an integer, the code should convert the string to an integer and then proceed."
   ]
  },
  {
   "cell_type": "code",
   "execution_count": 52,
   "metadata": {
    "execution": {
     "iopub.execute_input": "2023-02-22T15:39:33.705881Z",
     "iopub.status.busy": "2023-02-22T15:39:33.705470Z",
     "iopub.status.idle": "2023-02-22T15:39:33.795010Z",
     "shell.execute_reply": "2023-02-22T15:39:33.794319Z"
    }
   },
   "outputs": [
    {
     "ename": "StdinNotImplementedError",
     "evalue": "raw_input was called, but this frontend does not support input requests.",
     "output_type": "error",
     "traceback": [
      "\u001b[0;31m---------------------------------------------------------------------------\u001b[0m",
      "\u001b[0;31mStdinNotImplementedError\u001b[0m                  Traceback (most recent call last)",
      "Cell \u001b[0;32mIn[52], line 1\u001b[0m\n\u001b[0;32m----> 1\u001b[0m abc \u001b[38;5;241m=\u001b[39m \u001b[38;5;28;43minput\u001b[39;49m\u001b[43m(\u001b[49m\u001b[38;5;124;43m\"\u001b[39;49m\u001b[38;5;124;43mType something here and it will be stored in variable abc\u001b[39;49m\u001b[38;5;130;43;01m\\n\u001b[39;49;00m\u001b[38;5;124;43m\"\u001b[39;49m\u001b[43m)\u001b[49m\n",
      "File \u001b[0;32m/opt/hostedtoolcache/Python/3.8.16/x64/lib/python3.8/site-packages/ipykernel/kernelbase.py:1181\u001b[0m, in \u001b[0;36mKernel.raw_input\u001b[0;34m(self, prompt)\u001b[0m\n\u001b[1;32m   1179\u001b[0m \u001b[38;5;28;01mif\u001b[39;00m \u001b[38;5;129;01mnot\u001b[39;00m \u001b[38;5;28mself\u001b[39m\u001b[38;5;241m.\u001b[39m_allow_stdin:\n\u001b[1;32m   1180\u001b[0m     msg \u001b[38;5;241m=\u001b[39m \u001b[38;5;124m\"\u001b[39m\u001b[38;5;124mraw_input was called, but this frontend does not support input requests.\u001b[39m\u001b[38;5;124m\"\u001b[39m\n\u001b[0;32m-> 1181\u001b[0m     \u001b[38;5;28;01mraise\u001b[39;00m StdinNotImplementedError(msg)\n\u001b[1;32m   1182\u001b[0m \u001b[38;5;28;01mreturn\u001b[39;00m \u001b[38;5;28mself\u001b[39m\u001b[38;5;241m.\u001b[39m_input_request(\n\u001b[1;32m   1183\u001b[0m     \u001b[38;5;28mstr\u001b[39m(prompt),\n\u001b[1;32m   1184\u001b[0m     \u001b[38;5;28mself\u001b[39m\u001b[38;5;241m.\u001b[39m_parent_ident[\u001b[38;5;124m\"\u001b[39m\u001b[38;5;124mshell\u001b[39m\u001b[38;5;124m\"\u001b[39m],\n\u001b[1;32m   1185\u001b[0m     \u001b[38;5;28mself\u001b[39m\u001b[38;5;241m.\u001b[39mget_parent(\u001b[38;5;124m\"\u001b[39m\u001b[38;5;124mshell\u001b[39m\u001b[38;5;124m\"\u001b[39m),\n\u001b[1;32m   1186\u001b[0m     password\u001b[38;5;241m=\u001b[39m\u001b[38;5;28;01mFalse\u001b[39;00m,\n\u001b[1;32m   1187\u001b[0m )\n",
      "\u001b[0;31mStdinNotImplementedError\u001b[0m: raw_input was called, but this frontend does not support input requests."
     ]
    }
   ],
   "source": [
    "abc = input(\"Type something here and it will be stored in variable abc\\n\")"
   ]
  },
  {
   "cell_type": "markdown",
   "metadata": {},
   "source": [
    "The built-in function type returns the type of a variable."
   ]
  },
  {
   "cell_type": "code",
   "execution_count": 53,
   "metadata": {
    "execution": {
     "iopub.execute_input": "2023-02-22T15:39:33.798398Z",
     "iopub.status.busy": "2023-02-22T15:39:33.797944Z",
     "iopub.status.idle": "2023-02-22T15:39:33.815534Z",
     "shell.execute_reply": "2023-02-22T15:39:33.814938Z"
    }
   },
   "outputs": [
    {
     "ename": "NameError",
     "evalue": "name 'abc' is not defined",
     "output_type": "error",
     "traceback": [
      "\u001b[0;31m---------------------------------------------------------------------------\u001b[0m",
      "\u001b[0;31mNameError\u001b[0m                                 Traceback (most recent call last)",
      "Cell \u001b[0;32mIn[53], line 1\u001b[0m\n\u001b[0;32m----> 1\u001b[0m \u001b[38;5;28mprint\u001b[39m(\u001b[38;5;28mtype\u001b[39m(\u001b[43mabc\u001b[49m))\n\u001b[1;32m      2\u001b[0m \u001b[38;5;28mprint\u001b[39m(\u001b[38;5;28mtype\u001b[39m)\n",
      "\u001b[0;31mNameError\u001b[0m: name 'abc' is not defined"
     ]
    }
   ],
   "source": [
    "print(type(abc))\n",
    "print(type)"
   ]
  },
  {
   "cell_type": "markdown",
   "metadata": {
    "solution2": "hidden",
    "solution2_first": true
   },
   "source": [
    "\\begin{exercise}\n",
    "Write a small program that accepts user input and adds 5 to it.\n",
    "\\end{exercise}"
   ]
  },
  {
   "cell_type": "code",
   "execution_count": 54,
   "metadata": {
    "execution": {
     "iopub.execute_input": "2023-02-22T15:39:33.818624Z",
     "iopub.status.busy": "2023-02-22T15:39:33.818274Z",
     "iopub.status.idle": "2023-02-22T15:39:33.841725Z",
     "shell.execute_reply": "2023-02-22T15:39:33.841069Z"
    }
   },
   "outputs": [
    {
     "ename": "StdinNotImplementedError",
     "evalue": "raw_input was called, but this frontend does not support input requests.",
     "output_type": "error",
     "traceback": [
      "\u001b[0;31m---------------------------------------------------------------------------\u001b[0m",
      "\u001b[0;31mStdinNotImplementedError\u001b[0m                  Traceback (most recent call last)",
      "Cell \u001b[0;32mIn[54], line 1\u001b[0m\n\u001b[0;32m----> 1\u001b[0m inp \u001b[38;5;241m=\u001b[39m \u001b[38;5;28;43minput\u001b[39;49m\u001b[43m(\u001b[49m\u001b[38;5;124;43m\"\u001b[39;49m\u001b[38;5;124;43mWhat number would you like to have 5 added to it?\u001b[39;49m\u001b[38;5;130;43;01m\\n\u001b[39;49;00m\u001b[38;5;124;43m\"\u001b[39;49m\u001b[43m)\u001b[49m\n\u001b[1;32m      2\u001b[0m out \u001b[38;5;241m=\u001b[39m \u001b[38;5;28mfloat\u001b[39m(inp) \u001b[38;5;241m+\u001b[39m \u001b[38;5;241m5\u001b[39m\n\u001b[1;32m      3\u001b[0m \u001b[38;5;28mprint\u001b[39m(out)\n",
      "File \u001b[0;32m/opt/hostedtoolcache/Python/3.8.16/x64/lib/python3.8/site-packages/ipykernel/kernelbase.py:1181\u001b[0m, in \u001b[0;36mKernel.raw_input\u001b[0;34m(self, prompt)\u001b[0m\n\u001b[1;32m   1179\u001b[0m \u001b[38;5;28;01mif\u001b[39;00m \u001b[38;5;129;01mnot\u001b[39;00m \u001b[38;5;28mself\u001b[39m\u001b[38;5;241m.\u001b[39m_allow_stdin:\n\u001b[1;32m   1180\u001b[0m     msg \u001b[38;5;241m=\u001b[39m \u001b[38;5;124m\"\u001b[39m\u001b[38;5;124mraw_input was called, but this frontend does not support input requests.\u001b[39m\u001b[38;5;124m\"\u001b[39m\n\u001b[0;32m-> 1181\u001b[0m     \u001b[38;5;28;01mraise\u001b[39;00m StdinNotImplementedError(msg)\n\u001b[1;32m   1182\u001b[0m \u001b[38;5;28;01mreturn\u001b[39;00m \u001b[38;5;28mself\u001b[39m\u001b[38;5;241m.\u001b[39m_input_request(\n\u001b[1;32m   1183\u001b[0m     \u001b[38;5;28mstr\u001b[39m(prompt),\n\u001b[1;32m   1184\u001b[0m     \u001b[38;5;28mself\u001b[39m\u001b[38;5;241m.\u001b[39m_parent_ident[\u001b[38;5;124m\"\u001b[39m\u001b[38;5;124mshell\u001b[39m\u001b[38;5;124m\"\u001b[39m],\n\u001b[1;32m   1185\u001b[0m     \u001b[38;5;28mself\u001b[39m\u001b[38;5;241m.\u001b[39mget_parent(\u001b[38;5;124m\"\u001b[39m\u001b[38;5;124mshell\u001b[39m\u001b[38;5;124m\"\u001b[39m),\n\u001b[1;32m   1186\u001b[0m     password\u001b[38;5;241m=\u001b[39m\u001b[38;5;28;01mFalse\u001b[39;00m,\n\u001b[1;32m   1187\u001b[0m )\n",
      "\u001b[0;31mStdinNotImplementedError\u001b[0m: raw_input was called, but this frontend does not support input requests."
     ]
    }
   ],
   "source": [
    "inp = input(\"What number would you like to have 5 added to it?\\n\")\n",
    "out = float(inp) + 5\n",
    "print(out)"
   ]
  },
  {
   "cell_type": "markdown",
   "metadata": {},
   "source": [
    "### Printing and Strings\n",
    "\n",
    "There are three ways to define strings in python.\n",
    "\n",
    "- Single quotes (`'string'`) are often used for single characters, key-words and fixed strings.\n",
    "- Double quotes (`\"This is a string\"`) are often used when working with natural language.\n",
    "- Triple quotes (`\"\"\"This is a special string called docstring. The doc means documentation\"\"\"`) are often used to annotate functions and classes, so that other people can refer to this docstring when they try to comprehend your code.\n",
    "\n",
    "Strings are often used to print useful information. If your script runs into an error while looking for a file, because the file is not there you could make the script print an error message that helps you to identify the problem. \n",
    "\n",
    "```python\n",
    "if file does not exist:\n",
    "    print('The file does not exist')\n",
    "    exit()\n",
    "```\n",
    "\n",
    "**There are several ways to help you format your strings and print them:**\n",
    "\n",
    "- plain string printing: ```print('This is a string')```\n",
    "- printing of multiple values:\n",
    "```python\n",
    "a = 'The value of b is'\n",
    "b = 3\n",
    "print(a, b)\n",
    "```\n",
    "- string concatenation:\n",
    "```python\n",
    "filename = '/path/to/file.txt'\n",
    "print('The file ' + filename + ' does not exist.'\n",
    "```\n",
    "- %-formatted strings (python2): ```print('The value of b is %s' % b)```\n",
    "- formatted strings (python3): ```print('The value of a is {} and of b is {}'.format(a, b))```\n",
    "- f-strings (new in python3.6): ```print(f'The value of a is {a} and of b is {b}')```\n",
    "\n",
    "Let's take a look at all these different string formats."
   ]
  },
  {
   "cell_type": "code",
   "execution_count": 55,
   "metadata": {
    "execution": {
     "iopub.execute_input": "2023-02-22T15:39:33.844941Z",
     "iopub.status.busy": "2023-02-22T15:39:33.844496Z",
     "iopub.status.idle": "2023-02-22T15:39:33.849489Z",
     "shell.execute_reply": "2023-02-22T15:39:33.848896Z"
    }
   },
   "outputs": [
    {
     "name": "stdout",
     "output_type": "stream",
     "text": [
      "Hello World\n"
     ]
    }
   ],
   "source": [
    "print(\"Hello World\")"
   ]
  },
  {
   "cell_type": "code",
   "execution_count": 56,
   "metadata": {
    "execution": {
     "iopub.execute_input": "2023-02-22T15:39:33.852365Z",
     "iopub.status.busy": "2023-02-22T15:39:33.851833Z",
     "iopub.status.idle": "2023-02-22T15:39:33.856564Z",
     "shell.execute_reply": "2023-02-22T15:39:33.855973Z"
    }
   },
   "outputs": [
    {
     "name": "stdout",
     "output_type": "stream",
     "text": [
      "Multi-line strings can only be\n",
      "\n",
      "written with the triple-quoted string\n",
      "\n",
      "because it preserves line breaks\n"
     ]
    }
   ],
   "source": [
    "print(\"\"\"Multi-line strings can only be\n",
    "\n",
    "written with the triple-quoted string\n",
    "\n",
    "because it preserves line breaks\"\"\")\n",
    "\n",
    "# a single-quoted string can not be broken into lines\n",
    "# print('This can not be\n",
    "#       printed')"
   ]
  },
  {
   "cell_type": "code",
   "execution_count": 57,
   "metadata": {
    "execution": {
     "iopub.execute_input": "2023-02-22T15:39:33.859472Z",
     "iopub.status.busy": "2023-02-22T15:39:33.859147Z",
     "iopub.status.idle": "2023-02-22T15:39:33.863791Z",
     "shell.execute_reply": "2023-02-22T15:39:33.863119Z"
    }
   },
   "outputs": [
    {
     "name": "stdout",
     "output_type": "stream",
     "text": [
      "If you want to have line breaks\n",
      "in single-quoted strings,\n",
      "you need to add a newline character(\\n)\n"
     ]
    }
   ],
   "source": [
    "print(\"If you want to have line breaks\\nin single-quoted strings,\\nyou need to add a newline character(\\\\n)\")"
   ]
  },
  {
   "cell_type": "markdown",
   "metadata": {},
   "source": [
    "If you have long strings and don't want line breaks you can put multiple strings inside parentheses (like a tuple), but without commas:"
   ]
  },
  {
   "cell_type": "code",
   "execution_count": 58,
   "metadata": {
    "execution": {
     "iopub.execute_input": "2023-02-22T15:39:33.866432Z",
     "iopub.status.busy": "2023-02-22T15:39:33.866079Z",
     "iopub.status.idle": "2023-02-22T15:39:33.869792Z",
     "shell.execute_reply": "2023-02-22T15:39:33.869182Z"
    }
   },
   "outputs": [
    {
     "name": "stdout",
     "output_type": "stream",
     "text": [
      "<class 'str'>\n",
      "This is a long string, which does not break over multiple lines. The line breaks are handled by the program displaying the string (so-called soft-wraps). Writing strings like this is especially useful if you don't want to write never-ending lines of code. Most styleguides also recommend to break lines of python code after 79 character. This is talked about in PEP8: https://www.python.org/dev/peps/pep-0008/\n"
     ]
    }
   ],
   "source": [
    "s = ('This is a long string, which does not break over multiple '\n",
    "     'lines. The line breaks are handled by the program displaying '\n",
    "     'the string (so-called soft-wraps). Writing strings like this is '\n",
    "     'especially useful if you don\\'t want to write never-ending '\n",
    "     'lines of code. Most styleguides also recommend to break '\n",
    "     'lines of python code after 79 character. This is talked '\n",
    "     'about in PEP8: https://www.python.org/dev/peps/pep-0008/')\n",
    "print(type(s))\n",
    "print(s)"
   ]
  },
  {
   "cell_type": "markdown",
   "metadata": {},
   "source": [
    "Depending on the width of the printed text above, some words might be broken over the lines. This can be prevented with the built-in package `textwrap` (python 3.9):"
   ]
  },
  {
   "cell_type": "code",
   "execution_count": 59,
   "metadata": {
    "execution": {
     "iopub.execute_input": "2023-02-22T15:39:33.872622Z",
     "iopub.status.busy": "2023-02-22T15:39:33.872225Z",
     "iopub.status.idle": "2023-02-22T15:39:33.877011Z",
     "shell.execute_reply": "2023-02-22T15:39:33.876353Z"
    }
   },
   "outputs": [
    {
     "name": "stdout",
     "output_type": "stream",
     "text": [
      "This is a long string, which does not break over multiple lines. The\n",
      "line breaks are handled by the program displaying the string (so-\n",
      "called soft-wraps). Writing strings like this is especially useful if\n",
      "you don't want to write never-ending lines of code. Most styleguides\n",
      "also recommend to break lines of python code after 79 character. This\n",
      "is talked about in PEP8: https://www.python.org/dev/peps/pep-0008/\n"
     ]
    }
   ],
   "source": [
    "import textwrap\n",
    "print('\\n'.join(textwrap.wrap(s)))"
   ]
  },
  {
   "cell_type": "markdown",
   "metadata": {},
   "source": [
    "Strings can be assigned to variable say string1 and string2 which can called when using the print statement."
   ]
  },
  {
   "cell_type": "code",
   "execution_count": 60,
   "metadata": {
    "execution": {
     "iopub.execute_input": "2023-02-22T15:39:33.879934Z",
     "iopub.status.busy": "2023-02-22T15:39:33.879379Z",
     "iopub.status.idle": "2023-02-22T15:39:33.883140Z",
     "shell.execute_reply": "2023-02-22T15:39:33.882456Z"
    }
   },
   "outputs": [
    {
     "name": "stdout",
     "output_type": "stream",
     "text": [
      "Hello World\n",
      "Hello World !\n"
     ]
    }
   ],
   "source": [
    "string1 = 'World'\n",
    "print('Hello', string1)\n",
    "\n",
    "string2 = '!'\n",
    "print('Hello', string1, string2)"
   ]
  },
  {
   "cell_type": "markdown",
   "metadata": {},
   "source": [
    "String concatenation is the \"addition\" of two strings. Observe that while concatenating there will be no space between the strings."
   ]
  },
  {
   "cell_type": "code",
   "execution_count": 61,
   "metadata": {
    "execution": {
     "iopub.execute_input": "2023-02-22T15:39:33.886700Z",
     "iopub.status.busy": "2023-02-22T15:39:33.886271Z",
     "iopub.status.idle": "2023-02-22T15:39:33.889784Z",
     "shell.execute_reply": "2023-02-22T15:39:33.889115Z"
    }
   },
   "outputs": [
    {
     "name": "stdout",
     "output_type": "stream",
     "text": [
      "HelloWorld!\n"
     ]
    }
   ],
   "source": [
    "print('Hello' + string1 + string2)"
   ]
  },
  {
   "cell_type": "markdown",
   "metadata": {},
   "source": [
    "This works only with strings, because python can't add a non-string object to a string"
   ]
  },
  {
   "cell_type": "code",
   "execution_count": 62,
   "metadata": {
    "execution": {
     "iopub.execute_input": "2023-02-22T15:39:33.893264Z",
     "iopub.status.busy": "2023-02-22T15:39:33.892859Z",
     "iopub.status.idle": "2023-02-22T15:39:33.907413Z",
     "shell.execute_reply": "2023-02-22T15:39:33.906735Z"
    }
   },
   "outputs": [
    {
     "ename": "TypeError",
     "evalue": "can only concatenate str (not \"int\") to str",
     "output_type": "error",
     "traceback": [
      "\u001b[0;31m---------------------------------------------------------------------------\u001b[0m",
      "\u001b[0;31mTypeError\u001b[0m                                 Traceback (most recent call last)",
      "Cell \u001b[0;32mIn[62], line 2\u001b[0m\n\u001b[1;32m      1\u001b[0m b \u001b[38;5;241m=\u001b[39m \u001b[38;5;241m3\u001b[39m\n\u001b[0;32m----> 2\u001b[0m \u001b[38;5;28mprint\u001b[39m(\u001b[38;5;124;43m\"\u001b[39;49m\u001b[38;5;124;43mVariable b is \u001b[39;49m\u001b[38;5;124;43m\"\u001b[39;49m\u001b[43m \u001b[49m\u001b[38;5;241;43m+\u001b[39;49m\u001b[43m \u001b[49m\u001b[43mb\u001b[49m)\n",
      "\u001b[0;31mTypeError\u001b[0m: can only concatenate str (not \"int\") to str"
     ]
    }
   ],
   "source": [
    "b = 3\n",
    "print(\"Variable b is \" + b)"
   ]
  },
  {
   "cell_type": "markdown",
   "metadata": {},
   "source": [
    "But we can make b a string, by calling the built-in function str() on it."
   ]
  },
  {
   "cell_type": "code",
   "execution_count": 63,
   "metadata": {
    "execution": {
     "iopub.execute_input": "2023-02-22T15:39:33.910358Z",
     "iopub.status.busy": "2023-02-22T15:39:33.909928Z",
     "iopub.status.idle": "2023-02-22T15:39:33.913443Z",
     "shell.execute_reply": "2023-02-22T15:39:33.912763Z"
    }
   },
   "outputs": [
    {
     "name": "stdout",
     "output_type": "stream",
     "text": [
      "Variable b is 3\n"
     ]
    }
   ],
   "source": [
    "b = 3\n",
    "print(\"Variable b is \" + str(b))\n"
   ]
  },
  {
   "cell_type": "markdown",
   "metadata": {},
   "source": [
    "This way of constructing strings is not very readable, if you look at the code. That's what f-strings are for."
   ]
  },
  {
   "cell_type": "code",
   "execution_count": 64,
   "metadata": {
    "execution": {
     "iopub.execute_input": "2023-02-22T15:39:33.916876Z",
     "iopub.status.busy": "2023-02-22T15:39:33.916531Z",
     "iopub.status.idle": "2023-02-22T15:39:33.920445Z",
     "shell.execute_reply": "2023-02-22T15:39:33.919911Z"
    }
   },
   "outputs": [
    {
     "name": "stdout",
     "output_type": "stream",
     "text": [
      "A vehicle travelling at 50.0 km/h will cover a distance of 100 km in 2 hours.\n"
     ]
    }
   ],
   "source": [
    "distance = 100\n",
    "time = 2\n",
    "velocity = distance / time\n",
    "\n",
    "print(\"A vehicle travelling at \" + str(velocity) + \" km/h will cover a distance of \" + str(distance) + \" km in \" + str(time) + \" hours.\")"
   ]
  },
  {
   "cell_type": "code",
   "execution_count": 65,
   "metadata": {
    "execution": {
     "iopub.execute_input": "2023-02-22T15:39:33.923254Z",
     "iopub.status.busy": "2023-02-22T15:39:33.922649Z",
     "iopub.status.idle": "2023-02-22T15:39:33.926517Z",
     "shell.execute_reply": "2023-02-22T15:39:33.925798Z"
    }
   },
   "outputs": [
    {
     "name": "stdout",
     "output_type": "stream",
     "text": [
      "A vehicle travelling at 50.0 km/h will cover a distance of 100 km in 2 hours.\n"
     ]
    }
   ],
   "source": [
    "print(f\"A vehicle travelling at {velocity} km/h will cover a distance of {distance} km in {time} hours.\")"
   ]
  },
  {
   "cell_type": "markdown",
   "metadata": {
    "solution2": "hidden",
    "solution2_first": true
   },
   "source": [
    "\\begin{exercise}\n",
    "Use the input() function to ask a user for their name and another input() function that asks the user their favorite color. Use an f-string to write: \"User, your favorite color is color\".\n",
    "\\end{exercise}"
   ]
  },
  {
   "cell_type": "code",
   "execution_count": 66,
   "metadata": {
    "execution": {
     "iopub.execute_input": "2023-02-22T15:39:33.929397Z",
     "iopub.status.busy": "2023-02-22T15:39:33.928987Z",
     "iopub.status.idle": "2023-02-22T15:39:33.949890Z",
     "shell.execute_reply": "2023-02-22T15:39:33.949182Z"
    }
   },
   "outputs": [
    {
     "ename": "StdinNotImplementedError",
     "evalue": "raw_input was called, but this frontend does not support input requests.",
     "output_type": "error",
     "traceback": [
      "\u001b[0;31m---------------------------------------------------------------------------\u001b[0m",
      "\u001b[0;31mStdinNotImplementedError\u001b[0m                  Traceback (most recent call last)",
      "Cell \u001b[0;32mIn[66], line 1\u001b[0m\n\u001b[0;32m----> 1\u001b[0m username \u001b[38;5;241m=\u001b[39m \u001b[38;5;28;43minput\u001b[39;49m\u001b[43m(\u001b[49m\u001b[38;5;124;43m\"\u001b[39;49m\u001b[38;5;124;43mWhat is your name?\u001b[39;49m\u001b[38;5;130;43;01m\\n\u001b[39;49;00m\u001b[38;5;124;43m\"\u001b[39;49m\u001b[43m)\u001b[49m\n\u001b[1;32m      2\u001b[0m color \u001b[38;5;241m=\u001b[39m \u001b[38;5;28minput\u001b[39m(\u001b[38;5;124m\"\u001b[39m\u001b[38;5;124mWhat is your favorite color?\u001b[39m\u001b[38;5;130;01m\\n\u001b[39;00m\u001b[38;5;124m\"\u001b[39m)\n\u001b[1;32m      3\u001b[0m \u001b[38;5;28mprint\u001b[39m(\u001b[38;5;124mf\u001b[39m\u001b[38;5;124m\"\u001b[39m\u001b[38;5;132;01m{\u001b[39;00musername\u001b[38;5;132;01m}\u001b[39;00m\u001b[38;5;124m, your favorite color is \u001b[39m\u001b[38;5;132;01m{\u001b[39;00mcolor\u001b[38;5;132;01m}\u001b[39;00m\u001b[38;5;124m.\u001b[39m\u001b[38;5;124m\"\u001b[39m)\n",
      "File \u001b[0;32m/opt/hostedtoolcache/Python/3.8.16/x64/lib/python3.8/site-packages/ipykernel/kernelbase.py:1181\u001b[0m, in \u001b[0;36mKernel.raw_input\u001b[0;34m(self, prompt)\u001b[0m\n\u001b[1;32m   1179\u001b[0m \u001b[38;5;28;01mif\u001b[39;00m \u001b[38;5;129;01mnot\u001b[39;00m \u001b[38;5;28mself\u001b[39m\u001b[38;5;241m.\u001b[39m_allow_stdin:\n\u001b[1;32m   1180\u001b[0m     msg \u001b[38;5;241m=\u001b[39m \u001b[38;5;124m\"\u001b[39m\u001b[38;5;124mraw_input was called, but this frontend does not support input requests.\u001b[39m\u001b[38;5;124m\"\u001b[39m\n\u001b[0;32m-> 1181\u001b[0m     \u001b[38;5;28;01mraise\u001b[39;00m StdinNotImplementedError(msg)\n\u001b[1;32m   1182\u001b[0m \u001b[38;5;28;01mreturn\u001b[39;00m \u001b[38;5;28mself\u001b[39m\u001b[38;5;241m.\u001b[39m_input_request(\n\u001b[1;32m   1183\u001b[0m     \u001b[38;5;28mstr\u001b[39m(prompt),\n\u001b[1;32m   1184\u001b[0m     \u001b[38;5;28mself\u001b[39m\u001b[38;5;241m.\u001b[39m_parent_ident[\u001b[38;5;124m\"\u001b[39m\u001b[38;5;124mshell\u001b[39m\u001b[38;5;124m\"\u001b[39m],\n\u001b[1;32m   1185\u001b[0m     \u001b[38;5;28mself\u001b[39m\u001b[38;5;241m.\u001b[39mget_parent(\u001b[38;5;124m\"\u001b[39m\u001b[38;5;124mshell\u001b[39m\u001b[38;5;124m\"\u001b[39m),\n\u001b[1;32m   1186\u001b[0m     password\u001b[38;5;241m=\u001b[39m\u001b[38;5;28;01mFalse\u001b[39;00m,\n\u001b[1;32m   1187\u001b[0m )\n",
      "\u001b[0;31mStdinNotImplementedError\u001b[0m: raw_input was called, but this frontend does not support input requests."
     ]
    }
   ],
   "source": [
    "username = input(\"What is your name?\\n\")\n",
    "color = input(\"What is your favorite color?\\n\")\n",
    "print(f\"{username}, your favorite color is {color}.\")"
   ]
  },
  {
   "cell_type": "markdown",
   "metadata": {},
   "source": [
    "### PrecisionWidth and FieldWidth\n",
    "\n",
    "Numbers can be formatted using this special notation:\n",
    "\n",
    "- :s -> string\n",
    "- :d -> Integer\n",
    "- :f -> Float\n",
    "- :o -> Octal\n",
    "- :x -> Hexadecimal\n",
    "- :e -> exponential"
   ]
  },
  {
   "cell_type": "code",
   "execution_count": 67,
   "metadata": {
    "execution": {
     "iopub.execute_input": "2023-02-22T15:39:33.952602Z",
     "iopub.status.busy": "2023-02-22T15:39:33.952262Z",
     "iopub.status.idle": "2023-02-22T15:39:33.957650Z",
     "shell.execute_reply": "2023-02-22T15:39:33.957067Z"
    }
   },
   "outputs": [
    {
     "name": "stdout",
     "output_type": "stream",
     "text": [
      "Actual Number = 18\n",
      "Float of the number = 18.000000\n",
      "Octal equivalent of the number = 22\n",
      "Hexadecimal equivalent of the number = 12\n",
      "Exponential equivalent of the number = 1.800000e+01\n"
     ]
    }
   ],
   "source": [
    "d = 18\n",
    "print(f\"Actual Number = {d:d}\")\n",
    "print(f\"Float of the number = {d:f}\")\n",
    "print(f\"Octal equivalent of the number = {d:o}\")\n",
    "print(f\"Hexadecimal equivalent of the number = {d:x}\")\n",
    "print(f\"Exponential equivalent of the number = {d:e}\")"
   ]
  },
  {
   "cell_type": "markdown",
   "metadata": {},
   "source": [
    "Fieldwidth is the width of the entire number and precision is the width towards the right. One can alter these widths based on the requirements.\n",
    "\n",
    "The default Precision Width is set to 6."
   ]
  },
  {
   "cell_type": "code",
   "execution_count": 68,
   "metadata": {
    "execution": {
     "iopub.execute_input": "2023-02-22T15:39:33.960620Z",
     "iopub.status.busy": "2023-02-22T15:39:33.960299Z",
     "iopub.status.idle": "2023-02-22T15:39:33.963761Z",
     "shell.execute_reply": "2023-02-22T15:39:33.963077Z"
    }
   },
   "outputs": [
    {
     "name": "stdout",
     "output_type": "stream",
     "text": [
      "3.121312\n"
     ]
    }
   ],
   "source": [
    "d = 3.121312312312\n",
    "print(f'{d:f}')"
   ]
  },
  {
   "cell_type": "markdown",
   "metadata": {},
   "source": [
    "Notice upto 6 decimal points are returned. To specify the number of decimal points, ```'{:(fieldwidth).(precisionwidth)f}'``` is used."
   ]
  },
  {
   "cell_type": "code",
   "execution_count": 69,
   "metadata": {
    "execution": {
     "iopub.execute_input": "2023-02-22T15:39:33.967265Z",
     "iopub.status.busy": "2023-02-22T15:39:33.966856Z",
     "iopub.status.idle": "2023-02-22T15:39:33.970268Z",
     "shell.execute_reply": "2023-02-22T15:39:33.969599Z"
    }
   },
   "outputs": [
    {
     "name": "stdout",
     "output_type": "stream",
     "text": [
      "3.12131\n"
     ]
    }
   ],
   "source": [
    "print(f'{d:.5f}')"
   ]
  },
  {
   "cell_type": "markdown",
   "metadata": {},
   "source": [
    "If the field width is set more than the necessary than the data right aligns itself to adjust to the specified values."
   ]
  },
  {
   "cell_type": "code",
   "execution_count": 70,
   "metadata": {
    "execution": {
     "iopub.execute_input": "2023-02-22T15:39:33.973743Z",
     "iopub.status.busy": "2023-02-22T15:39:33.973403Z",
     "iopub.status.idle": "2023-02-22T15:39:33.976786Z",
     "shell.execute_reply": "2023-02-22T15:39:33.976258Z"
    }
   },
   "outputs": [
    {
     "name": "stdout",
     "output_type": "stream",
     "text": [
      "  3.12131\n"
     ]
    }
   ],
   "source": [
    "print(f'{d:9.5f}')"
   ]
  },
  {
   "cell_type": "markdown",
   "metadata": {},
   "source": [
    "Zero padding is done by adding a 0 at the start of fieldwidth."
   ]
  },
  {
   "cell_type": "code",
   "execution_count": 71,
   "metadata": {
    "execution": {
     "iopub.execute_input": "2023-02-22T15:39:33.979560Z",
     "iopub.status.busy": "2023-02-22T15:39:33.979016Z",
     "iopub.status.idle": "2023-02-22T15:39:33.982547Z",
     "shell.execute_reply": "2023-02-22T15:39:33.981851Z"
    }
   },
   "outputs": [
    {
     "name": "stdout",
     "output_type": "stream",
     "text": [
      "00000000000003.12131\n"
     ]
    }
   ],
   "source": [
    "print(f'{d:020.5f}')"
   ]
  },
  {
   "cell_type": "markdown",
   "metadata": {},
   "source": [
    "For proper alignment, a space can be left blank in the field width so that when a negative number is used, proper alignment is maintained."
   ]
  },
  {
   "cell_type": "code",
   "execution_count": 72,
   "metadata": {
    "execution": {
     "iopub.execute_input": "2023-02-22T15:39:33.986041Z",
     "iopub.status.busy": "2023-02-22T15:39:33.985631Z",
     "iopub.status.idle": "2023-02-22T15:39:33.989239Z",
     "shell.execute_reply": "2023-02-22T15:39:33.988564Z"
    }
   },
   "outputs": [
    {
     "name": "stdout",
     "output_type": "stream",
     "text": [
      "  3.121312\n",
      " -3.121312\n"
     ]
    }
   ],
   "source": [
    "d_neg = -d\n",
    "print(f' {d:9f}')\n",
    "print(f' {d_neg:9f}')"
   ]
  },
  {
   "cell_type": "markdown",
   "metadata": {},
   "source": [
    "The '+' sign can be returned at the beginning of a positive number by adding a + sign at the beginning of the field width."
   ]
  },
  {
   "cell_type": "code",
   "execution_count": 73,
   "metadata": {
    "execution": {
     "iopub.execute_input": "2023-02-22T15:39:33.992670Z",
     "iopub.status.busy": "2023-02-22T15:39:33.992334Z",
     "iopub.status.idle": "2023-02-22T15:39:33.995804Z",
     "shell.execute_reply": "2023-02-22T15:39:33.995271Z"
    }
   },
   "outputs": [
    {
     "name": "stdout",
     "output_type": "stream",
     "text": [
      " +3.121312\n",
      " -3.121312\n"
     ]
    }
   ],
   "source": [
    "print(f' {d:+9f}')\n",
    "print(f' {d_neg:9f}')"
   ]
  },
  {
   "cell_type": "markdown",
   "metadata": {},
   "source": [
    "As mentioned above, the data right aligns itself when the field width mentioned is larger than the actual fieldwidth. But left alignment can be done by specifying a negative symbol in the field width."
   ]
  },
  {
   "cell_type": "code",
   "execution_count": 74,
   "metadata": {
    "execution": {
     "iopub.execute_input": "2023-02-22T15:39:33.998432Z",
     "iopub.status.busy": "2023-02-22T15:39:33.998006Z",
     "iopub.status.idle": "2023-02-22T15:39:34.001538Z",
     "shell.execute_reply": "2023-02-22T15:39:34.000866Z"
    }
   },
   "outputs": [
    {
     "name": "stdout",
     "output_type": "stream",
     "text": [
      "     3.121\n",
      "  3.121312\n"
     ]
    }
   ],
   "source": [
    "print(f' {d:-9.3f}')\n",
    "print(f' {d:9f}')"
   ]
  },
  {
   "cell_type": "markdown",
   "metadata": {},
   "source": [
    "Debugging. There's also the possibility for a \"debugging\" f-string by using an equal sign:"
   ]
  },
  {
   "cell_type": "code",
   "execution_count": 75,
   "metadata": {
    "execution": {
     "iopub.execute_input": "2023-02-22T15:39:34.004909Z",
     "iopub.status.busy": "2023-02-22T15:39:34.004370Z",
     "iopub.status.idle": "2023-02-22T15:39:34.007890Z",
     "shell.execute_reply": "2023-02-22T15:39:34.007222Z"
    }
   },
   "outputs": [
    {
     "name": "stdout",
     "output_type": "stream",
     "text": [
      "Here are the current variables a=5, d=3.121312312312\n"
     ]
    }
   ],
   "source": [
    "print(f'Here are the current variables {a=}, {d=}')"
   ]
  },
  {
   "cell_type": "markdown",
   "metadata": {},
   "source": [
    "### Exercise: Printing a date and a time"
   ]
  },
  {
   "cell_type": "code",
   "execution_count": 76,
   "metadata": {
    "execution": {
     "iopub.execute_input": "2023-02-22T15:39:34.010708Z",
     "iopub.status.busy": "2023-02-22T15:39:34.010141Z",
     "iopub.status.idle": "2023-02-22T15:39:34.013794Z",
     "shell.execute_reply": "2023-02-22T15:39:34.013271Z"
    }
   },
   "outputs": [
    {
     "name": "stdout",
     "output_type": "stream",
     "text": [
      "DD.MM.YYYYY hh:mm\n"
     ]
    }
   ],
   "source": [
    "DD = 3\n",
    "MM = 5\n",
    "YYYY = 2012.0\n",
    "hh = 3\n",
    "mm = 20\n",
    "print(\"DD.MM.YYYYY hh:mm\")"
   ]
  },
  {
   "cell_type": "markdown",
   "metadata": {
    "solution2": "hidden",
    "solution2_first": true
   },
   "source": [
    "\\begin{exercise}\\label{ex:datetime}\n",
    "Use the print function to format the following variables to a datetime format of DD.MM.YYYY hh:mm.\n",
    "\n",
    "Use zero-padding to change \"3.5.2012.0\" to \"03.05.2012\"\n",
    "\\end{exercise}"
   ]
  },
  {
   "cell_type": "code",
   "execution_count": 77,
   "metadata": {
    "execution": {
     "iopub.execute_input": "2023-02-22T15:39:34.016727Z",
     "iopub.status.busy": "2023-02-22T15:39:34.016095Z",
     "iopub.status.idle": "2023-02-22T15:39:34.019746Z",
     "shell.execute_reply": "2023-02-22T15:39:34.019221Z"
    }
   },
   "outputs": [
    {
     "name": "stdout",
     "output_type": "stream",
     "text": [
      "03.05.2012 3:20\n"
     ]
    }
   ],
   "source": [
    "print(f\"{DD:02}.{MM:02}.{YYYY:.0f} {hh}:{mm}\")"
   ]
  },
  {
   "cell_type": "markdown",
   "metadata": {},
   "source": [
    "## Data structures\n",
    "\n",
    "Data structures are a collection of data in a specific format. If you want to store multiple variables which give the temperature of a probe overt time it would be better to store them in a list instead of giving every temperature its own variable."
   ]
  },
  {
   "cell_type": "markdown",
   "metadata": {},
   "source": [
    "### Lists\n",
    "\n",
    "Lists are the most commonly used data structure. Think of it as a sequence of data that is enclosed in square brackets and data are separated by a comma. Each of these data can be accessed by calling its index value.\n",
    "\n",
    "Lists are declared by just equating a variable to '[ ]' or list."
   ]
  },
  {
   "cell_type": "code",
   "execution_count": 78,
   "metadata": {
    "execution": {
     "iopub.execute_input": "2023-02-22T15:39:34.022596Z",
     "iopub.status.busy": "2023-02-22T15:39:34.021962Z",
     "iopub.status.idle": "2023-02-22T15:39:34.025529Z",
     "shell.execute_reply": "2023-02-22T15:39:34.025006Z"
    }
   },
   "outputs": [
    {
     "name": "stdout",
     "output_type": "stream",
     "text": [
      "<class 'list'>\n"
     ]
    }
   ],
   "source": [
    "a = []\n",
    "print(type(a))"
   ]
  },
  {
   "cell_type": "markdown",
   "metadata": {},
   "source": [
    "You can create a list by directly declaring it:"
   ]
  },
  {
   "cell_type": "code",
   "execution_count": 79,
   "metadata": {
    "execution": {
     "iopub.execute_input": "2023-02-22T15:39:34.028336Z",
     "iopub.status.busy": "2023-02-22T15:39:34.027706Z",
     "iopub.status.idle": "2023-02-22T15:39:34.030934Z",
     "shell.execute_reply": "2023-02-22T15:39:34.030405Z"
    }
   },
   "outputs": [],
   "source": [
    "x = ['apple', 'orange', 1, 1.1, 'hello', 'list', \"Even longer strings are possible\"]\n"
   ]
  },
  {
   "cell_type": "markdown",
   "metadata": {},
   "source": [
    "#### Indexing\n",
    "\n",
    "In python, Indexing starts from 0. Thus, now the list x, will have apple at 0 index and orange at 1 index.\n",
    "\n",
    "The zero based indexing will lead to problems when data from other programs (atomic coordinate files) are loaded. **Always check if you transition from 1-based to 0-based indexing!**"
   ]
  },
  {
   "cell_type": "code",
   "execution_count": 80,
   "metadata": {
    "execution": {
     "iopub.execute_input": "2023-02-22T15:39:34.033710Z",
     "iopub.status.busy": "2023-02-22T15:39:34.033071Z",
     "iopub.status.idle": "2023-02-22T15:39:34.037310Z",
     "shell.execute_reply": "2023-02-22T15:39:34.036783Z"
    }
   },
   "outputs": [
    {
     "data": {
      "text/plain": [
       "'apple'"
      ]
     },
     "execution_count": 80,
     "metadata": {},
     "output_type": "execute_result"
    }
   ],
   "source": [
    "x[0]"
   ]
  },
  {
   "cell_type": "markdown",
   "metadata": {},
   "source": [
    "Indexing can also be done in reverse order. That is the last element can be accessed first."
   ]
  },
  {
   "cell_type": "code",
   "execution_count": 81,
   "metadata": {
    "execution": {
     "iopub.execute_input": "2023-02-22T15:39:34.040135Z",
     "iopub.status.busy": "2023-02-22T15:39:34.039499Z",
     "iopub.status.idle": "2023-02-22T15:39:34.043798Z",
     "shell.execute_reply": "2023-02-22T15:39:34.043273Z"
    }
   },
   "outputs": [
    {
     "data": {
      "text/plain": [
       "'Even longer strings are possible'"
      ]
     },
     "execution_count": 81,
     "metadata": {},
     "output_type": "execute_result"
    }
   ],
   "source": [
    "x[-1]"
   ]
  },
  {
   "cell_type": "markdown",
   "metadata": {
    "solution2": "hidden",
    "solution2_first": true
   },
   "source": [
    "\\begin{exercise}\\label{ex:list_indexing}\n",
    "Return the element \"hello\" from the list via indexing.\n",
    "\\end{exercise}"
   ]
  },
  {
   "cell_type": "code",
   "execution_count": 82,
   "metadata": {
    "execution": {
     "iopub.execute_input": "2023-02-22T15:39:34.046623Z",
     "iopub.status.busy": "2023-02-22T15:39:34.045953Z",
     "iopub.status.idle": "2023-02-22T15:39:34.050060Z",
     "shell.execute_reply": "2023-02-22T15:39:34.049523Z"
    }
   },
   "outputs": [
    {
     "name": "stdout",
     "output_type": "stream",
     "text": [
      "hello\n"
     ]
    }
   ],
   "source": [
    "print(x[4])"
   ]
  },
  {
   "cell_type": "markdown",
   "metadata": {},
   "source": [
    "#### Nested lists\n",
    "\n",
    "A list can itself be an element of a list"
   ]
  },
  {
   "cell_type": "code",
   "execution_count": 83,
   "metadata": {
    "execution": {
     "iopub.execute_input": "2023-02-22T15:39:34.052640Z",
     "iopub.status.busy": "2023-02-22T15:39:34.052230Z",
     "iopub.status.idle": "2023-02-22T15:39:34.056418Z",
     "shell.execute_reply": "2023-02-22T15:39:34.055899Z"
    }
   },
   "outputs": [
    {
     "name": "stdout",
     "output_type": "stream",
     "text": [
      "[['apple', 'orange'], ['carrot', 'potato']]"
     ]
    },
    {
     "name": "stdout",
     "output_type": "stream",
     "text": [
      "\n"
     ]
    }
   ],
   "source": [
    "x = ['apple', 'orange']\n",
    "y = ['carrot','potato']\n",
    "z  = [x,y]\n",
    "print(z)"
   ]
  },
  {
   "cell_type": "markdown",
   "metadata": {},
   "source": [
    "Indexing in nested lists can be quite confusing if you do not understand how indexing works in python. So let us break it down and then arrive at a conclusion.\n",
    "\n",
    "Let us access the data 'apple' in the above nested list. First, at index 0 there is a list ['apple','orange'] and at index 1 there is another list ['carrot','potato']. Hence z[0] should give us the first list which contains 'apple'."
   ]
  },
  {
   "cell_type": "code",
   "execution_count": 84,
   "metadata": {
    "execution": {
     "iopub.execute_input": "2023-02-22T15:39:34.059003Z",
     "iopub.status.busy": "2023-02-22T15:39:34.058589Z",
     "iopub.status.idle": "2023-02-22T15:39:34.062098Z",
     "shell.execute_reply": "2023-02-22T15:39:34.061567Z"
    }
   },
   "outputs": [
    {
     "name": "stdout",
     "output_type": "stream",
     "text": [
      "['apple', 'orange']\n"
     ]
    }
   ],
   "source": [
    "z0 = z[0]\n",
    "print(z0)"
   ]
  },
  {
   "cell_type": "markdown",
   "metadata": {},
   "source": [
    "Now observe that z0 is not at all a nested list thus to access 'apple', z0 should be indexed at 0."
   ]
  },
  {
   "cell_type": "code",
   "execution_count": 85,
   "metadata": {
    "execution": {
     "iopub.execute_input": "2023-02-22T15:39:34.064702Z",
     "iopub.status.busy": "2023-02-22T15:39:34.064292Z",
     "iopub.status.idle": "2023-02-22T15:39:34.068848Z",
     "shell.execute_reply": "2023-02-22T15:39:34.068256Z"
    }
   },
   "outputs": [
    {
     "data": {
      "text/plain": [
       "'apple'"
      ]
     },
     "execution_count": 85,
     "metadata": {},
     "output_type": "execute_result"
    }
   ],
   "source": [
    "z0[0]"
   ]
  },
  {
   "cell_type": "code",
   "execution_count": 86,
   "metadata": {
    "execution": {
     "iopub.execute_input": "2023-02-22T15:39:34.071640Z",
     "iopub.status.busy": "2023-02-22T15:39:34.070998Z",
     "iopub.status.idle": "2023-02-22T15:39:34.075280Z",
     "shell.execute_reply": "2023-02-22T15:39:34.074754Z"
    }
   },
   "outputs": [
    {
     "data": {
      "text/plain": [
       "'apple'"
      ]
     },
     "execution_count": 86,
     "metadata": {},
     "output_type": "execute_result"
    }
   ],
   "source": [
    "z[0][0]"
   ]
  },
  {
   "cell_type": "markdown",
   "metadata": {},
   "source": [
    "#### Slicing"
   ]
  },
  {
   "cell_type": "markdown",
   "metadata": {},
   "source": [
    "Indexing is only limited to accessing a single element, Slicing on the other hand is accessing a sequence of data inside the list.\n",
    "\n",
    "Slicing is done by defining the index values of the first element and the last element **+1** from the parent list that is required in the sliced list. It is written as parentlist[ a : b ] where a,b are the index values from the parent list. If a or b is not defined then the index value is considered to be the first value for `a` if `a` is not defined and the last value for `b` when `b` is not defined."
   ]
  },
  {
   "cell_type": "code",
   "execution_count": 87,
   "metadata": {
    "execution": {
     "iopub.execute_input": "2023-02-22T15:39:34.078147Z",
     "iopub.status.busy": "2023-02-22T15:39:34.077507Z",
     "iopub.status.idle": "2023-02-22T15:39:34.080818Z",
     "shell.execute_reply": "2023-02-22T15:39:34.080270Z"
    }
   },
   "outputs": [],
   "source": [
    "num = [0,1,2,3,4,5,6,7,8,9]"
   ]
  },
  {
   "cell_type": "code",
   "execution_count": 88,
   "metadata": {
    "execution": {
     "iopub.execute_input": "2023-02-22T15:39:34.083362Z",
     "iopub.status.busy": "2023-02-22T15:39:34.082954Z",
     "iopub.status.idle": "2023-02-22T15:39:34.086508Z",
     "shell.execute_reply": "2023-02-22T15:39:34.085934Z"
    }
   },
   "outputs": [
    {
     "name": "stdout",
     "output_type": "stream",
     "text": [
      "[0, 1, 2, 3]\n"
     ]
    }
   ],
   "source": [
    "print(num[0:4])"
   ]
  },
  {
   "cell_type": "markdown",
   "metadata": {},
   "source": [
    "See, how the 4th element is excluded from the list. The lower index is inclusive, the higher index is exclusive. This is done, so slicing the list with ```[4:]``` returns the remainder of the list."
   ]
  },
  {
   "cell_type": "code",
   "execution_count": 89,
   "metadata": {
    "execution": {
     "iopub.execute_input": "2023-02-22T15:39:34.089122Z",
     "iopub.status.busy": "2023-02-22T15:39:34.088671Z",
     "iopub.status.idle": "2023-02-22T15:39:34.092233Z",
     "shell.execute_reply": "2023-02-22T15:39:34.091711Z"
    }
   },
   "outputs": [
    {
     "name": "stdout",
     "output_type": "stream",
     "text": [
      "[4, 5, 6, 7, 8, 9]\n"
     ]
    }
   ],
   "source": [
    "print(num[4:])"
   ]
  },
  {
   "cell_type": "markdown",
   "metadata": {},
   "source": [
    "You can also use a step to only return every nth element of the list"
   ]
  },
  {
   "cell_type": "code",
   "execution_count": 90,
   "metadata": {
    "execution": {
     "iopub.execute_input": "2023-02-22T15:39:34.095041Z",
     "iopub.status.busy": "2023-02-22T15:39:34.094408Z",
     "iopub.status.idle": "2023-02-22T15:39:34.098119Z",
     "shell.execute_reply": "2023-02-22T15:39:34.097591Z"
    }
   },
   "outputs": [
    {
     "name": "stdout",
     "output_type": "stream",
     "text": [
      "[1, 5]\n",
      "[0, 2, 4, 6, 8]\n"
     ]
    }
   ],
   "source": [
    "print(num[1:9:4])\n",
    "print(num[::2])"
   ]
  },
  {
   "cell_type": "markdown",
   "metadata": {
    "solution2": "hidden",
    "solution2_first": true
   },
   "source": [
    "\\begin{exercise}\\label{ex:list_slicing}\n",
    "Try to get the list [1, 3, 5] by slicing the list num.\n",
    "\\end{exercise}"
   ]
  },
  {
   "cell_type": "code",
   "execution_count": 91,
   "metadata": {
    "execution": {
     "iopub.execute_input": "2023-02-22T15:39:34.100937Z",
     "iopub.status.busy": "2023-02-22T15:39:34.100307Z",
     "iopub.status.idle": "2023-02-22T15:39:34.103916Z",
     "shell.execute_reply": "2023-02-22T15:39:34.103394Z"
    }
   },
   "outputs": [
    {
     "name": "stdout",
     "output_type": "stream",
     "text": [
      "[1, 3, 5]\n"
     ]
    }
   ],
   "source": [
    "print(num[1:6:2])"
   ]
  },
  {
   "cell_type": "markdown",
   "metadata": {},
   "source": [
    "#### Built-in list functions"
   ]
  },
  {
   "cell_type": "markdown",
   "metadata": {},
   "source": [
    "To find the length of the list or the number of elements in a list, ```len()``` is used."
   ]
  },
  {
   "cell_type": "code",
   "execution_count": 92,
   "metadata": {
    "execution": {
     "iopub.execute_input": "2023-02-22T15:39:34.106806Z",
     "iopub.status.busy": "2023-02-22T15:39:34.106151Z",
     "iopub.status.idle": "2023-02-22T15:39:34.110439Z",
     "shell.execute_reply": "2023-02-22T15:39:34.109857Z"
    }
   },
   "outputs": [
    {
     "data": {
      "text/plain": [
       "10"
      ]
     },
     "execution_count": 92,
     "metadata": {},
     "output_type": "execute_result"
    }
   ],
   "source": [
    "len(num)"
   ]
  },
  {
   "cell_type": "markdown",
   "metadata": {},
   "source": [
    "If the list consists of all numerical elements then ```min()``` and ```max()``` gives the minimum and maximum value in the list."
   ]
  },
  {
   "cell_type": "code",
   "execution_count": 93,
   "metadata": {
    "execution": {
     "iopub.execute_input": "2023-02-22T15:39:34.113403Z",
     "iopub.status.busy": "2023-02-22T15:39:34.113188Z",
     "iopub.status.idle": "2023-02-22T15:39:34.117813Z",
     "shell.execute_reply": "2023-02-22T15:39:34.117216Z"
    }
   },
   "outputs": [
    {
     "name": "stdout",
     "output_type": "stream",
     "text": [
      "0\n",
      "9\n"
     ]
    }
   ],
   "source": [
    "print(min(num))\n",
    "print(max(num))"
   ]
  },
  {
   "cell_type": "markdown",
   "metadata": {},
   "source": [
    "Lists can be concatenated by adding with '+'. The resultant list will contain all the elements of the lists that were added. The resultant list will not be a nested list."
   ]
  },
  {
   "cell_type": "code",
   "execution_count": 94,
   "metadata": {
    "execution": {
     "iopub.execute_input": "2023-02-22T15:39:34.120700Z",
     "iopub.status.busy": "2023-02-22T15:39:34.120488Z",
     "iopub.status.idle": "2023-02-22T15:39:34.126433Z",
     "shell.execute_reply": "2023-02-22T15:39:34.125838Z"
    }
   },
   "outputs": [
    {
     "data": {
      "text/plain": [
       "[1, 2, 3, 5, 4, 7]"
      ]
     },
     "execution_count": 94,
     "metadata": {},
     "output_type": "execute_result"
    }
   ],
   "source": [
    "[1,2,3] + [5,4,7]"
   ]
  },
  {
   "cell_type": "markdown",
   "metadata": {},
   "source": [
    "There might arise a requirement where you might need to check if a particular element is there in a predefined list. This can be done with the ```in``` logic operator"
   ]
  },
  {
   "cell_type": "code",
   "execution_count": 95,
   "metadata": {
    "execution": {
     "iopub.execute_input": "2023-02-22T15:39:34.129214Z",
     "iopub.status.busy": "2023-02-22T15:39:34.129003Z",
     "iopub.status.idle": "2023-02-22T15:39:34.133665Z",
     "shell.execute_reply": "2023-02-22T15:39:34.133083Z"
    }
   },
   "outputs": [
    {
     "name": "stdout",
     "output_type": "stream",
     "text": [
      "True\n",
      "False\n"
     ]
    }
   ],
   "source": [
    "elements = ['Earth', 'Air', 'Fire', 'Water']\n",
    "print('Earth' in elements)\n",
    "print('Aether' in elements)"
   ]
  },
  {
   "cell_type": "markdown",
   "metadata": {},
   "source": [
    "To a list of strings, ```max()``` and ```min()``` can also be applied. ```max()``` would return a string element whose ASCII value is the highest and vice versa. Note that only the first index of each element is considered each time and if the value is the same then the second index considered so on and so forth."
   ]
  },
  {
   "cell_type": "code",
   "execution_count": 96,
   "metadata": {
    "execution": {
     "iopub.execute_input": "2023-02-22T15:39:34.136590Z",
     "iopub.status.busy": "2023-02-22T15:39:34.136380Z",
     "iopub.status.idle": "2023-02-22T15:39:34.141108Z",
     "shell.execute_reply": "2023-02-22T15:39:34.140520Z"
    }
   },
   "outputs": [
    {
     "name": "stdout",
     "output_type": "stream",
     "text": [
      "z\n",
      "az\n"
     ]
    }
   ],
   "source": [
    "mlist = ['bzaa','ds','nc','az','z','klm']\n",
    "print(max(mlist))\n",
    "print(min(mlist))"
   ]
  },
  {
   "cell_type": "markdown",
   "metadata": {},
   "source": [
    "Here, the first index of each element is considered and thus `z` has the highest ASCII value thus it is returned and minimum ASCII is `a`. But what if numbers are declared as strings?"
   ]
  },
  {
   "cell_type": "code",
   "execution_count": 97,
   "metadata": {
    "execution": {
     "iopub.execute_input": "2023-02-22T15:39:34.143995Z",
     "iopub.status.busy": "2023-02-22T15:39:34.143668Z",
     "iopub.status.idle": "2023-02-22T15:39:34.147201Z",
     "shell.execute_reply": "2023-02-22T15:39:34.146761Z"
    }
   },
   "outputs": [
    {
     "name": "stdout",
     "output_type": "stream",
     "text": [
      "94\n",
      "1\n"
     ]
    }
   ],
   "source": [
    "nlist = ['1','94','93','1000']\n",
    "print(max(nlist))\n",
    "print(min(nlist))"
   ]
  },
  {
   "cell_type": "markdown",
   "metadata": {},
   "source": [
    "Even if the numbers are declared in a string the first index of each element is considered and the maximum and minimum values are returned accordingly.\n",
    "\n",
    "But if you want to find the ```max()``` string element based on the length of the string then another parameter 'key=len' is declared inside the ```max()``` and ```min()``` function."
   ]
  },
  {
   "cell_type": "code",
   "execution_count": 98,
   "metadata": {
    "execution": {
     "iopub.execute_input": "2023-02-22T15:39:34.149957Z",
     "iopub.status.busy": "2023-02-22T15:39:34.149546Z",
     "iopub.status.idle": "2023-02-22T15:39:34.154272Z",
     "shell.execute_reply": "2023-02-22T15:39:34.153616Z"
    }
   },
   "outputs": [
    {
     "name": "stdout",
     "output_type": "stream",
     "text": [
      "Earth\n",
      "Air\n"
     ]
    }
   ],
   "source": [
    "print(max(elements, key=len))\n",
    "print(min(elements, key=len))"
   ]
  },
  {
   "cell_type": "markdown",
   "metadata": {},
   "source": [
    "But even 'Water' has length 5. The ```max()``` or ```min()``` functions return the first element when there are two or more elements with the same length.\n",
    "\n",
    "Any other built-in function can be used or the ```lambda``` function which will be discussed in 02_functions_and_classes.\n",
    "\n",
    "A string can be converted into a list by using the ```list()``` function."
   ]
  },
  {
   "cell_type": "code",
   "execution_count": 99,
   "metadata": {
    "execution": {
     "iopub.execute_input": "2023-02-22T15:39:34.156917Z",
     "iopub.status.busy": "2023-02-22T15:39:34.156581Z",
     "iopub.status.idle": "2023-02-22T15:39:34.161992Z",
     "shell.execute_reply": "2023-02-22T15:39:34.161319Z"
    }
   },
   "outputs": [
    {
     "data": {
      "text/plain": [
       "['h', 'e', 'l', 'l', 'o']"
      ]
     },
     "execution_count": 99,
     "metadata": {},
     "output_type": "execute_result"
    }
   ],
   "source": [
    "list('hello')"
   ]
  },
  {
   "cell_type": "markdown",
   "metadata": {},
   "source": [
    "```append()``` is used to add an element at the end of the list."
   ]
  },
  {
   "cell_type": "code",
   "execution_count": 100,
   "metadata": {
    "execution": {
     "iopub.execute_input": "2023-02-22T15:39:34.165010Z",
     "iopub.status.busy": "2023-02-22T15:39:34.164592Z",
     "iopub.status.idle": "2023-02-22T15:39:34.169651Z",
     "shell.execute_reply": "2023-02-22T15:39:34.169068Z"
    }
   },
   "outputs": [
    {
     "name": "stdout",
     "output_type": "stream",
     "text": [
      "[1, 1, 4, 8, 7, 1]\n"
     ]
    }
   ],
   "source": [
    "lst = [1,1,4,8,7]\n",
    "lst.append(1)\n",
    "print(lst)"
   ]
  },
  {
   "cell_type": "markdown",
   "metadata": {},
   "source": [
    "```count()``` is used to count the number of a particular element that is present in the list."
   ]
  },
  {
   "cell_type": "code",
   "execution_count": 101,
   "metadata": {
    "execution": {
     "iopub.execute_input": "2023-02-22T15:39:34.172478Z",
     "iopub.status.busy": "2023-02-22T15:39:34.171956Z",
     "iopub.status.idle": "2023-02-22T15:39:34.176201Z",
     "shell.execute_reply": "2023-02-22T15:39:34.175563Z"
    }
   },
   "outputs": [
    {
     "data": {
      "text/plain": [
       "3"
      ]
     },
     "execution_count": 101,
     "metadata": {},
     "output_type": "execute_result"
    }
   ],
   "source": [
    "lst.count(1)"
   ]
  },
  {
   "cell_type": "markdown",
   "metadata": {},
   "source": [
    "If you want to combine two lists you can also use the ```extend()``` built-in function. See how the ```append()``` creates a nested list."
   ]
  },
  {
   "cell_type": "code",
   "execution_count": 102,
   "metadata": {
    "execution": {
     "iopub.execute_input": "2023-02-22T15:39:34.179030Z",
     "iopub.status.busy": "2023-02-22T15:39:34.178625Z",
     "iopub.status.idle": "2023-02-22T15:39:34.182512Z",
     "shell.execute_reply": "2023-02-22T15:39:34.181955Z"
    }
   },
   "outputs": [
    {
     "name": "stdout",
     "output_type": "stream",
     "text": [
      "[1, 1, 4, 8, 7, [5, 4, 2, 8]]\n"
     ]
    }
   ],
   "source": [
    "lst = [1,1,4,8,7]\n",
    "lst1 = [5,4,2,8]\n",
    "lst.append(lst1)\n",
    "print(lst)"
   ]
  },
  {
   "cell_type": "code",
   "execution_count": 103,
   "metadata": {
    "execution": {
     "iopub.execute_input": "2023-02-22T15:39:34.185205Z",
     "iopub.status.busy": "2023-02-22T15:39:34.184802Z",
     "iopub.status.idle": "2023-02-22T15:39:34.188582Z",
     "shell.execute_reply": "2023-02-22T15:39:34.187907Z"
    }
   },
   "outputs": [
    {
     "name": "stdout",
     "output_type": "stream",
     "text": [
      "[1, 1, 4, 8, 7, 5, 4, 2, 8]\n"
     ]
    }
   ],
   "source": [
    "lst = [1,1,4,8,7]\n",
    "lst1 = [5,4,2,8]\n",
    "lst.extend(lst1)\n",
    "print(lst)"
   ]
  },
  {
   "cell_type": "markdown",
   "metadata": {},
   "source": [
    "```index()``` is used to find the index value of a particular element. Note that if there are multiple elements of the same value then the first index value of that element is returned."
   ]
  },
  {
   "cell_type": "code",
   "execution_count": 104,
   "metadata": {
    "execution": {
     "iopub.execute_input": "2023-02-22T15:39:34.192100Z",
     "iopub.status.busy": "2023-02-22T15:39:34.191696Z",
     "iopub.status.idle": "2023-02-22T15:39:34.195197Z",
     "shell.execute_reply": "2023-02-22T15:39:34.194539Z"
    }
   },
   "outputs": [
    {
     "name": "stdout",
     "output_type": "stream",
     "text": [
      "0\n",
      "2\n"
     ]
    }
   ],
   "source": [
    "print(lst.index(1))\n",
    "print(lst.index(4))"
   ]
  },
  {
   "cell_type": "markdown",
   "metadata": {},
   "source": [
    "```insert(x,y)``` is used to insert an element y at a specified index value x."
   ]
  },
  {
   "cell_type": "code",
   "execution_count": 105,
   "metadata": {
    "execution": {
     "iopub.execute_input": "2023-02-22T15:39:34.198748Z",
     "iopub.status.busy": "2023-02-22T15:39:34.198409Z",
     "iopub.status.idle": "2023-02-22T15:39:34.201931Z",
     "shell.execute_reply": "2023-02-22T15:39:34.201252Z"
    }
   },
   "outputs": [
    {
     "name": "stdout",
     "output_type": "stream",
     "text": [
      "[1, 1, 4, 8, 7, 'name', 5, 4, 2, 8]\n"
     ]
    }
   ],
   "source": [
    "lst.insert(5, 'name')\n",
    "print(lst)"
   ]
  },
  {
   "cell_type": "markdown",
   "metadata": {},
   "source": [
    "```insert(x,y)``` inserts but does not replace an element. If you want to replace the element with another element you simply assign the value to that particular index."
   ]
  },
  {
   "cell_type": "code",
   "execution_count": 106,
   "metadata": {
    "execution": {
     "iopub.execute_input": "2023-02-22T15:39:34.205581Z",
     "iopub.status.busy": "2023-02-22T15:39:34.205172Z",
     "iopub.status.idle": "2023-02-22T15:39:34.208537Z",
     "shell.execute_reply": "2023-02-22T15:39:34.208011Z"
    }
   },
   "outputs": [
    {
     "name": "stdout",
     "output_type": "stream",
     "text": [
      "[1, 1, 4, 8, 7, 'Python', 5, 4, 2, 8]\n"
     ]
    }
   ],
   "source": [
    "lst[5] = 'Python'\n",
    "print(lst)"
   ]
  },
  {
   "cell_type": "markdown",
   "metadata": {},
   "source": [
    "The ```pop()``` function returns the last element in the list. This element is also removed from the list"
   ]
  },
  {
   "cell_type": "code",
   "execution_count": 107,
   "metadata": {
    "execution": {
     "iopub.execute_input": "2023-02-22T15:39:34.211319Z",
     "iopub.status.busy": "2023-02-22T15:39:34.210695Z",
     "iopub.status.idle": "2023-02-22T15:39:34.214793Z",
     "shell.execute_reply": "2023-02-22T15:39:34.214259Z"
    }
   },
   "outputs": [
    {
     "name": "stdout",
     "output_type": "stream",
     "text": [
      "8"
     ]
    },
    {
     "name": "stdout",
     "output_type": "stream",
     "text": [
      "\n",
      "[1, 1, 4, 8, 7, 'Python', 5, 4, 2]\n"
     ]
    }
   ],
   "source": [
    "element = lst.pop()\n",
    "print(element)\n",
    "print(lst)"
   ]
  },
  {
   "cell_type": "markdown",
   "metadata": {},
   "source": [
    "An index value can be specified to pop a certain element corresponding to that index value."
   ]
  },
  {
   "cell_type": "code",
   "execution_count": 108,
   "metadata": {
    "execution": {
     "iopub.execute_input": "2023-02-22T15:39:34.217549Z",
     "iopub.status.busy": "2023-02-22T15:39:34.216920Z",
     "iopub.status.idle": "2023-02-22T15:39:34.221159Z",
     "shell.execute_reply": "2023-02-22T15:39:34.220636Z"
    }
   },
   "outputs": [
    {
     "data": {
      "text/plain": [
       "1"
      ]
     },
     "execution_count": 108,
     "metadata": {},
     "output_type": "execute_result"
    }
   ],
   "source": [
    "lst.pop(0)"
   ]
  },
  {
   "cell_type": "markdown",
   "metadata": {},
   "source": [
    "```pop()``` is used to remove an element based on its index value which can be assigned to a variable. One can also remove element by specifying the value of the element using the ```remove()``` function."
   ]
  },
  {
   "cell_type": "code",
   "execution_count": 109,
   "metadata": {
    "execution": {
     "iopub.execute_input": "2023-02-22T15:39:34.223730Z",
     "iopub.status.busy": "2023-02-22T15:39:34.223324Z",
     "iopub.status.idle": "2023-02-22T15:39:34.226793Z",
     "shell.execute_reply": "2023-02-22T15:39:34.226258Z"
    }
   },
   "outputs": [
    {
     "name": "stdout",
     "output_type": "stream",
     "text": [
      "[1, 4, 8, 7, 5, 4, 2]\n"
     ]
    }
   ],
   "source": [
    "lst.remove('Python')\n",
    "print(lst)"
   ]
  },
  {
   "cell_type": "markdown",
   "metadata": {},
   "source": [
    "An alternative to remove function but with using index value is ```del```"
   ]
  },
  {
   "cell_type": "code",
   "execution_count": 110,
   "metadata": {
    "execution": {
     "iopub.execute_input": "2023-02-22T15:39:34.229555Z",
     "iopub.status.busy": "2023-02-22T15:39:34.228932Z",
     "iopub.status.idle": "2023-02-22T15:39:34.232453Z",
     "shell.execute_reply": "2023-02-22T15:39:34.231936Z"
    }
   },
   "outputs": [
    {
     "name": "stdout",
     "output_type": "stream",
     "text": [
      "[1, 8, 7, 5, 4, 2]\n"
     ]
    }
   ],
   "source": [
    "del lst[1]\n",
    "print(lst)"
   ]
  },
  {
   "cell_type": "markdown",
   "metadata": {},
   "source": [
    "Python offers built in operation ```sort()``` to arrange the elements in ascending order."
   ]
  },
  {
   "cell_type": "code",
   "execution_count": 111,
   "metadata": {
    "execution": {
     "iopub.execute_input": "2023-02-22T15:39:34.235220Z",
     "iopub.status.busy": "2023-02-22T15:39:34.234597Z",
     "iopub.status.idle": "2023-02-22T15:39:34.238088Z",
     "shell.execute_reply": "2023-02-22T15:39:34.237567Z"
    }
   },
   "outputs": [
    {
     "name": "stdout",
     "output_type": "stream",
     "text": [
      "[1, 2, 4, 5, 7, 8]\n"
     ]
    }
   ],
   "source": [
    "lst.sort()\n",
    "print(lst)"
   ]
  },
  {
   "cell_type": "markdown",
   "metadata": {},
   "source": [
    "To reverse the order the argument reverse of the method sort can be set to True"
   ]
  },
  {
   "cell_type": "code",
   "execution_count": 112,
   "metadata": {
    "execution": {
     "iopub.execute_input": "2023-02-22T15:39:34.240879Z",
     "iopub.status.busy": "2023-02-22T15:39:34.240255Z",
     "iopub.status.idle": "2023-02-22T15:39:34.243830Z",
     "shell.execute_reply": "2023-02-22T15:39:34.243312Z"
    }
   },
   "outputs": [
    {
     "name": "stdout",
     "output_type": "stream",
     "text": [
      "[8, 7, 5, 4, 2, 1]\n"
     ]
    }
   ],
   "source": [
    "lst.sort(reverse=True)\n",
    "print(lst)"
   ]
  },
  {
   "cell_type": "code",
   "execution_count": 113,
   "metadata": {
    "execution": {
     "iopub.execute_input": "2023-02-22T15:39:34.246298Z",
     "iopub.status.busy": "2023-02-22T15:39:34.245898Z",
     "iopub.status.idle": "2023-02-22T15:39:34.250229Z",
     "shell.execute_reply": "2023-02-22T15:39:34.249708Z"
    }
   },
   "outputs": [
    {
     "name": "stdout",
     "output_type": "stream",
     "text": [
      "['Air', 'Fire', 'Earth', 'Water']"
     ]
    },
    {
     "name": "stdout",
     "output_type": "stream",
     "text": [
      "\n",
      "['Earth', 'Water', 'Fire', 'Air']\n"
     ]
    }
   ],
   "source": [
    "elements.sort(key=len)\n",
    "print(elements)\n",
    "elements.sort(reverse=True, key=len)\n",
    "print(elements)"
   ]
  },
  {
   "cell_type": "markdown",
   "metadata": {},
   "source": [
    "#### Copying a list\n",
    "\n",
    "Most python newcomers make this mistake so be careful."
   ]
  },
  {
   "cell_type": "code",
   "execution_count": 114,
   "metadata": {
    "execution": {
     "iopub.execute_input": "2023-02-22T15:39:34.253021Z",
     "iopub.status.busy": "2023-02-22T15:39:34.252396Z",
     "iopub.status.idle": "2023-02-22T15:39:34.256502Z",
     "shell.execute_reply": "2023-02-22T15:39:34.255978Z"
    }
   },
   "outputs": [
    {
     "name": "stdout",
     "output_type": "stream",
     "text": [
      "[2, 1, 4, 3]"
     ]
    },
    {
     "name": "stdout",
     "output_type": "stream",
     "text": [
      "\n"
     ]
    }
   ],
   "source": [
    "lista = [2,1,4,3]\n",
    "listb = lista\n",
    "print(listb)"
   ]
  },
  {
   "cell_type": "markdown",
   "metadata": {},
   "source": [
    "Now we perform some random operations on lista"
   ]
  },
  {
   "cell_type": "code",
   "execution_count": 115,
   "metadata": {
    "execution": {
     "iopub.execute_input": "2023-02-22T15:39:34.259281Z",
     "iopub.status.busy": "2023-02-22T15:39:34.258642Z",
     "iopub.status.idle": "2023-02-22T15:39:34.262826Z",
     "shell.execute_reply": "2023-02-22T15:39:34.262289Z"
    }
   },
   "outputs": [
    {
     "name": "stdout",
     "output_type": "stream",
     "text": [
      "[2, 1, 4]"
     ]
    },
    {
     "name": "stdout",
     "output_type": "stream",
     "text": [
      "\n",
      "[2, 1, 4, 9]\n"
     ]
    }
   ],
   "source": [
    "lista.pop()\n",
    "print(lista)\n",
    "lista.append(9)\n",
    "print(lista)"
   ]
  },
  {
   "cell_type": "code",
   "execution_count": 116,
   "metadata": {
    "execution": {
     "iopub.execute_input": "2023-02-22T15:39:34.265543Z",
     "iopub.status.busy": "2023-02-22T15:39:34.264917Z",
     "iopub.status.idle": "2023-02-22T15:39:34.268413Z",
     "shell.execute_reply": "2023-02-22T15:39:34.267895Z"
    }
   },
   "outputs": [
    {
     "name": "stdout",
     "output_type": "stream",
     "text": [
      "[2, 1, 4, 9]\n"
     ]
    }
   ],
   "source": [
    "print(listb)"
   ]
  },
  {
   "cell_type": "markdown",
   "metadata": {},
   "source": [
    "listb has also changed though no operation has been performed on it. This is because you have assigned the same memory space of `lista` to `listb`. So how do fix this?\n",
    "\n",
    "If you recall, in slicing we had seen that parentlist[a:b] returns a list from parent list with start index a and end index b and if a and b is not mentioned then by default it considers the first and last element. We use the same concept here. By doing so, we are assigning the data of lista to listb as a variable."
   ]
  },
  {
   "cell_type": "code",
   "execution_count": 117,
   "metadata": {
    "execution": {
     "iopub.execute_input": "2023-02-22T15:39:34.271213Z",
     "iopub.status.busy": "2023-02-22T15:39:34.270576Z",
     "iopub.status.idle": "2023-02-22T15:39:34.274453Z",
     "shell.execute_reply": "2023-02-22T15:39:34.273839Z"
    }
   },
   "outputs": [
    {
     "name": "stdout",
     "output_type": "stream",
     "text": [
      "[2, 1, 4, 3]\n"
     ]
    }
   ],
   "source": [
    "lista = [2,1,4,3]\n",
    "listb = lista[:]\n",
    "print(listb)"
   ]
  },
  {
   "cell_type": "code",
   "execution_count": 118,
   "metadata": {
    "execution": {
     "iopub.execute_input": "2023-02-22T15:39:34.277329Z",
     "iopub.status.busy": "2023-02-22T15:39:34.277006Z",
     "iopub.status.idle": "2023-02-22T15:39:34.281941Z",
     "shell.execute_reply": "2023-02-22T15:39:34.281330Z"
    }
   },
   "outputs": [
    {
     "name": "stdout",
     "output_type": "stream",
     "text": [
      "[2, 1, 4]\n",
      "[2, 1, 4, 9]\n"
     ]
    }
   ],
   "source": [
    "lista.pop()\n",
    "print(lista)\n",
    "lista.append(9)\n",
    "print(lista)"
   ]
  },
  {
   "cell_type": "code",
   "execution_count": 119,
   "metadata": {
    "execution": {
     "iopub.execute_input": "2023-02-22T15:39:34.284789Z",
     "iopub.status.busy": "2023-02-22T15:39:34.284470Z",
     "iopub.status.idle": "2023-02-22T15:39:34.289197Z",
     "shell.execute_reply": "2023-02-22T15:39:34.288617Z"
    }
   },
   "outputs": [
    {
     "name": "stdout",
     "output_type": "stream",
     "text": [
      "[2, 1, 4, 3]\n"
     ]
    }
   ],
   "source": [
    "print(listb)"
   ]
  },
  {
   "cell_type": "markdown",
   "metadata": {},
   "source": [
    "### Tuples"
   ]
  },
  {
   "cell_type": "markdown",
   "metadata": {},
   "source": [
    "Tuples are similar to lists with one big difference. The elements inside a list can be changed but in tuples they cannot be changed. Think of tuples as something which has to be True for a particular something and cannot be True for no other values. For better understanding, Recall the ```divmod()``` function"
   ]
  },
  {
   "cell_type": "code",
   "execution_count": 120,
   "metadata": {
    "execution": {
     "iopub.execute_input": "2023-02-22T15:39:34.292156Z",
     "iopub.status.busy": "2023-02-22T15:39:34.291836Z",
     "iopub.status.idle": "2023-02-22T15:39:34.296607Z",
     "shell.execute_reply": "2023-02-22T15:39:34.296013Z"
    }
   },
   "outputs": [
    {
     "name": "stdout",
     "output_type": "stream",
     "text": [
      "(3, 1)\n",
      "<class 'tuple'>\n"
     ]
    }
   ],
   "source": [
    "xyz = divmod(10,3)\n",
    "print(xyz)\n",
    "print(type(xyz))"
   ]
  },
  {
   "cell_type": "markdown",
   "metadata": {},
   "source": [
    "Here the quotient has to be 3 and the remainder has to be 1. These values cannot be changed whatsoever when 10 is divided by 3. Hence, `divmod` returns these values in a tuple.\n",
    "\n",
    "To define a tuple, A variable is assigned to parenthesis ( ) or the function `tuple()` is called on the variable."
   ]
  },
  {
   "cell_type": "code",
   "execution_count": 121,
   "metadata": {
    "execution": {
     "iopub.execute_input": "2023-02-22T15:39:34.299506Z",
     "iopub.status.busy": "2023-02-22T15:39:34.299108Z",
     "iopub.status.idle": "2023-02-22T15:39:34.302256Z",
     "shell.execute_reply": "2023-02-22T15:39:34.301614Z"
    }
   },
   "outputs": [],
   "source": [
    "tup = () # this is an empty tuple\n",
    "tup2 = tuple()"
   ]
  },
  {
   "cell_type": "markdown",
   "metadata": {},
   "source": [
    "If you want to directly declare a tuple it can be done by using a comma at the end of the data."
   ]
  },
  {
   "cell_type": "code",
   "execution_count": 122,
   "metadata": {
    "execution": {
     "iopub.execute_input": "2023-02-22T15:39:34.305187Z",
     "iopub.status.busy": "2023-02-22T15:39:34.304806Z",
     "iopub.status.idle": "2023-02-22T15:39:34.309054Z",
     "shell.execute_reply": "2023-02-22T15:39:34.308439Z"
    }
   },
   "outputs": [
    {
     "data": {
      "text/plain": [
       "(27,)"
      ]
     },
     "execution_count": 122,
     "metadata": {},
     "output_type": "execute_result"
    }
   ],
   "source": [
    "27,"
   ]
  },
  {
   "cell_type": "markdown",
   "metadata": {},
   "source": [
    "27 when multiplied by 2 yields 54, But when multiplied with a tuple the data is repeated twice."
   ]
  },
  {
   "cell_type": "code",
   "execution_count": 123,
   "metadata": {
    "execution": {
     "iopub.execute_input": "2023-02-22T15:39:34.312392Z",
     "iopub.status.busy": "2023-02-22T15:39:34.312013Z",
     "iopub.status.idle": "2023-02-22T15:39:34.315758Z",
     "shell.execute_reply": "2023-02-22T15:39:34.315314Z"
    }
   },
   "outputs": [
    {
     "data": {
      "text/plain": [
       "(27, 27)"
      ]
     },
     "execution_count": 123,
     "metadata": {},
     "output_type": "execute_result"
    }
   ],
   "source": [
    "2 * (27,)"
   ]
  },
  {
   "cell_type": "markdown",
   "metadata": {},
   "source": [
    "Values can be assigned while declaring a tuple. It takes a list as input and converts it into a tuple, or it takes a string and converts it into a tuple."
   ]
  },
  {
   "cell_type": "code",
   "execution_count": 124,
   "metadata": {
    "execution": {
     "iopub.execute_input": "2023-02-22T15:39:34.318170Z",
     "iopub.status.busy": "2023-02-22T15:39:34.317963Z",
     "iopub.status.idle": "2023-02-22T15:39:34.322634Z",
     "shell.execute_reply": "2023-02-22T15:39:34.321952Z"
    }
   },
   "outputs": [
    {
     "name": "stdout",
     "output_type": "stream",
     "text": [
      "(1, 2, 3)\n",
      "('H', 'e', 'l', 'l', 'o')\n"
     ]
    }
   ],
   "source": [
    "tup3 = tuple([1,2,3])\n",
    "print(tup3)\n",
    "tup4 = tuple('Hello')\n",
    "print(tup4)"
   ]
  },
  {
   "cell_type": "markdown",
   "metadata": {},
   "source": [
    "Tuples follow the same indexing and slicing as Lists."
   ]
  },
  {
   "cell_type": "code",
   "execution_count": 125,
   "metadata": {
    "execution": {
     "iopub.execute_input": "2023-02-22T15:39:34.325367Z",
     "iopub.status.busy": "2023-02-22T15:39:34.325155Z",
     "iopub.status.idle": "2023-02-22T15:39:34.329691Z",
     "shell.execute_reply": "2023-02-22T15:39:34.329044Z"
    }
   },
   "outputs": [
    {
     "name": "stdout",
     "output_type": "stream",
     "text": [
      "2\n",
      "('H', 'e', 'l')\n"
     ]
    }
   ],
   "source": [
    "print(tup3[1])\n",
    "tup5 = tup4[:3]\n",
    "print(tup5)"
   ]
  },
  {
   "cell_type": "markdown",
   "metadata": {},
   "source": [
    "#### Mapping one tuple to another"
   ]
  },
  {
   "cell_type": "code",
   "execution_count": 126,
   "metadata": {
    "execution": {
     "iopub.execute_input": "2023-02-22T15:39:34.332500Z",
     "iopub.status.busy": "2023-02-22T15:39:34.332286Z",
     "iopub.status.idle": "2023-02-22T15:39:34.335305Z",
     "shell.execute_reply": "2023-02-22T15:39:34.334614Z"
    }
   },
   "outputs": [],
   "source": [
    "(a,b,c) = ('alpha','beta','gamma')"
   ]
  },
  {
   "cell_type": "code",
   "execution_count": 127,
   "metadata": {
    "execution": {
     "iopub.execute_input": "2023-02-22T15:39:34.337886Z",
     "iopub.status.busy": "2023-02-22T15:39:34.337459Z",
     "iopub.status.idle": "2023-02-22T15:39:34.340813Z",
     "shell.execute_reply": "2023-02-22T15:39:34.340293Z"
    }
   },
   "outputs": [
    {
     "name": "stdout",
     "output_type": "stream",
     "text": [
      "alpha beta gamma\n"
     ]
    }
   ],
   "source": [
    "print(a,b,c)"
   ]
  },
  {
   "cell_type": "code",
   "execution_count": 128,
   "metadata": {
    "execution": {
     "iopub.execute_input": "2023-02-22T15:39:34.343447Z",
     "iopub.status.busy": "2023-02-22T15:39:34.343013Z",
     "iopub.status.idle": "2023-02-22T15:39:34.346421Z",
     "shell.execute_reply": "2023-02-22T15:39:34.345866Z"
    }
   },
   "outputs": [
    {
     "name": "stdout",
     "output_type": "stream",
     "text": [
      "('A', 'G', 'P', 'e', 't', 'e', 'r', 'T', 'u', 't', 'o', 'r', 'i', 'a', 'l')\n"
     ]
    }
   ],
   "source": [
    "d = tuple('AGPeterTutorial')\n",
    "print(d)"
   ]
  },
  {
   "cell_type": "markdown",
   "metadata": {},
   "source": [
    "#### More mapping\n",
    "\n",
    "Mapping and indexing can be used to switch around elements in tuples. Something that can come in very handy later."
   ]
  },
  {
   "cell_type": "code",
   "execution_count": 129,
   "metadata": {
    "execution": {
     "iopub.execute_input": "2023-02-22T15:39:34.349076Z",
     "iopub.status.busy": "2023-02-22T15:39:34.348647Z",
     "iopub.status.idle": "2023-02-22T15:39:34.352053Z",
     "shell.execute_reply": "2023-02-22T15:39:34.351519Z"
    }
   },
   "outputs": [
    {
     "name": "stdout",
     "output_type": "stream",
     "text": [
      "0\n"
     ]
    }
   ],
   "source": [
    "a = 0\n",
    "b = 1\n",
    "print(a)"
   ]
  },
  {
   "cell_type": "markdown",
   "metadata": {},
   "source": [
    "Execute the next cell a few times."
   ]
  },
  {
   "cell_type": "code",
   "execution_count": 130,
   "metadata": {
    "execution": {
     "iopub.execute_input": "2023-02-22T15:39:34.354719Z",
     "iopub.status.busy": "2023-02-22T15:39:34.354271Z",
     "iopub.status.idle": "2023-02-22T15:39:34.357653Z",
     "shell.execute_reply": "2023-02-22T15:39:34.357133Z"
    }
   },
   "outputs": [
    {
     "name": "stdout",
     "output_type": "stream",
     "text": [
      "1\n"
     ]
    }
   ],
   "source": [
    "a, b = b, a + b\n",
    "print(a)\n"
   ]
  },
  {
   "cell_type": "markdown",
   "metadata": {
    "solution2": "hidden",
    "solution2_first": true
   },
   "source": [
    "\\begin{exercise}\n",
    "What happened in the previous cell?\n",
    "\\end{exercise}"
   ]
  },
  {
   "cell_type": "markdown",
   "metadata": {
    "solution2": "hidden"
   },
   "source": [
    "The fibonacci sequence was returned."
   ]
  },
  {
   "cell_type": "markdown",
   "metadata": {},
   "source": [
    "#### Built-in tuple functions\n",
    "\n",
    "The functions `count()` and `index()` are working just like they did with lists."
   ]
  },
  {
   "cell_type": "code",
   "execution_count": 131,
   "metadata": {
    "execution": {
     "iopub.execute_input": "2023-02-22T15:39:34.360605Z",
     "iopub.status.busy": "2023-02-22T15:39:34.360173Z",
     "iopub.status.idle": "2023-02-22T15:39:34.363638Z",
     "shell.execute_reply": "2023-02-22T15:39:34.363114Z"
    }
   },
   "outputs": [
    {
     "name": "stdout",
     "output_type": "stream",
     "text": [
      "1\n",
      "13\n"
     ]
    }
   ],
   "source": [
    "print(d.count('a'))\n",
    "print(d.index('a'))"
   ]
  },
  {
   "cell_type": "markdown",
   "metadata": {},
   "source": [
    "### Sets\n",
    "\n",
    "Sets are mainly used to eliminate repeated numbers in a sequence/list. They are also used to perform some standard set operations (Mengenlehre).\n",
    "\n",
    "Sets are declared with either a sequence in braces { } or the `set()` function which will initialize an empty set. Also `set([sequence])` can be executed to declare a set with elements."
   ]
  },
  {
   "cell_type": "code",
   "execution_count": 132,
   "metadata": {
    "execution": {
     "iopub.execute_input": "2023-02-22T15:39:34.366293Z",
     "iopub.status.busy": "2023-02-22T15:39:34.365867Z",
     "iopub.status.idle": "2023-02-22T15:39:34.369252Z",
     "shell.execute_reply": "2023-02-22T15:39:34.368727Z"
    }
   },
   "outputs": [
    {
     "name": "stdout",
     "output_type": "stream",
     "text": [
      "<class 'set'>\n"
     ]
    }
   ],
   "source": [
    "set1 = set()\n",
    "print(type(set1))"
   ]
  },
  {
   "cell_type": "raw",
   "metadata": {},
   "source": [
    "set0 = set([1,2,2,3,3,4])\n",
    "print(set0)"
   ]
  },
  {
   "cell_type": "markdown",
   "metadata": {},
   "source": [
    "Here, elements 2,3 which are repeated twice are seen only once. Thus, in a set each element is distinct."
   ]
  },
  {
   "cell_type": "markdown",
   "metadata": {},
   "source": [
    "#### Built-in functions"
   ]
  },
  {
   "cell_type": "code",
   "execution_count": 133,
   "metadata": {
    "execution": {
     "iopub.execute_input": "2023-02-22T15:39:34.372108Z",
     "iopub.status.busy": "2023-02-22T15:39:34.371677Z",
     "iopub.status.idle": "2023-02-22T15:39:34.374717Z",
     "shell.execute_reply": "2023-02-22T15:39:34.374172Z"
    }
   },
   "outputs": [],
   "source": [
    "set1 = {1,2,3}\n",
    "set2 = set([2,3,4,5])"
   ]
  },
  {
   "cell_type": "markdown",
   "metadata": {},
   "source": [
    "The `union()` function returns a set which contains all the elements of both the sets without repetition."
   ]
  },
  {
   "cell_type": "code",
   "execution_count": 134,
   "metadata": {
    "execution": {
     "iopub.execute_input": "2023-02-22T15:39:34.377352Z",
     "iopub.status.busy": "2023-02-22T15:39:34.376933Z",
     "iopub.status.idle": "2023-02-22T15:39:34.381069Z",
     "shell.execute_reply": "2023-02-22T15:39:34.380531Z"
    }
   },
   "outputs": [
    {
     "data": {
      "text/plain": [
       "{1, 2, 3, 4, 5}"
      ]
     },
     "execution_count": 134,
     "metadata": {},
     "output_type": "execute_result"
    }
   ],
   "source": [
    "set1.union(set2)"
   ]
  },
  {
   "cell_type": "markdown",
   "metadata": {},
   "source": [
    "`add()` will add a particular element into the set. Note, that the index of the newly added element is arbitrary and can be placed anywhere not necessarily at the end."
   ]
  },
  {
   "cell_type": "code",
   "execution_count": 135,
   "metadata": {
    "execution": {
     "iopub.execute_input": "2023-02-22T15:39:34.383747Z",
     "iopub.status.busy": "2023-02-22T15:39:34.383324Z",
     "iopub.status.idle": "2023-02-22T15:39:34.387346Z",
     "shell.execute_reply": "2023-02-22T15:39:34.386806Z"
    }
   },
   "outputs": [
    {
     "data": {
      "text/plain": [
       "{0, 1, 2, 3}"
      ]
     },
     "execution_count": 135,
     "metadata": {},
     "output_type": "execute_result"
    }
   ],
   "source": [
    "set1.add(0)\n",
    "set1"
   ]
  },
  {
   "cell_type": "markdown",
   "metadata": {},
   "source": [
    "The `intersection()` function outputs a set which contains all the elements that are in both sets."
   ]
  },
  {
   "cell_type": "code",
   "execution_count": 136,
   "metadata": {
    "execution": {
     "iopub.execute_input": "2023-02-22T15:39:34.390003Z",
     "iopub.status.busy": "2023-02-22T15:39:34.389584Z",
     "iopub.status.idle": "2023-02-22T15:39:34.393631Z",
     "shell.execute_reply": "2023-02-22T15:39:34.393091Z"
    }
   },
   "outputs": [
    {
     "data": {
      "text/plain": [
       "{2, 3}"
      ]
     },
     "execution_count": 136,
     "metadata": {},
     "output_type": "execute_result"
    }
   ],
   "source": [
    "set1.intersection(set2)"
   ]
  },
  {
   "cell_type": "markdown",
   "metadata": {},
   "source": [
    "The `difference()` function outputs a set which contains elements that are in set1 and not in set2."
   ]
  },
  {
   "cell_type": "code",
   "execution_count": 137,
   "metadata": {
    "execution": {
     "iopub.execute_input": "2023-02-22T15:39:34.396670Z",
     "iopub.status.busy": "2023-02-22T15:39:34.396245Z",
     "iopub.status.idle": "2023-02-22T15:39:34.400290Z",
     "shell.execute_reply": "2023-02-22T15:39:34.399749Z"
    }
   },
   "outputs": [
    {
     "data": {
      "text/plain": [
       "{0, 1}"
      ]
     },
     "execution_count": 137,
     "metadata": {},
     "output_type": "execute_result"
    }
   ],
   "source": [
    "set1.difference(set2)"
   ]
  },
  {
   "cell_type": "markdown",
   "metadata": {},
   "source": [
    "The `symmetric_difference()` function outputs a function which contains elements that are in one of the sets."
   ]
  },
  {
   "cell_type": "code",
   "execution_count": 138,
   "metadata": {
    "execution": {
     "iopub.execute_input": "2023-02-22T15:39:34.402972Z",
     "iopub.status.busy": "2023-02-22T15:39:34.402550Z",
     "iopub.status.idle": "2023-02-22T15:39:34.406865Z",
     "shell.execute_reply": "2023-02-22T15:39:34.406308Z"
    }
   },
   "outputs": [
    {
     "data": {
      "text/plain": [
       "{0, 1, 4, 5}"
      ]
     },
     "execution_count": 138,
     "metadata": {},
     "output_type": "execute_result"
    }
   ],
   "source": [
    "set2.symmetric_difference(set1)"
   ]
  },
  {
   "cell_type": "markdown",
   "metadata": {},
   "source": [
    "`issubset()`, `isdisjoint()`, `issuperset()` are functions returning boolean (truth) values. They are used for checking if the set1/set2 is a subset, disjoint or superset of set2/set1, respectively."
   ]
  },
  {
   "cell_type": "code",
   "execution_count": 139,
   "metadata": {
    "execution": {
     "iopub.execute_input": "2023-02-22T15:39:34.409529Z",
     "iopub.status.busy": "2023-02-22T15:39:34.409107Z",
     "iopub.status.idle": "2023-02-22T15:39:34.413129Z",
     "shell.execute_reply": "2023-02-22T15:39:34.412577Z"
    }
   },
   "outputs": [
    {
     "data": {
      "text/plain": [
       "False"
      ]
     },
     "execution_count": 139,
     "metadata": {},
     "output_type": "execute_result"
    }
   ],
   "source": [
    "set1.issubset(set2)"
   ]
  },
  {
   "cell_type": "code",
   "execution_count": 140,
   "metadata": {
    "execution": {
     "iopub.execute_input": "2023-02-22T15:39:34.415777Z",
     "iopub.status.busy": "2023-02-22T15:39:34.415355Z",
     "iopub.status.idle": "2023-02-22T15:39:34.419276Z",
     "shell.execute_reply": "2023-02-22T15:39:34.418753Z"
    }
   },
   "outputs": [
    {
     "data": {
      "text/plain": [
       "False"
      ]
     },
     "execution_count": 140,
     "metadata": {},
     "output_type": "execute_result"
    }
   ],
   "source": [
    "set2.isdisjoint(set1)"
   ]
  },
  {
   "cell_type": "code",
   "execution_count": 141,
   "metadata": {
    "execution": {
     "iopub.execute_input": "2023-02-22T15:39:34.421894Z",
     "iopub.status.busy": "2023-02-22T15:39:34.421473Z",
     "iopub.status.idle": "2023-02-22T15:39:34.425479Z",
     "shell.execute_reply": "2023-02-22T15:39:34.424938Z"
    }
   },
   "outputs": [
    {
     "data": {
      "text/plain": [
       "False"
      ]
     },
     "execution_count": 141,
     "metadata": {},
     "output_type": "execute_result"
    }
   ],
   "source": [
    "set2.issuperset(set1)"
   ]
  },
  {
   "cell_type": "markdown",
   "metadata": {},
   "source": [
    "`pop()` is used to remove an arbitrary element in the set"
   ]
  },
  {
   "cell_type": "code",
   "execution_count": 142,
   "metadata": {
    "execution": {
     "iopub.execute_input": "2023-02-22T15:39:34.428165Z",
     "iopub.status.busy": "2023-02-22T15:39:34.427743Z",
     "iopub.status.idle": "2023-02-22T15:39:34.431052Z",
     "shell.execute_reply": "2023-02-22T15:39:34.430516Z"
    }
   },
   "outputs": [
    {
     "name": "stdout",
     "output_type": "stream",
     "text": [
      "{1, 2, 3}\n"
     ]
    }
   ],
   "source": [
    "set1.pop()\n",
    "print(set1)"
   ]
  },
  {
   "cell_type": "markdown",
   "metadata": {},
   "source": [
    "The `remove()` function deletes the specified element from the set."
   ]
  },
  {
   "cell_type": "code",
   "execution_count": 143,
   "metadata": {
    "execution": {
     "iopub.execute_input": "2023-02-22T15:39:34.433709Z",
     "iopub.status.busy": "2023-02-22T15:39:34.433288Z",
     "iopub.status.idle": "2023-02-22T15:39:34.437302Z",
     "shell.execute_reply": "2023-02-22T15:39:34.436766Z"
    }
   },
   "outputs": [
    {
     "data": {
      "text/plain": [
       "{1, 3}"
      ]
     },
     "execution_count": 143,
     "metadata": {},
     "output_type": "execute_result"
    }
   ],
   "source": [
    "set1.remove(2)\n",
    "set1"
   ]
  },
  {
   "cell_type": "markdown",
   "metadata": {},
   "source": [
    "`clear()` is used to clear all the elements and make that set an empty set."
   ]
  },
  {
   "cell_type": "code",
   "execution_count": 144,
   "metadata": {
    "execution": {
     "iopub.execute_input": "2023-02-22T15:39:34.439976Z",
     "iopub.status.busy": "2023-02-22T15:39:34.439556Z",
     "iopub.status.idle": "2023-02-22T15:39:34.443442Z",
     "shell.execute_reply": "2023-02-22T15:39:34.442915Z"
    }
   },
   "outputs": [
    {
     "data": {
      "text/plain": [
       "set()"
      ]
     },
     "execution_count": 144,
     "metadata": {},
     "output_type": "execute_result"
    }
   ],
   "source": [
    "set1.clear()\n",
    "set1"
   ]
  },
  {
   "cell_type": "markdown",
   "metadata": {},
   "source": [
    "### Strings\n",
    "\n",
    "Strings are ordered text based data which are represented by enclosing them in quotes."
   ]
  },
  {
   "cell_type": "code",
   "execution_count": 145,
   "metadata": {
    "execution": {
     "iopub.execute_input": "2023-02-22T15:39:34.446100Z",
     "iopub.status.busy": "2023-02-22T15:39:34.445680Z",
     "iopub.status.idle": "2023-02-22T15:39:34.448666Z",
     "shell.execute_reply": "2023-02-22T15:39:34.448117Z"
    }
   },
   "outputs": [],
   "source": [
    "String0 = 'Python is awesome'\n",
    "String1 = \"Python is awesome\"\n",
    "String2 = '''Python\n",
    "is\n",
    "awesome'''"
   ]
  },
  {
   "cell_type": "code",
   "execution_count": 146,
   "metadata": {
    "execution": {
     "iopub.execute_input": "2023-02-22T15:39:34.451369Z",
     "iopub.status.busy": "2023-02-22T15:39:34.450942Z",
     "iopub.status.idle": "2023-02-22T15:39:34.454625Z",
     "shell.execute_reply": "2023-02-22T15:39:34.454056Z"
    }
   },
   "outputs": [
    {
     "name": "stdout",
     "output_type": "stream",
     "text": [
      "Python is awesome <class 'str'>\n",
      "Python is awesome <class 'str'>\n",
      "Python\n",
      "is\n",
      "awesome <class 'str'>\n"
     ]
    }
   ],
   "source": [
    "print(String0 , type(String0))\n",
    "print(String1, type(String1))\n",
    "print(String2, type(String2))"
   ]
  },
  {
   "cell_type": "markdown",
   "metadata": {},
   "source": [
    "String Indexing and Slicing are similar to Lists which was explained earlier."
   ]
  },
  {
   "cell_type": "code",
   "execution_count": 147,
   "metadata": {
    "execution": {
     "iopub.execute_input": "2023-02-22T15:39:34.457294Z",
     "iopub.status.busy": "2023-02-22T15:39:34.456865Z",
     "iopub.status.idle": "2023-02-22T15:39:34.460346Z",
     "shell.execute_reply": "2023-02-22T15:39:34.459809Z"
    }
   },
   "outputs": [
    {
     "name": "stdout",
     "output_type": "stream",
     "text": [
      "o\n",
      "on is awesome\n"
     ]
    }
   ],
   "source": [
    "print(String0[4])\n",
    "print(String0[4:])"
   ]
  },
  {
   "cell_type": "markdown",
   "metadata": {},
   "source": [
    "#### Built-in functions"
   ]
  },
  {
   "cell_type": "markdown",
   "metadata": {},
   "source": [
    "The `find()` function returns the index of a given value in the string. If not found `find()` returns -1. Remember to not confuse the returned -1 for reverse indexing value."
   ]
  },
  {
   "cell_type": "code",
   "execution_count": 148,
   "metadata": {
    "execution": {
     "iopub.execute_input": "2023-02-22T15:39:34.463089Z",
     "iopub.status.busy": "2023-02-22T15:39:34.462657Z",
     "iopub.status.idle": "2023-02-22T15:39:34.466122Z",
     "shell.execute_reply": "2023-02-22T15:39:34.465596Z"
    }
   },
   "outputs": [
    {
     "name": "stdout",
     "output_type": "stream",
     "text": [
      "4\n",
      "-1\n"
     ]
    }
   ],
   "source": [
    "print(String0.find('on is'))\n",
    "print(String0.find('am'))"
   ]
  },
  {
   "cell_type": "markdown",
   "metadata": {},
   "source": [
    "The index returned is the index of the first element in the input value."
   ]
  },
  {
   "cell_type": "code",
   "execution_count": 149,
   "metadata": {
    "execution": {
     "iopub.execute_input": "2023-02-22T15:39:34.468796Z",
     "iopub.status.busy": "2023-02-22T15:39:34.468366Z",
     "iopub.status.idle": "2023-02-22T15:39:34.471740Z",
     "shell.execute_reply": "2023-02-22T15:39:34.471198Z"
    }
   },
   "outputs": [
    {
     "name": "stdout",
     "output_type": "stream",
     "text": [
      "o\n"
     ]
    }
   ],
   "source": [
    "print(String0[4])"
   ]
  },
  {
   "cell_type": "markdown",
   "metadata": {},
   "source": [
    "One can also tell the `find()` function between which index values it has to search."
   ]
  },
  {
   "cell_type": "code",
   "execution_count": 150,
   "metadata": {
    "execution": {
     "iopub.execute_input": "2023-02-22T15:39:34.474411Z",
     "iopub.status.busy": "2023-02-22T15:39:34.473969Z",
     "iopub.status.idle": "2023-02-22T15:39:34.477511Z",
     "shell.execute_reply": "2023-02-22T15:39:34.476991Z"
    }
   },
   "outputs": [
    {
     "name": "stdout",
     "output_type": "stream",
     "text": [
      "7\n",
      "-1\n"
     ]
    }
   ],
   "source": [
    "print(String0.find('i',1))\n",
    "print(String0.find('i',1,3))"
   ]
  },
  {
   "cell_type": "markdown",
   "metadata": {},
   "source": [
    "`capitalize()` is used to capitalize the first element in the string."
   ]
  },
  {
   "cell_type": "code",
   "execution_count": 151,
   "metadata": {
    "execution": {
     "iopub.execute_input": "2023-02-22T15:39:34.480197Z",
     "iopub.status.busy": "2023-02-22T15:39:34.479768Z",
     "iopub.status.idle": "2023-02-22T15:39:34.483146Z",
     "shell.execute_reply": "2023-02-22T15:39:34.482608Z"
    }
   },
   "outputs": [
    {
     "name": "stdout",
     "output_type": "stream",
     "text": [
      "Observe the first letter in this sentence.\n"
     ]
    }
   ],
   "source": [
    "String3 = 'observe the first letter in this sentence.'\n",
    "print(String3.capitalize())"
   ]
  },
  {
   "cell_type": "markdown",
   "metadata": {},
   "source": [
    "`center()` is used to center align the string by specifying the field width."
   ]
  },
  {
   "cell_type": "code",
   "execution_count": 152,
   "metadata": {
    "execution": {
     "iopub.execute_input": "2023-02-22T15:39:34.485795Z",
     "iopub.status.busy": "2023-02-22T15:39:34.485369Z",
     "iopub.status.idle": "2023-02-22T15:39:34.489347Z",
     "shell.execute_reply": "2023-02-22T15:39:34.488824Z"
    }
   },
   "outputs": [
    {
     "data": {
      "text/plain": [
       "'                          Python is awesome                           '"
      ]
     },
     "execution_count": 152,
     "metadata": {},
     "output_type": "execute_result"
    }
   ],
   "source": [
    "String0.center(70)"
   ]
  },
  {
   "cell_type": "markdown",
   "metadata": {},
   "source": [
    "One can also fill the left out spaces with any other character."
   ]
  },
  {
   "cell_type": "code",
   "execution_count": 153,
   "metadata": {
    "execution": {
     "iopub.execute_input": "2023-02-22T15:39:34.492042Z",
     "iopub.status.busy": "2023-02-22T15:39:34.491607Z",
     "iopub.status.idle": "2023-02-22T15:39:34.495645Z",
     "shell.execute_reply": "2023-02-22T15:39:34.495120Z"
    }
   },
   "outputs": [
    {
     "data": {
      "text/plain": [
       "'--------------------------Python is awesome---------------------------'"
      ]
     },
     "execution_count": 153,
     "metadata": {},
     "output_type": "execute_result"
    }
   ],
   "source": [
    "String0.center(70,'-')"
   ]
  },
  {
   "cell_type": "markdown",
   "metadata": {},
   "source": [
    "`zfill()` is used for zero padding by specifying the field width."
   ]
  },
  {
   "cell_type": "code",
   "execution_count": 154,
   "metadata": {
    "execution": {
     "iopub.execute_input": "2023-02-22T15:39:34.498307Z",
     "iopub.status.busy": "2023-02-22T15:39:34.497880Z",
     "iopub.status.idle": "2023-02-22T15:39:34.501815Z",
     "shell.execute_reply": "2023-02-22T15:39:34.501293Z"
    }
   },
   "outputs": [
    {
     "data": {
      "text/plain": [
       "'0000000000000Python is awesome'"
      ]
     },
     "execution_count": 154,
     "metadata": {},
     "output_type": "execute_result"
    }
   ],
   "source": [
    "String0.zfill(30)"
   ]
  },
  {
   "cell_type": "markdown",
   "metadata": {},
   "source": [
    "`expandtabs()` allows you to change the spacing of the tab character. '\\t' which is by default set to 8 spaces."
   ]
  },
  {
   "cell_type": "code",
   "execution_count": 155,
   "metadata": {
    "execution": {
     "iopub.execute_input": "2023-02-22T15:39:34.504548Z",
     "iopub.status.busy": "2023-02-22T15:39:34.504118Z",
     "iopub.status.idle": "2023-02-22T15:39:34.507722Z",
     "shell.execute_reply": "2023-02-22T15:39:34.507209Z"
    }
   },
   "outputs": [
    {
     "name": "stdout",
     "output_type": "stream",
     "text": [
      "h\te\tl\tl\to\n",
      "h e l l o\n",
      "h       e       l       l       o\n"
     ]
    }
   ],
   "source": [
    "s = 'h\\te\\tl\\tl\\to'\n",
    "print(s)\n",
    "print(s.expandtabs(1))\n",
    "print(s.expandtabs())"
   ]
  },
  {
   "cell_type": "markdown",
   "metadata": {},
   "source": [
    "The `index()` function works the same way as the `find()` function. The only difference is find returns '-1' when the input element is not found in the string but the `index()` function throws a ValueError"
   ]
  },
  {
   "cell_type": "code",
   "execution_count": 156,
   "metadata": {
    "execution": {
     "iopub.execute_input": "2023-02-22T15:39:34.510319Z",
     "iopub.status.busy": "2023-02-22T15:39:34.509928Z",
     "iopub.status.idle": "2023-02-22T15:39:34.525672Z",
     "shell.execute_reply": "2023-02-22T15:39:34.525129Z"
    }
   },
   "outputs": [
    {
     "name": "stdout",
     "output_type": "stream",
     "text": [
      "0\n",
      "7\n"
     ]
    },
    {
     "ename": "ValueError",
     "evalue": "substring not found",
     "output_type": "error",
     "traceback": [
      "\u001b[0;31m---------------------------------------------------------------------------\u001b[0m",
      "\u001b[0;31mValueError\u001b[0m                                Traceback (most recent call last)",
      "Cell \u001b[0;32mIn[156], line 3\u001b[0m\n\u001b[1;32m      1\u001b[0m \u001b[38;5;28mprint\u001b[39m(String0\u001b[38;5;241m.\u001b[39mindex(\u001b[38;5;124m'\u001b[39m\u001b[38;5;124mPython\u001b[39m\u001b[38;5;124m'\u001b[39m))\n\u001b[1;32m      2\u001b[0m \u001b[38;5;28mprint\u001b[39m(String0\u001b[38;5;241m.\u001b[39mindex(\u001b[38;5;124m'\u001b[39m\u001b[38;5;124mis\u001b[39m\u001b[38;5;124m'\u001b[39m,\u001b[38;5;241m0\u001b[39m))\n\u001b[0;32m----> 3\u001b[0m \u001b[38;5;28mprint\u001b[39m(\u001b[43mString0\u001b[49m\u001b[38;5;241;43m.\u001b[39;49m\u001b[43mindex\u001b[49m\u001b[43m(\u001b[49m\u001b[38;5;124;43m'\u001b[39;49m\u001b[38;5;124;43mis\u001b[39;49m\u001b[38;5;124;43m'\u001b[39;49m\u001b[43m,\u001b[49m\u001b[38;5;241;43m10\u001b[39;49m\u001b[43m,\u001b[49m\u001b[38;5;241;43m20\u001b[39;49m\u001b[43m)\u001b[49m)\n",
      "\u001b[0;31mValueError\u001b[0m: substring not found"
     ]
    }
   ],
   "source": [
    "print(String0.index('Python'))\n",
    "print(String0.index('is',0))\n",
    "print(String0.index('is',10,20))"
   ]
  },
  {
   "cell_type": "markdown",
   "metadata": {},
   "source": [
    "The `endswith()` function is used to check if the given string ends with a specific character."
   ]
  },
  {
   "cell_type": "code",
   "execution_count": 157,
   "metadata": {
    "execution": {
     "iopub.execute_input": "2023-02-22T15:39:34.528382Z",
     "iopub.status.busy": "2023-02-22T15:39:34.527986Z",
     "iopub.status.idle": "2023-02-22T15:39:34.531868Z",
     "shell.execute_reply": "2023-02-22T15:39:34.531342Z"
    }
   },
   "outputs": [
    {
     "data": {
      "text/plain": [
       "False"
      ]
     },
     "execution_count": 157,
     "metadata": {},
     "output_type": "execute_result"
    }
   ],
   "source": [
    "String0.endswith('y')"
   ]
  },
  {
   "cell_type": "markdown",
   "metadata": {},
   "source": [
    "The start and stop index values can also be specified."
   ]
  },
  {
   "cell_type": "code",
   "execution_count": 158,
   "metadata": {
    "execution": {
     "iopub.execute_input": "2023-02-22T15:39:34.534499Z",
     "iopub.status.busy": "2023-02-22T15:39:34.534112Z",
     "iopub.status.idle": "2023-02-22T15:39:34.537446Z",
     "shell.execute_reply": "2023-02-22T15:39:34.536929Z"
    }
   },
   "outputs": [
    {
     "name": "stdout",
     "output_type": "stream",
     "text": [
      "False\n",
      "False\n"
     ]
    }
   ],
   "source": [
    "print(String0.endswith('l',0))\n",
    "print(String0.endswith('M',0,5))"
   ]
  },
  {
   "cell_type": "markdown",
   "metadata": {},
   "source": [
    "The `count()` function counts the number of a character in the given string. The start and the stop index can also be specified or left blank."
   ]
  },
  {
   "cell_type": "code",
   "execution_count": 159,
   "metadata": {
    "execution": {
     "iopub.execute_input": "2023-02-22T15:39:34.540129Z",
     "iopub.status.busy": "2023-02-22T15:39:34.539745Z",
     "iopub.status.idle": "2023-02-22T15:39:34.543120Z",
     "shell.execute_reply": "2023-02-22T15:39:34.542552Z"
    }
   },
   "outputs": [
    {
     "name": "stdout",
     "output_type": "stream",
     "text": [
      "1\n",
      "0\n"
     ]
    }
   ],
   "source": [
    "print(String0.count('a',0))\n",
    "print(String0.count('a',5,10))"
   ]
  },
  {
   "cell_type": "markdown",
   "metadata": {},
   "source": [
    "The `join()` function is used add a character in between the elements of the input."
   ]
  },
  {
   "cell_type": "code",
   "execution_count": 160,
   "metadata": {
    "execution": {
     "iopub.execute_input": "2023-02-22T15:39:34.545785Z",
     "iopub.status.busy": "2023-02-22T15:39:34.545378Z",
     "iopub.status.idle": "2023-02-22T15:39:34.549167Z",
     "shell.execute_reply": "2023-02-22T15:39:34.548642Z"
    }
   },
   "outputs": [
    {
     "data": {
      "text/plain": [
       "'P-y-t-h-o-n- -i-s- -a-w-e-s-o-m-e'"
      ]
     },
     "execution_count": 160,
     "metadata": {},
     "output_type": "execute_result"
    }
   ],
   "source": [
    "'-'.join(String0)"
   ]
  },
  {
   "cell_type": "markdown",
   "metadata": {},
   "source": [
    "The `join()` function can also be used to convert a list into a string."
   ]
  },
  {
   "cell_type": "code",
   "execution_count": 161,
   "metadata": {
    "execution": {
     "iopub.execute_input": "2023-02-22T15:39:34.551805Z",
     "iopub.status.busy": "2023-02-22T15:39:34.551450Z",
     "iopub.status.idle": "2023-02-22T15:39:34.554837Z",
     "shell.execute_reply": "2023-02-22T15:39:34.554287Z"
    }
   },
   "outputs": [
    {
     "name": "stdout",
     "output_type": "stream",
     "text": [
      "['P', 'y', 't', 'h', 'o', 'n', ' ', 'i', 's', ' ', 'a', 'w', 'e', 's', 'o', 'm', 'e']\n",
      "Python is awesome\n"
     ]
    }
   ],
   "source": [
    "a = list(String0)\n",
    "print(a)\n",
    "b = ''.join(a)\n",
    "print(b)"
   ]
  },
  {
   "cell_type": "markdown",
   "metadata": {},
   "source": [
    "Before converting it into a string `join()` function can be used to insert any char in between the list elements."
   ]
  },
  {
   "cell_type": "code",
   "execution_count": 162,
   "metadata": {
    "execution": {
     "iopub.execute_input": "2023-02-22T15:39:34.557440Z",
     "iopub.status.busy": "2023-02-22T15:39:34.557086Z",
     "iopub.status.idle": "2023-02-22T15:39:34.560302Z",
     "shell.execute_reply": "2023-02-22T15:39:34.559771Z"
    }
   },
   "outputs": [
    {
     "name": "stdout",
     "output_type": "stream",
     "text": [
      " /a/w/e/s/o/m/e\n"
     ]
    }
   ],
   "source": [
    "c = '/'.join(a)[18:]\n",
    "print(c)"
   ]
  },
  {
   "cell_type": "markdown",
   "metadata": {},
   "source": [
    "The `split()` function converts a string into a list using a substring as an input."
   ]
  },
  {
   "cell_type": "code",
   "execution_count": 163,
   "metadata": {
    "execution": {
     "iopub.execute_input": "2023-02-22T15:39:34.562961Z",
     "iopub.status.busy": "2023-02-22T15:39:34.562575Z",
     "iopub.status.idle": "2023-02-22T15:39:34.565719Z",
     "shell.execute_reply": "2023-02-22T15:39:34.565202Z"
    }
   },
   "outputs": [
    {
     "name": "stdout",
     "output_type": "stream",
     "text": [
      "[' ', 'a', 'w', 'e', 's', 'o', 'm', 'e']\n"
     ]
    }
   ],
   "source": [
    "d = c.split('/')\n",
    "print(d)"
   ]
  },
  {
   "cell_type": "markdown",
   "metadata": {},
   "source": [
    "In the `split()` function one can also specify the number of times one wants to split the string or the number of elements the new returned list should contain. The number of elements is always one more than the specified number this is because of zero based indexing."
   ]
  },
  {
   "cell_type": "code",
   "execution_count": 164,
   "metadata": {
    "execution": {
     "iopub.execute_input": "2023-02-22T15:39:34.568382Z",
     "iopub.status.busy": "2023-02-22T15:39:34.567999Z",
     "iopub.status.idle": "2023-02-22T15:39:34.571311Z",
     "shell.execute_reply": "2023-02-22T15:39:34.570797Z"
    }
   },
   "outputs": [
    {
     "name": "stdout",
     "output_type": "stream",
     "text": [
      "[' ', 'a', 'w', 'e/s/o/m/e']\n",
      "4\n"
     ]
    }
   ],
   "source": [
    "e = c.split('/',3)\n",
    "print(e)\n",
    "print(len(e))"
   ]
  },
  {
   "cell_type": "markdown",
   "metadata": {},
   "source": [
    "`lower()` converts any capital letter to small letter."
   ]
  },
  {
   "cell_type": "code",
   "execution_count": 165,
   "metadata": {
    "execution": {
     "iopub.execute_input": "2023-02-22T15:39:34.573920Z",
     "iopub.status.busy": "2023-02-22T15:39:34.573561Z",
     "iopub.status.idle": "2023-02-22T15:39:34.576699Z",
     "shell.execute_reply": "2023-02-22T15:39:34.576186Z"
    }
   },
   "outputs": [
    {
     "name": "stdout",
     "output_type": "stream",
     "text": [
      "Python is awesome\n",
      "python is awesome\n"
     ]
    }
   ],
   "source": [
    "print(String0)\n",
    "print(String0.lower())"
   ]
  },
  {
   "cell_type": "markdown",
   "metadata": {},
   "source": [
    "`upper()` converts any small letter to capital letter."
   ]
  },
  {
   "cell_type": "code",
   "execution_count": 166,
   "metadata": {
    "execution": {
     "iopub.execute_input": "2023-02-22T15:39:34.579308Z",
     "iopub.status.busy": "2023-02-22T15:39:34.578955Z",
     "iopub.status.idle": "2023-02-22T15:39:34.582650Z",
     "shell.execute_reply": "2023-02-22T15:39:34.582103Z"
    }
   },
   "outputs": [
    {
     "data": {
      "text/plain": [
       "'PYTHON IS AWESOME'"
      ]
     },
     "execution_count": 166,
     "metadata": {},
     "output_type": "execute_result"
    }
   ],
   "source": [
    "String0.upper()"
   ]
  },
  {
   "cell_type": "markdown",
   "metadata": {},
   "source": [
    "The `replace()` function replaces the given substring with another string."
   ]
  },
  {
   "cell_type": "code",
   "execution_count": 167,
   "metadata": {
    "execution": {
     "iopub.execute_input": "2023-02-22T15:39:34.585247Z",
     "iopub.status.busy": "2023-02-22T15:39:34.584895Z",
     "iopub.status.idle": "2023-02-22T15:39:34.588659Z",
     "shell.execute_reply": "2023-02-22T15:39:34.588130Z"
    }
   },
   "outputs": [
    {
     "data": {
      "text/plain": [
       "'Python is super awesome'"
      ]
     },
     "execution_count": 167,
     "metadata": {},
     "output_type": "execute_result"
    }
   ],
   "source": [
    "String0.replace('awesome','super awesome')"
   ]
  },
  {
   "cell_type": "markdown",
   "metadata": {},
   "source": [
    "The `strip()` function is used to delete leading and trailing characters. If no argument is provided it removes whitespaces (space and tab)."
   ]
  },
  {
   "cell_type": "code",
   "execution_count": 168,
   "metadata": {
    "execution": {
     "iopub.execute_input": "2023-02-22T15:39:34.591285Z",
     "iopub.status.busy": "2023-02-22T15:39:34.590929Z",
     "iopub.status.idle": "2023-02-22T15:39:34.594039Z",
     "shell.execute_reply": "2023-02-22T15:39:34.593523Z"
    }
   },
   "outputs": [
    {
     "name": "stdout",
     "output_type": "stream",
     "text": [
      "hello\n"
     ]
    }
   ],
   "source": [
    "f = '    hello      '\n",
    "print(f.strip())"
   ]
  },
  {
   "cell_type": "markdown",
   "metadata": {},
   "source": [
    "When a character is provided `strip()` removes all occurrences of this character. If this character is not at the edges of the string is left unchanged."
   ]
  },
  {
   "cell_type": "code",
   "execution_count": 169,
   "metadata": {
    "execution": {
     "iopub.execute_input": "2023-02-22T15:39:34.596659Z",
     "iopub.status.busy": "2023-02-22T15:39:34.596305Z",
     "iopub.status.idle": "2023-02-22T15:39:34.599602Z",
     "shell.execute_reply": "2023-02-22T15:39:34.599084Z"
    }
   },
   "outputs": [
    {
     "name": "stdout",
     "output_type": "stream",
     "text": [
      "This string is for you to see the leading whitespaces.\n",
      "   ***----hello---*******     \n"
     ]
    }
   ],
   "source": [
    "f = '   ***----hello---*******     '\n",
    "print(\"This string is for you to see the leading whitespaces.\")\n",
    "print(f.strip('*'))"
   ]
  },
  {
   "cell_type": "markdown",
   "metadata": {},
   "source": [
    "If more characters are provided all occurrences of these characters are stripped from the string."
   ]
  },
  {
   "cell_type": "code",
   "execution_count": 170,
   "metadata": {
    "execution": {
     "iopub.execute_input": "2023-02-22T15:39:34.602215Z",
     "iopub.status.busy": "2023-02-22T15:39:34.601863Z",
     "iopub.status.idle": "2023-02-22T15:39:34.605011Z",
     "shell.execute_reply": "2023-02-22T15:39:34.604499Z"
    }
   },
   "outputs": [
    {
     "name": "stdout",
     "output_type": "stream",
     "text": [
      "hello\n"
     ]
    }
   ],
   "source": [
    "f = '   ***----hello---*******     '\n",
    "print(f.strip(' *-'))"
   ]
  },
  {
   "cell_type": "markdown",
   "metadata": {},
   "source": [
    "The `lstrip()` and `rstrip()` function have the same functionality as the `strip()` function but `lstrip()` deletes only towards the left side and `rstrip()` towards the right."
   ]
  },
  {
   "cell_type": "code",
   "execution_count": 171,
   "metadata": {
    "execution": {
     "iopub.execute_input": "2023-02-22T15:39:34.607629Z",
     "iopub.status.busy": "2023-02-22T15:39:34.607278Z",
     "iopub.status.idle": "2023-02-22T15:39:34.610496Z",
     "shell.execute_reply": "2023-02-22T15:39:34.609966Z"
    }
   },
   "outputs": [
    {
     "name": "stdout",
     "output_type": "stream",
     "text": [
      "----hello---*******     \n",
      "   ***----hello---\n"
     ]
    }
   ],
   "source": [
    "print(f.lstrip(' *'))\n",
    "print(f.rstrip(' *'))"
   ]
  },
  {
   "cell_type": "markdown",
   "metadata": {},
   "source": [
    "The `isalpha()` method checks, whether a string contains only letters."
   ]
  },
  {
   "cell_type": "code",
   "execution_count": 172,
   "metadata": {
    "execution": {
     "iopub.execute_input": "2023-02-22T15:39:34.613098Z",
     "iopub.status.busy": "2023-02-22T15:39:34.612745Z",
     "iopub.status.idle": "2023-02-22T15:39:34.616457Z",
     "shell.execute_reply": "2023-02-22T15:39:34.615940Z"
    }
   },
   "outputs": [
    {
     "data": {
      "text/plain": [
       "True"
      ]
     },
     "execution_count": 172,
     "metadata": {},
     "output_type": "execute_result"
    }
   ],
   "source": [
    "'Hello'.isalpha()"
   ]
  },
  {
   "cell_type": "code",
   "execution_count": 173,
   "metadata": {
    "execution": {
     "iopub.execute_input": "2023-02-22T15:39:34.619043Z",
     "iopub.status.busy": "2023-02-22T15:39:34.618690Z",
     "iopub.status.idle": "2023-02-22T15:39:34.622559Z",
     "shell.execute_reply": "2023-02-22T15:39:34.622019Z"
    }
   },
   "outputs": [
    {
     "name": "stdout",
     "output_type": "stream",
     "text": [
      "False True\n",
      "False\n",
      "False\n",
      "True\n",
      "False\n"
     ]
    }
   ],
   "source": [
    "s = '112a'\n",
    "s1 = '1'\n",
    "print(s.isdigit(), s1.isdigit())\n",
    "print(s.isnumeric())\n",
    "print(s.isdecimal())\n",
    "print(s.isalnum()) # alphanumeric\n",
    "print('Hello!'.isalnum())"
   ]
  },
  {
   "cell_type": "markdown",
   "metadata": {},
   "source": [
    "#### Strings are immutable\n",
    "\n",
    "In contrast to lists, strings are immutable, meaning you can not change parts in a string with assignments, and you can't change the string in place.\n",
    "\n",
    "```python\n",
    "s = 'Hello Spam!'\n",
    "s[3] = 'T'\n",
    "# This will throw an error!\n",
    "```"
   ]
  },
  {
   "cell_type": "code",
   "execution_count": 174,
   "metadata": {
    "execution": {
     "iopub.execute_input": "2023-02-22T15:39:34.625156Z",
     "iopub.status.busy": "2023-02-22T15:39:34.624805Z",
     "iopub.status.idle": "2023-02-22T15:39:34.639492Z",
     "shell.execute_reply": "2023-02-22T15:39:34.638954Z"
    }
   },
   "outputs": [
    {
     "ename": "TypeError",
     "evalue": "'str' object does not support item assignment",
     "output_type": "error",
     "traceback": [
      "\u001b[0;31m---------------------------------------------------------------------------\u001b[0m",
      "\u001b[0;31mTypeError\u001b[0m                                 Traceback (most recent call last)",
      "Cell \u001b[0;32mIn[174], line 2\u001b[0m\n\u001b[1;32m      1\u001b[0m s \u001b[38;5;241m=\u001b[39m \u001b[38;5;124m'\u001b[39m\u001b[38;5;124mHello Spam!\u001b[39m\u001b[38;5;124m'\u001b[39m\n\u001b[0;32m----> 2\u001b[0m \u001b[43ms\u001b[49m\u001b[43m[\u001b[49m\u001b[38;5;241;43m1\u001b[39;49m\u001b[43m]\u001b[49m \u001b[38;5;241m=\u001b[39m \u001b[38;5;124m'\u001b[39m\u001b[38;5;124mT\u001b[39m\u001b[38;5;124m'\u001b[39m\n",
      "\u001b[0;31mTypeError\u001b[0m: 'str' object does not support item assignment"
     ]
    }
   ],
   "source": [
    "s = 'Hello Spam!'\n",
    "s[1] = 'T'"
   ]
  },
  {
   "cell_type": "code",
   "execution_count": 175,
   "metadata": {
    "execution": {
     "iopub.execute_input": "2023-02-22T15:39:34.642118Z",
     "iopub.status.busy": "2023-02-22T15:39:34.641758Z",
     "iopub.status.idle": "2023-02-22T15:39:34.645026Z",
     "shell.execute_reply": "2023-02-22T15:39:34.644515Z"
    }
   },
   "outputs": [
    {
     "name": "stdout",
     "output_type": "stream",
     "text": [
      "hello spam! Hello Spam!\n"
     ]
    }
   ],
   "source": [
    "s = 'Hello Spam!'\n",
    "_ = s.lower()\n",
    "print(_, s) # s is unchanged"
   ]
  },
  {
   "cell_type": "markdown",
   "metadata": {},
   "source": [
    "If you want to change some letters in a string, you have to first create a mutable object. You can do this with the built-in function `list()` or converting the string to a bytearray, which is mutable."
   ]
  },
  {
   "cell_type": "code",
   "execution_count": 176,
   "metadata": {
    "execution": {
     "iopub.execute_input": "2023-02-22T15:39:34.647658Z",
     "iopub.status.busy": "2023-02-22T15:39:34.647305Z",
     "iopub.status.idle": "2023-02-22T15:39:34.651447Z",
     "shell.execute_reply": "2023-02-22T15:39:34.650908Z"
    }
   },
   "outputs": [
    {
     "data": {
      "text/plain": [
       "'HTllo Spam!'"
      ]
     },
     "execution_count": 176,
     "metadata": {},
     "output_type": "execute_result"
    }
   ],
   "source": [
    "s = 'Hello Spam!'\n",
    "s = list(s)\n",
    "s[1] = 'T'\n",
    "s = ''.join(s)\n",
    "s"
   ]
  },
  {
   "cell_type": "code",
   "execution_count": 177,
   "metadata": {
    "execution": {
     "iopub.execute_input": "2023-02-22T15:39:34.654015Z",
     "iopub.status.busy": "2023-02-22T15:39:34.653662Z",
     "iopub.status.idle": "2023-02-22T15:39:34.657253Z",
     "shell.execute_reply": "2023-02-22T15:39:34.656741Z"
    }
   },
   "outputs": [
    {
     "name": "stdout",
     "output_type": "stream",
     "text": [
      "bytearray(b'Hello Spam!')\n",
      "Hello Spam! And Eggs!\n"
     ]
    }
   ],
   "source": [
    "s = bytearray(b'Hello Spam!')\n",
    "print(s)\n",
    "s.extend(b' And Eggs!')\n",
    "s = s.decode()\n",
    "print(s)"
   ]
  },
  {
   "cell_type": "markdown",
   "metadata": {
    "solution2": "hidden",
    "solution2_first": true
   },
   "source": [
    "#### Interview question with strings\n",
    "\n",
    "\\begin{exercise}\n",
    "A common interview question requires you to reverse strings on a per-word basis. Reverse the string 'bob likes dogs' to 'dogs likes bob'.\n",
    "\\end{exercise}\n",
    "\n",
    "```python\n",
    "s = 'bob likes dogs'\n",
    "```"
   ]
  },
  {
   "cell_type": "code",
   "execution_count": 178,
   "metadata": {
    "execution": {
     "iopub.execute_input": "2023-02-22T15:39:34.659891Z",
     "iopub.status.busy": "2023-02-22T15:39:34.659539Z",
     "iopub.status.idle": "2023-02-22T15:39:34.663147Z",
     "shell.execute_reply": "2023-02-22T15:39:34.662611Z"
    }
   },
   "outputs": [
    {
     "name": "stdout",
     "output_type": "stream",
     "text": [
      "dogs likes bob\n"
     ]
    }
   ],
   "source": [
    "s = 'bob likes dogs'\n",
    "s = ' '.join(s.split()[::-1])\n",
    "print(s)"
   ]
  },
  {
   "cell_type": "markdown",
   "metadata": {},
   "source": [
    "### Dictionaries\n",
    "\n",
    "Dictionaries are like a database because here you can index a particular sequence with your user defined string. To declare a dictionary you can use braces { } or the `dict()` function. The difference to declaring a set with braces is the use of colons in the expression."
   ]
  },
  {
   "cell_type": "code",
   "execution_count": 179,
   "metadata": {
    "execution": {
     "iopub.execute_input": "2023-02-22T15:39:34.665761Z",
     "iopub.status.busy": "2023-02-22T15:39:34.665407Z",
     "iopub.status.idle": "2023-02-22T15:39:34.668817Z",
     "shell.execute_reply": "2023-02-22T15:39:34.668298Z"
    }
   },
   "outputs": [
    {
     "name": "stdout",
     "output_type": "stream",
     "text": [
      "<class 'dict'>\n",
      "<class 'set'>\n"
     ]
    }
   ],
   "source": [
    "d0 = {} # Empty dictionary NOT empty set\n",
    "set0 = set()\n",
    "print(type(d0))\n",
    "print(type(set0))"
   ]
  },
  {
   "cell_type": "code",
   "execution_count": 180,
   "metadata": {
    "execution": {
     "iopub.execute_input": "2023-02-22T15:39:34.671408Z",
     "iopub.status.busy": "2023-02-22T15:39:34.671054Z",
     "iopub.status.idle": "2023-02-22T15:39:34.674499Z",
     "shell.execute_reply": "2023-02-22T15:39:34.673948Z"
    }
   },
   "outputs": [
    {
     "name": "stdout",
     "output_type": "stream",
     "text": [
      "{'One': 1, 'OneTwo': 12, 'OneTwoThree': 123, 'ThreeFour': 34}\n"
     ]
    }
   ],
   "source": [
    "d0 = {'One': 1, 'OneTwo': 12}\n",
    "d0['OneTwoThree'] = 123\n",
    "d0['ThreeFour'] = 34\n",
    "print(d0)"
   ]
  },
  {
   "cell_type": "markdown",
   "metadata": {},
   "source": [
    "The `keys()` built-in method gives you the keys of the dictionary."
   ]
  },
  {
   "cell_type": "code",
   "execution_count": 181,
   "metadata": {
    "execution": {
     "iopub.execute_input": "2023-02-22T15:39:34.677120Z",
     "iopub.status.busy": "2023-02-22T15:39:34.676765Z",
     "iopub.status.idle": "2023-02-22T15:39:34.679932Z",
     "shell.execute_reply": "2023-02-22T15:39:34.679399Z"
    }
   },
   "outputs": [
    {
     "name": "stdout",
     "output_type": "stream",
     "text": [
      "dict_keys(['One', 'OneTwo', 'OneTwoThree', 'ThreeFour'])\n"
     ]
    }
   ],
   "source": [
    "print(d0.keys())"
   ]
  },
  {
   "cell_type": "markdown",
   "metadata": {},
   "source": [
    "To access elements from a dict you use the keys to index the dict."
   ]
  },
  {
   "cell_type": "code",
   "execution_count": 182,
   "metadata": {
    "execution": {
     "iopub.execute_input": "2023-02-22T15:39:34.682633Z",
     "iopub.status.busy": "2023-02-22T15:39:34.682202Z",
     "iopub.status.idle": "2023-02-22T15:39:34.686392Z",
     "shell.execute_reply": "2023-02-22T15:39:34.685708Z"
    }
   },
   "outputs": [
    {
     "data": {
      "text/plain": [
       "1"
      ]
     },
     "execution_count": 182,
     "metadata": {},
     "output_type": "execute_result"
    }
   ],
   "source": [
    "d0['One']"
   ]
  },
  {
   "cell_type": "markdown",
   "metadata": {},
   "source": [
    "Two lists which are can be made into a dict using the built-in function `zip()`. Since python3 the `zip()` function is not directly executed. Doing so saves computing time by holding the actual execution of the function back until it is really needed.\n",
    "\n",
    "To make a dictionary out of this zip object you can call the `dict()` function on it."
   ]
  },
  {
   "cell_type": "code",
   "execution_count": 183,
   "metadata": {
    "execution": {
     "iopub.execute_input": "2023-02-22T15:39:34.689174Z",
     "iopub.status.busy": "2023-02-22T15:39:34.688836Z",
     "iopub.status.idle": "2023-02-22T15:39:34.693022Z",
     "shell.execute_reply": "2023-02-22T15:39:34.692343Z"
    }
   },
   "outputs": [
    {
     "name": "stdout",
     "output_type": "stream",
     "text": [
      "<zip object at 0x7ff8d80dfb40>\n",
      "{'One': 1, 'Two': 2, 'Three': 3, 'Four': 4, 'Five': 5}\n"
     ]
    }
   ],
   "source": [
    "keys = ['One', 'Two', 'Three', 'Four', 'Five']\n",
    "numbers = [1, 2, 3, 4, 5]\n",
    "d2 = zip(keys, numbers)\n",
    "print(d2)\n",
    "d2 = dict(d2)\n",
    "print(d2)"
   ]
  },
  {
   "cell_type": "markdown",
   "metadata": {},
   "source": [
    "#### Built-in functions\n",
    "\n",
    "The `clear()` function is used to erase the dictionary."
   ]
  },
  {
   "cell_type": "code",
   "execution_count": 184,
   "metadata": {
    "execution": {
     "iopub.execute_input": "2023-02-22T15:39:34.696498Z",
     "iopub.status.busy": "2023-02-22T15:39:34.696288Z",
     "iopub.status.idle": "2023-02-22T15:39:34.699467Z",
     "shell.execute_reply": "2023-02-22T15:39:34.698814Z"
    }
   },
   "outputs": [
    {
     "name": "stdout",
     "output_type": "stream",
     "text": [
      "{}\n"
     ]
    }
   ],
   "source": [
    "d2.clear()\n",
    "print(d2)"
   ]
  },
  {
   "cell_type": "markdown",
   "metadata": {},
   "source": [
    "A dict can also be built using loops. Loops is a part of control flow, which we will look at shortly."
   ]
  },
  {
   "cell_type": "code",
   "execution_count": 185,
   "metadata": {
    "execution": {
     "iopub.execute_input": "2023-02-22T15:39:34.702863Z",
     "iopub.status.busy": "2023-02-22T15:39:34.702657Z",
     "iopub.status.idle": "2023-02-22T15:39:34.706223Z",
     "shell.execute_reply": "2023-02-22T15:39:34.705549Z"
    }
   },
   "outputs": [
    {
     "name": "stdout",
     "output_type": "stream",
     "text": [
      "{'One': 1, 'Two': 2, 'Three': 3, 'Four': 4, 'Five': 5}\n"
     ]
    }
   ],
   "source": [
    "for i in range(len(keys)):\n",
    "    d2[keys[i]] = numbers[i]\n",
    "print(d2)"
   ]
  },
  {
   "cell_type": "markdown",
   "metadata": {},
   "source": [
    "The `values()` function returns a list with the values of the dictionary."
   ]
  },
  {
   "cell_type": "code",
   "execution_count": 186,
   "metadata": {
    "execution": {
     "iopub.execute_input": "2023-02-22T15:39:34.709597Z",
     "iopub.status.busy": "2023-02-22T15:39:34.709387Z",
     "iopub.status.idle": "2023-02-22T15:39:34.713427Z",
     "shell.execute_reply": "2023-02-22T15:39:34.712764Z"
    }
   },
   "outputs": [
    {
     "data": {
      "text/plain": [
       "dict_values([1, 2, 3, 4, 5])"
      ]
     },
     "execution_count": 186,
     "metadata": {},
     "output_type": "execute_result"
    }
   ],
   "source": [
    "d2.values()"
   ]
  },
  {
   "cell_type": "markdown",
   "metadata": {},
   "source": [
    "The `keys()` function gives the keys."
   ]
  },
  {
   "cell_type": "code",
   "execution_count": 187,
   "metadata": {
    "execution": {
     "iopub.execute_input": "2023-02-22T15:39:34.716754Z",
     "iopub.status.busy": "2023-02-22T15:39:34.716547Z",
     "iopub.status.idle": "2023-02-22T15:39:34.720442Z",
     "shell.execute_reply": "2023-02-22T15:39:34.719878Z"
    }
   },
   "outputs": [
    {
     "data": {
      "text/plain": [
       "dict_keys(['One', 'Two', 'Three', 'Four', 'Five'])"
      ]
     },
     "execution_count": 187,
     "metadata": {},
     "output_type": "execute_result"
    }
   ],
   "source": [
    "d2.keys()"
   ]
  },
  {
   "cell_type": "markdown",
   "metadata": {},
   "source": [
    "The `items()` returns a list of tuples, where tuple[0] is the keys and tuple[1] is the value."
   ]
  },
  {
   "cell_type": "code",
   "execution_count": 188,
   "metadata": {
    "execution": {
     "iopub.execute_input": "2023-02-22T15:39:34.723293Z",
     "iopub.status.busy": "2023-02-22T15:39:34.722868Z",
     "iopub.status.idle": "2023-02-22T15:39:34.726794Z",
     "shell.execute_reply": "2023-02-22T15:39:34.726258Z"
    }
   },
   "outputs": [
    {
     "data": {
      "text/plain": [
       "dict_items([('One', 1), ('Two', 2), ('Three', 3), ('Four', 4), ('Five', 5)])"
      ]
     },
     "execution_count": 188,
     "metadata": {},
     "output_type": "execute_result"
    }
   ],
   "source": [
    "d2.items()"
   ]
  },
  {
   "cell_type": "markdown",
   "metadata": {},
   "source": [
    "The `pop()` function is used to get the value of a key and remove that key from the dict."
   ]
  },
  {
   "cell_type": "code",
   "execution_count": 189,
   "metadata": {
    "execution": {
     "iopub.execute_input": "2023-02-22T15:39:34.729460Z",
     "iopub.status.busy": "2023-02-22T15:39:34.729041Z",
     "iopub.status.idle": "2023-02-22T15:39:34.732536Z",
     "shell.execute_reply": "2023-02-22T15:39:34.732018Z"
    }
   },
   "outputs": [
    {
     "name": "stdout",
     "output_type": "stream",
     "text": [
      "4\n",
      "{'One': 1, 'Two': 2, 'Three': 3, 'Five': 5}\n"
     ]
    }
   ],
   "source": [
    "popped_value = d2.pop('Four')\n",
    "print(popped_value)\n",
    "print(d2)"
   ]
  },
  {
   "cell_type": "markdown",
   "metadata": {},
   "source": [
    "The `update()` function updates and adds new values."
   ]
  },
  {
   "cell_type": "code",
   "execution_count": 190,
   "metadata": {
    "execution": {
     "iopub.execute_input": "2023-02-22T15:39:34.735230Z",
     "iopub.status.busy": "2023-02-22T15:39:34.734803Z",
     "iopub.status.idle": "2023-02-22T15:39:34.739072Z",
     "shell.execute_reply": "2023-02-22T15:39:34.738540Z"
    }
   },
   "outputs": [
    {
     "name": "stdout",
     "output_type": "stream",
     "text": [
      "{'Banana': 0.5, 'Avocado': 3, 'Bread': 2, 'Baguette': 1.5}"
     ]
    },
    {
     "name": "stdout",
     "output_type": "stream",
     "text": [
      "\n"
     ]
    }
   ],
   "source": [
    "item_prices = {'Banana': 0.5, 'Avocado': 3, 'Bread': 1.5}\n",
    "new = {'Bread': 2, 'Baguette': 1.5}\n",
    "item_prices.update(new)\n",
    "print(item_prices)"
   ]
  },
  {
   "cell_type": "markdown",
   "metadata": {},
   "source": [
    "## Control Flow\n",
    "\n",
    "Control Flow defines the order on which a program is executed. The most common control flow elements are the two loops (for and while) and the if-elif-else logic. Additionally, python has more advanced control flow with break, continue, and pass."
   ]
  },
  {
   "cell_type": "markdown",
   "metadata": {},
   "source": [
    "### If\n",
    "\n",
    "If statements in python **must** follow this formatting:\n",
    "\n",
    "```python\n",
    "if condition:\n",
    "    do_this\n",
    "```\n",
    "Note the colon and the indentation in the next line. In python an indentation consists of either a tab character or 4 spaces. No more, no less. Let's try a very simple example."
   ]
  },
  {
   "cell_type": "code",
   "execution_count": 191,
   "metadata": {
    "execution": {
     "iopub.execute_input": "2023-02-22T15:39:34.742139Z",
     "iopub.status.busy": "2023-02-22T15:39:34.741713Z",
     "iopub.status.idle": "2023-02-22T15:39:34.745201Z",
     "shell.execute_reply": "2023-02-22T15:39:34.744682Z"
    }
   },
   "outputs": [
    {
     "name": "stdout",
     "output_type": "stream",
     "text": [
      "This is true\n"
     ]
    }
   ],
   "source": [
    "if True:\n",
    "    print('This is true')\n",
    "\n",
    "if False:\n",
    "    print('This is false')"
   ]
  },
  {
   "cell_type": "markdown",
   "metadata": {},
   "source": [
    "Note, how only the first if-statement is executed, because the condition of the second is False. Let's go one step further and assign a truth value to a variable."
   ]
  },
  {
   "cell_type": "code",
   "execution_count": 192,
   "metadata": {
    "execution": {
     "iopub.execute_input": "2023-02-22T15:39:34.747883Z",
     "iopub.status.busy": "2023-02-22T15:39:34.747457Z",
     "iopub.status.idle": "2023-02-22T15:39:34.750970Z",
     "shell.execute_reply": "2023-02-22T15:39:34.750426Z"
    }
   },
   "outputs": [
    {
     "name": "stdout",
     "output_type": "stream",
     "text": [
      "True\n"
     ]
    }
   ],
   "source": [
    "a = 12\n",
    "b = 10\n",
    "truthvalue = a > b\n",
    "print(truthvalue)"
   ]
  },
  {
   "cell_type": "code",
   "execution_count": 193,
   "metadata": {
    "execution": {
     "iopub.execute_input": "2023-02-22T15:39:34.753639Z",
     "iopub.status.busy": "2023-02-22T15:39:34.753161Z",
     "iopub.status.idle": "2023-02-22T15:39:34.756560Z",
     "shell.execute_reply": "2023-02-22T15:39:34.755994Z"
    }
   },
   "outputs": [
    {
     "name": "stdout",
     "output_type": "stream",
     "text": [
      "a is greater than b\n"
     ]
    }
   ],
   "source": [
    "if truthvalue:\n",
    "    print(\"a is greater than b\")"
   ]
  },
  {
   "cell_type": "markdown",
   "metadata": {},
   "source": [
    "However, this is not how it's done most of the time. Most often the condition is directly plugged into the if statement. this would look something like this:"
   ]
  },
  {
   "cell_type": "code",
   "execution_count": 194,
   "metadata": {
    "execution": {
     "iopub.execute_input": "2023-02-22T15:39:34.759389Z",
     "iopub.status.busy": "2023-02-22T15:39:34.758932Z",
     "iopub.status.idle": "2023-02-22T15:39:34.762367Z",
     "shell.execute_reply": "2023-02-22T15:39:34.761836Z"
    }
   },
   "outputs": [
    {
     "name": "stdout",
     "output_type": "stream",
     "text": [
      "Hello\n"
     ]
    }
   ],
   "source": [
    "x = 12\n",
    "if x > 10:\n",
    "    print(\"Hello\")"
   ]
  },
  {
   "cell_type": "markdown",
   "metadata": {},
   "source": [
    "### If with multiple conditions - Operators\n",
    "\n",
    "You can use the operators to tailor your if-statements."
   ]
  },
  {
   "cell_type": "code",
   "execution_count": 195,
   "metadata": {
    "execution": {
     "iopub.execute_input": "2023-02-22T15:39:34.765102Z",
     "iopub.status.busy": "2023-02-22T15:39:34.764617Z",
     "iopub.status.idle": "2023-02-22T15:39:34.768236Z",
     "shell.execute_reply": "2023-02-22T15:39:34.767696Z"
    }
   },
   "outputs": [
    {
     "name": "stdout",
     "output_type": "stream",
     "text": [
      "variable lies between 10 and 20\n"
     ]
    }
   ],
   "source": [
    "x = 15\n",
    "if x > 10 and x <= 20:\n",
    "    print(\"variable lies between 10 and 20\")"
   ]
  },
  {
   "cell_type": "code",
   "execution_count": 196,
   "metadata": {
    "execution": {
     "iopub.execute_input": "2023-02-22T15:39:34.770919Z",
     "iopub.status.busy": "2023-02-22T15:39:34.770444Z",
     "iopub.status.idle": "2023-02-22T15:39:34.773889Z",
     "shell.execute_reply": "2023-02-22T15:39:34.773369Z"
    }
   },
   "outputs": [
    {
     "name": "stdout",
     "output_type": "stream",
     "text": [
      "x is not 1\n"
     ]
    }
   ],
   "source": [
    "x = 2\n",
    "if not x == 1:\n",
    "    print(\"x is not 1\")"
   ]
  },
  {
   "cell_type": "code",
   "execution_count": 197,
   "metadata": {
    "execution": {
     "iopub.execute_input": "2023-02-22T15:39:34.776539Z",
     "iopub.status.busy": "2023-02-22T15:39:34.776110Z",
     "iopub.status.idle": "2023-02-22T15:39:34.779588Z",
     "shell.execute_reply": "2023-02-22T15:39:34.779070Z"
    }
   },
   "outputs": [
    {
     "name": "stdout",
     "output_type": "stream",
     "text": [
      "x is either 5, or 10\n"
     ]
    }
   ],
   "source": [
    "x = 5\n",
    "if x == 5 or x == 10:\n",
    "    print(\"x is either 5, or 10\")"
   ]
  },
  {
   "cell_type": "markdown",
   "metadata": {},
   "source": [
    "### If-else\n",
    "\n",
    "If an unindented `else:` follows the indent of an if statement. The indented block below the else statement is executed, if the condition inside the if statement is false."
   ]
  },
  {
   "cell_type": "code",
   "execution_count": 198,
   "metadata": {
    "execution": {
     "iopub.execute_input": "2023-02-22T15:39:34.782249Z",
     "iopub.status.busy": "2023-02-22T15:39:34.781823Z",
     "iopub.status.idle": "2023-02-22T15:39:34.785712Z",
     "shell.execute_reply": "2023-02-22T15:39:34.785192Z"
    }
   },
   "outputs": [
    {
     "name": "stdout",
     "output_type": "stream",
     "text": [
      "hello\n",
      "Multiple lines can be executed here. They all need to be indented\n",
      "With 4 spaces. No more, no less.\n"
     ]
    }
   ],
   "source": [
    "x = 12\n",
    "if x > 10:\n",
    "    print(\"hello\")\n",
    "    print(\"Multiple lines can be executed here. They all need to be indented\")\n",
    "    a = 2**2\n",
    "    print(f\"With {a} spaces. No more, no less.\")\n",
    "else:\n",
    "    print(\"world\")"
   ]
  },
  {
   "cell_type": "markdown",
   "metadata": {},
   "source": [
    "### If-elif-else\n",
    "\n",
    "If you want to check for multiple conditions you can use an if-elif-else construction."
   ]
  },
  {
   "cell_type": "code",
   "execution_count": 199,
   "metadata": {
    "execution": {
     "iopub.execute_input": "2023-02-22T15:39:34.788398Z",
     "iopub.status.busy": "2023-02-22T15:39:34.787969Z",
     "iopub.status.idle": "2023-02-22T15:39:34.791771Z",
     "shell.execute_reply": "2023-02-22T15:39:34.791223Z"
    }
   },
   "outputs": [
    {
     "name": "stdout",
     "output_type": "stream",
     "text": [
      "x<y\n"
     ]
    }
   ],
   "source": [
    "x = 10\n",
    "y = 12\n",
    "if x > y:\n",
    "    print(\"x>y\")\n",
    "elif x < y:\n",
    "    print(\"x<y\")\n",
    "else:\n",
    "    print(\"x=y\")"
   ]
  },
  {
   "cell_type": "markdown",
   "metadata": {},
   "source": [
    "There is also the possibility to nest if statements. Correct indentation becomes very important here."
   ]
  },
  {
   "cell_type": "code",
   "execution_count": 200,
   "metadata": {
    "execution": {
     "iopub.execute_input": "2023-02-22T15:39:34.795080Z",
     "iopub.status.busy": "2023-02-22T15:39:34.794039Z",
     "iopub.status.idle": "2023-02-22T15:39:34.799031Z",
     "shell.execute_reply": "2023-02-22T15:39:34.798042Z"
    }
   },
   "outputs": [
    {
     "name": "stdout",
     "output_type": "stream",
     "text": [
      "x<y\n",
      "x=10\n"
     ]
    }
   ],
   "source": [
    "x = 10\n",
    "y = 12\n",
    "if x > y:\n",
    "    print(\"x>y\")\n",
    "elif x < y:\n",
    "    print(\"x<y\")\n",
    "    if x==10:\n",
    "        print(\"x=10\")\n",
    "    else:\n",
    "        print(\"invalid\")\n",
    "else:\n",
    "    print(\"x=y\")"
   ]
  },
  {
   "cell_type": "markdown",
   "metadata": {
    "solution2": "hidden",
    "solution2_first": true
   },
   "source": [
    "\\begin{exercise}\\label{ex:if-else-elif}\n",
    "Write an if-elif-else statement, that checks whether a number equals zero, is greater or less than zero. Check the numbers 0, -5, 1000, -0.5, 28.9 with this statement.\n",
    "\\end{exercise}"
   ]
  },
  {
   "cell_type": "code",
   "execution_count": 201,
   "metadata": {
    "execution": {
     "iopub.execute_input": "2023-02-22T15:39:34.802242Z",
     "iopub.status.busy": "2023-02-22T15:39:34.801889Z",
     "iopub.status.idle": "2023-02-22T15:39:34.805855Z",
     "shell.execute_reply": "2023-02-22T15:39:34.805343Z"
    }
   },
   "outputs": [
    {
     "name": "stdout",
     "output_type": "stream",
     "text": [
      "It is a zero"
     ]
    },
    {
     "name": "stdout",
     "output_type": "stream",
     "text": [
      "\n"
     ]
    }
   ],
   "source": [
    "num = 0\n",
    "\n",
    "if num > 0:\n",
    "    print(str(num), \"is a positive number\")\n",
    "elif num == 0:\n",
    "    print(\"It is a zero\")\n",
    "else:\n",
    "    print(str(num), \"is a negative number\")"
   ]
  },
  {
   "cell_type": "markdown",
   "metadata": {},
   "source": [
    "### For loops\n",
    "\n",
    "The task of repeating all those numbers seemed a bit tedious. Here's a way to automate this: `for`-loops. With for loops you can execute the indented block as often as you'd like. `for`-loops follow a syntax like this:\n",
    "\n",
    "```python\n",
    "for i in iterable:\n",
    "    run code\n",
    "    run this code also\n",
    "    run code until iterable is exhausted\n",
    "```\n",
    "\n",
    "Note the colon and the indentation. The `iterable` in this syntax is an iterable object. Some objects, like lists are iterable and can be plugged into the `for`-statement. There's also the built-in function range, which is often used in this context."
   ]
  },
  {
   "cell_type": "code",
   "execution_count": 202,
   "metadata": {
    "execution": {
     "iopub.execute_input": "2023-02-22T15:39:34.808491Z",
     "iopub.status.busy": "2023-02-22T15:39:34.808125Z",
     "iopub.status.idle": "2023-02-22T15:39:34.811389Z",
     "shell.execute_reply": "2023-02-22T15:39:34.810864Z"
    }
   },
   "outputs": [
    {
     "name": "stdout",
     "output_type": "stream",
     "text": [
      "0\n",
      "1\n",
      "2\n",
      "3\n"
     ]
    }
   ],
   "source": [
    "for i in [0, 1, 2, 3]:\n",
    "    print(i)"
   ]
  },
  {
   "cell_type": "code",
   "execution_count": 203,
   "metadata": {
    "execution": {
     "iopub.execute_input": "2023-02-22T15:39:34.813940Z",
     "iopub.status.busy": "2023-02-22T15:39:34.813588Z",
     "iopub.status.idle": "2023-02-22T15:39:34.816725Z",
     "shell.execute_reply": "2023-02-22T15:39:34.816206Z"
    }
   },
   "outputs": [
    {
     "name": "stdout",
     "output_type": "stream",
     "text": [
      "0\n",
      "1\n",
      "2\n",
      "3\n"
     ]
    }
   ],
   "source": [
    "for i in range(4):\n",
    "    print(i)"
   ]
  },
  {
   "cell_type": "markdown",
   "metadata": {},
   "source": [
    "Note, how the built-in function takes the integer 4 as input, but only returns 3 as the highest integer. That's because the range function returns 4 integers, of which 0 is also one. Let's simplify the last exercise using a for loop."
   ]
  },
  {
   "cell_type": "code",
   "execution_count": 204,
   "metadata": {
    "execution": {
     "iopub.execute_input": "2023-02-22T15:39:34.819364Z",
     "iopub.status.busy": "2023-02-22T15:39:34.819006Z",
     "iopub.status.idle": "2023-02-22T15:39:34.823206Z",
     "shell.execute_reply": "2023-02-22T15:39:34.822695Z"
    }
   },
   "outputs": [
    {
     "name": "stdout",
     "output_type": "stream",
     "text": [
      "It is a zero"
     ]
    },
    {
     "name": "stdout",
     "output_type": "stream",
     "text": [
      "\n",
      "-5 is a negative number\n",
      "1000 is a positive number\n",
      "-0.5 is a negative number\n",
      "28.9 is a positive number\n"
     ]
    }
   ],
   "source": [
    "for i in [0,-5,1000,-0.5,28.9]:\n",
    "    if i > 0:\n",
    "        print(str(i), \"is a positive number\")\n",
    "    elif i == 0:\n",
    "        print(\"It is a zero\")\n",
    "    else:\n",
    "        print(str(i), \"is a negative number\")"
   ]
  },
  {
   "cell_type": "markdown",
   "metadata": {},
   "source": [
    "If nested lists are plugged into the for-loop, the outermost list is used as the iterable."
   ]
  },
  {
   "cell_type": "code",
   "execution_count": 205,
   "metadata": {
    "execution": {
     "iopub.execute_input": "2023-02-22T15:39:34.825797Z",
     "iopub.status.busy": "2023-02-22T15:39:34.825445Z",
     "iopub.status.idle": "2023-02-22T15:39:34.828912Z",
     "shell.execute_reply": "2023-02-22T15:39:34.828396Z"
    }
   },
   "outputs": [
    {
     "name": "stdout",
     "output_type": "stream",
     "text": [
      "[1, 2, 3]\n",
      "[4, 5, 6]\n",
      "[7, 8, 9]\n"
     ]
    }
   ],
   "source": [
    "list_of_lists = [[1, 2, 3], [4, 5, 6], [7, 8, 9]]\n",
    "for list1 in list_of_lists:\n",
    "        print(list1)"
   ]
  },
  {
   "cell_type": "markdown",
   "metadata": {},
   "source": [
    "If you want to access the lists on lower levels, you can write a nested for-loop."
   ]
  },
  {
   "cell_type": "code",
   "execution_count": 206,
   "metadata": {
    "execution": {
     "iopub.execute_input": "2023-02-22T15:39:34.831532Z",
     "iopub.status.busy": "2023-02-22T15:39:34.831179Z",
     "iopub.status.idle": "2023-02-22T15:39:34.834751Z",
     "shell.execute_reply": "2023-02-22T15:39:34.834216Z"
    }
   },
   "outputs": [
    {
     "name": "stdout",
     "output_type": "stream",
     "text": [
      "1\n",
      "2\n",
      "3\n",
      "4\n",
      "5\n",
      "6\n",
      "7\n",
      "8\n",
      "9\n"
     ]
    }
   ],
   "source": [
    "list_of_lists = [[1, 2, 3], [4, 5, 6], [7, 8, 9]]\n",
    "for list1 in list_of_lists:\n",
    "    for x in list1:\n",
    "        print(x)"
   ]
  },
  {
   "cell_type": "markdown",
   "metadata": {},
   "source": [
    "### For-else\n",
    "\n",
    "In python you can have an **`else`** statement after the completion of a for-loop to execute something once."
   ]
  },
  {
   "cell_type": "code",
   "execution_count": 207,
   "metadata": {
    "execution": {
     "iopub.execute_input": "2023-02-22T15:39:34.837364Z",
     "iopub.status.busy": "2023-02-22T15:39:34.836992Z",
     "iopub.status.idle": "2023-02-22T15:39:34.840535Z",
     "shell.execute_reply": "2023-02-22T15:39:34.840021Z"
    }
   },
   "outputs": [
    {
     "name": "stdout",
     "output_type": "stream",
     "text": [
      "At iteration 0. This line is executed multiple times.\n",
      "At iteration 1. This line is executed multiple times.\n",
      "At iteration 2. This line is executed multiple times.\n",
      "At iteration 3. This line is executed multiple times.\n",
      "For loop finished. This line is executed one. Variable i is still 3\n"
     ]
    }
   ],
   "source": [
    "for i in [0, 1, 2, 3]:\n",
    "    print(f\"At iteration {i}. This line is executed multiple times.\")\n",
    "else:\n",
    "    print(f\"For loop finished. This line is executed one. Variable i is still {i}\")"
   ]
  },
  {
   "cell_type": "markdown",
   "metadata": {},
   "source": [
    "### While loops\n",
    "\n",
    "While-loops are similar to for-loops. They execute the indented code. However, while-loops execute code as long as a conditional is true. The syntax looks something like this.\n",
    "\n",
    "```python\n",
    "condition = True\n",
    "while condition:\n",
    "    execute this code\n",
    "    execute this also\n",
    "    change the condition\n",
    "```\n",
    "\n",
    "Notice how the condition is changed inside the while-loop? This a very important part of while-loops. If you don't change the condition in the while loop, it will be executed indefinitely and eat up a lot of computer resources."
   ]
  },
  {
   "cell_type": "code",
   "execution_count": 208,
   "metadata": {
    "execution": {
     "iopub.execute_input": "2023-02-22T15:39:34.843145Z",
     "iopub.status.busy": "2023-02-22T15:39:34.842786Z",
     "iopub.status.idle": "2023-02-22T15:39:34.846309Z",
     "shell.execute_reply": "2023-02-22T15:39:34.845799Z"
    }
   },
   "outputs": [
    {
     "name": "stdout",
     "output_type": "stream",
     "text": [
      "1\n",
      "2\n",
      "3\n",
      "4\n",
      "5\n",
      "Loop finished. counted to 6\n"
     ]
    }
   ],
   "source": [
    "i = 1\n",
    "count_to = 6\n",
    "\n",
    "while i < count_to:\n",
    "    print(i)\n",
    "    i = i + 1\n",
    "print(f\"Loop finished. counted to {i}\")"
   ]
  },
  {
   "cell_type": "markdown",
   "metadata": {},
   "source": [
    "### Break\n",
    "\n",
    "`Break` can break for and while-loops. It is often used with an if-statement."
   ]
  },
  {
   "cell_type": "code",
   "execution_count": 209,
   "metadata": {
    "execution": {
     "iopub.execute_input": "2023-02-22T15:39:34.848916Z",
     "iopub.status.busy": "2023-02-22T15:39:34.848565Z",
     "iopub.status.idle": "2023-02-22T15:39:34.851865Z",
     "shell.execute_reply": "2023-02-22T15:39:34.851351Z"
    }
   },
   "outputs": [
    {
     "name": "stdout",
     "output_type": "stream",
     "text": [
      "0\n",
      "1\n",
      "2\n",
      "3\n",
      "4\n",
      "5\n",
      "6\n",
      "7\n"
     ]
    }
   ],
   "source": [
    "for i in range(100):\n",
    "    print(i)\n",
    "    if i>=7:\n",
    "        break"
   ]
  },
  {
   "cell_type": "markdown",
   "metadata": {},
   "source": [
    "### Else in loops\n",
    "\n",
    "There is also the possibility to use the `else` statement in a loop. The code of the else statement is executed, when the loop is terminated through exhaustion of its iterator. It is **not** executed, if a `break` is executed."
   ]
  },
  {
   "cell_type": "code",
   "execution_count": 210,
   "metadata": {
    "execution": {
     "iopub.execute_input": "2023-02-22T15:39:34.854471Z",
     "iopub.status.busy": "2023-02-22T15:39:34.854103Z",
     "iopub.status.idle": "2023-02-22T15:39:34.858318Z",
     "shell.execute_reply": "2023-02-22T15:39:34.857807Z"
    }
   },
   "outputs": [
    {
     "name": "stdout",
     "output_type": "stream",
     "text": [
      "2"
     ]
    },
    {
     "name": "stdout",
     "output_type": "stream",
     "text": [
      " is a prime number. Iterator exhausted.\n",
      "3 is a prime number. Iterator exhausted.\n",
      "4 equals 2 * 2. Breaking the loop.\n",
      "5 is a prime number. Iterator exhausted.\n",
      "6 equals 2 * 3. Breaking the loop.\n",
      "7 is a prime number. Iterator exhausted.\n",
      "8 equals 2 * 4. Breaking the loop.\n",
      "9 equals 3 * 3. Breaking the loop.\n"
     ]
    }
   ],
   "source": [
    "for n in range(2, 10):\n",
    "    for x in range(2, n):\n",
    "        if n % x == 0:\n",
    "            print(f\"{n} equals {x} * {n//x}. Breaking the loop.\")\n",
    "            break\n",
    "    else:\n",
    "        # loop fell through without finding a factor\n",
    "        print(n, 'is a prime number. Iterator exhausted.')"
   ]
  },
  {
   "cell_type": "markdown",
   "metadata": {
    "solution2": "hidden",
    "solution2_first": true
   },
   "source": [
    "\\begin{exercise}\\label{ex:division}\n",
    "What does the n//x in the f string do?\n",
    "\\end{exercise}"
   ]
  },
  {
   "cell_type": "markdown",
   "metadata": {
    "solution2": "hidden"
   },
   "source": [
    "Floor division."
   ]
  },
  {
   "cell_type": "markdown",
   "metadata": {},
   "source": [
    "### Continue\n",
    "\n",
    "Continue continues with the next iteration of the loop."
   ]
  },
  {
   "cell_type": "code",
   "execution_count": 211,
   "metadata": {
    "execution": {
     "iopub.execute_input": "2023-02-22T15:39:34.861037Z",
     "iopub.status.busy": "2023-02-22T15:39:34.860679Z",
     "iopub.status.idle": "2023-02-22T15:39:34.864502Z",
     "shell.execute_reply": "2023-02-22T15:39:34.863989Z"
    }
   },
   "outputs": [
    {
     "name": "stdout",
     "output_type": "stream",
     "text": [
      "0"
     ]
    },
    {
     "name": "stdout",
     "output_type": "stream",
     "text": [
      "\n",
      "1\n",
      "2\n",
      "3\n",
      "4\n",
      "The end.\n",
      "The end.\n",
      "The end.\n",
      "The end.\n",
      "The end.\n"
     ]
    }
   ],
   "source": [
    "for i in range(10):\n",
    "    if i>4:\n",
    "        print(\"The end.\")\n",
    "        continue\n",
    "    elif i<7:\n",
    "        print(i)"
   ]
  },
  {
   "cell_type": "markdown",
   "metadata": {
    "solution2": "hidden",
    "solution2_first": true
   },
   "source": [
    "\\begin{exercise}\\label{ex:understanding_loops}\n",
    "Change the code in the previous cell, so that it prints \"The end.\" only once.\n",
    "\\end{exercise}"
   ]
  },
  {
   "cell_type": "code",
   "execution_count": 212,
   "metadata": {
    "execution": {
     "iopub.execute_input": "2023-02-22T15:39:34.867137Z",
     "iopub.status.busy": "2023-02-22T15:39:34.866761Z",
     "iopub.status.idle": "2023-02-22T15:39:34.870229Z",
     "shell.execute_reply": "2023-02-22T15:39:34.869719Z"
    }
   },
   "outputs": [
    {
     "name": "stdout",
     "output_type": "stream",
     "text": [
      "0\n",
      "1\n",
      "2\n",
      "3\n",
      "4\n",
      "The end.\n"
     ]
    }
   ],
   "source": [
    "for i in range(10):\n",
    "    if i>4:\n",
    "        print(\"The end.\")\n",
    "        break\n",
    "    elif i<7:\n",
    "        print(i)"
   ]
  },
  {
   "cell_type": "markdown",
   "metadata": {},
   "source": [
    "### Pass statements\n",
    "\n",
    "The `pass` statement does nothing. It allows you to fulfill the syntax without executing code. Have a look at the next code cell."
   ]
  },
  {
   "cell_type": "code",
   "execution_count": 213,
   "metadata": {
    "execution": {
     "iopub.execute_input": "2023-02-22T15:39:34.872865Z",
     "iopub.status.busy": "2023-02-22T15:39:34.872488Z",
     "iopub.status.idle": "2023-02-22T15:39:34.876025Z",
     "shell.execute_reply": "2023-02-22T15:39:34.875495Z"
    }
   },
   "outputs": [
    {
     "ename": "SyntaxError",
     "evalue": "unexpected EOF while parsing (704283382.py, line 4)",
     "output_type": "error",
     "traceback": [
      "\u001b[0;36m  Cell \u001b[0;32mIn[213], line 4\u001b[0;36m\u001b[0m\n\u001b[0;31m    for i in [3, 4, 5]:\u001b[0m\n\u001b[0m                       ^\u001b[0m\n\u001b[0;31mSyntaxError\u001b[0m\u001b[0;31m:\u001b[0m unexpected EOF while parsing\n"
     ]
    }
   ],
   "source": [
    "for i in [0, 1, 2]:\n",
    "    pass\n",
    "\n",
    "for i in [3, 4, 5]:"
   ]
  },
  {
   "cell_type": "markdown",
   "metadata": {},
   "source": [
    "Check the Error-message:\n",
    "\n",
    "```\n",
    "  File \"<ipython-input-268-5a99e96149af>\", line 4\n",
    "    for i in [3, 4, 5]:\n",
    "                       ^\n",
    "SyntaxError: unexpected EOF while parsing\n",
    "```\n",
    "\n",
    "This tells us, that the second for-loop (the one iterating over the list [3, 4, 5]) has a syntax error. The first for-loop however doesn't throw an Error. It also does nothing due to the pass statement."
   ]
  },
  {
   "cell_type": "markdown",
   "metadata": {},
   "source": [
    "## Moving on\n",
    "\n",
    "Please visit the notebook [basics_01_functions_classes.ipynb](https://mybinder.org/v2/gh/kevinsawade/start-science-here/HEAD?urlpath=%2Ftree%2F?filepath=python_tutorial%2Fbasic_python%2Fbasics_01_functions_and_classes.ipynb) for further tutorials."
   ]
  }
 ],
 "metadata": {
  "language_info": {
   "codemirror_mode": {
    "name": "ipython",
    "version": 3
   },
   "file_extension": ".py",
   "mimetype": "text/x-python",
   "name": "python",
   "nbconvert_exporter": "python",
   "pygments_lexer": "ipython3",
   "version": "3.8.16"
  }
 },
 "nbformat": 4,
 "nbformat_minor": 2
}
