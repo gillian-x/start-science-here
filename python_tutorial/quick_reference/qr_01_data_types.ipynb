{
 "cells": [
  {
   "cell_type": "markdown",
   "id": "96b5cc2d",
   "metadata": {},
   "source": [
    "# Data Types"
   ]
  },
  {
   "cell_type": "markdown",
   "id": "c448b5b5",
   "metadata": {},
   "source": [
    "Determine the type of an object:"
   ]
  },
  {
   "cell_type": "code",
   "execution_count": null,
   "id": "12bf72f9",
   "metadata": {},
   "outputs": [],
   "source": [
    "import math\n",
    "print(type(math))    # module\n",
    "from numpy import ndarray\n",
    "print(type(ndarray)) # classes will print `type`\n",
    "from numpy.random import random\n",
    "print(type(random))  # builtin_function_or_method\n",
    "print(type(1))       # int (integer)\n",
    "print(type(1.1))     # float (floating point number)\n",
    "print(type('hello')) # str (string)\n",
    "print(type(True))    # bool (boolean, True/False values)\n",
    "print(type(None))    # NoneType (NoneType is a singleton)"
   ]
  },
  {
   "cell_type": "markdown",
   "id": "2e2a1df8",
   "metadata": {},
   "source": [
    "Check the type of an object:"
   ]
  },
  {
   "cell_type": "code",
   "execution_count": null,
   "id": "9eaa65d2",
   "metadata": {},
   "outputs": [],
   "source": [
    "isinstance(2, int) # True"
   ]
  },
  {
   "cell_type": "code",
   "execution_count": null,
   "id": "20afbb65",
   "metadata": {},
   "outputs": [],
   "source": [
    "isinstance(2.2, (float, int)) # True"
   ]
  },
  {
   "cell_type": "markdown",
   "id": "ae88cb79",
   "metadata": {},
   "source": [
    "Converting between types:"
   ]
  },
  {
   "cell_type": "code",
   "execution_count": null,
   "id": "178cb483",
   "metadata": {},
   "outputs": [],
   "source": [
    "float(2) # 2.0"
   ]
  },
  {
   "cell_type": "code",
   "execution_count": null,
   "id": "b94406db",
   "metadata": {},
   "outputs": [],
   "source": [
    "int(2.9) # 2"
   ]
  },
  {
   "cell_type": "code",
   "execution_count": null,
   "id": "3de6f701",
   "metadata": {},
   "outputs": [],
   "source": [
    "int(3.9) # 3"
   ]
  },
  {
   "cell_type": "code",
   "execution_count": null,
   "id": "1837ae0e",
   "metadata": {},
   "outputs": [],
   "source": [
    "str(2.2) # '2.2'"
   ]
  },
  {
   "cell_type": "markdown",
   "id": "342f08a6",
   "metadata": {},
   "source": [
    "Boolean values of built-in types:"
   ]
  },
  {
   "cell_type": "code",
   "execution_count": null,
   "id": "a21968a2",
   "metadata": {},
   "outputs": [],
   "source": [
    "bool(0)    # False"
   ]
  },
  {
   "cell_type": "code",
   "execution_count": null,
   "id": "29ec98ce",
   "metadata": {},
   "outputs": [],
   "source": [
    "bool(None) # False"
   ]
  },
  {
   "cell_type": "code",
   "execution_count": null,
   "id": "f6e4cd65",
   "metadata": {},
   "outputs": [],
   "source": [
    "bool('')   # False"
   ]
  },
  {
   "cell_type": "code",
   "execution_count": null,
   "id": "178327a8",
   "metadata": {},
   "outputs": [],
   "source": [
    "bool([])   # False (empty list)"
   ]
  },
  {
   "cell_type": "code",
   "execution_count": null,
   "id": "a1bde6ad",
   "metadata": {},
   "outputs": [],
   "source": [
    "bool({})   # False (empty dict)"
   ]
  },
  {
   "cell_type": "markdown",
   "id": "aaab37a9",
   "metadata": {},
   "source": [
    "True for variables with values and non-empty containers:"
   ]
  },
  {
   "cell_type": "code",
   "execution_count": null,
   "id": "dd6b7271",
   "metadata": {},
   "outputs": [],
   "source": [
    "bool(2)     # True"
   ]
  },
  {
   "cell_type": "code",
   "execution_count": null,
   "id": "c7340643",
   "metadata": {},
   "outputs": [],
   "source": [
    "bool([2])   # True"
   ]
  },
  {
   "cell_type": "code",
   "execution_count": null,
   "id": "d4c4bd39",
   "metadata": {},
   "outputs": [],
   "source": [
    "bool('two') # True"
   ]
  }
 ],
 "metadata": {
  "kernelspec": {
   "display_name": "Python 3",
   "language": "python",
   "name": "python3"
  },
  "language_info": {
   "codemirror_mode": {
    "name": "ipython",
    "version": 3
   },
   "file_extension": ".py",
   "mimetype": "text/x-python",
   "name": "python",
   "nbconvert_exporter": "python",
   "pygments_lexer": "ipython3",
   "version": "3.8.8"
  },
  "latex_envs": {
   "LaTeX_envs_menu_present": true,
   "autoclose": false,
   "autocomplete": true,
   "bibliofile": "biblio.bib",
   "cite_by": "apalike",
   "current_citInitial": 1,
   "eqLabelWithNumbers": true,
   "eqNumInitial": 1,
   "hotkeys": {
    "equation": "Ctrl-E",
    "itemize": "Ctrl-I"
   },
   "labels_anchors": false,
   "latex_user_defs": false,
   "report_style_numbering": false,
   "user_envs_cfg": false
  },
  "toc": {
   "base_numbering": 1,
   "nav_menu": {},
   "number_sections": true,
   "sideBar": true,
   "skip_h1_title": false,
   "title_cell": "Table of Contents",
   "title_sidebar": "Contents",
   "toc_cell": false,
   "toc_position": {},
   "toc_section_display": true,
   "toc_window_display": false
  }
 },
 "nbformat": 4,
 "nbformat_minor": 5
}
