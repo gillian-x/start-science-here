{
 "cells": [
  {
   "cell_type": "markdown",
   "metadata": {},
   "source": [
    "Advanced Python\n",
    "\n",
    "Writing Library\n",
    "\n",
    "Building Framework\n",
    "\n",
    "Python C Extensions (C code in Python)\n",
    "\n",
    "Closure, Function Factory, Method Chaining\n",
    "\n",
    "Exception Handling, Context Manager\n",
    "\n",
    "Metaclasses, Introspection\n",
    "\n",
    "Multithreading, Multiprocessing"
   ]
  },
  {
   "cell_type": "code",
   "execution_count": null,
   "metadata": {},
   "outputs": [],
   "source": []
  }
 ],
 "metadata": {
  "language_info": {
   "name": "python"
  }
 },
 "nbformat": 4,
 "nbformat_minor": 2
}
