{
 "cells": [
  {
   "cell_type": "markdown",
   "metadata": {},
   "source": [
    "In-built and user-defined function, the lambda function\n",
    "\n",
    "This tutorial follows the tutorials created by Rajath Kumar (https://github.com/rajathkmp/Python-Lectures)"
   ]
  },
  {
   "cell_type": "markdown",
   "metadata": {},
   "source": [
    "# Functions\n",
    "\n",
    "In 01_python_basics we talked about built-in functions. For example, the `print()` function is a built-in function, meaning it is always included. A function groups a set of statements so they can be run more than once. *Functions are an alternative for copying and pasting code segments you might call often*. Functions are the most basic program structure python provides to maximize *code reuse*.\n",
    "\n",
    "Functions are called by their name and parentheses (). Functions are defined by the `def` or the `lambda` statement.\n",
    "\n",
    "```python\n",
    "def func_name(arg1, arg2, ..., argN):\n",
    "    \"\"\"This is the documentation to that func.\"\"\"\n",
    "    Indented code belonging to the function\n",
    "    More indented code also belonging to the function\n",
    "\n",
    "lambda_func = lambda a : a + 3\n",
    "```\n",
    "\n",
    "## Return statements\n",
    "\n",
    "There are two return statements which send results to the function call. `return` and the more advanced `yield`. "
   ]
  },
  {
   "cell_type": "code",
   "execution_count": 3,
   "metadata": {},
   "outputs": [
    {
     "name": "stdout",
     "output_type": "stream",
     "text": [
      "This function is awesome\n"
     ]
    }
   ],
   "source": [
    "def some_func():\n",
    "    return 'awesome'\n",
    "\n",
    "print('This function is', some_func())"
   ]
  },
  {
   "cell_type": "markdown",
   "metadata": {},
   "source": [
    "## Variables in functions\n",
    "\n",
    "Variables assigned in functions are generally not accessible outside of these functions. Consider the following example:"
   ]
  },
  {
   "cell_type": "code",
   "execution_count": 1,
   "metadata": {
    "scrolled": true
   },
   "outputs": [
    {
     "ename": "NameError",
     "evalue": "name 'y' is not defined",
     "output_type": "error",
     "traceback": [
      "\u001b[0;31m---------------------------------------------------------------------------\u001b[0m",
      "\u001b[0;31mNameError\u001b[0m                                 Traceback (most recent call last)",
      "\u001b[0;32m<ipython-input-1-28282c55d086>\u001b[0m in \u001b[0;36m<module>\u001b[0;34m\u001b[0m\n\u001b[1;32m      4\u001b[0m     \u001b[0;32mreturn\u001b[0m \u001b[0ma\u001b[0m \u001b[0;34m+\u001b[0m \u001b[0my\u001b[0m\u001b[0;34m\u001b[0m\u001b[0m\n\u001b[1;32m      5\u001b[0m \u001b[0madd_two_numbers\u001b[0m\u001b[0;34m(\u001b[0m\u001b[0;36m3\u001b[0m\u001b[0;34m)\u001b[0m\u001b[0;34m\u001b[0m\u001b[0m\n\u001b[0;32m----> 6\u001b[0;31m \u001b[0mprint\u001b[0m\u001b[0;34m(\u001b[0m\u001b[0my\u001b[0m\u001b[0;34m)\u001b[0m\u001b[0;34m\u001b[0m\u001b[0m\n\u001b[0m",
      "\u001b[0;31mNameError\u001b[0m: name 'y' is not defined"
     ]
    }
   ],
   "source": [
    "def add_two_numbers(a):\n",
    "    \"\"\"Adds a number to the argument.\"\"\"\n",
    "    y = 3\n",
    "    return a + y\n",
    "add_two_numbers(3)\n",
    "print(y)"
   ]
  },
  {
   "cell_type": "markdown",
   "metadata": {},
   "source": [
    "The value of the variable y in this function is not accessible to code outside of the function. Variables from functions can be made available to the outside code via a `global` statement."
   ]
  },
  {
   "cell_type": "code",
   "execution_count": 6,
   "metadata": {},
   "outputs": [
    {
     "name": "stdout",
     "output_type": "stream",
     "text": [
      "old\n",
      "new\n"
     ]
    }
   ],
   "source": [
    "x = 'old'\n",
    "def change_x():\n",
    "    global x\n",
    "    x = 'new'\n",
    "print(x)\n",
    "change_x()\n",
    "print(x)"
   ]
  },
  {
   "cell_type": "markdown",
   "metadata": {},
   "source": [
    "Here are some important infos about functions:\n",
    "\n",
    "- `def` is executable code. The function is created when python reaches the `def` statement. Thus, different functions can be defined in if-else statements. This differentiates python functions from C functions, which are compiled before they are executed.\n",
    "- `def` creates an object and assigns it to a name. There's nothing special about that function. It can be added to lists, it can also be assigned to other names.\n",
    "- `lambda` creates an object but returns it as a result. `lambda` can be used in places, where `def` can't be used syntactically.\n",
    "- `return` sends a result object to the caller. Python only returns with the remaining code, when the function is finished. This differentiates `return` from\n",
    "- `yield` which sends a result object, but remembers where it left off. This can be used to make code faster.\n",
    "- `global` defines variables which should be taken from outside the variable.\n",
    "- `nonlocal` defined enclosing function variables that are to be assigned. It allows a nested function to access the variables of the above functions and change them."
   ]
  },
  {
   "cell_type": "code",
   "execution_count": 69,
   "metadata": {},
   "outputs": [
    {
     "name": "stdout",
     "output_type": "stream",
     "text": [
      "old\n",
      "new\n"
     ]
    }
   ],
   "source": [
    "def outer():\n",
    "    x = 'old'\n",
    "    def changer():\n",
    "        nonlocal x\n",
    "        print(x)\n",
    "        x = 'new'\n",
    "    changer()\n",
    "    print(x)\n",
    "outer()"
   ]
  },
  {
   "cell_type": "markdown",
   "metadata": {},
   "source": [
    "## Arguments\n",
    "\n",
    "- Arguments are passed by assignment. This means that we use the assignment (=) to pass arguments."
   ]
  },
  {
   "cell_type": "code",
   "execution_count": 72,
   "metadata": {},
   "outputs": [
    {
     "name": "stdout",
     "output_type": "stream",
     "text": [
      "7\n"
     ]
    }
   ],
   "source": [
    "def a_func(arg1, arg2, arg3):\n",
    "    return arg1 + (arg2 * arg3)\n",
    "\n",
    "print(a_func(arg1=1, arg2=2, arg3=3))"
   ]
  },
  {
   "cell_type": "markdown",
   "metadata": {},
   "source": [
    "- Arguments are passed by position unless you say otherwise."
   ]
  },
  {
   "cell_type": "code",
   "execution_count": 74,
   "metadata": {},
   "outputs": [
    {
     "name": "stdout",
     "output_type": "stream",
     "text": [
      "7\n",
      "6\n"
     ]
    }
   ],
   "source": [
    "print(a_func(1, 2, 3))\n",
    "print(a_func(1, arg3=1, arg2=5))"
   ]
  },
  {
   "cell_type": "markdown",
   "metadata": {},
   "source": [
    "## Keyworded Arguments\n",
    "\n",
    "You can define *default* arguments by assigning them inside the parentheses of the `def` expression."
   ]
  },
  {
   "cell_type": "code",
   "execution_count": 75,
   "metadata": {},
   "outputs": [
    {
     "name": "stdout",
     "output_type": "stream",
     "text": [
      "4\n",
      "32\n"
     ]
    }
   ],
   "source": [
    "def powers(a, power=2):\n",
    "    \"\"\"Calculates powers to an argument.\n",
    "    If not specified otherwise the power\n",
    "    of 2 will be calculated.\n",
    "    \"\"\"\n",
    "    return a ** power\n",
    "print(powers(2))\n",
    "print(powers(2, 5))"
   ]
  },
  {
   "cell_type": "markdown",
   "metadata": {},
   "source": [
    "## Nested functions\n",
    "\n",
    "Functions can be nested in other statements."
   ]
  },
  {
   "cell_type": "code",
   "execution_count": 76,
   "metadata": {
    "scrolled": true
   },
   "outputs": [
    {
     "name": "stdout",
     "output_type": "stream",
     "text": [
      "The test is true. I am a function.\n"
     ]
    }
   ],
   "source": [
    "test = True\n",
    "if test:\n",
    "    def func():\n",
    "        return \"The test is true. I am a function.\"\n",
    "else:\n",
    "    def func():\n",
    "        return \"The test is false. Sad times. I am still a function.\"\n",
    "print(func())"
   ]
  },
  {
   "cell_type": "markdown",
   "metadata": {},
   "source": [
    "## Docstrings\n",
    "\n",
    "As you have already seen some of the previous functions have segments with triple quotes. These are there for documentation purposes. If you want to help other people (and your future self) write a short summary of what your function does. These docstrings can be accessed via the built-in function `help()`."
   ]
  },
  {
   "cell_type": "code",
   "execution_count": 77,
   "metadata": {
    "scrolled": true
   },
   "outputs": [
    {
     "name": "stdout",
     "output_type": "stream",
     "text": [
      "Help on function powers in module __main__:\n",
      "\n",
      "powers(a, power=2)\n",
      "    Calculates powers to an argument.\n",
      "    If not specified otherwise the power\n",
      "    of 2 will be calculated.\n",
      "\n"
     ]
    }
   ],
   "source": [
    "help(powers)"
   ]
  },
  {
   "cell_type": "markdown",
   "metadata": {},
   "source": [
    "# Writing functions\n",
    "\n",
    "With this we can go straight to some more advanced function stuffs. "
   ]
  },
  {
   "cell_type": "code",
   "execution_count": 4,
   "metadata": {},
   "outputs": [
    {
     "name": "stdout",
     "output_type": "stream",
     "text": [
      "Hello World!\n"
     ]
    }
   ],
   "source": [
    "print_hello_world()"
   ]
  },
  {
   "cell_type": "markdown",
   "metadata": {},
   "source": [
    "To access the docstring you can call the built-in function `help()` on the function itself. Note, how the function is **not** called. The parentheses are omitted."
   ]
  },
  {
   "cell_type": "code",
   "execution_count": 36,
   "metadata": {},
   "outputs": [
    {
     "name": "stdout",
     "output_type": "stream",
     "text": [
      "Help on function print_hello_world in module __main__:\n",
      "\n",
      "print_hello_world()\n",
      "    Prints \"Hello World!\"\n",
      "    and returns a string.\n",
      "\n"
     ]
    }
   ],
   "source": [
    "help(print_hello_world)"
   ]
  },
  {
   "cell_type": "markdown",
   "metadata": {},
   "source": [
    "## Return values\n",
    "\n",
    "Let's assign the output of the function to a variable and check that variable out."
   ]
  },
  {
   "cell_type": "code",
   "execution_count": 5,
   "metadata": {},
   "outputs": [
    {
     "name": "stdout",
     "output_type": "stream",
     "text": [
      "Hello World!\n"
     ]
    }
   ],
   "source": [
    "out = print_hello_world()"
   ]
  },
  {
   "cell_type": "code",
   "execution_count": 6,
   "metadata": {},
   "outputs": [
    {
     "name": "stdout",
     "output_type": "stream",
     "text": [
      "None\n"
     ]
    }
   ],
   "source": [
    "print(out)"
   ]
  },
  {
   "cell_type": "markdown",
   "metadata": {},
   "source": [
    "See, how the function returned a `None`? That's because in python all functions return something. If not further specified, they return `None`. Let's specify the return value of our function. By executing the next cell, you overwrite the previously defined function. Be careful not to overwrite built-in functions. They are lost, until you restart the program."
   ]
  },
  {
   "cell_type": "code",
   "execution_count": 11,
   "metadata": {},
   "outputs": [],
   "source": [
    "def print_hello_world():\n",
    "    \"\"\"Prints \"Hello World!\"\n",
    "    and returns a string.\n",
    "    \"\"\"\n",
    "    print(\"Hello World!\")\n",
    "    return \"Python is awesome!\"\n",
    "    # Return is not a function, that's why it is shown in bold letters.\n",
    "    # It does not need the parentheses like print() does."
   ]
  },
  {
   "cell_type": "code",
   "execution_count": 12,
   "metadata": {},
   "outputs": [
    {
     "name": "stdout",
     "output_type": "stream",
     "text": [
      "Hello World!\n",
      "Python is awesome!\n"
     ]
    }
   ],
   "source": [
    "out = print_hello_world()\n",
    "print(out)"
   ]
  },
  {
   "cell_type": "markdown",
   "metadata": {},
   "source": [
    "## Arguments\n",
    "\n",
    "Let's add some arguments to our function."
   ]
  },
  {
   "cell_type": "code",
   "execution_count": 25,
   "metadata": {},
   "outputs": [
    {
     "name": "stdout",
     "output_type": "stream",
     "text": [
      "Hello Keith!\n"
     ]
    }
   ],
   "source": [
    "def print_hello_user(username):\n",
    "    print(f\"Hello {username}!\")\n",
    "print_hello_user(\"Keith\")"
   ]
  },
  {
   "cell_type": "markdown",
   "metadata": {},
   "source": [
    "Let's use a user provided input to print the message."
   ]
  },
  {
   "cell_type": "code",
   "execution_count": 18,
   "metadata": {},
   "outputs": [
    {
     "name": "stdout",
     "output_type": "stream",
     "text": [
      "Please enter your name: Ben\n"
     ]
    }
   ],
   "source": [
    "name = input(\"Please enter your name: \")"
   ]
  },
  {
   "cell_type": "code",
   "execution_count": 19,
   "metadata": {},
   "outputs": [
    {
     "name": "stdout",
     "output_type": "stream",
     "text": [
      "Hello Ben!\n"
     ]
    }
   ],
   "source": [
    "print_hello_user(name)"
   ]
  },
  {
   "cell_type": "markdown",
   "metadata": {},
   "source": [
    "You can also have multiple arguments, separated by comma."
   ]
  },
  {
   "cell_type": "code",
   "execution_count": 55,
   "metadata": {},
   "outputs": [
    {
     "name": "stdout",
     "output_type": "stream",
     "text": [
      "Nice to see you, Keith!\n"
     ]
    }
   ],
   "source": [
    "def print_hello_user(greeting, username):\n",
    "    print(f\"{greeting} {username}!\")\n",
    "print_hello_user(\"Nice to see you,\", \"Keith\")"
   ]
  },
  {
   "cell_type": "markdown",
   "metadata": {},
   "source": [
    "## Order of arguments matter\n",
    "\n",
    "The order of arguments matter when functions are called."
   ]
  },
  {
   "cell_type": "code",
   "execution_count": 58,
   "metadata": {},
   "outputs": [
    {
     "name": "stdout",
     "output_type": "stream",
     "text": [
      "Kurt Good afternoon,!\n"
     ]
    }
   ],
   "source": [
    "name = 'Kurt'\n",
    "greet = 'Good afternoon,'\n",
    "print_hello_user(name, greet)"
   ]
  },
  {
   "cell_type": "markdown",
   "metadata": {},
   "source": [
    "But when you specifically type the name of the arguments, order does not matter anymore."
   ]
  },
  {
   "cell_type": "code",
   "execution_count": 59,
   "metadata": {},
   "outputs": [
    {
     "name": "stdout",
     "output_type": "stream",
     "text": [
      "Good afternoon, Kurt!\n"
     ]
    }
   ],
   "source": [
    "print_hello_user(username=name, greeting=greet)"
   ]
  },
  {
   "cell_type": "markdown",
   "metadata": {},
   "source": [
    "## Return multiple values\n",
    "\n",
    "Let's recap the return statement at the end of functions. Instead of returning a more or less static string it would be beneficial to return something that has been calculated inside the function."
   ]
  },
  {
   "cell_type": "markdown",
   "metadata": {
    "solution2": "hidden",
    "solution2_first": true
   },
   "source": [
    "\\begin{exercise}\\label{ex:Multiplication}\n",
    "Write a function that takes two input arguments, x and y, multiplies them and returns the result.\n",
    "\\end{exercise}"
   ]
  },
  {
   "cell_type": "code",
   "execution_count": 34,
   "metadata": {
    "solution2": "hidden"
   },
   "outputs": [],
   "source": [
    "def multiplication(x, y):\n",
    "    \"\"\"Instead of assigning to result to a useless variable return it direclty\"\"\"\n",
    "    return x * y"
   ]
  },
  {
   "cell_type": "markdown",
   "metadata": {},
   "source": [
    "Sometimes you want your function to return multiple values. However the return statement breaks the execution of the function. Instead of two separate return statements, you should separate the return values with a cpmma."
   ]
  },
  {
   "cell_type": "code",
   "execution_count": 39,
   "metadata": {},
   "outputs": [
    {
     "data": {
      "text/plain": [
       "100"
      ]
     },
     "execution_count": 39,
     "metadata": {},
     "output_type": "execute_result"
    }
   ],
   "source": [
    "examplelist = [10,50,30,12,6,8,100]\n",
    "def exfunc(examplelist):\n",
    "    highest = max(examplelist)\n",
    "    lowest = min(examplelist)\n",
    "    first = examplelist[0]\n",
    "    last = examplelist[-1]\n",
    "    return highest\n",
    "    return lowest\n",
    "    return first\n",
    "    return last\n",
    "\n",
    "exfunc(examplelist)"
   ]
  },
  {
   "cell_type": "code",
   "execution_count": 40,
   "metadata": {},
   "outputs": [
    {
     "data": {
      "text/plain": [
       "(100, 6, 10, 100)"
      ]
     },
     "execution_count": 40,
     "metadata": {},
     "output_type": "execute_result"
    }
   ],
   "source": [
    "examplelist = [10,50,30,12,6,8,100]\n",
    "def exfunc(examplelist):\n",
    "    highest = max(examplelist)\n",
    "    lowest = min(examplelist)\n",
    "    first = examplelist[0]\n",
    "    last = examplelist[-1]\n",
    "    return highest, lowest, first, last\n",
    "\n",
    "exfunc(examplelist)"
   ]
  },
  {
   "cell_type": "code",
   "execution_count": 41,
   "metadata": {},
   "outputs": [
    {
     "name": "stdout",
     "output_type": "stream",
     "text": [
      "<class 'tuple'>\n"
     ]
    }
   ],
   "source": [
    "print(type(exfunc(examplelist)))"
   ]
  },
  {
   "cell_type": "markdown",
   "metadata": {},
   "source": [
    "The return values are packed in  a tuple. Which makes sense, because you want to have the result be immutable as to not accidentally scramble it. The return tuple can be unpacked like this:"
   ]
  },
  {
   "cell_type": "code",
   "execution_count": 43,
   "metadata": {},
   "outputs": [
    {
     "name": "stdout",
     "output_type": "stream",
     "text": [
      "6\n"
     ]
    }
   ],
   "source": [
    "rval_one, rval_two, rval_three, rval_four = exfunc(examplelist)\n",
    "print(rval_two)"
   ]
  },
  {
   "cell_type": "markdown",
   "metadata": {},
   "source": [
    "More about packing and unpacking below."
   ]
  },
  {
   "cell_type": "markdown",
   "metadata": {},
   "source": [
    "## Nested functions\n",
    "\n",
    "Functions can also be nested. In fact that's one of the beautiful aspects of python. By stacking functions, you can create increasingly complex programs relying on a number of easy functions. Let me show it to you."
   ]
  },
  {
   "cell_type": "code",
   "execution_count": 29,
   "metadata": {},
   "outputs": [],
   "source": [
    "def convert_12_h_to_24_h(time):\n",
    "    timevalue = int(time.split()[0]) # split the string into a list, use 0th element and make it an integer\n",
    "    if 'pm' in time:\n",
    "        timevalue = timevalue + 12\n",
    "    return timevalue\n",
    "\n",
    "def return_greeting(time):\n",
    "    # convert time string to numbers\n",
    "    if 'am' in time or 'pm' in time:\n",
    "        time = convert_12_h_to_24_h(time)\n",
    "    # decide on greeting\n",
    "    if time >= 0 and time < 6:\n",
    "        greeting = \"Sleep tight\"\n",
    "    elif time >= 6 and time < 12:\n",
    "        greeting = \"Good morning\"\n",
    "    elif time >= 12 and time < 18:\n",
    "        greeting = \"Good afternoon\"\n",
    "    elif time >= 18 and time < 22:\n",
    "        greeting = \"Good evening\"\n",
    "    else:\n",
    "        greeting = \"Good night\"\n",
    "    return greeting\n",
    "\n",
    "\n",
    "def print_hello_user_time(username, time):\n",
    "    greeting = return_greeting(time)\n",
    "    print(f\"{greeting} {username}!\")"
   ]
  },
  {
   "cell_type": "code",
   "execution_count": 30,
   "metadata": {},
   "outputs": [
    {
     "name": "stdout",
     "output_type": "stream",
     "text": [
      "Good afternoon Sandra!\n"
     ]
    }
   ],
   "source": [
    "print_hello_user_time(\"Sandra\", \"12 am\")"
   ]
  },
  {
   "cell_type": "markdown",
   "metadata": {},
   "source": [
    "\\begin{exercise}\\label{ex:timed_greeting}\n",
    "Take some time and try to understand the previous functions. Try and change something and see what happens.\n",
    "\\end{exercise}"
   ]
  },
  {
   "cell_type": "markdown",
   "metadata": {},
   "source": [
    "## Keyworded arguments\n",
    "\n",
    "By explicitly stating the argument in your function, you can change the order in which you pass arguments to a function."
   ]
  },
  {
   "cell_type": "code",
   "execution_count": 45,
   "metadata": {},
   "outputs": [
    {
     "name": "stdout",
     "output_type": "stream",
     "text": [
      "1 -1\n"
     ]
    }
   ],
   "source": [
    "def subtract(x, y):\n",
    "    \"\"\"Subtracts y from x.\"\"\"\n",
    "    return x - y\n",
    "\n",
    "one = subtract(5, 4)\n",
    "two = subtract(y=5, x=4)\n",
    "print(one, two)"
   ]
  },
  {
   "cell_type": "markdown",
   "metadata": {},
   "source": [
    "In the same fashion you can set the defaults for a functions arguments, when defining the function. In that case you only need to provide as many arguments as there are non-keyworded arguments."
   ]
  },
  {
   "cell_type": "code",
   "execution_count": 47,
   "metadata": {},
   "outputs": [
    {
     "name": "stdout",
     "output_type": "stream",
     "text": [
      "5\n",
      "-10\n"
     ]
    }
   ],
   "source": [
    "def subtract(x, y=5):\n",
    "    \"\"\"Subtracts y from x.\n",
    "    If not specified otherwise 5 will be subtracted from x.\"\"\"\n",
    "    return x - y\n",
    "\n",
    "print(subtract(10))\n",
    "print(subtract(10, 20))"
   ]
  },
  {
   "cell_type": "markdown",
   "metadata": {},
   "source": [
    "# Classes\n",
    "\n",
    "Classes is where python starts to shine. Welcome to object-oriented programming. At first we want to get some terminology right. Let's use the builtin class `int` as an example. First we need to know the difference between `class` and the `instance` of a class. If we define a class like so:\n",
    "\n",
    "```python\n",
    "class MyClass:\n",
    "    pass\n",
    "```\n",
    "\n",
    "We can either access the `class` by calling.\n",
    "\n",
    "```python\n",
    ">>> MyClass()\n",
    "```\n",
    "\n",
    "Or we can *instantiate* the class and call an `instance` of the class:\n",
    "\n",
    "```python\n",
    ">>> mycls = MyClass()\n",
    ">>> mycls()\n",
    "```"
   ]
  },
  {
   "cell_type": "code",
   "execution_count": 21,
   "metadata": {},
   "outputs": [],
   "source": [
    "class MyClass:\n",
    "    pass"
   ]
  },
  {
   "cell_type": "code",
   "execution_count": 20,
   "metadata": {},
   "outputs": [
    {
     "name": "stdout",
     "output_type": "stream",
     "text": [
      "<class 'type'>\n",
      "<class '__main__.Myclass'>\n"
     ]
    }
   ],
   "source": [
    "print(type(Myclass))\n",
    "mycls = Myclass()\n",
    "print(type(mycls))"
   ]
  },
  {
   "cell_type": "markdown",
   "metadata": {},
   "source": [
    "Notice, how the intsantiated class `mycls` contains the name of the class it was instantiated from.\n",
    "\n",
    "Let's fill the class MyClass with some more code. We will add *methods*. Methods are like functions inside a class."
   ]
  },
  {
   "cell_type": "code",
   "execution_count": 33,
   "metadata": {},
   "outputs": [],
   "source": [
    "class MyClass:\n",
    "    def mymethod(string):\n",
    "        print(\"String '{}' has been passed to mymetyhod\".format(string))"
   ]
  },
  {
   "cell_type": "code",
   "execution_count": 34,
   "metadata": {},
   "outputs": [
    {
     "name": "stdout",
     "output_type": "stream",
     "text": [
      "String 'hi' has been passed to mymetyhod\n"
     ]
    }
   ],
   "source": [
    "MyClass.mymethod('hi')"
   ]
  },
  {
   "cell_type": "code",
   "execution_count": 35,
   "metadata": {},
   "outputs": [
    {
     "ename": "TypeError",
     "evalue": "mymethod() takes 1 positional argument but 2 were given",
     "output_type": "error",
     "traceback": [
      "\u001b[0;31m---------------------------------------------------------------------------\u001b[0m",
      "\u001b[0;31mTypeError\u001b[0m                                 Traceback (most recent call last)",
      "\u001b[0;32m<ipython-input-35-0ba836a733a8>\u001b[0m in \u001b[0;36m<module>\u001b[0;34m\u001b[0m\n\u001b[1;32m      1\u001b[0m \u001b[0mmycls\u001b[0m \u001b[0;34m=\u001b[0m \u001b[0mMyClass\u001b[0m\u001b[0;34m(\u001b[0m\u001b[0;34m)\u001b[0m\u001b[0;34m\u001b[0m\u001b[0m\n\u001b[0;32m----> 2\u001b[0;31m \u001b[0mmycls\u001b[0m\u001b[0;34m.\u001b[0m\u001b[0mmymethod\u001b[0m\u001b[0;34m(\u001b[0m\u001b[0;34m'also hi'\u001b[0m\u001b[0;34m)\u001b[0m\u001b[0;34m\u001b[0m\u001b[0m\n\u001b[0m",
      "\u001b[0;31mTypeError\u001b[0m: mymethod() takes 1 positional argument but 2 were given"
     ]
    }
   ],
   "source": [
    "mycls = MyClass()\n",
    "mycls.mymethod('also hi')"
   ]
  },
  {
   "cell_type": "markdown",
   "metadata": {},
   "source": [
    "This throws an error about the wrong number of arguments. We will have to add two more things for `MyClass` to be able to work with the `mymethod()` method.\n",
    "\n",
    "- The `__init__()` method.\n",
    "- The class variable `self` (explained later).\n",
    "\n",
    "The most important method is the `__init__()` method. The double underscores leading and trailing the *init* tell you this method is important. This is a so-called *magic method*. There are some more, but we will come to that. First, we add the `__init__()` method to our class."
   ]
  },
  {
   "cell_type": "code",
   "execution_count": 36,
   "metadata": {},
   "outputs": [],
   "source": [
    "class MyClass:\n",
    "    def __init__(self):\n",
    "        print(\"I've been initialized.\")\n",
    "        \n",
    "    def mymethod(self, string):\n",
    "        print(\"String '{}' has been passed to mymetyhod\".format(string))"
   ]
  },
  {
   "cell_type": "code",
   "execution_count": 37,
   "metadata": {},
   "outputs": [
    {
     "name": "stdout",
     "output_type": "stream",
     "text": [
      "I've been initialized.\n"
     ]
    }
   ],
   "source": [
    "mycls = MyClass()"
   ]
  },
  {
   "cell_type": "code",
   "execution_count": 38,
   "metadata": {},
   "outputs": [
    {
     "name": "stdout",
     "output_type": "stream",
     "text": [
      "String 'also hi' has been passed to mymetyhod\n"
     ]
    }
   ],
   "source": [
    "mycls.mymethod('also hi')"
   ]
  },
  {
   "cell_type": "markdown",
   "metadata": {},
   "source": [
    "Let's add some variables. Variables in classes, similar to variables in functions reside in the class' own namespace and doe (generally speaking) not collide with the outside namespace. With `self` we can, however, expose variables to the outside. These variables are called `instance variables` as they belong to a certain instance of the class and can be changed. Consider the following example:"
   ]
  },
  {
   "cell_type": "code",
   "execution_count": 47,
   "metadata": {},
   "outputs": [],
   "source": [
    "class Employee:\n",
    "    def __init__(self, name, room):\n",
    "        self.name = name\n",
    "        print(\"Instantiated\")\n",
    "        print(\"Employee {} is in room {}.\".format(self.name, room))\n",
    "        \n",
    "    def say_hi(self):\n",
    "        print(\"Hi! {}\".format(self.name))\n",
    "        \n",
    "    def print_room(self):\n",
    "        print(\"{} is in room {}\".format(self.name, room))"
   ]
  },
  {
   "cell_type": "code",
   "execution_count": 48,
   "metadata": {},
   "outputs": [
    {
     "name": "stdout",
     "output_type": "stream",
     "text": [
      "Instantiated\n",
      "Employee kurt is in room P953.\n"
     ]
    }
   ],
   "source": [
    "kurt = Employee('kurt', 'P953')"
   ]
  },
  {
   "cell_type": "code",
   "execution_count": 49,
   "metadata": {},
   "outputs": [
    {
     "name": "stdout",
     "output_type": "stream",
     "text": [
      "Hi! kurt\n"
     ]
    }
   ],
   "source": [
    "kurt.say_hi()"
   ]
  },
  {
   "cell_type": "code",
   "execution_count": 50,
   "metadata": {},
   "outputs": [
    {
     "data": {
      "text/plain": [
       "'kurt'"
      ]
     },
     "execution_count": 50,
     "metadata": {},
     "output_type": "execute_result"
    }
   ],
   "source": [
    "kurt.name"
   ]
  },
  {
   "cell_type": "code",
   "execution_count": 51,
   "metadata": {},
   "outputs": [
    {
     "ename": "AttributeError",
     "evalue": "'Employee' object has no attribute 'room'",
     "output_type": "error",
     "traceback": [
      "\u001b[0;31m---------------------------------------------------------------------------\u001b[0m",
      "\u001b[0;31mAttributeError\u001b[0m                            Traceback (most recent call last)",
      "\u001b[0;32m<ipython-input-51-9a26a7b9e83b>\u001b[0m in \u001b[0;36m<module>\u001b[0;34m\u001b[0m\n\u001b[0;32m----> 1\u001b[0;31m \u001b[0mkurt\u001b[0m\u001b[0;34m.\u001b[0m\u001b[0mroom\u001b[0m\u001b[0;34m\u001b[0m\u001b[0m\n\u001b[0m",
      "\u001b[0;31mAttributeError\u001b[0m: 'Employee' object has no attribute 'room'"
     ]
    }
   ],
   "source": [
    "kurt.room"
   ]
  },
  {
   "cell_type": "markdown",
   "metadata": {},
   "source": [
    "Because room was not defined with the `self`, we have no access from the outside. Not even the `print_room()` method has access. Once the `__init__()` has completed. We loose the variable room."
   ]
  },
  {
   "cell_type": "code",
   "execution_count": 53,
   "metadata": {
    "scrolled": true
   },
   "outputs": [
    {
     "ename": "NameError",
     "evalue": "name 'room' is not defined",
     "output_type": "error",
     "traceback": [
      "\u001b[0;31m---------------------------------------------------------------------------\u001b[0m",
      "\u001b[0;31mNameError\u001b[0m                                 Traceback (most recent call last)",
      "\u001b[0;32m<ipython-input-53-d09b67c02664>\u001b[0m in \u001b[0;36m<module>\u001b[0;34m\u001b[0m\n\u001b[0;32m----> 1\u001b[0;31m \u001b[0mkurt\u001b[0m\u001b[0;34m.\u001b[0m\u001b[0mprint_room\u001b[0m\u001b[0;34m(\u001b[0m\u001b[0;34m)\u001b[0m\u001b[0;34m\u001b[0m\u001b[0m\n\u001b[0m",
      "\u001b[0;32m<ipython-input-47-2e8024c08faf>\u001b[0m in \u001b[0;36mprint_room\u001b[0;34m(self)\u001b[0m\n\u001b[1;32m      9\u001b[0m \u001b[0;34m\u001b[0m\u001b[0m\n\u001b[1;32m     10\u001b[0m     \u001b[0;32mdef\u001b[0m \u001b[0mprint_room\u001b[0m\u001b[0;34m(\u001b[0m\u001b[0mself\u001b[0m\u001b[0;34m)\u001b[0m\u001b[0;34m:\u001b[0m\u001b[0;34m\u001b[0m\u001b[0m\n\u001b[0;32m---> 11\u001b[0;31m         \u001b[0mprint\u001b[0m\u001b[0;34m(\u001b[0m\u001b[0;34m\"{} is in room {}\"\u001b[0m\u001b[0;34m.\u001b[0m\u001b[0mformat\u001b[0m\u001b[0;34m(\u001b[0m\u001b[0mself\u001b[0m\u001b[0;34m.\u001b[0m\u001b[0mname\u001b[0m\u001b[0;34m,\u001b[0m \u001b[0mroom\u001b[0m\u001b[0;34m)\u001b[0m\u001b[0;34m)\u001b[0m\u001b[0;34m\u001b[0m\u001b[0m\n\u001b[0m",
      "\u001b[0;31mNameError\u001b[0m: name 'room' is not defined"
     ]
    }
   ],
   "source": [
    "kurt.print_room()"
   ]
  },
  {
   "cell_type": "markdown",
   "metadata": {},
   "source": [
    "## Still stuff to do:\n",
    "\n",
    "- Methods with extra arguments"
   ]
  },
  {
   "cell_type": "markdown",
   "metadata": {},
   "source": [
    "## Class variables vs instance variables\n",
    "\n",
    "As y"
   ]
  },
  {
   "cell_type": "markdown",
   "metadata": {},
   "source": [
    "## Magic methods"
   ]
  },
  {
   "cell_type": "markdown",
   "metadata": {},
   "source": [
    "## Inheritance OOP"
   ]
  },
  {
   "cell_type": "code",
   "execution_count": null,
   "metadata": {},
   "outputs": [],
   "source": []
  }
 ],
 "metadata": {
  "kernelspec": {
   "display_name": "Python 3",
   "language": "python",
   "name": "python3"
  },
  "language_info": {
   "codemirror_mode": {
    "name": "ipython",
    "version": 3
   },
   "file_extension": ".py",
   "mimetype": "text/x-python",
   "name": "python",
   "nbconvert_exporter": "python",
   "pygments_lexer": "ipython3",
   "version": "3.8.5"
  },
  "latex_envs": {
   "LaTeX_envs_menu_present": true,
   "autoclose": false,
   "autocomplete": true,
   "bibliofile": "biblio.bib",
   "cite_by": "apalike",
   "current_citInitial": 1,
   "eqLabelWithNumbers": true,
   "eqNumInitial": 1,
   "hotkeys": {
    "equation": "Ctrl-E",
    "itemize": "Ctrl-I"
   },
   "labels_anchors": false,
   "latex_user_defs": false,
   "report_style_numbering": false,
   "user_envs_cfg": false
  },
  "toc": {
   "base_numbering": 1,
   "nav_menu": {},
   "number_sections": true,
   "sideBar": true,
   "skip_h1_title": false,
   "title_cell": "Table of Contents",
   "title_sidebar": "Contents",
   "toc_cell": false,
   "toc_position": {},
   "toc_section_display": true,
   "toc_window_display": true
  }
 },
 "nbformat": 4,
 "nbformat_minor": 2
}
