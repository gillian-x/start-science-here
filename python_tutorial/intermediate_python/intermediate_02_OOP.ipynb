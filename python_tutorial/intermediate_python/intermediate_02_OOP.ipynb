{
 "cells": [
  {
   "cell_type": "markdown",
   "metadata": {},
   "source": [
    "Modules\n",
    "\n",
    "Scopes and Namespaces\n",
    "\n",
    "Errors\n",
    "\n",
    "except and finally"
   ]
  },
  {
   "cell_type": "markdown",
   "metadata": {},
   "source": [
    "Intermediate Python\n",
    "\n",
    "File Handling\n",
    "\n",
    "~~Object Oriented Programming~~\n",
    "\n",
    "Iterator, Generator, Decorators\n",
    "\n",
    "~~Lambda Expressions~~\n",
    "\n",
    "map"
   ]
  },
  {
   "cell_type": "markdown",
   "metadata": {},
   "source": [
    "# 02_intermediate_python\n",
    "\n",
    "Open on binder:\n",
    "\n",
    "[![Binder](https://binder.pangeo.io/badge_logo.svg)](https://mybinder.org/v2/gh/kevinsawade/start-science-here/HEAD?urlpath=%2Ftree%2F?filepath=python_tutorial%2Fintermediate_python%2Fintermediate_02_OOP.ipynb)\n",
    "\n",
    "**Call out to Corey Schafer**\n",
    "\n",
    "Lots of the code here is taken from Corey Schafer and his excellent python tutorials. When you are more the video-learning type of person, definitely check out his youtube channel:\n",
    "\n",
    "https://www.youtube.com/user/schafer5"
   ]
  },
  {
   "cell_type": "markdown",
   "metadata": {},
   "source": [
    "## Advanced iteration\n",
    "\n",
    "There are multiple objects than can be iterated. `str`, `list`, and `tuple` are the most common. We will later look at how to make our own object iterable. But first let's go back to the iteration over a list:"
   ]
  },
  {
   "cell_type": "code",
   "execution_count": null,
   "metadata": {},
   "outputs": [],
   "source": [
    "iterable = [0, 1, 5, 'hello', 1.2, (1, 'world')]\n",
    "for i in iterable:\n",
    "    print(i)"
   ]
  },
  {
   "cell_type": "markdown",
   "metadata": {},
   "source": [
    "### Any and all\n",
    "\n",
    "You can use the builtin function `any()` or `all()` to check if any object or all objects are True. Because all objects have a boolean value assigned to them, you can do stuff like this:"
   ]
  },
  {
   "cell_type": "code",
   "execution_count": null,
   "metadata": {
    "ExecuteTime": {
     "end_time": "2020-07-21T21:19:33.315749Z",
     "start_time": "2020-07-21T21:19:33.307286Z"
    }
   },
   "outputs": [],
   "source": [
    "check = any(['', 0, 0.0, None, False, [], {}, ()])\n",
    "print(check)\n",
    "\n",
    "check = any(['', 0, 0.0, None, False, [], ~False])\n",
    "print(check)"
   ]
  },
  {
   "cell_type": "code",
   "execution_count": null,
   "metadata": {
    "ExecuteTime": {
     "end_time": "2020-07-21T21:28:04.145489Z",
     "start_time": "2020-07-21T21:28:04.137655Z"
    }
   },
   "outputs": [],
   "source": [
    "all([True, True, True, True])"
   ]
  },
  {
   "cell_type": "markdown",
   "metadata": {
    "solution2": "hidden",
    "solution2_first": true
   },
   "source": [
    "\\begin{exercise}\n",
    "What does the ~ (tilde) operator do?\n",
    "\\end{exercise}"
   ]
  },
  {
   "cell_type": "markdown",
   "metadata": {
    "solution2": "hidden"
   },
   "source": [
    "Bitwise not. It will, for example invert a binary number and return its compliment."
   ]
  },
  {
   "cell_type": "code",
   "execution_count": null,
   "metadata": {
    "ExecuteTime": {
     "end_time": "2020-07-21T21:27:18.380241Z",
     "start_time": "2020-07-21T21:27:18.373169Z"
    },
    "solution2": "hidden"
   },
   "outputs": [],
   "source": [
    "b = 0b100111111\n",
    "print(bin(b))\n",
    "print(bin(~b))"
   ]
  },
  {
   "cell_type": "markdown",
   "metadata": {},
   "source": [
    "### Combining lists"
   ]
  },
  {
   "cell_type": "code",
   "execution_count": null,
   "metadata": {},
   "outputs": [],
   "source": [
    "iterable2 = [i**2 for i in range(len(iterable))]\n",
    "for i in iterable + iterable2:\n",
    "    print(i)"
   ]
  },
  {
   "cell_type": "markdown",
   "metadata": {},
   "source": [
    "### Enumerate\n",
    "\n",
    "With `enumerate()` we get the ability to get the current iteration count without doing something like this:\n",
    "\n",
    "```python\n",
    "i = 0\n",
    "for j in something:\n",
    "    important_variable = something_else[i]\n",
    "    i += 1\n",
    "```\n",
    "`enumerate()` returns an iterator that gives tuples when it is iterated over."
   ]
  },
  {
   "cell_type": "code",
   "execution_count": null,
   "metadata": {},
   "outputs": [],
   "source": [
    "for tup in enumerate(iterable):\n",
    "    print(tup)"
   ]
  },
  {
   "cell_type": "markdown",
   "metadata": {},
   "source": [
    "The returned tuple can be directly unpacked."
   ]
  },
  {
   "cell_type": "code",
   "execution_count": null,
   "metadata": {},
   "outputs": [],
   "source": [
    "for i, val in enumerate(iterable):\n",
    "    print(f\"Value at {i} is: {val}\")"
   ]
  },
  {
   "cell_type": "markdown",
   "metadata": {},
   "source": [
    "### Zip\n",
    "\n",
    "With `zip()`, two iterables can be iterated through at the same time or they can be iterated one after the other. The number of iterations by zip correspond to the number of elements of the shortest itearable. `zip()` also gives a tuple which can directly unpacked."
   ]
  },
  {
   "cell_type": "markdown",
   "metadata": {},
   "source": [
    "#### Zip through two lists"
   ]
  },
  {
   "cell_type": "code",
   "execution_count": null,
   "metadata": {},
   "outputs": [],
   "source": [
    "for i, j in zip(iterable, iterable2):\n",
    "    print(i, j)"
   ]
  },
  {
   "cell_type": "markdown",
   "metadata": {},
   "source": [
    "#### Zip with enumerate\n",
    "\n",
    "zip and enumerate can be used simultaneously, but you have to watch, how you unpack everything."
   ]
  },
  {
   "cell_type": "code",
   "execution_count": null,
   "metadata": {},
   "outputs": [],
   "source": [
    "for i, (val1, val2) in enumerate(zip(iterable, iterable2)):\n",
    "    print(f\"Value1at {i} is: {val1}. Value2 is {val2}\")"
   ]
  },
  {
   "cell_type": "markdown",
   "metadata": {},
   "source": [
    "#### Constructing a dict from two lists using zip\n",
    "\n",
    "We can construct a dict using zip like this:\n",
    "\n",
    "```python\n",
    "weird_dict = dict(zip(iterable2, iterable))\n",
    "```\n",
    "\n",
    "**BUT**, because normally the keys in a `dict` are `str` we have to make the values in iterable2 to `str`. Let me introduce you to the built-in function `map()`. With `map()` we can map any function to an iterable. `map()` returns a map object. This map object is iterable itself. But if you want to create a list from it, you have to call the `list()` built-in function, which creates lists from iterables.\n",
    "\n",
    "**Showcase of the `list()` built-in function**"
   ]
  },
  {
   "cell_type": "code",
   "execution_count": null,
   "metadata": {},
   "outputs": [],
   "source": [
    "list('Hello world!')"
   ]
  },
  {
   "cell_type": "markdown",
   "metadata": {},
   "source": [
    "**Map the bui-in function `str()` to the iterable2 list**"
   ]
  },
  {
   "cell_type": "code",
   "execution_count": null,
   "metadata": {},
   "outputs": [],
   "source": [
    "tmp = map(str, iterable2)\n",
    "print(tmp)\n",
    "tmp = list(tmp)\n",
    "print(tmp)"
   ]
  },
  {
   "cell_type": "markdown",
   "metadata": {},
   "source": [
    "**Finally. Built the dict**"
   ]
  },
  {
   "cell_type": "code",
   "execution_count": null,
   "metadata": {},
   "outputs": [],
   "source": [
    "weird_dict = dict(zip(tmp, iterable))\n",
    "print(weird_dict)\n",
    "print(weird_dict['9'])"
   ]
  },
  {
   "cell_type": "markdown",
   "metadata": {},
   "source": [
    "### Map\n",
    "\n",
    "The builtin function `map()` applies a function to every element of an iterable. Python3.x returns a map object (This is done for performance reasons. The execution of the function `square()` is halted until the result is truly needed. This saves memory and computation time, especially, if you only want to use the first n items). To create a list from this, pass it to the `list()` builtin."
   ]
  },
  {
   "cell_type": "code",
   "execution_count": null,
   "metadata": {
    "ExecuteTime": {
     "end_time": "2020-07-20T09:20:59.538322Z",
     "start_time": "2020-07-20T09:20:59.530521Z"
    }
   },
   "outputs": [],
   "source": [
    "def square(num):\n",
    "    return num **2\n",
    "\n",
    "map(square, [1, 2, 3, 4])"
   ]
  },
  {
   "cell_type": "code",
   "execution_count": null,
   "metadata": {
    "ExecuteTime": {
     "end_time": "2020-07-20T09:21:12.034937Z",
     "start_time": "2020-07-20T09:21:12.025777Z"
    }
   },
   "outputs": [],
   "source": [
    "list(map(square, [1, 2, 3, 4]))"
   ]
  },
  {
   "cell_type": "code",
   "execution_count": null,
   "metadata": {
    "ExecuteTime": {
     "end_time": "2020-07-20T09:20:58.457383Z",
     "start_time": "2020-07-20T09:20:56.574280Z"
    }
   },
   "outputs": [],
   "source": [
    "%%timeit\n",
    "map(square, [1, 2, 3, 4])"
   ]
  },
  {
   "cell_type": "code",
   "execution_count": null,
   "metadata": {
    "ExecuteTime": {
     "end_time": "2020-07-20T09:20:50.993501Z",
     "start_time": "2020-07-20T09:20:39.966449Z"
    }
   },
   "outputs": [],
   "source": [
    "%%timeit\n",
    "list(map(square, [1, 2, 3, 4]))"
   ]
  },
  {
   "cell_type": "markdown",
   "metadata": {},
   "source": [
    "### Filter\n",
    "\n",
    "Instead of mapping a function to be applied to every element. You can give a function, that either returns `True` or `False`. Elements which would cause the function to return False are dropped from the iterable."
   ]
  },
  {
   "cell_type": "code",
   "execution_count": null,
   "metadata": {
    "ExecuteTime": {
     "end_time": "2020-07-20T09:25:11.237883Z",
     "start_time": "2020-07-20T09:25:11.226064Z"
    }
   },
   "outputs": [],
   "source": [
    "strings = ['Spam', 'Foo', 'Cat', 'Bar', 'Noodles', 'Parrot', 'List', 'Hello', 'Window', 'World']\n",
    "\n",
    "def filter_programmer_humor(inp):\n",
    "    humor = ['spam', 'foo', 'bar', 'parrot', 'hello', 'world']\n",
    "    if inp.lower() in humor:\n",
    "        return False\n",
    "    else:\n",
    "        return True\n",
    "    \n",
    "list(filter(filter_programmer_humor, strings))"
   ]
  },
  {
   "cell_type": "markdown",
   "metadata": {},
   "source": [
    "### Reduce\n",
    "\n",
    "Reduce is a function from the functools builtin library. It provides powerful rolling computation for something that you would use a for-loop otherwise.\n",
    "\n",
    "That way, you can calculate the geometric mean of a set of numbers."
   ]
  },
  {
   "cell_type": "code",
   "execution_count": null,
   "metadata": {
    "ExecuteTime": {
     "end_time": "2020-07-20T09:35:27.101508Z",
     "start_time": "2020-07-20T09:35:27.090511Z"
    }
   },
   "outputs": [],
   "source": [
    "from functools import reduce\n",
    "\n",
    "def multiplication(x, y):\n",
    "    return x * y\n",
    "\n",
    "values = [1, 2, 3, 4, 5, 6]\n",
    "\n",
    "print(reduce(multiplication, values) ** (1/len(values)))"
   ]
  },
  {
   "cell_type": "markdown",
   "metadata": {},
   "source": [
    "### Even more advanced iteration, combination, permutation (package: itertools)\n",
    "\n",
    "Check out the built-in package `itertools` to get more iterators, like combinations and permutations."
   ]
  },
  {
   "cell_type": "markdown",
   "metadata": {},
   "source": [
    "## Advanced functions \\*args and \\*\\*kwargs\n",
    "\n",
    "If you've looked at some python code, you've certainly come across these two expressions. Let's demystify them.\n",
    "\n",
    "Taken from: https://realpython.com/python-kwargs-and-args/\n",
    "\n",
    "The \\*args argument in a function definition allows any number of arguments to be passed. Additional to a defined number of arguments declared beforehand."
   ]
  },
  {
   "cell_type": "code",
   "execution_count": null,
   "metadata": {},
   "outputs": [],
   "source": [
    "def summation(prt, *args):\n",
    "    \"\"\"Prints the first argument and sums the remaining args.\"\"\"\n",
    "    print(f\"Argument prt got value: {prt}\")\n",
    "    out = 0\n",
    "    for i in args:\n",
    "        out += i\n",
    "    return out\n",
    "        \n",
    "summation('I think. At some point you should take a break', 2, 3, 5, 6, 7)"
   ]
  },
  {
   "cell_type": "markdown",
   "metadata": {},
   "source": [
    "We can supply any arguments from iterables by unpacking them in the function call."
   ]
  },
  {
   "cell_type": "code",
   "execution_count": null,
   "metadata": {},
   "outputs": [],
   "source": [
    "summation(*range(120))"
   ]
  },
  {
   "cell_type": "markdown",
   "metadata": {},
   "source": [
    "The unpacking elements can be calles whatever, but it is advised to use \\*args and \\*\\*kwargs"
   ]
  },
  {
   "cell_type": "code",
   "execution_count": null,
   "metadata": {},
   "outputs": [],
   "source": [
    "employee_numbers = {'Nancy': 20, 'Keith': 5, 'Sandra': 10, 'Ben': 5}\n",
    "department_members = ['Nancy', 'Keith', 'Richard']\n",
    "\n",
    "def add_department(members, **kwargs):\n",
    "    \"\"\"Adds numbers belonging to department members.\"\"\"\n",
    "    sum_ = 0\n",
    "    for member in kwargs:\n",
    "        print(f\"{member} is in department.\")\n",
    "        if member in department_members:\n",
    "            sum_ = sum_ + kwargs[member]\n",
    "    return sum_\n",
    "            \n",
    "add_department(department_members, **employee_numbers, Richard=7)"
   ]
  },
  {
   "cell_type": "markdown",
   "metadata": {},
   "source": [
    "There's a lot going on in the last cell. Let's summarize it:\n",
    "\n",
    "- The first line defines a dictionary with multiple employees and some numbers belonging to them.\n",
    "- The second line defines a list of strings. The members of a specific department.\n",
    "\n",
    "- After the docstring in the function a variable called sum_ is set to zero. The trailing underscore is added, so the built-in function `sum()` is not overwritten with the value zero.\n",
    "- The members in the kwargs argument are iterated over.\n",
    "- An if-check is made to see whether the member is in the list members.\n",
    "- If that's the case the value of the key is added to sum_\n",
    "\n",
    "When the function was called an impromptu employee was added as a keyworded argument. He also gets passed into the `for member in kwargs` for-loop."
   ]
  },
  {
   "cell_type": "markdown",
   "metadata": {},
   "source": [
    "### Overwriting default values\n",
    "\n",
    "The \\*\\*kwargs can be used to define standard values for the function, which convienently can be overwritten by an input \\*\\*kwargs."
   ]
  },
  {
   "cell_type": "code",
   "execution_count": null,
   "metadata": {},
   "outputs": [],
   "source": [
    "department_members = ['Nancy', 'Keith', 'Richard', 'Ben']\n",
    "\n",
    "def calculate_new_salary(member, **kwargs):\n",
    "    \"\"\"Calculate new salaries for employees.\"\"\"\n",
    "    defaults = {'payment': 50000, 'increase': 1.05}\n",
    "    for key in kwargs:\n",
    "        if key not in defaults and not isinstance(kwargs[key], int):\n",
    "            raise ValueError(f\"Can't parse arguments {key}\")\n",
    "            \n",
    "    # replace values in default with kwargs\n",
    "    data = {**defaults, **kwargs}\n",
    "    pay = data['payment']\n",
    "    increase = data['increase']\n",
    "    \n",
    "    # get the remaining **kwargs not in defaults\n",
    "    boni = sum([value for key, value in data.items() if key not in defaults])\n",
    "    \n",
    "    new_salary = int(pay * increase + boni)\n",
    "    print(f\"{member} gets {new_salary} €.\")\n",
    "            \n",
    "for member in department_members:\n",
    "    calculate_new_salary(member)\n",
    "    \n",
    "calculate_new_salary('Greg, the manager', payment=10000, increase=1.15)\n",
    "\n",
    "calculate_new_salary('John, the CEO', payment=150000, increase=1.05, bonus1=5000, bonus2=8500)\n",
    "            \n",
    "# add_department(department_members, **employee_numbers, Richard=7)"
   ]
  },
  {
   "cell_type": "markdown",
   "metadata": {},
   "source": [
    "## Advanced Classes OOP\n",
    "\n",
    "The strength of python lies in the easy creation of new classes and their object-oriented nature.\n",
    "\n",
    "**Why OOP?**\n",
    "\n",
    "- Modularity for easier troubleshooting\n",
    "- Reuse of code through inheritance\n",
    "- Flexibility through polymorphism\n",
    "- Effective problem solving\n"
   ]
  },
  {
   "cell_type": "markdown",
   "metadata": {},
   "source": [
    "### Instance variables\n",
    "\n",
    "There are class variables and instance variables. Consider this example with a class defining an employee. Let's start at the most basic level:"
   ]
  },
  {
   "cell_type": "code",
   "execution_count": null,
   "metadata": {},
   "outputs": [],
   "source": [
    "class Employee:\n",
    "    pass\n",
    "\n",
    "emp1 = Employee()\n",
    "emp2 = Employee()\n",
    "\n",
    "emp1.first = 'Diana'\n",
    "emp1.last = 'Prince'\n",
    "emp1.email = 'diana.price@company.com'\n",
    "emp1.pay = 5000\n",
    "\n",
    "emp2.first = 'Clark'\n",
    "emp2.last = 'Kent'\n",
    "emp2.email = 'clark.kene@company.com'\n",
    "emp2.pay = 6000\n",
    "\n",
    "print(emp1, emp2)\n",
    "print(emp1.first, emp1.last, emp1.email, emp1.pay)\n",
    "print(emp2.first, emp2.last, emp2.email, emp2.pay)"
   ]
  },
  {
   "cell_type": "markdown",
   "metadata": {},
   "source": [
    "What we have done here is:\n",
    "- Created a class called Employee.\n",
    "- Created two instances of this class (`emp1` and `emp2`), also called instantiating.\n",
    "- Created some variables of these instances (variables of instances are also called attributes).\n",
    "\n",
    "Instead of setting the instance variables, tediously one after the other for all instances, we can define a placeholder for the current instance in our classes. By convention the instance is called `self` and this instance needs to be the first argument to all methods in our class. The next step is thus:"
   ]
  },
  {
   "cell_type": "code",
   "execution_count": null,
   "metadata": {},
   "outputs": [],
   "source": [
    "class Employee:\n",
    "    \n",
    "    def __init__(self, first, last):\n",
    "        self.first = first\n",
    "        self.last = last\n",
    "        \n",
    "emp1 = Employee('Diana', 'Price')\n",
    "emp2 = Employee('Clark', 'Kent')\n",
    "\n",
    "print(emp1.first, emp1.last)\n",
    "print(emp2.first, emp2.last)"
   ]
  },
  {
   "cell_type": "markdown",
   "metadata": {},
   "source": [
    "Notice how we saved some lines. Also notice how we assigned the input arguments `first` and `last` to the instance variables `self.first` and `self.last`. Wihtout these `self`s, the variables would not be accessible from outside of the method inside the class. We will now add the email and the pay to `__init__(self)`:"
   ]
  },
  {
   "cell_type": "code",
   "execution_count": null,
   "metadata": {},
   "outputs": [],
   "source": [
    "class Employee:\n",
    "    \n",
    "    def __init__(self, first, last, pay):\n",
    "        self.first = first\n",
    "        self.last = last\n",
    "        self.pay = pay\n",
    "        self.email = f'{first.lower()}.{last.lower()}@company.com'\n",
    "        \n",
    "emp1 = Employee('Diana', 'Price', 5000)\n",
    "emp2 = Employee('Clark', 'Kent', 6000)\n",
    "\n",
    "print(emp1.email)\n",
    "print(emp2.email)"
   ]
  },
  {
   "cell_type": "markdown",
   "metadata": {},
   "source": [
    "Now let's say we want to perform some actions with our classes. This is done by methods. These methods are like functions inside the scope of a class. And they always take the instance (convention `self`) as first argument. Let's say we want to print the full name of an employee:"
   ]
  },
  {
   "cell_type": "code",
   "execution_count": null,
   "metadata": {},
   "outputs": [],
   "source": [
    "class Employee:\n",
    "    \n",
    "    def __init__(self, first, last, pay):\n",
    "        self.first = first\n",
    "        self.last = last\n",
    "        self.pay = pay\n",
    "        self.email = f'{first.lower()}.{last.lower()}@company.com'\n",
    "        \n",
    "    def fullname(self):\n",
    "        return f'{self.first} {self.last}'\n",
    "    \n",
    "emp1 = Employee('Diana', 'Price', 5000)\n",
    "emp2 = Employee('Clark', 'Kent', 6000)\n",
    "\n",
    "print(emp1.fullname())\n",
    "print(emp2.fullname())"
   ]
  },
  {
   "cell_type": "markdown",
   "metadata": {},
   "source": [
    "This might look confusing, because we don't pass any arguments into the `fullname()` method of the `emp1` instance. but as previously said, **Class methods automatically take the instance as first arguemnt**. What is really happening is this:"
   ]
  },
  {
   "cell_type": "code",
   "execution_count": null,
   "metadata": {},
   "outputs": [],
   "source": [
    "emp1 = Employee('Diana', 'Price', 5000)\n",
    "fullname = Employee.fullname(emp1)\n",
    "print(fullname)"
   ]
  },
  {
   "cell_type": "markdown",
   "metadata": {},
   "source": [
    "Here, we provided the instance (`emp1`) to the method `fullname()` of the `Employee` class and because the `Employee` class is not an instance, we need to provide the instance ourselves."
   ]
  },
  {
   "cell_type": "markdown",
   "metadata": {},
   "source": [
    "### Class variables\n",
    "\n",
    "Class variables are shared between all instances of the class. Let's say our company raises the payout every year and always by a factor. That would be a good idea to put into a class variable. Let's first try to hardcode the raise with instance variables and see why class variables are better later."
   ]
  },
  {
   "cell_type": "code",
   "execution_count": null,
   "metadata": {},
   "outputs": [],
   "source": [
    "class Employee:\n",
    "    \n",
    "    def __init__(self, first, last, pay):\n",
    "        self.first = first\n",
    "        self.last = last\n",
    "        self.pay = pay\n",
    "        self.email = f'{first.lower()}.{last.lower()}@company.com'\n",
    "        \n",
    "    def fullname(self):\n",
    "        return f'{self.first} {self.last}'\n",
    "    \n",
    "    def apply_raise(self):\n",
    "        self.pay = int(self.pay * 1.04)\n",
    "        \n",
    "emp1 = Employee('Diana', 'Price', 5000)\n",
    "emp2 = Employee('Clark', 'Kent', 6000)\n",
    "\n",
    "print(emp1.pay)\n",
    "emp1.apply_raise()\n",
    "print(emp1.pay)"
   ]
  },
  {
   "cell_type": "markdown",
   "metadata": {},
   "source": [
    "Let's say we want to alter the raise factor by doing something like:\n",
    "\n",
    "```python\n",
    "emp1.raise_amount\n",
    "Employee.raise_amount\n",
    "```\n",
    "\n",
    "This 4% raise amount (times 1.04) can easily set as an class variable. Inside the `apply_raise()` mehtod we could either use the instance (`self`):\n",
    "\n",
    "```python\n",
    "def apply_raise(self):\n",
    "    self.pay = int(self.pay * self.raise_amount)\n",
    "```\n",
    "\n",
    "or use the class `Employee` itself:\n",
    "\n",
    "```python\n",
    "def apply_raise(self):\n",
    "    self.pay = int(self.pay * Employee.raise_amount)\n",
    "```\n",
    "\n",
    "Which is better?\n",
    "\n",
    "Depends.\n",
    "\n",
    "The first one would allow us to increase the `pay_amount` of one Employee:"
   ]
  },
  {
   "cell_type": "code",
   "execution_count": null,
   "metadata": {},
   "outputs": [],
   "source": [
    "class Employee:\n",
    "    \n",
    "    raise_amount = 1.04\n",
    "    \n",
    "    def __init__(self, first, last, pay):\n",
    "        self.first = first\n",
    "        self.last = last\n",
    "        self.pay = pay\n",
    "        self.email = f'{first.lower()}.{last.lower()}@company.com'\n",
    "        \n",
    "    def fullname(self):\n",
    "        return f'{self.first} {self.last}'\n",
    "    \n",
    "    def apply_raise(self):\n",
    "        self.pay = int(self.pay * self.raise_amount)\n",
    "        \n",
    "emp1 = Employee('Diana', 'Price', 5000)\n",
    "emp2 = Employee('Clark', 'Kent', 6000)\n",
    "\n",
    "print(Employee.raise_amount)\n",
    "print(emp1.raise_amount)\n",
    "print(emp2.raise_amount)\n",
    "\n",
    "emp1.raise_amount = 1.06\n",
    "\n",
    "print(Employee.raise_amount)\n",
    "print(emp1.raise_amount)\n",
    "print(emp2.raise_amount)"
   ]
  },
  {
   "cell_type": "markdown",
   "metadata": {},
   "source": [
    "The second one would allow us to increase the `raise_amount` of all employees at the same time."
   ]
  },
  {
   "cell_type": "code",
   "execution_count": 23,
   "metadata": {},
   "outputs": [
    {
     "name": "stdout",
     "output_type": "stream",
     "text": [
      "1.04\n",
      "1.04\n",
      "1.04\n",
      "1.06\n",
      "1.06\n",
      "1.06\n"
     ]
    }
   ],
   "source": [
    "class Employee:\n",
    "    \n",
    "    raise_amount = 1.04\n",
    "    \n",
    "    def __init__(self, first, last, pay):\n",
    "        self.first = first\n",
    "        self.last = last\n",
    "        self.pay = pay\n",
    "        self.email = f'{first.lower()}.{last.lower()}@company.com'\n",
    "        \n",
    "    def fullname(self):\n",
    "        return f'{self.first} {self.last}'\n",
    "    \n",
    "    def apply_raise(self):\n",
    "        self.pay = int(self.pay * Employee.raise_amount)\n",
    "        \n",
    "emp1 = Employee('Diana', 'Price', 5000)\n",
    "emp2 = Employee('Clark', 'Kent', 6000)\n",
    "\n",
    "print(Employee.raise_amount)\n",
    "print(emp1.raise_amount)\n",
    "print(emp2.raise_amount)\n",
    "\n",
    "Employee.raise_amount = 1.06\n",
    "\n",
    "print(Employee.raise_amount)\n",
    "print(emp1.raise_amount)\n",
    "print(emp2.raise_amount)"
   ]
  },
  {
   "cell_type": "markdown",
   "metadata": {},
   "source": [
    "As a second example for class variables, where it makes no sense to use the instance `self` as a namespace, but the class would be a counter that counts how many instances there are of one class."
   ]
  },
  {
   "cell_type": "code",
   "execution_count": null,
   "metadata": {},
   "outputs": [],
   "source": [
    "class Employee:\n",
    "    \n",
    "    raise_amount = 1.04\n",
    "    num_of_emps = 0\n",
    "    \n",
    "    def __init__(self, first, last, pay):\n",
    "        self.first = first\n",
    "        self.last = last\n",
    "        self.pay = pay\n",
    "        self.email = f'{first.lower()}.{last.lower()}@company.com'\n",
    "        Employee.num_of_employees += 1\n",
    "        \n",
    "    def fullname(self):\n",
    "        return f'{self.first} {self.last}'\n",
    "    \n",
    "    def apply_raise(self):\n",
    "        self.pay = int(self.pay * self.raise_amount)\n",
    "        \n",
    "emp1 = Employee('Diana', 'Price', 5000)\n",
    "emp2 = Employee('Clark', 'Kent', 6000)\n",
    "emp3 = Employee('Wade', 'Wilson', -20)\n",
    "\n",
    "print(Employee.num_of_emps)"
   ]
  },
  {
   "cell_type": "markdown",
   "metadata": {},
   "source": [
    "### Classmethods and static methods\n",
    "\n",
    "Regular methods (also the `__init__()` method) take the instance of the class as first argument. By convention, we call the instance of the class inside the class itself `self`, but other variables are possible. There are, however some special decorators (more on decorators later) that you can use to circumvent this.\n",
    "\n",
    "Class methods take the class as first argument (per convention `cls`) and return a new instance of the class, with something altered. For example, the raise_amount:"
   ]
  },
  {
   "cell_type": "code",
   "execution_count": null,
   "metadata": {},
   "outputs": [],
   "source": [
    "class Employee:\n",
    "    \n",
    "    raise_amount = 1.04\n",
    "    num_of_emps = 0\n",
    "    \n",
    "    def __init__(self, first, last, pay):\n",
    "        self.first = first\n",
    "        self.last = last\n",
    "        self.pay = pay\n",
    "        self.email = f\"{self.first.lower()}.{self.last.lower()}@company.com\"\n",
    "        \n",
    "        # change the class variable of the Employee class everytime __init__ is called\n",
    "        Employee.num_of_emps += 1\n",
    "        \n",
    "    def fullname(self):\n",
    "        return f\"{self.first} {self.last}\"\n",
    "    \n",
    "    def apply_raise(self):\n",
    "        self.pay = int(self.pay * self.raise_amount)\n",
    "        \n",
    "    @classmethod\n",
    "    def set_raise_amount(cls, amount):\n",
    "        cls.raise_amount = amount\n",
    "    \n",
    "\n",
    "emp1 = Employee('Clark', 'Kent', 50000)\n",
    "emp2 = Employee('Bruce', 'Wayne', 60000)\n",
    "print(emp1.pay, emp2.pay)\n",
    "emp1.apply_raise(); emp2.apply_raise()\n",
    "print(emp1.pay, emp2.pay, '\\n')\n",
    "\n",
    "# Apply changes class-wide\n",
    "Employee.set_raise_amount(1.1)\n",
    "emp1 = Employee('Clark', 'Kent', 50000)\n",
    "emp2 = Employee('Bruce', 'Wayne', 60000)\n",
    "print(emp1.pay, emp2.pay)\n",
    "emp1.apply_raise(); emp2.apply_raise()\n",
    "print(emp1.pay, emp2.pay)"
   ]
  },
  {
   "cell_type": "markdown",
   "metadata": {},
   "source": [
    "**Classes with different constructors**\n",
    "\n",
    "Let's say, we want to create new employees from a string of the type: firstname-lastname-pay. We use the split() method of the string object to split it based on the hyphens.\n",
    "\n",
    "We use a class method for this alternate constructor. Per convention, these methods start with *from*"
   ]
  },
  {
   "cell_type": "code",
   "execution_count": null,
   "metadata": {},
   "outputs": [],
   "source": [
    "str1 = 'Clark-Kent-50000'\n",
    "str2 = 'Bruce-Wayne-60000'\n",
    "\n",
    "first, last, pay = str1.split('-')\n",
    "print(first, last, pay)"
   ]
  },
  {
   "cell_type": "code",
   "execution_count": null,
   "metadata": {},
   "outputs": [],
   "source": [
    "class Employee:\n",
    "    \n",
    "    raise_amount = 1.04\n",
    "    num_of_emps = 0\n",
    "    \n",
    "    def __init__(self, first, last, pay):\n",
    "        self.first = first\n",
    "        self.last = last\n",
    "        self.pay = pay\n",
    "        self.email = f\"{self.first.lower()}.{self.last.lower()}@company.com\"\n",
    "        \n",
    "        # change the class variable of the Employee class everytime __init__ is called\n",
    "        Employee.num_of_emps += 1\n",
    "        \n",
    "    def fullname(self):\n",
    "        return f\"{self.first} {self.last}\"\n",
    "    \n",
    "    def apply_raise(self):\n",
    "        self.pay = int(self.pay * self.raise_amount)\n",
    "        \n",
    "    @classmethod\n",
    "    def set_raise_amount(cls, amount):\n",
    "        cls.raise_amount = amount\n",
    "        \n",
    "    @classmethod\n",
    "    def from_string(cls, employee_string):\n",
    "        first, last, pay = employee_string.split('-')\n",
    "        return cls(first, last, pay)\n",
    "    \n",
    "emp1 = Employee('Clark', 'Kent', 50000)\n",
    "emp2 = Employee.from_string('Bruce-Wayne-60000')\n",
    "\n",
    "print(emp1.email, emp2.email)"
   ]
  },
  {
   "cell_type": "markdown",
   "metadata": {},
   "source": [
    "**Static method decorator**\n",
    "\n",
    "If there's a method inside a class, that would also make sense outside the scope of the class, you can make it a static method. This static method can now be called directly from the class without having to create an instance. Note, how there is no `self` or `cls` in the `is_workday()` static method.\n",
    "\n",
    "A good giveaway, whether a method should be a staticmethod is, when you don't access the class, or the instance."
   ]
  },
  {
   "cell_type": "code",
   "execution_count": null,
   "metadata": {},
   "outputs": [],
   "source": [
    "class Employee:\n",
    "    \n",
    "    raise_amount = 1.04\n",
    "    num_of_emps = 0\n",
    "    \n",
    "    def __init__(self, first, last, pay):\n",
    "        self.first = first\n",
    "        self.last = last\n",
    "        self.pay = pay\n",
    "        self.email = f\"{self.first.lower()}.{self.last.lower()}@company.com\"\n",
    "        \n",
    "        # change the class variable of the Employee class everytime __init__ is called\n",
    "        Employee.num_of_emps += 1\n",
    "        \n",
    "    def fullname(self):\n",
    "        return f\"{self.first} {self.last}\"\n",
    "    \n",
    "    def apply_raise(self):\n",
    "        self.pay = int(self.pay * self.raise_amount)\n",
    "        \n",
    "    @classmethod\n",
    "    def set_raise_amount(cls, amount):\n",
    "        cls.raise_amount = amount\n",
    "        \n",
    "    @classmethod\n",
    "    def from_string(cls, employee_string):\n",
    "        first, last, pay = employee_string.split('-')\n",
    "        return cls(first, last, pay)\n",
    "    \n",
    "    @staticmethod\n",
    "    def is_workday(day):\n",
    "        if day.weekday() == 5 or day.weekday() == 6:\n",
    "            return False\n",
    "        return True\n",
    "    \n",
    "import datetime\n",
    "my_date = datetime.date(2016, 7, 10)\n",
    "print(Employee.is_workday(my_date))\n",
    "\n",
    "emp1 = Employee.from_string('Clark-Kent-50000')\n",
    "my_date = datetime.date(2016, 7, 11)\n",
    "print(emp1.is_workday(my_date))"
   ]
  },
  {
   "cell_type": "markdown",
   "metadata": {},
   "source": [
    "### Inheritance\n",
    "\n",
    "Inheritance allows us to inherit attribnutes and method of parent classes into child classes and overwrite attributes and methods as we like. Let's say we want to create different type of employees: developers and managers. Both have names and emails. So we can reuse the code from the `Employee` class. With parentheses after the `class` statement we can inherit from other classes."
   ]
  },
  {
   "cell_type": "code",
   "execution_count": null,
   "metadata": {},
   "outputs": [],
   "source": [
    "class Employee:\n",
    "    \n",
    "    raise_amount = 1.04\n",
    "    \n",
    "    def __init__(self, first, last, pay):\n",
    "        self.first = first\n",
    "        self.last = last\n",
    "        self.pay = pay\n",
    "        self.email = f'{first.lower()}.{last.lower()}@company.com'\n",
    "        \n",
    "    def fullname(self):\n",
    "        return f'{self.first} {self.last}'\n",
    "    \n",
    "    def apply_raise(self):\n",
    "        self.pay = int(self.pay * self.raise_amount)\n",
    "        \n",
    "        \n",
    "class Developer(Employee):\n",
    "    pass\n",
    "        \n",
    "        \n",
    "dev1 = Developer('Diana', 'Price', 5000)\n",
    "dev2 = Developer('Clark', 'Kent', 6000)\n",
    "\n",
    "print(dev1.email)\n",
    "print(dev2.email)"
   ]
  },
  {
   "cell_type": "markdown",
   "metadata": {},
   "source": [
    "We want to customize our child classes. Let's first see, what happens, if we raise the pay of developers."
   ]
  },
  {
   "cell_type": "code",
   "execution_count": null,
   "metadata": {},
   "outputs": [],
   "source": [
    "print(dev1.pay)\n",
    "dev1.apply_raise()\n",
    "print(dev1.pay)"
   ]
  },
  {
   "cell_type": "markdown",
   "metadata": {},
   "source": [
    "Let's say we want out Developers to have a higher `raise_amount`:"
   ]
  },
  {
   "cell_type": "code",
   "execution_count": null,
   "metadata": {},
   "outputs": [],
   "source": [
    "class Developer(Employee):\n",
    "    raise_amount = 1.1\n",
    "    pass\n",
    "\n",
    "dev1 = Developer('Diana', 'Price', 5000)\n",
    "print(dev1.pay)\n",
    "dev1.apply_raise()\n",
    "print(dev1.pay)"
   ]
  },
  {
   "cell_type": "markdown",
   "metadata": {},
   "source": [
    "You can see, that the pay increased by 10%. Our Employees are untouched by this change. Let's make a few more changes. Let's say we have additional information for Developers, like their current programming language. Instead of writing a completely new function (the `email` attribute and the `fullname()` methoud should stay the same), we can give the `Developer` class its own `__init__()` method."
   ]
  },
  {
   "cell_type": "code",
   "execution_count": null,
   "metadata": {},
   "outputs": [],
   "source": [
    "class Developer(Employee):\n",
    "    \n",
    "    raise_amount = 1.1\n",
    "    \n",
    "    def __init__(self, first, last, pay, prog_lang):\n",
    "        super().__init__(first, last, pay)\n",
    "        self.prog_lang = prog_lang"
   ]
  },
  {
   "cell_type": "markdown",
   "metadata": {},
   "source": [
    "With the `super().__init__()` method, we make the `Employee` class handle the pay and email and everything that happens in the `__init__()` method of the `Employee` class. The `Developer` class then does its own stuff with the `prog_lang`."
   ]
  },
  {
   "cell_type": "code",
   "execution_count": null,
   "metadata": {},
   "outputs": [],
   "source": [
    "dev1 = Developer('Diana', 'Price', 5000, 'python')\n",
    "dev2 = Developer('Clark', 'Kent', 6000, 'java')\n",
    "\n",
    "print(dev1.email)\n",
    "print(dev1.prog_lang)"
   ]
  },
  {
   "cell_type": "markdown",
   "metadata": {},
   "source": [
    "**Let's look at another example using class inheritance**"
   ]
  },
  {
   "cell_type": "code",
   "execution_count": null,
   "metadata": {},
   "outputs": [],
   "source": [
    "class Polygon:\n",
    "    def __init__(self, no_of_sides):\n",
    "        self.n = no_of_sides\n",
    "        self.sides = [0 for i in range(self.n)]\n",
    "        print(f\"{self.__class__.__name__} init.\")\n",
    "        \n",
    "    def inputSides(self, *args):\n",
    "        # take an undefined number of args\n",
    "        if args:\n",
    "            self.sides = [i for i in args]\n",
    "        else:\n",
    "            self.sides = [float(input(f\"Enter {self.__class__.__name__}'s side {i+1} length: \")) for i in range(self.n)]\n",
    "        \n",
    "    def dispSides(self):\n",
    "        for i in range(self.n):\n",
    "            print(f\"Side {i+1} of {self.__class__.__name__} is {self.sides[i]} length units long.\")\n",
    "            \n",
    "    def _findArea(self):\n",
    "        raise Exception(\"Area of arbitrary Polygon not defined.\")\n",
    "            \n",
    "    def printArea(self):\n",
    "        self._findArea()\n",
    "        print(f\"The area of the {self.__class__.__name__.lower()} is {self.area:.2f} area units.\")"
   ]
  },
  {
   "cell_type": "code",
   "execution_count": null,
   "metadata": {},
   "outputs": [],
   "source": [
    "quadrilateral = Polygon(4)\n",
    "quadrilateral.inputSides(7, 8, 9, 19)\n",
    "quadrilateral.dispSides()"
   ]
  },
  {
   "cell_type": "markdown",
   "metadata": {},
   "source": [
    "The Triangle class inherits from the Polygon class.\n",
    "\n",
    "In the Triangle class' `__init__()` method, the `__init__()` method of the parent class needs to be called, this can be done with either:\n",
    "\n",
    "```python\n",
    "class Child(Base):\n",
    "    def __init__(self):\n",
    "        Base.__init__(self)\n",
    "    ...\n",
    "    ...\n",
    "```\n",
    "\n",
    "However, if we do it this way, the lookup for methods might get scrambled, when we have multiple inheritances (So a Base class, a Child_A class, that inherits from Base and a Child_B class, that inherits from Child_A). With the builtin `super()` method that Method-Resolution-Order (MRO) is like expected: First look for the method in Child_B, then Child_A, then Base.\n",
    "\n",
    "```python\n",
    "class Child(Base):\n",
    "    def __init__(self):\n",
    "        super().__init__()\n",
    "    ...\n",
    "    ...\n",
    "```"
   ]
  },
  {
   "cell_type": "code",
   "execution_count": null,
   "metadata": {},
   "outputs": [],
   "source": [
    "class Triangle(Polygon):\n",
    "    def __init__(self):\n",
    "        super().__init__(3) # pass 3 to the parent class' __init__\n",
    "        \n",
    "    def _findArea(self):\n",
    "        a, b, c = self.sides\n",
    "        s = (a + b + c) / 2\n",
    "        self.area = (s*(s-a)*(s-b)*(s-c)) ** 0.5"
   ]
  },
  {
   "cell_type": "code",
   "execution_count": null,
   "metadata": {},
   "outputs": [],
   "source": [
    "tri = Triangle()\n",
    "tri.inputSides(2, 3, 4)\n",
    "tri.printArea()"
   ]
  },
  {
   "cell_type": "markdown",
   "metadata": {},
   "source": [
    "Let's create a rectangle and include checks for the side lengths."
   ]
  },
  {
   "cell_type": "code",
   "execution_count": null,
   "metadata": {},
   "outputs": [],
   "source": [
    "class Rectangle(Polygon):\n",
    "    def __init__(self):\n",
    "        super().__init__(4) # pass 4 to the parent class' __init__\n",
    "        \n",
    "    def inputSides(self, *args):\n",
    "        # check the length of the sides\n",
    "        if args:\n",
    "            assert args[0] == args[2], \"Side a and c of a rectangle need to be of equal length.\"\n",
    "            assert args[1] == args[3], \"Side b and d of a rectangle need to be of equal length.\"\n",
    "        super().inputSides(*args) # call the parent class' inputSides() method.\n",
    "        \n",
    "    def _findArea(self):\n",
    "        self.area = self.sides[0] * self.sides[1]"
   ]
  },
  {
   "cell_type": "code",
   "execution_count": null,
   "metadata": {},
   "outputs": [],
   "source": [
    "rect = Rectangle()\n",
    "rect.inputSides(2, 3, 2, 3)\n",
    "rect.printArea()"
   ]
  },
  {
   "cell_type": "markdown",
   "metadata": {},
   "source": [
    "There are some checks builtin to class inheritance for your convenience."
   ]
  },
  {
   "cell_type": "code",
   "execution_count": null,
   "metadata": {},
   "outputs": [],
   "source": [
    "print(isinstance(tri, Triangle)) # standard isinstance builtin function\n",
    "\n",
    "print(issubclass(Rectangle, Polygon)) # there is also a issubclass() builtin\n",
    "\n",
    "print(issubclass(bool, int)) # interestingly, bool is a subclass of int. Whomst'd've !"
   ]
  },
  {
   "cell_type": "markdown",
   "metadata": {},
   "source": [
    "### Double under methods\n",
    "\n",
    "These double under methods also called magic methods allow our classes to work with some builtin functions and also use operator overloading. Here is a short overview over these so-called dunder methods:"
   ]
  },
  {
   "cell_type": "markdown",
   "metadata": {},
   "source": [
    "#### Creation \\_\\_new\\_\\_\n",
    "\n",
    "The `__new__` method can be used to either execute the class' `__init__` method or not. Sometimes you don't want to instantiate an instance from a class, because of something. You can control that with the `__new__` method. It takes the class (convention `cls`) as first argument and needs all other arguments, that `__init__` also takes."
   ]
  },
  {
   "cell_type": "code",
   "execution_count": null,
   "metadata": {},
   "outputs": [],
   "source": [
    "class Shape:\n",
    "    def __new__(cls, sides, *args, **kwargs):\n",
    "        if sides == 3:\n",
    "            return Triangle(*args, **kwargs)\n",
    "        else:\n",
    "            return Square(*args, **kwargs)\n",
    "        \n",
    "        \n",
    "class Triangle:\n",
    "    def __init__(self, base, height):\n",
    "        self.base = base\n",
    "        self.height = height\n",
    " \n",
    "    def area(self):\n",
    "        return (self.base * self.height) / 2\n",
    " \n",
    " \n",
    "class Square:\n",
    "    def __init__(self, length):\n",
    "        self.length = length\n",
    " \n",
    "    def area(self):\n",
    "        return self.length*self.length\n",
    " \n",
    " \n",
    "a = Shape(sides=3, base=2, height=12)\n",
    "b = Shape(sides=4, length=2)\n",
    " \n",
    "print(str(a.__class__))\n",
    "print(a.area())\n",
    " \n",
    "print(str(b.__class__))\n",
    "print(b.area())"
   ]
  },
  {
   "cell_type": "markdown",
   "metadata": {},
   "source": [
    "#### Representation \\_\\_str\\_\\_ and \\_\\_repr\\_\\_\n",
    "\n",
    "The `__str__()` and `__repr__()` Methods are what's called when the class is printed and returned, respectively."
   ]
  },
  {
   "cell_type": "code",
   "execution_count": null,
   "metadata": {
    "ExecuteTime": {
     "end_time": "2020-07-22T06:59:07.549882Z",
     "start_time": "2020-07-22T06:59:07.541980Z"
    }
   },
   "outputs": [],
   "source": [
    "class MyClass:\n",
    "    def __init__(self, integer=1):\n",
    "        self.int = integer\n",
    "        pass\n",
    "    \n",
    "    def __repr__(self):\n",
    "        return \"<%s at memory address 0x%02x>\" % (self.__str__(), id(self))\n",
    "    \n",
    "    def __str__(self):\n",
    "        return f'Instance of MyClass. Contains the integer {self.int}.'\n",
    "    \n",
    "myclass = MyClass()\n",
    "print(myclass)"
   ]
  },
  {
   "cell_type": "code",
   "execution_count": null,
   "metadata": {
    "ExecuteTime": {
     "end_time": "2020-07-22T06:59:12.567674Z",
     "start_time": "2020-07-22T06:59:12.546522Z"
    }
   },
   "outputs": [],
   "source": [
    "myclass"
   ]
  },
  {
   "cell_type": "markdown",
   "metadata": {},
   "source": [
    "#### Types \\_\\_bool\\_\\_\n",
    "\n",
    "You can assign your custom class a boolean value:"
   ]
  },
  {
   "cell_type": "code",
   "execution_count": null,
   "metadata": {},
   "outputs": [],
   "source": [
    "class Items:\n",
    "    def __init__(self, items=None):\n",
    "        if items is None:\n",
    "            self.items = []\n",
    "        else:\n",
    "            self.items = items\n",
    "            \n",
    "    def __bool__(self):\n",
    "        return len(self.items) != 0\n",
    "    \n",
    "items1 = Items()\n",
    "items2 = Items(['pen', 'book', 'binder'])\n",
    "\n",
    "print(bool(items1))\n",
    "print(bool(items2))"
   ]
  },
  {
   "cell_type": "markdown",
   "metadata": {},
   "source": [
    "#### Indexing \\_\\_len\\_\\_ , \\_\\_getitem\\_\\_ and \\_\\_reversed\\_\\_\n",
    "\n",
    "With these dunder methods you can make your items iterable `for item in iterable`, indexable `class[index]` and also let the buildin function `reversed()` act on your classes."
   ]
  },
  {
   "cell_type": "code",
   "execution_count": null,
   "metadata": {},
   "outputs": [],
   "source": [
    "class MyClass:\n",
    "    def __init__(self, some_numbers):\n",
    "        # sort the numbers into negative and postive numbers\n",
    "        self.positive = [i for i in some_numbers if i >= 0]\n",
    "        self.negative = [i for i in some_numbers if i < 0]\n",
    "        \n",
    "    def __len__(self):\n",
    "        \"\"\"Gives the length of positive and negative numbers.\"\"\"\n",
    "        return len(self.positive) + len(self.negative)\n",
    "    \n",
    "    def __getitem__(self, key):\n",
    "        \"\"\"-1 gives negative numbers, +1 gives positive.\n",
    "        Otherwise this __getitem__ is pretty stupid.\n",
    "        \n",
    "        \"\"\"\n",
    "        if key == -1:\n",
    "            return self.negative\n",
    "        elif key == 1:\n",
    "            return self.positive\n",
    "        else:\n",
    "            raise IndexError(f'MyClass index can either be -1 or 1. You provided {key}')\n",
    "            \n",
    "    def __reversed__(self):\n",
    "        \"\"\"Return a new instance with negative and positives swapped.\n",
    "        Also a pretty stupid idea.\n",
    "        \n",
    "        \"\"\"\n",
    "        new_instance = MyClass(self.positive + self.negative)\n",
    "        new_instance.negative, new_instance.positive = self.positive, self.negative\n",
    "        return new_instance"
   ]
  },
  {
   "cell_type": "code",
   "execution_count": null,
   "metadata": {},
   "outputs": [],
   "source": [
    "my_numbers = [-5, -7, 0, 1, 5, -10, 15, -4, -2, -5, 5, 10]\n",
    "\n",
    "myclass = MyClass(my_numbers)\n",
    "\n",
    "print(len(myclass), len(my_numbers))\n",
    "print(myclass[-1])\n",
    "print(myclass[1])\n",
    "\n",
    "notmyclass = reversed(myclass)\n",
    "print(notmyclass[-1])"
   ]
  },
  {
   "cell_type": "markdown",
   "metadata": {},
   "source": [
    "#### Comparing \\_\\_eq\\_\\_ and \\_\\_lt\\_\\_ and so on.\n",
    "\n",
    "With these dunder methods you can use the comparison operators with your custom classes."
   ]
  },
  {
   "cell_type": "code",
   "execution_count": null,
   "metadata": {},
   "outputs": [],
   "source": [
    "class Animal:\n",
    "    \n",
    "    animal_weights = {'blue whale': 136000, 'giraffe': 800, 'polar bear': 475,\n",
    "                      'red deer': 200, 'tiger': 120, 'cheetah': 54, 'chimpanzee': 45,\n",
    "                      'coyote': 14, 'nutria': 8}\n",
    "    \n",
    "    def __init__(self, animal):\n",
    "        self.animal = animal\n",
    "        self.weight = Animal.animal_weights[animal]\n",
    "        \n",
    "    def __eq__(self, other):\n",
    "        return self.weight == other.weight\n",
    "    \n",
    "    def __lt__(self, other):\n",
    "        return self.weight < other.weight\n",
    "    \n",
    "    def __gt__(self, other):\n",
    "        return self.weight > other.weight\n",
    "    \n",
    "    def __ge__(self, other):\n",
    "        return self.weight >= other.weight\n",
    "    \n",
    "    def __le__(self, other):\n",
    "        return self.weight <= other.weight\n",
    "    \n",
    "    def __ne__(self, other):\n",
    "        return self.weight != other.weight\n",
    "    \n",
    "animal1 = Animal('blue whale')\n",
    "animal2 = Animal('polar bear')\n",
    "animal3 = Animal('nutria')\n",
    "animal4 = Animal('polar bear')\n",
    "\n",
    "print(animal1 == animal2)\n",
    "print(animal1 > animal2)\n",
    "print(animal1 < animal2)\n",
    "print(animal2 == animal4)\n",
    "print(animal2 >= animal4)\n",
    "print(animal2 <= animal4)"
   ]
  },
  {
   "cell_type": "markdown",
   "metadata": {},
   "source": [
    "#### Merging \\_\\_add\\_\\_ \n",
    "\n",
    "With this dunder method, you can combine two custom classes:"
   ]
  },
  {
   "cell_type": "code",
   "execution_count": null,
   "metadata": {},
   "outputs": [],
   "source": [
    "class Herd:\n",
    "    def __init__(self, animals):\n",
    "        self.animals = animals\n",
    "        self.weight = sum([animal.weight for animal in animals])\n",
    "        \n",
    "    def __add__(self, other):\n",
    "        if isinstance(other, Herd):\n",
    "            animals = self.animals + other.animals\n",
    "        if isinstance(other, HerdAnimal):\n",
    "            animals = self.animals + [other]\n",
    "        return Herd(animals)\n",
    "    \n",
    "    def __str__(self):\n",
    "        return f\"Herd with {len(self.animals)} animals\"\n",
    "        \n",
    "class HerdAnimal(Animal):\n",
    "    def __add__(self, other):\n",
    "        return Herd([self, other])\n",
    "    \n",
    "stag = HerdAnimal('red deer')\n",
    "stag.weight = 220\n",
    "hind = HerdAnimal('red deer')\n",
    "hind.weight = 180\n",
    "\n",
    "herd = stag + hind\n",
    "print(herd)\n",
    "\n",
    "herd += Herd([HerdAnimal('red deer') for i in range(5)])\n",
    "print(herd)"
   ]
  },
  {
   "cell_type": "markdown",
   "metadata": {},
   "source": [
    "#### Callable objects \\_\\_call\\_\\_ \n",
    "\n",
    "You can call instances. Calls are always done by parentheses `()` in python. Just like when you call functions."
   ]
  },
  {
   "cell_type": "code",
   "execution_count": 89,
   "metadata": {},
   "outputs": [
    {
     "name": "stdout",
     "output_type": "stream",
     "text": [
      "2.0\n"
     ]
    }
   ],
   "source": [
    "class Division:\n",
    "    def __init__(self, dividend):\n",
    "        self.dividend = dividend\n",
    "        \n",
    "    def __call__(self, x):\n",
    "        return self.dividend / x\n",
    "    \n",
    "div = Division(10)\n",
    "print(div(5))"
   ]
  },
  {
   "cell_type": "markdown",
   "metadata": {},
   "source": [
    "#### Context Manager \\_\\_enter\\_\\_ and \\_\\_exit\\_\\_\n",
    "\n",
    "To open files in python you can do something like this:\n",
    "\n",
    "```python\n",
    "f = open(\"test.txt\")\n",
    "data = f.read()\n",
    "f.close()\n",
    "line1 = data[0]\n",
    "...\n",
    "...\n",
    "\n",
    "However, you might already have come across this syntax:\n",
    "\n",
    "```python\n",
    "with open(\"test.txt\") as f:\n",
    "    data = f.read()\n",
    "# more code\n",
    "line1 = data[0]\n",
    "...\n",
    "...\n",
    "```\n",
    "\n",
    "This is the new syntax, which replaces the old `open()` and `close()` builtin function and file-object method. The `with` expression starts what is called a context manager. Context managers are used when you want to free up system resources. Opened file objects and opened databases for example don't need to stay in memory once the needed information has been extracted. Context managers also come in handy, because on linux systems the number of concurrently opened files is limited to 1024. To create a context manager for your class you need to add some magic, dunder methods.\n",
    "\n",
    "Take a close look at how the `__enter__()` method returns the self instance of the class. This is the instance of the class, that will be used inside the context manager.\n",
    "\n",
    "The arguments in the `__exit__()` method are used to deal with Exceptions. Take note, how instance variables are deleted to free up space."
   ]
  },
  {
   "cell_type": "code",
   "execution_count": null,
   "metadata": {
    "ExecuteTime": {
     "end_time": "2020-07-21T22:01:21.830008Z",
     "start_time": "2020-07-21T22:01:21.815610Z"
    }
   },
   "outputs": [],
   "source": [
    "class MyContextManager:\n",
    "    def __init__(self):\n",
    "        print('Init called')\n",
    "        \n",
    "    def __enter__(self):\n",
    "        print(\"Enter method called. Populating scope...\")\n",
    "        self.int = 1\n",
    "        self.str = 'Tim the Enchanter!'\n",
    "        self.large_variable = [i*2 for i in range(1000)]\n",
    "        return self\n",
    "        \n",
    "    def __exit__(self, exc_type, exc_value, exc_traceback):\n",
    "        print('Exit method called.')\n",
    "        del self.int\n",
    "        del self.str\n",
    "        del self.large_variable\n",
    "        \n",
    "    def divide_by_zero_err(self):\n",
    "        return self.int / 0\n",
    "        \n",
    "with MyContextManager() as manager:\n",
    "    print(\"Inside Context\")\n",
    "    print(manager.large_variable[20])"
   ]
  },
  {
   "cell_type": "markdown",
   "metadata": {},
   "source": [
    "The instance variables str, int, and large_variable have been deleted, once the context is closed."
   ]
  },
  {
   "cell_type": "code",
   "execution_count": null,
   "metadata": {
    "ExecuteTime": {
     "end_time": "2020-07-21T22:01:53.788516Z",
     "start_time": "2020-07-21T22:01:53.776369Z"
    }
   },
   "outputs": [],
   "source": [
    "manager.str"
   ]
  },
  {
   "cell_type": "markdown",
   "metadata": {},
   "source": [
    "What about the exc_type arguments? Those are to make sure the `__exit__()` method is called, although some Exception is encountered in the context manager. First the method with the arguments"
   ]
  },
  {
   "cell_type": "markdown",
   "metadata": {},
   "source": [
    "#### Iteration \\_\\_iter\\_\\_ and \\_\\_next\\_\\_\n",
    "\n",
    "These methods allow you to iterate over something in your custom class."
   ]
  },
  {
   "cell_type": "code",
   "execution_count": null,
   "metadata": {},
   "outputs": [],
   "source": [
    "from string import ascii_letters, ascii_uppercase\n",
    "\n",
    "class Alphabet:\n",
    "    def __init__(self, alphabet=ascii_letters):\n",
    "        self.alphabet = alphabet\n",
    "        self._max = 24\n",
    "        \n",
    "    def __iter__(self):\n",
    "        self._index = 0\n",
    "        return self\n",
    "    \n",
    "    def __next__(self):\n",
    "        if self._index >= self._max:\n",
    "            raise StopIteration\n",
    "        else:\n",
    "            self._index += 1\n",
    "            return self._index - 1, self.alphabet[self._index - 1]\n",
    "        \n",
    "alphabet1 = Alphabet()\n",
    "alphabet2 = Alphabet(ascii_uppercase)\n",
    "\n",
    "for number, letter in alphabet1:\n",
    "    print(number, letter)\n",
    "    \n",
    "for number, letter in alphabet2:\n",
    "    print(number, letter)"
   ]
  },
  {
   "cell_type": "markdown",
   "metadata": {},
   "source": [
    "## Further keywords"
   ]
  },
  {
   "cell_type": "code",
   "execution_count": null,
   "metadata": {},
   "outputs": [],
   "source": [
    "import keyword\n",
    "print(keyword.kwlist)"
   ]
  },
  {
   "cell_type": "markdown",
   "metadata": {},
   "source": [
    "### Recap: Builtins\n",
    "\n",
    "Don't confuse these Keywords with the builtin-functions, that you can access via:\n",
    "\n",
    "(The filter function drops the Error, Warnings and Exception, we'll look into later)"
   ]
  },
  {
   "cell_type": "code",
   "execution_count": null,
   "metadata": {
    "ExecuteTime": {
     "end_time": "2020-07-20T15:28:46.496655Z",
     "start_time": "2020-07-20T15:28:46.487095Z"
    }
   },
   "outputs": [],
   "source": [
    "def drop_err_warn_exc(string):\n",
    "    if not any(i in string for i in ['Error', 'Warning', 'Exception']):\n",
    "        return True\n",
    "\n",
    "non_error_builtins = list(filter(drop_err_warn_exc, [builtin for builtin in dir(__builtins__)]))\n",
    "print(non_error_builtins)"
   ]
  },
  {
   "cell_type": "markdown",
   "metadata": {
    "solution2": "hidden",
    "solution2_first": true
   },
   "source": [
    "\\begin{problem}\n",
    "Why does the `drop_err_warn_exc()` function work without explicitly returning `False`?\n",
    "\\end{problem}"
   ]
  },
  {
   "cell_type": "markdown",
   "metadata": {
    "solution2": "hidden"
   },
   "source": [
    "Every python function returns `None` by default, which boolean value is False. If the function has been completely executed and nothing has been returned yet, a `None` will be returned."
   ]
  },
  {
   "cell_type": "markdown",
   "metadata": {},
   "source": [
    "### Accidentally overwritten Builtins\n",
    "\n",
    "You may find yourself in a situation, where you have accidentally overwritten one of the builtin functions. To restore them, you can simply use the `del` keyword to delete the variable, thus freeing up the namespace to be occupied again by the builtin."
   ]
  },
  {
   "cell_type": "code",
   "execution_count": null,
   "metadata": {
    "ExecuteTime": {
     "end_time": "2020-07-20T15:28:13.143780Z",
     "start_time": "2020-07-20T15:28:13.137654Z"
    }
   },
   "outputs": [],
   "source": [
    "print(sum)\n",
    "sum = 'Run away!'\n",
    "print(sum)\n",
    "del sum\n",
    "print(sum)"
   ]
  },
  {
   "cell_type": "markdown",
   "metadata": {},
   "source": [
    "## Lambda expressions\n",
    "\n",
    "Lambda expressions are used to generate fast 'throwaway' functions. The general syntax is as follows:\n",
    "\n",
    "```python\n",
    "func = lambda var: expression_with(var)\n",
    "square = lambda x: x **2\n",
    "```\n",
    "\n",
    "For multiple arguments use this syntax:\n",
    "```python\n",
    "multiplication = lambda x, y: x * y\n",
    "```\n",
    "\n",
    "If you want your lambda function to return `True` or `False` for a `filter()` function call, for example, you can use syntax similar to this:\n",
    "\n",
    "```python\n",
    "contains_vowels = lambda x: True if not any(s in x for s in ['a', 'e', 'i', 'o', 'u']) else False\n",
    "```"
   ]
  },
  {
   "cell_type": "code",
   "execution_count": null,
   "metadata": {
    "ExecuteTime": {
     "end_time": "2020-07-20T15:33:18.399060Z",
     "start_time": "2020-07-20T15:33:18.391881Z"
    }
   },
   "outputs": [],
   "source": [
    "func = lambda var: var**2\n",
    "func(2)"
   ]
  },
  {
   "cell_type": "code",
   "execution_count": 3,
   "metadata": {
    "ExecuteTime": {
     "end_time": "2020-07-21T21:14:59.095053Z",
     "start_time": "2020-07-21T21:14:59.071415Z"
    }
   },
   "outputs": [
    {
     "data": {
      "text/plain": [
       "False"
      ]
     },
     "execution_count": 3,
     "metadata": {},
     "output_type": "execute_result"
    }
   ],
   "source": [
    "contains_vowels = lambda x: True if not any(s in x for s in ['a', 'e', 'i', 'o', 'u']) else False\n",
    "contains_vowels('Hello')"
   ]
  },
  {
   "cell_type": "code",
   "execution_count": 1,
   "metadata": {
    "ExecuteTime": {
     "end_time": "2020-07-21T21:14:04.662296Z",
     "start_time": "2020-07-21T21:14:04.652186Z"
    }
   },
   "outputs": [
    {
     "name": "stdout",
     "output_type": "stream",
     "text": [
      "['Ellipsis', 'False', 'GeneratorExit', 'KeyboardInterrupt', 'None', 'NotImplemented', 'StopAsyncIteration', 'StopIteration', 'SystemExit', 'True', '__IPYTHON__', '__build_class__', '__debug__', '__doc__', '__import__', '__loader__', '__name__', '__package__', '__spec__', 'abs', 'all', 'any', 'ascii', 'bin', 'bool', 'bytearray', 'bytes', 'callable', 'chr', 'classmethod', 'compile', 'complex', 'copyright', 'credits', 'delattr', 'dict', 'dir', 'display', 'divmod', 'enumerate', 'eval', 'exec', 'filter', 'float', 'format', 'frozenset', 'get_ipython', 'getattr', 'globals', 'hasattr', 'hash', 'help', 'hex', 'id', 'input', 'int', 'isinstance', 'issubclass', 'iter', 'len', 'license', 'list', 'locals', 'map', 'max', 'memoryview', 'min', 'next', 'object', 'oct', 'open', 'ord', 'pow', 'print', 'property', 'range', 'repr', 'reversed', 'round', 'set', 'setattr', 'slice', 'sorted', 'staticmethod', 'str', 'sum', 'super', 'tuple', 'type', 'vars', 'zip']\n"
     ]
    }
   ],
   "source": [
    "filter_func = lambda string: True if not any(i in string for i in ['Error', 'Warning', 'Exception']) else False\n",
    "\n",
    "non_error_builtins = list(filter(filter_func ,[builtin for builtin in dir(__builtins__)]))\n",
    "\n",
    "print(non_error_builtins)"
   ]
  },
  {
   "cell_type": "markdown",
   "metadata": {},
   "source": [
    "## Global and Nonlocal -> Scope and Namespace\n",
    "\n",
    "Python's namespace is the mapping from object to name. So if we call:\n",
    "\n",
    "```python\n",
    "a = 2\n",
    "```\n",
    "\n",
    "we map an object (remember: everything in python is an object) called `int`, or integer to the variable `a`. This creates a name, that is accessible in the global namespace. The namespaces are sorted hierarchically and you can remember them with the abbreviation LEGB for Local - Enclosing - Global - Built-in. \n",
    "\n",
    "<img src=\"nested-namespaces-python.jpg\" alt=\"Drawing\" style=\"width: 400px;\"/>\n",
    "\n",
    "\n",
    "\n",
    "*Scope* is a term which describes which namespace a call looks into. A function call can for example look into the Built-in namespace (you can call `list()` from within a function, without declaring it. Top-level calls (like code in jupyter cells) can't look into a function's namespace. Their scope is limited to the Global and Built-in namespace.\n",
    "\n",
    "Let's get into some examples...\n",
    "We declare a global variable called x and assign it a string object."
   ]
  },
  {
   "cell_type": "code",
   "execution_count": null,
   "metadata": {
    "ExecuteTime": {
     "end_time": "2020-07-21T07:08:29.506378Z",
     "start_time": "2020-07-21T07:08:29.500264Z"
    }
   },
   "outputs": [],
   "source": [
    "x = 'global x'\n",
    "\n",
    "def test():\n",
    "    print(x)\n",
    "    \n",
    "test()"
   ]
  },
  {
   "cell_type": "markdown",
   "metadata": {},
   "source": [
    "The function `test()` has access to the global variable x."
   ]
  },
  {
   "cell_type": "code",
   "execution_count": null,
   "metadata": {
    "ExecuteTime": {
     "end_time": "2020-07-21T07:09:17.479167Z",
     "start_time": "2020-07-21T07:09:17.394083Z"
    }
   },
   "outputs": [],
   "source": [
    "x = 'global x'\n",
    "\n",
    "def test():\n",
    "    y = 5\n",
    "    print(x, y)\n",
    "\n",
    "test()\n",
    "print(x, y)"
   ]
  },
  {
   "cell_type": "markdown",
   "metadata": {},
   "source": [
    "The global scope (including the global and builtin namespace) can't access teh variable y, unless..."
   ]
  },
  {
   "cell_type": "code",
   "execution_count": null,
   "metadata": {
    "ExecuteTime": {
     "end_time": "2020-07-21T07:10:10.207871Z",
     "start_time": "2020-07-21T07:10:10.199241Z"
    }
   },
   "outputs": [],
   "source": [
    "x = 'global x'\n",
    "\n",
    "def test():\n",
    "    global y\n",
    "    y = 5\n",
    "    print(x, y)\n",
    "\n",
    "test()\n",
    "print(x, y)"
   ]
  },
  {
   "cell_type": "markdown",
   "metadata": {},
   "source": [
    "We declare y to be a global variable.\n",
    "\n",
    "Arguments to functions are also part of the function's scope and won't be accessible to the outside."
   ]
  },
  {
   "cell_type": "code",
   "execution_count": null,
   "metadata": {
    "ExecuteTime": {
     "end_time": "2020-07-21T07:13:11.918296Z",
     "start_time": "2020-07-21T07:13:11.911284Z"
    }
   },
   "outputs": [],
   "source": [
    "x = 'global x'\n",
    "\n",
    "def test(z):\n",
    "    x = 'local x' # overwrite global\n",
    "    print(x, z)\n",
    "\n",
    "test('local z')"
   ]
  },
  {
   "cell_type": "markdown",
   "metadata": {},
   "source": [
    "### What is the enclosing scope?\n",
    "\n",
    "The enclosing scope is used for nested functions. Here is a simple example of nested functions. Note the call `inner()` of the inner function."
   ]
  },
  {
   "cell_type": "code",
   "execution_count": null,
   "metadata": {
    "ExecuteTime": {
     "end_time": "2020-07-21T07:18:06.321075Z",
     "start_time": "2020-07-21T07:18:06.312984Z"
    }
   },
   "outputs": [],
   "source": [
    "# global namespace\n",
    "x = 'global x'\n",
    "\n",
    "def outer():\n",
    "    # local namespace\n",
    "    x = 'outer x'\n",
    "    \n",
    "    def inner():\n",
    "        # enclosed namespace\n",
    "        x = 'inner x'\n",
    "        print(x)\n",
    "        \n",
    "    inner()\n",
    "    print(x)\n",
    "    \n",
    "outer()"
   ]
  },
  {
   "cell_type": "markdown",
   "metadata": {},
   "source": [
    "Similar to top-level functions, the inner function has access to the outer functions namespace. We can look at this by commenting out the `x = 'inner x'` statement."
   ]
  },
  {
   "cell_type": "code",
   "execution_count": null,
   "metadata": {
    "ExecuteTime": {
     "end_time": "2020-07-21T07:18:11.781799Z",
     "start_time": "2020-07-21T07:18:11.773347Z"
    }
   },
   "outputs": [],
   "source": [
    "x = 'global x'\n",
    "\n",
    "def outer():\n",
    "    x = 'outer x'\n",
    "    \n",
    "    def inner():\n",
    "        # x = 'inner x'\n",
    "        print(x)\n",
    "        \n",
    "    inner()\n",
    "    print(x)\n",
    "    \n",
    "outer()"
   ]
  },
  {
   "cell_type": "markdown",
   "metadata": {},
   "source": [
    "And here's where the `nonlocal` keyword comes into play. The `nonlocal` keyword overwrites the outer functions variable but leaves the global variable unchanged."
   ]
  },
  {
   "cell_type": "code",
   "execution_count": null,
   "metadata": {
    "ExecuteTime": {
     "end_time": "2020-07-21T07:23:25.399041Z",
     "start_time": "2020-07-21T07:23:25.390132Z"
    }
   },
   "outputs": [],
   "source": [
    "x = 'global x'\n",
    "\n",
    "def outer():\n",
    "    x = 'outer x'\n",
    "    print(x)\n",
    "    def inner():\n",
    "        nonlocal x\n",
    "        x = 'inner x'\n",
    "        print(x)\n",
    "        \n",
    "    inner()\n",
    "    print(x)\n",
    "    \n",
    "outer()\n",
    "print(x)"
   ]
  },
  {
   "cell_type": "markdown",
   "metadata": {},
   "source": [
    "The keyword `global` however, does not affect the local scope of the function `outer()`"
   ]
  },
  {
   "cell_type": "code",
   "execution_count": null,
   "metadata": {
    "ExecuteTime": {
     "end_time": "2020-07-21T07:39:14.716643Z",
     "start_time": "2020-07-21T07:39:14.707585Z"
    }
   },
   "outputs": [],
   "source": [
    "x = 'global x'\n",
    "\n",
    "def outer():\n",
    "    x = 'outer x'\n",
    "    print(x)\n",
    "    def inner():\n",
    "        global x\n",
    "        x = 'inner x'\n",
    "        print(x)\n",
    "        \n",
    "    inner()\n",
    "    print(x)\n",
    "    \n",
    "outer()\n",
    "print(x)"
   ]
  },
  {
   "cell_type": "markdown",
   "metadata": {},
   "source": [
    "## Generators and yield\n",
    "\n",
    "Generators are your way of making python a little bit faster. We've already seen how the builtins `range()` and `map()` don't actually return a list. They also use generators to keep the calculation of something on hold until it is really needed.\n",
    "\n",
    "```python\n",
    ">>> out = map(func, [1, 2, 3, 4])\n",
    ">>> print(out)\n",
    "<map object at 0x7f2d5c4385c0>\n",
    "```\n",
    "\n",
    "We can create our own generators using the `yield` keyword. Consider this example. We have a function that returns a list of square numbers. And the generator function, making use of the `yield` keyword. Let's say we want to find out, which number's square is greater than 100."
   ]
  },
  {
   "cell_type": "code",
   "execution_count": null,
   "metadata": {
    "ExecuteTime": {
     "end_time": "2020-07-21T09:13:48.875909Z",
     "start_time": "2020-07-21T09:13:48.862135Z"
    }
   },
   "outputs": [],
   "source": [
    "def square_iterator(nums):\n",
    "    result = []\n",
    "    for i in nums:\n",
    "        result.append(i * i)\n",
    "    return result\n",
    "\n",
    "def square_generator(nums):\n",
    "    for i in nums:\n",
    "        yield i * i"
   ]
  },
  {
   "cell_type": "code",
   "execution_count": null,
   "metadata": {
    "ExecuteTime": {
     "end_time": "2020-07-21T09:18:22.440911Z",
     "start_time": "2020-07-21T09:18:22.431200Z"
    }
   },
   "outputs": [],
   "source": [
    "greater_than = 50\n",
    "my_nums = [1, 2, 3, 4, 5, 6, 7, 8, 9, 10, 11, 12, 13, 14, 15]\n",
    "my_squares = square_iterator(my_nums)\n",
    "index = list(map(lambda x: True if x > greater_than else False, my_squares)).index(True)\n",
    "print(f\"The first integer whose square is greater than {greater_than} is '{my_nums[index]}'. The square is '{my_squares[index]}'\")"
   ]
  },
  {
   "cell_type": "markdown",
   "metadata": {},
   "source": [
    "The function call `square_iterator(my_nums)` makes python calculate the square of all the nums in the list `my_nums`. However, it would be great if we can just stop the calculation when we reach 100, without writing a new function (that is writing a function specifically for the purpose of finding this number. A function which returns the squares of a list has a much broader application).\n",
    "\n",
    "For this we need to actually make the generator calculate stuff, because right now, it only returns a generator object."
   ]
  },
  {
   "cell_type": "code",
   "execution_count": null,
   "metadata": {
    "ExecuteTime": {
     "end_time": "2020-07-21T09:19:41.488384Z",
     "start_time": "2020-07-21T09:19:41.482673Z"
    }
   },
   "outputs": [],
   "source": [
    "generator = square_generator(my_nums)\n",
    "print(generator)"
   ]
  },
  {
   "cell_type": "markdown",
   "metadata": {},
   "source": [
    "The generator is ready to take the next result. For this, we'll use the `next()` builtin function."
   ]
  },
  {
   "cell_type": "code",
   "execution_count": null,
   "metadata": {
    "ExecuteTime": {
     "end_time": "2020-07-21T09:20:18.834342Z",
     "start_time": "2020-07-21T09:20:18.827368Z"
    }
   },
   "outputs": [],
   "source": [
    "next(generator)"
   ]
  },
  {
   "cell_type": "code",
   "execution_count": null,
   "metadata": {
    "ExecuteTime": {
     "end_time": "2020-07-21T09:20:25.340779Z",
     "start_time": "2020-07-21T09:20:25.333621Z"
    }
   },
   "outputs": [],
   "source": [
    "next(generator)"
   ]
  },
  {
   "cell_type": "code",
   "execution_count": null,
   "metadata": {
    "ExecuteTime": {
     "end_time": "2020-07-21T09:20:40.243205Z",
     "start_time": "2020-07-21T09:20:40.236808Z"
    }
   },
   "outputs": [],
   "source": [
    "next(generator)"
   ]
  },
  {
   "cell_type": "markdown",
   "metadata": {},
   "source": [
    "What happens, when we reach the end of the `my_nums` list?"
   ]
  },
  {
   "cell_type": "code",
   "execution_count": null,
   "metadata": {
    "ExecuteTime": {
     "end_time": "2020-07-21T09:21:34.262486Z",
     "start_time": "2020-07-21T09:21:34.246584Z"
    }
   },
   "outputs": [],
   "source": [
    "generator = square_generator(my_nums)\n",
    "while True:\n",
    "    print(next(generator))"
   ]
  },
  {
   "cell_type": "markdown",
   "metadata": {},
   "source": [
    "We get a StopIteration Exception (More on Errors later). The generator has been **exhausted**.\n",
    "\n",
    "This is a very important differentiation between iterators (lists, tuples, dicts) and generators. Generators can become **exhausted**. Once all calculations have been done with the generator no values can be accessed any further.\n",
    "\n",
    "However, generators can still be used as iterables in for loops. The StopIteration Exception automatically terminates the for loop. In this next example the result of the `square_generator()` function call is not assigned to a variable. This way we don't have to worry about exhaustion."
   ]
  },
  {
   "cell_type": "code",
   "execution_count": null,
   "metadata": {
    "ExecuteTime": {
     "end_time": "2020-07-21T09:24:52.772423Z",
     "start_time": "2020-07-21T09:24:52.762331Z"
    }
   },
   "outputs": [],
   "source": [
    "for i in square_generator(my_nums):\n",
    "    print(i)"
   ]
  },
  {
   "cell_type": "markdown",
   "metadata": {},
   "source": [
    "With this, we can accelerate the search above. This function is much faster than the one above.\n",
    "\n",
    "By defining the variable my_nums with a generator, rather than a list `[1, 2, 3, 4, 5, 6, ...]` we can save time by not typing the list explicitly. And we can pass as great a number, as we like into the greater_than variable."
   ]
  },
  {
   "cell_type": "code",
   "execution_count": null,
   "metadata": {
    "ExecuteTime": {
     "end_time": "2020-07-21T09:34:39.490696Z",
     "start_time": "2020-07-21T09:34:39.479680Z"
    }
   },
   "outputs": [],
   "source": [
    "def int_generator():\n",
    "    i = 0\n",
    "    while True:\n",
    "        yield i\n",
    "        i += 1\n",
    "\n",
    "my_nums = int_generator()\n",
    "generator = square_generator(my_nums)\n",
    "i = 0\n",
    "greater_than = 50000\n",
    "while True:\n",
    "    value = next(generator)\n",
    "    if value > greater_than:\n",
    "        break\n",
    "    i += 1\n",
    "    \n",
    "print(f\"The first integer whose square is greater than {greater_than} is '{i}'. The square is '{value}'\")"
   ]
  },
  {
   "cell_type": "markdown",
   "metadata": {},
   "source": [
    "## Exceptions\n",
    "\n",
    "The time has finally come to talk about Exceptions, Errors, Warnings and Exception Handling.\n",
    "\n",
    "The words Exception and Error are often used interchangeably. However, it is pretty clear, that Exception is the base class. All other Exceptions are Errors, that inherit from Exception."
   ]
  },
  {
   "cell_type": "code",
   "execution_count": null,
   "metadata": {
    "ExecuteTime": {
     "end_time": "2020-07-21T10:46:41.578604Z",
     "start_time": "2020-07-21T10:46:41.571370Z"
    }
   },
   "outputs": [],
   "source": [
    "issubclass(NotImplementedError, Exception)"
   ]
  },
  {
   "cell_type": "markdown",
   "metadata": {},
   "source": [
    "So Exception is the base class. How can we use it. We can use the builtin class Exception to stop the Execution of some code."
   ]
  },
  {
   "cell_type": "code",
   "execution_count": null,
   "metadata": {
    "ExecuteTime": {
     "end_time": "2020-07-21T10:52:08.005179Z",
     "start_time": "2020-07-21T10:52:07.983404Z"
    }
   },
   "outputs": [],
   "source": [
    "def integer_addition(*args):\n",
    "    out = 0\n",
    "    for i in args:\n",
    "        if not isinstance(i, int):\n",
    "            raise Exception(f\"All provided types need to be <int>, you provided <{i.__class__.__name__}>.\")\n",
    "        out += i\n",
    "    return out\n",
    "\n",
    "integer_addition(1, 2, 3, 4, 5, ['this is a list'])"
   ]
  },
  {
   "cell_type": "markdown",
   "metadata": {},
   "source": [
    "It would be clearer, if we substituted *Exception* with *TypeError*, to make it more clear, what exactly made our function stop: A wrong type."
   ]
  },
  {
   "cell_type": "markdown",
   "metadata": {},
   "source": [
    "### Assert\n",
    "\n",
    "The keyword assert allows us to save some space by putting the is expression and the raise of an Exception onto the same line.\n",
    "\n",
    "Assert is often used for small checks and the Description (the part that gives more info about the Error) is often omitted."
   ]
  },
  {
   "cell_type": "code",
   "execution_count": null,
   "metadata": {
    "ExecuteTime": {
     "end_time": "2020-07-21T11:06:38.883184Z",
     "start_time": "2020-07-21T11:06:38.861694Z"
    }
   },
   "outputs": [],
   "source": [
    "def integer_addition(*args):\n",
    "    out = 0\n",
    "    for i in args:\n",
    "        assert isinstance(i, int), f\"All provided types need to be <class 'int'>, you provided <class '{i.__class__.__name__}'>.\"\n",
    "        out += i\n",
    "    return out\n",
    "\n",
    "integer_addition(1, 2, 3, 4, 5, ['this is a list'])"
   ]
  },
  {
   "cell_type": "markdown",
   "metadata": {},
   "source": [
    "### Exception handling\n",
    "\n",
    "There are some keywords that help you manage Exceptions and Errors. The general flow looks like this:\n",
    "\n",
    "```python\n",
    "try:\n",
    "    pass\n",
    "except Exception:\n",
    "    pass\n",
    "else:\n",
    "    pass\n",
    "finally:\n",
    "    pass\n",
    "\n",
    "```\n",
    "\n",
    "That's a lot of keywords. Let's go through them in order. Let's use the `integer_addition()` function."
   ]
  },
  {
   "cell_type": "code",
   "execution_count": null,
   "metadata": {
    "ExecuteTime": {
     "end_time": "2020-07-21T11:06:43.370877Z",
     "start_time": "2020-07-21T11:06:43.362093Z"
    }
   },
   "outputs": [],
   "source": [
    "numbers = [1, 2, 3, 4.5, 5, 5.6]\n",
    "try: out = integer_addition(*numbers)\n",
    "except Exception:\n",
    "    print('Dropping every non-integer values.')\n",
    "    out = integer_addition(*filter(lambda x: isinstance(x, int), numbers))\n",
    "print(out)"
   ]
  },
  {
   "cell_type": "markdown",
   "metadata": {},
   "source": [
    "If we want to do something after the Exception is raised, but still stop the execution, we can simply input a `raise`"
   ]
  },
  {
   "cell_type": "code",
   "execution_count": null,
   "metadata": {
    "ExecuteTime": {
     "end_time": "2020-07-21T11:06:44.160554Z",
     "start_time": "2020-07-21T11:06:44.136839Z"
    }
   },
   "outputs": [],
   "source": [
    "numbers = [1, 2, 3, 4.5, 5, 5.6]\n",
    "try: out = integer_addition(*numbers)\n",
    "except Exception:\n",
    "    print('There are some non-integer values.')\n",
    "    print([type(i) for i in numbers])\n",
    "    raise"
   ]
  },
  {
   "cell_type": "markdown",
   "metadata": {},
   "source": [
    "Using the `except Exception` expression is oftentimes too vague, because it catches all Errors (it is after all the base class). It would be better to just catch the Error we're after.\n",
    "\n",
    "This is bad practice, because it does not catch the correct Exception."
   ]
  },
  {
   "cell_type": "code",
   "execution_count": null,
   "metadata": {
    "ExecuteTime": {
     "end_time": "2020-07-21T11:10:04.006928Z",
     "start_time": "2020-07-21T11:10:03.998381Z"
    }
   },
   "outputs": [],
   "source": [
    "numbers = [1, 2, 3, 5]\n",
    "try:\n",
    "    out = integer_addition(*numbers)\n",
    "    var = bad_var\n",
    "except Exception:\n",
    "    print('There are some non-integer values.')\n",
    "    print([type(i) for i in numbers])"
   ]
  },
  {
   "cell_type": "markdown",
   "metadata": {},
   "source": [
    "With this code, which catches the `integer_addition()`'s AssertionError we see, that the `var = bad_var` statement is the one causing trouble."
   ]
  },
  {
   "cell_type": "code",
   "execution_count": null,
   "metadata": {
    "ExecuteTime": {
     "end_time": "2020-07-21T11:10:28.678920Z",
     "start_time": "2020-07-21T11:10:28.663422Z"
    }
   },
   "outputs": [],
   "source": [
    "numbers = [1, 2, 3, 5]\n",
    "try:\n",
    "    out = integer_addition(*numbers)\n",
    "    var = bad_var\n",
    "except AssertionError:\n",
    "    print('There are some non-integer values.')\n",
    "    print([type(i) for i in numbers])"
   ]
  },
  {
   "cell_type": "markdown",
   "metadata": {},
   "source": [
    "Wit the `as` keyword we can also save the Exception to a variable."
   ]
  },
  {
   "cell_type": "code",
   "execution_count": null,
   "metadata": {
    "ExecuteTime": {
     "end_time": "2020-07-21T11:12:49.725654Z",
     "start_time": "2020-07-21T11:12:49.716370Z"
    }
   },
   "outputs": [],
   "source": [
    "numbers = [1, 2, 3, 5]\n",
    "try:\n",
    "    out = integer_addition(*numbers)\n",
    "    var = bad_var\n",
    "except AssertionError:\n",
    "    print('There are some non-integer values.')\n",
    "    print([type(i) for i in numbers])\n",
    "except NameError as e:\n",
    "    print(e)\n",
    "    print(\"Some variables are missing.\")"
   ]
  },
  {
   "cell_type": "markdown",
   "metadata": {},
   "source": [
    "Now let's look into the very long exception handling from above:\n",
    "\n",
    "The `else` clause is run, when the `try` clause does not raise an exception."
   ]
  },
  {
   "cell_type": "code",
   "execution_count": 138,
   "metadata": {
    "ExecuteTime": {
     "end_time": "2020-07-21T11:15:08.637165Z",
     "start_time": "2020-07-21T11:15:08.626890Z"
    }
   },
   "outputs": [
    {
     "name": "stdout",
     "output_type": "stream",
     "text": [
      "Everything ran successfully.\n",
      "The sum is:  11\n"
     ]
    }
   ],
   "source": [
    "numbers = [1, 2, 3, 5]\n",
    "bad_var = 1\n",
    "try:\n",
    "    out = integer_addition(*numbers)\n",
    "    var = bad_var\n",
    "except AssertionError:\n",
    "    print('There are some non-integer values.')\n",
    "    print([type(i) for i in numbers])\n",
    "except NameError as e:\n",
    "    print(e)\n",
    "    print(\"Some variables are missing.\")\n",
    "else:\n",
    "    print('Everything ran successfully.')\n",
    "    print('The sum is: ', out)\n",
    "    \n",
    "# delete bad_var, so the cells above still raise a NameError\n",
    "del bad_var"
   ]
  },
  {
   "cell_type": "markdown",
   "metadata": {},
   "source": [
    "The `fianlly` clause runs no matter what happens. This can be used to free resources no matter what happens. If one of your objects occupies much space in the RAM (opened files, opened databases), you can use the finally as a sort-of garbage collection to free up the RAM again."
   ]
  },
  {
   "cell_type": "code",
   "execution_count": 141,
   "metadata": {
    "ExecuteTime": {
     "end_time": "2020-07-21T11:18:04.792379Z",
     "start_time": "2020-07-21T11:18:04.782551Z"
    }
   },
   "outputs": [
    {
     "name": "stdout",
     "output_type": "stream",
     "text": [
      "Everything ran successfully.\n",
      "The sum is:  11\n",
      "Executing Finally...\n"
     ]
    }
   ],
   "source": [
    "numbers = [1, 2, 3, 5]\n",
    "bad_var = 1\n",
    "try:\n",
    "    out = integer_addition(*numbers)\n",
    "    var = bad_var\n",
    "except AssertionError:\n",
    "    print('There are some non-integer values.')\n",
    "    print([type(i) for i in numbers])\n",
    "except NameError as e:\n",
    "    print(e)\n",
    "    print(\"Some variables are missing.\")\n",
    "else:\n",
    "    print('Everything ran successfully.')\n",
    "    print('The sum is: ', out)\n",
    "finally:\n",
    "    print('Executing Finally...')\n",
    "    \n",
    "# delete bad_var, so the cells above still raise a NameError\n",
    "del bad_var"
   ]
  },
  {
   "cell_type": "markdown",
   "metadata": {},
   "source": [
    "### Custom Exceptions\n",
    "\n",
    "You can also create your own custom Exceptions."
   ]
  },
  {
   "cell_type": "code",
   "execution_count": null,
   "metadata": {
    "ExecuteTime": {
     "end_time": "2020-07-21T11:25:40.041072Z",
     "start_time": "2020-07-21T11:25:40.025006Z"
    }
   },
   "outputs": [],
   "source": [
    "class BadError(Exception):\n",
    "    \"\"\"Raised when the Error is really bad.\"\"\"\n",
    "    def __init__(self, message):\n",
    "        self.message = '(╯°□°)╯︵ ┻━┻ ' + message + ' ┬─┬ノ( ◕◡◕ ノ)'\n",
    "        super().__init__(self.message)\n",
    "        \n",
    "raise BadError(\"Welp. That's all about Exceptions.\")"
   ]
  },
  {
   "cell_type": "markdown",
   "metadata": {},
   "source": [
    "### Warnings\n",
    "\n",
    "Wanrings can be imported from the builtin library *warnings*. Warnings can:\n",
    " - Print text to the output to inform the user ('default').\n",
    " - Turn matching warnings into Exceptions ('error').\n",
    " - Never print matching warnings ('ignore').\n",
    " - Always print matching warnings ('always').\n",
    " - Print the first occurrence of a warning inside a module (used to inform the user about upcoming deprecations) ('module').\n",
    " - Print only the first occurrence of matching warnings ('once').\n",
    "\n",
    "Let's get into it. To print a standard warning just do something like this:"
   ]
  },
  {
   "cell_type": "markdown",
   "metadata": {},
   "source": [
    "**Simple warning**"
   ]
  },
  {
   "cell_type": "code",
   "execution_count": 16,
   "metadata": {
    "ExecuteTime": {
     "end_time": "2020-07-21T22:26:27.127361Z",
     "start_time": "2020-07-21T22:26:27.116323Z"
    }
   },
   "outputs": [
    {
     "name": "stdout",
     "output_type": "stream",
     "text": [
      "0\n",
      "0\n",
      "0\n",
      "0\n"
     ]
    },
    {
     "name": "stderr",
     "output_type": "stream",
     "text": [
      "/home/kevin/.conda/envs/work_3/lib/python3.6/site-packages/ipykernel_launcher.py:7: UserWarning: Protected division. Returning 0.\n",
      "  import sys\n"
     ]
    }
   ],
   "source": [
    "import warnings\n",
    "# resets warnings to default\n",
    "warnings.resetwarnings()\n",
    "\n",
    "def protected_division(x, y):\n",
    "    if y == 0:\n",
    "        warnings.warn(\"Protected division. Returning 0.\")\n",
    "        return 0\n",
    "    else:\n",
    "        return x / y\n",
    "    \n",
    "print(protected_division(1, 0))\n",
    "print(protected_division(2, 0))\n",
    "print(protected_division(3, 0))\n",
    "print(protected_division(4, 0))"
   ]
  },
  {
   "cell_type": "markdown",
   "metadata": {},
   "source": [
    "**Turn consecutive warnings into Exceptions**"
   ]
  },
  {
   "cell_type": "code",
   "execution_count": 13,
   "metadata": {
    "ExecuteTime": {
     "end_time": "2020-07-21T22:21:47.942613Z",
     "start_time": "2020-07-21T22:21:47.916279Z"
    }
   },
   "outputs": [
    {
     "ename": "UserWarning",
     "evalue": "Protected division. Returning 0.",
     "output_type": "error",
     "traceback": [
      "\u001b[0;31m---------------------------------------------------------------------------\u001b[0m",
      "\u001b[0;31mUserWarning\u001b[0m                               Traceback (most recent call last)",
      "\u001b[0;32m<ipython-input-13-5aba8c75baaa>\u001b[0m in \u001b[0;36m<module>\u001b[0;34m\u001b[0m\n\u001b[1;32m     12\u001b[0m         \u001b[0;32mreturn\u001b[0m \u001b[0mx\u001b[0m \u001b[0;34m/\u001b[0m \u001b[0my\u001b[0m\u001b[0;34m\u001b[0m\u001b[0m\n\u001b[1;32m     13\u001b[0m \u001b[0;34m\u001b[0m\u001b[0m\n\u001b[0;32m---> 14\u001b[0;31m \u001b[0mprint\u001b[0m\u001b[0;34m(\u001b[0m\u001b[0mprotected_division\u001b[0m\u001b[0;34m(\u001b[0m\u001b[0;36m1\u001b[0m\u001b[0;34m,\u001b[0m \u001b[0;36m0\u001b[0m\u001b[0;34m)\u001b[0m\u001b[0;34m)\u001b[0m\u001b[0;34m\u001b[0m\u001b[0m\n\u001b[0m\u001b[1;32m     15\u001b[0m \u001b[0mprint\u001b[0m\u001b[0;34m(\u001b[0m\u001b[0mprotected_division\u001b[0m\u001b[0;34m(\u001b[0m\u001b[0;36m2\u001b[0m\u001b[0;34m,\u001b[0m \u001b[0;36m0\u001b[0m\u001b[0;34m)\u001b[0m\u001b[0;34m)\u001b[0m\u001b[0;34m\u001b[0m\u001b[0m\n\u001b[1;32m     16\u001b[0m \u001b[0mprint\u001b[0m\u001b[0;34m(\u001b[0m\u001b[0mprotected_division\u001b[0m\u001b[0;34m(\u001b[0m\u001b[0;36m3\u001b[0m\u001b[0;34m,\u001b[0m \u001b[0;36m0\u001b[0m\u001b[0;34m)\u001b[0m\u001b[0;34m)\u001b[0m\u001b[0;34m\u001b[0m\u001b[0m\n",
      "\u001b[0;32m<ipython-input-13-5aba8c75baaa>\u001b[0m in \u001b[0;36mprotected_division\u001b[0;34m(x, y)\u001b[0m\n\u001b[1;32m      7\u001b[0m \u001b[0;32mdef\u001b[0m \u001b[0mprotected_division\u001b[0m\u001b[0;34m(\u001b[0m\u001b[0mx\u001b[0m\u001b[0;34m,\u001b[0m \u001b[0my\u001b[0m\u001b[0;34m)\u001b[0m\u001b[0;34m:\u001b[0m\u001b[0;34m\u001b[0m\u001b[0m\n\u001b[1;32m      8\u001b[0m     \u001b[0;32mif\u001b[0m \u001b[0my\u001b[0m \u001b[0;34m==\u001b[0m \u001b[0;36m0\u001b[0m\u001b[0;34m:\u001b[0m\u001b[0;34m\u001b[0m\u001b[0m\n\u001b[0;32m----> 9\u001b[0;31m         \u001b[0mwarnings\u001b[0m\u001b[0;34m.\u001b[0m\u001b[0mwarn\u001b[0m\u001b[0;34m(\u001b[0m\u001b[0;34m\"Protected division. Returning 0.\"\u001b[0m\u001b[0;34m)\u001b[0m\u001b[0;34m\u001b[0m\u001b[0m\n\u001b[0m\u001b[1;32m     10\u001b[0m         \u001b[0;32mreturn\u001b[0m \u001b[0;36m0\u001b[0m\u001b[0;34m\u001b[0m\u001b[0m\n\u001b[1;32m     11\u001b[0m     \u001b[0;32melse\u001b[0m\u001b[0;34m:\u001b[0m\u001b[0;34m\u001b[0m\u001b[0m\n",
      "\u001b[0;31mUserWarning\u001b[0m: Protected division. Returning 0."
     ]
    }
   ],
   "source": [
    "import warnings\n",
    "# resets warnings to default\n",
    "warnings.resetwarnings()\n",
    "\n",
    "warnings.filterwarnings('error')\n",
    "\n",
    "def protected_division(x, y):\n",
    "    if y == 0:\n",
    "        warnings.warn(\"Protected division. Returning 0.\")\n",
    "        return 0\n",
    "    else:\n",
    "        return x / y\n",
    "    \n",
    "print(protected_division(1, 0))\n",
    "print(protected_division(2, 0))\n",
    "print(protected_division(3, 0))\n",
    "print(protected_division(4, 0))"
   ]
  },
  {
   "cell_type": "markdown",
   "metadata": {},
   "source": [
    "# Closure and decorators"
   ]
  },
  {
   "cell_type": "code",
   "execution_count": null,
   "metadata": {},
   "outputs": [],
   "source": []
  }
 ],
 "metadata": {
  "kernelspec": {
   "display_name": "Python 3",
   "language": "python",
   "name": "python3"
  },
  "language_info": {
   "codemirror_mode": {
    "name": "ipython",
    "version": 3
   },
   "file_extension": ".py",
   "mimetype": "text/x-python",
   "name": "python",
   "nbconvert_exporter": "python",
   "pygments_lexer": "ipython3",
   "version": "3.8.8"
  },
  "latex_envs": {
   "LaTeX_envs_menu_present": true,
   "autoclose": false,
   "autocomplete": true,
   "bibliofile": "biblio.bib",
   "cite_by": "apalike",
   "current_citInitial": 1,
   "eqLabelWithNumbers": true,
   "eqNumInitial": 1,
   "hotkeys": {
    "equation": "Ctrl-E",
    "itemize": "Ctrl-I"
   },
   "labels_anchors": false,
   "latex_user_defs": false,
   "report_style_numbering": false,
   "user_envs_cfg": false
  },
  "toc": {
   "base_numbering": 1,
   "nav_menu": {},
   "number_sections": true,
   "sideBar": true,
   "skip_h1_title": false,
   "title_cell": "Table of Contents",
   "title_sidebar": "Contents",
   "toc_cell": false,
   "toc_position": {},
   "toc_section_display": true,
   "toc_window_display": true
  }
 },
 "nbformat": 4,
 "nbformat_minor": 2
}
