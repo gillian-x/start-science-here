{
 "cells": [
  {
   "cell_type": "code",
   "execution_count": null,
   "id": "fbe5e0dc",
   "metadata": {},
   "outputs": [],
   "source": []
  }
 ],
 "metadata": {
  "language_info": {
   "name": "python"
  }
 },
 "nbformat": 4,
 "nbformat_minor": 5
}
