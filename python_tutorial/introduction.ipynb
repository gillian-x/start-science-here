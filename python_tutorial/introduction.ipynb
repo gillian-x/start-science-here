{
 "cells": [
  {
   "cell_type": "markdown",
   "metadata": {
    "slideshow": {
     "slide_type": "slide"
    }
   },
   "source": [
    "# How to execute python code\n",
    "\n",
    "Welcome to the python tutorial of Welcome to the python tutorial of [start science here!](https://kevinsawade.github.io/start-science-here/) This tutorial will guide you through all the important topics in learning the python programming language.\n",
    "\n",
    "Python is an interpreted, high-level, general purpose programming language.\n",
    "\n",
    "- It's interpreted because python programs don't need to be compiled.\n",
    "- It's a high-level programming language, because of its layer of abstraction. You don't need to write instructions which memory register to pass through which core of the CPU. This would also prohibit us from sharing code, between different processors.\n",
    "- It's general purpose, because you can do almost anything with it. From math, websites, inventory management systems to computational chemistry.\n",
    "\n",
    "## Jupyter Notebooks\n",
    "\n",
    "The easiest way to run python code is via the jupyter notebooks provided at binder:\n",
    "\n",
    "[![Binder](https://binder.pangeo.io/badge_logo.svg)](https://mybinder.org/v2/gh/kevinsawade/start-science-here/HEAD?urlpath=%2Ftree%2F?filepath=python_tutorial)\n",
    "\n",
    "*jupyter-notebooks* contain a number of so-called cells. Cells can either be code cells, or markdown cells. This text is written in a markdown cell. In these cells text is easier to read and can be formatted *like* **these** ~~examples~~ here. You can make lists, tables and format your text nicely. These markdown cells accompany the code cells. In the code cells the magic happens. These cells contain code segments which can be executed on a cell-by-cell basis. All variables declared in the code cells are available as long as the notebook is running. This means that contrary to a code.py file a variable declared in a cell further down can be used in a cell further up, as long as the cell with the variable declaration is ran first.\n",
    "\n",
    "**How to execute code in jupyter notebooks**\n",
    "\n",
    "To execute a cell you can either use the \"Run\" button at menu bar on top, our you can use these key combinations:\n",
    "\n",
    "- `Shift` + `Enter` to run a cell and move the cursor to the next cell.\n",
    "- `Ctrl` + `Enter` to run a cell without moving the cursor to the next cell.\n",
    "\n",
    "**Further PROs for jupyter notebooks**\n",
    "\n",
    "- You can render graphs and images.\n",
    "- You can also render molecule structures.\n",
    "- You can add additional functionality like exercises, tables of contents for quick navigation of larger notebooks.\n",
    "- You can describe your code via markdown cells.\n",
    "\n",
    "\\begin{exercise}\n",
    "View this specific notebook on binder [![Binder](https://binder.pangeo.io/badge_logo.svg)](https://mybinder.org/v2/gh/kevinsawade/start-science-here/HEAD?urlpath=%2Ftree%2F?filepath=python_tutorial%2Fintroduction.ipynb) you can try to execute the cell below and see what happens:\n",
    "\\end{exercise}"
   ]
  },
  {
   "cell_type": "code",
   "execution_count": null,
   "metadata": {},
   "outputs": [],
   "source": [
    "print(\"Start science here!\")"
   ]
  },
  {
   "cell_type": "markdown",
   "metadata": {},
   "source": [
    "**Congratulations, you executed your first python code.**\n",
    "\n",
    "The next part about the python shell can easily be skipped. Head over to the [basics_00_datatypes.ipynb](https://mybinder.org/v2/gh/kevinsawade/start-science-here/HEAD?urlpath=%2Ftree%2F?filepath=python_tutorial%2Fbasic_python%2Fbasics_00_intro.ipynb) notebook to continue.\n",
    "\n",
    "## The python shell\n",
    "\n",
    "Besides jupyter notebooks there's the more basic python shell, which can also come in useful, for when jupyter notebooks are not working. To get to a python shell there are a few things you could do:\n",
    "\n",
    "The easiest way is to head over to binder:\n",
    "\n",
    "[![Binder](https://binder.pangeo.io/badge_logo.svg)](https://mybinder.org/v2/gh/kevinsawade/start-science-here/HEAD?urlpath=%2Ftree%2F?filepath=python_tutorial)\n",
    "\n",
    "and open a terminal by clicking on **New** and then **Terminal**:\n",
    "\n",
    "![alt text](open_terminal.png \"Title\")\n",
    "\n",
    "There are also other possibilities:\n",
    "\n",
    "1. If you are currenlty using a linux operating system, you are good to go. Just open a terminal and continue.\n",
    "2. If you are on a Windows PC you can either install the [Windows subsystem for linux](https://kevinsawade.github.io/start-science-here/windows_susbsystem_for_linux.html)\n",
    "3. or download a [python installer](https://www.python.org/downloads/windows/), install it and open a python shell by searching for \"python\" in your start menu.\n",
    "\n",
    "For all cases (except 2) we also want to enter `python` into our current shell to start the python shell. After that we are greeted by `>>>`, the python prompt. Which tells us, we can start to write python code. Try typing the following code line-by-line hitting return after every line and omitting the three chevrons `>>>` at the start. The lines without chevrons are the output of the previous line, so you can check whether the expected output is correct.\n",
    "\n",
    "\\begin{exercise}\n",
    "Enter the lines starting with, but without >>> and hit enter after every line:\n",
    "\\end{exercise}\n",
    "\n",
    "\n",
    "```python\n",
    ">>> 1 + 3\n",
    "4\n",
    ">>> a = 5\n",
    ">>> a\n",
    "5\n",
    ">>> 1 + a\n",
    "6\n",
    ">>> print('Hello World!')\n",
    "Hello World!\n",
    "```\n",
    "\n",
    "To leave the python shell type ```quit()```:\n",
    "\n",
    "```python\n",
    "quit()\n",
    "```\n",
    "\n",
    "Now it's time to start the python tutorial with [basics_00_datatypes.ipynb](https://mybinder.org/v2/gh/kevinsawade/start-science-here/HEAD?urlpath=%2Ftree%2F?filepath=python_tutorial%2Fbasic_python%2Fbasics_00_intro.ipynb)"
   ]
  },
  {
   "cell_type": "code",
   "execution_count": null,
   "metadata": {},
   "outputs": [],
   "source": []
  }
 ],
 "metadata": {
  "celltoolbar": "Slideshow",
  "kernelspec": {
   "display_name": "Python 3",
   "language": "python",
   "name": "python3"
  },
  "language_info": {
   "codemirror_mode": {
    "name": "ipython",
    "version": 3
   },
   "file_extension": ".py",
   "mimetype": "text/x-python",
   "name": "python",
   "nbconvert_exporter": "python",
   "pygments_lexer": "ipython3",
   "version": "3.8.8"
  },
  "latex_envs": {
   "LaTeX_envs_menu_present": true,
   "autoclose": false,
   "autocomplete": true,
   "bibliofile": "biblio.bib",
   "cite_by": "apalike",
   "current_citInitial": 1,
   "eqLabelWithNumbers": true,
   "eqNumInitial": 1,
   "hotkeys": {
    "equation": "Ctrl-E",
    "itemize": "Ctrl-I"
   },
   "labels_anchors": false,
   "latex_user_defs": false,
   "report_style_numbering": false,
   "user_envs_cfg": false
  },
  "toc": {
   "base_numbering": 1,
   "nav_menu": {},
   "number_sections": true,
   "sideBar": true,
   "skip_h1_title": false,
   "title_cell": "Table of Contents",
   "title_sidebar": "Contents",
   "toc_cell": false,
   "toc_position": {},
   "toc_section_display": true,
   "toc_window_display": false
  }
 },
 "nbformat": 4,
 "nbformat_minor": 2
}
