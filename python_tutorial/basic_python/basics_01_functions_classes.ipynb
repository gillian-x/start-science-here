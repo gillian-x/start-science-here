{
 "cells": [
  {
   "cell_type": "markdown",
   "metadata": {},
   "source": [
    "**Todo**\n",
    "\n",
    "Combine the Functions and writing functions and extend a bit more on the classes. rajathkmp will be helpful for this."
   ]
  },
  {
   "attachments": {},
   "cell_type": "markdown",
   "metadata": {},
   "source": [
    "# 01_functions_classes\n",
    "\n",
    "Open on binder:\n",
    "[![Binder](https://mybinder.org/badge_logo.svg)](https://mybinder.org/v2/gh/kevinsawade/start-science-here/HEAD?urlpath=%2Ftree%2F?filepath=python_tutorial%2Fbasic_python%2Fbasics_01_functions_classes.ipynb)\n",
    "\n",
    "This notebook is based on the tutorial series by **Rajath Kumar M P**. Visit his GitHub to find out more: https://github.com/rajathkmp\n",
    "\n",
    "## What you will learn\n",
    "\n",
    "During the course of this tutorial you will learn:\n",
    "\n",
    "- What list/dictionary comprehensions are and how to use them to write clean code.\n",
    "- What functions are and how to write your own functions.\n",
    "- What lambda functions are and how to use them.\n",
    "- What classes are and how to write your own classes."
   ]
  },
  {
   "cell_type": "markdown",
   "metadata": {},
   "source": [
    "## Comprehensions\n",
    "\n",
    "Oftentimes you will use `for`-lopps to fill lists with some data. Let's say we want all square numbers up to and including 20 (that means we have to use `range(21)`, because python is right exclusive) in a list."
   ]
  },
  {
   "cell_type": "code",
   "execution_count": null,
   "metadata": {},
   "outputs": [],
   "source": [
    "squares = []\n",
    "\n",
    "for i in range(21):\n",
    "    squares.append(i ** 2)\n",
    "    \n",
    "print(squares)"
   ]
  },
  {
   "cell_type": "markdown",
   "metadata": {},
   "source": [
    "With a so-called list-comprehension you could abbreviate this code to one line:"
   ]
  },
  {
   "cell_type": "code",
   "execution_count": null,
   "metadata": {},
   "outputs": [],
   "source": [
    "squares = [i ** 2 for i in range(21)]\n",
    "print(squares)"
   ]
  },
  {
   "cell_type": "markdown",
   "metadata": {},
   "source": [
    "Normal list comprehensions follow a style of\n",
    "\n",
    "```\n",
    "[expression for item in iterator]\n",
    "```\n",
    "\n",
    "and can be extended with if statements to filter a list:\n",
    "\n",
    "```\n",
    "[expression for item in iterator if filter-expression]\n",
    "```\n",
    "\n",
    "and with if-else statements like so:\n",
    "\n",
    "```\n",
    "[expression if filter-expression else different-item for item in iterator]\n",
    "```\n",
    "\n",
    "If we only want to print those squared numbers, that contain '2' we can filter the list comprehension like so:"
   ]
  },
  {
   "cell_type": "code",
   "execution_count": null,
   "metadata": {},
   "outputs": [],
   "source": [
    "squares_only_2 = [i ** 2 for i in range(21) if '2' in str(i ** 2)]\n",
    "print(squares_only_2)"
   ]
  },
  {
   "cell_type": "markdown",
   "metadata": {},
   "source": [
    "### Fizz-Buzz\n",
    "\n",
    "Let's play a game of fizz-buzz using list comprehension. Fizz-buzz is a standard exercise for new programmers. Oftentimes recruiters from software-firms use this to check the proficiency of people in a respective programming language. In the game of fizz-buzz, you count upwards from 1. When you reach a number, that is divisible by 3, you let the program print \"Fizz\", If the number is divisible by 5, you let the program print \"Buzz\", if the number is divisible by both \"FizzBuzz\". In all other cases the number itself should be printed. Here's what the code looks like without list comprehension."
   ]
  },
  {
   "cell_type": "code",
   "execution_count": null,
   "metadata": {},
   "outputs": [],
   "source": [
    "for n in range(1, 101):\n",
    "    response = \"\"\n",
    "    if n % 3 == 0:\n",
    "        response += \"Fizz\"\n",
    "    if n % 5 == 0:\n",
    "        response += \"Buzz\"\n",
    "\n",
    "    print(response or n)"
   ]
  },
  {
   "cell_type": "markdown",
   "metadata": {},
   "source": [
    "And here it is with list comprehension:"
   ]
  },
  {
   "cell_type": "code",
   "execution_count": null,
   "metadata": {},
   "outputs": [],
   "source": [
    "[(\"Fizz\"*(not i%3) + \"Buzz\"*(not i%5) or i) for i in range(1, 101)]"
   ]
  },
  {
   "cell_type": "markdown",
   "metadata": {},
   "source": [
    "Let's understand this list comprehension. \n",
    "- The mapping expression is a tuple with the `or` boolean operator.\n",
    "- This tuple is either the expression left of the `or` or the expression right of the `or`.\n",
    "- If the left expression is an empty string (which equals the boolean value False in python) the right expression is printed.\n",
    "- If the string is not empty, the string itself is printed.\n",
    "  - The string itself is the result of the string addition of `\"Fizz\"*(not i%3)` and `\"Buzz\"*(not i%5)`.\n",
    "  - The `(not i%3)` negates the result of the modulo operator of `i` and three.\n",
    "    - If `i` is divisible by three the modulo equals 0.\n",
    "    - The integer 0 equals a boolean value of False in python. Due to the negation this becomes True.\n",
    "    - If this is True the string is multiplied with True which gives the string itself.\n",
    "  - For all other integers the `(not i%3` gives a False. False multiplied with a string gives an empty string."
   ]
  },
  {
   "cell_type": "markdown",
   "metadata": {},
   "source": [
    "### Nested list comprehensions\n",
    "\n",
    "You can also use nested for loops in list comprehensions. This might look something like this:\n",
    "\n",
    "```\n",
    "[expression for nested_iterable in iterable for expression in nested_iterable]\n",
    "```"
   ]
  },
  {
   "cell_type": "code",
   "execution_count": null,
   "metadata": {},
   "outputs": [],
   "source": [
    "[27*z for i in range(50) if i==27 for z in range(1,11)]"
   ]
  },
  {
   "cell_type": "markdown",
   "metadata": {},
   "source": [
    "### Dictionary comprehensions\n",
    "\n",
    "Similarly, you can write dictionary comprehensions. Let's say we have a shop with items and prices for said items. We want to raise the prices by 10%. We use the `dict` objects built-in `items()` method to get a tuple iteration of key-value pairs."
   ]
  },
  {
   "cell_type": "code",
   "execution_count": null,
   "metadata": {},
   "outputs": [],
   "source": [
    "base_prices = {'apple': 1, 'milk': 1.5, 'banana': 0.5, 'potatoes': 2.5}\n",
    "\n",
    "for key, value in base_prices.items():\n",
    "    print(f\"{key} costs {value:.02f}$\")"
   ]
  },
  {
   "cell_type": "code",
   "execution_count": null,
   "metadata": {},
   "outputs": [],
   "source": [
    "new_prices = {k: v + v * 0.1 for k, v in base_prices.items()}\n",
    "\n",
    "for key, value in new_prices.items():\n",
    "    print(f\"{key} costs {value:.02f}$\")"
   ]
  },
  {
   "cell_type": "markdown",
   "metadata": {
    "solution2": "hidden",
    "solution2_first": true
   },
   "source": [
    "\\begin{exercise}\n",
    "Use dictionary comprehension and the base_prices dictionary to increase the price of all fruits by 10%.\n",
    "\\end{exercise}\n",
    "\n",
    "\n",
    "```python\n",
    "fruits = ['apple', 'banana']\n",
    "```"
   ]
  },
  {
   "cell_type": "code",
   "execution_count": null,
   "metadata": {},
   "outputs": [],
   "source": [
    "base_prices = {'apple': 1, 'milk': 1.5, 'banana': 0.5, 'potatoes': 2.5}\n",
    "fruits = ['apple', 'banana']\n",
    "\n",
    "new_prices = {k: v + v * 0.1 if k in fruits else v for k, v in base_prices.items()}\n",
    "\n",
    "print(new_prices)"
   ]
  },
  {
   "cell_type": "markdown",
   "metadata": {},
   "source": [
    "## Functions\n",
    "\n",
    "In 01_python_basics we talked about built-in functions. For example, the `print()` function is a built-in function, meaning it is always included. A function groups a set of statements, so they can be run more than once. *Functions are an alternative for copying and pasting code segments you might often call*. Functions are the most basic program structure python provides to maximize *code reuse*.\n",
    "\n",
    "Functions are called by their name and parentheses (). Functions are defined by the `def` or the `lambda` statement.\n",
    "\n",
    "```python\n",
    "def func_name(arg1, arg2, ..., argN):\n",
    "    \"\"\"This is the documentation to that func.\"\"\"\n",
    "    Indented code belonging to the function\n",
    "    More indented code also belonging to the function\n",
    "\n",
    "lambda_func = lambda a : a + 3\n",
    "```\n",
    "\n",
    "### Return statements\n",
    "\n",
    "There are two return statements which send results to the function call. `return` and the more advanced `yield`. "
   ]
  },
  {
   "cell_type": "code",
   "execution_count": null,
   "metadata": {},
   "outputs": [],
   "source": [
    "def some_func():\n",
    "    return 'awesome'\n",
    "\n",
    "print('This function is', some_func())"
   ]
  },
  {
   "cell_type": "markdown",
   "metadata": {},
   "source": [
    "### Variables in functions\n",
    "\n",
    "Variables assigned in functions are generally not accessible outside of these functions. Consider the following example:"
   ]
  },
  {
   "cell_type": "code",
   "execution_count": null,
   "metadata": {},
   "outputs": [],
   "source": [
    "def add_two_numbers(a):\n",
    "    \"\"\"Adds a number to the argument.\"\"\"\n",
    "    y = 3\n",
    "    return a + y\n",
    "add_two_numbers(3)\n",
    "print(y)"
   ]
  },
  {
   "cell_type": "markdown",
   "metadata": {},
   "source": [
    "The value of the variable y in this function is not accessible to code outside of the function. Variables from functions can be made available to the outside code via a `global` statement."
   ]
  },
  {
   "cell_type": "code",
   "execution_count": null,
   "metadata": {},
   "outputs": [],
   "source": [
    "x = 'old'\n",
    "def change_x():\n",
    "    global x\n",
    "    x = 'new'\n",
    "print(x)\n",
    "change_x()\n",
    "print(x)"
   ]
  },
  {
   "cell_type": "markdown",
   "metadata": {},
   "source": [
    "Here are some important infos about functions:\n",
    "\n",
    "- `def` is executable code. The function is created when python reaches the `def` statement. Thus, different functions can be defined in if-else statements. This differentiates python functions from C functions, which are compiled before they are executed.\n",
    "- `def` creates an object and assigns it to a name. There's nothing special about that function. It can be added to lists, it can also be assigned to other names.\n",
    "- `lambda` creates an object but returns it as a result. `lambda` can be used in places, where `def` can't be used syntactically.\n",
    "- `return` sends a result object to the caller. Python only returns with the remaining code, when the function is finished. This differentiates `return` from\n",
    "- `yield` which sends a result object, but remembers where it left off. This can be used to make code faster.\n",
    "- `global` defines variables which should be taken from outside the variable.\n",
    "- `nonlocal` defined enclosing function variables that are to be assigned. It allows a nested function to access the variables of the above functions and change them."
   ]
  },
  {
   "cell_type": "code",
   "execution_count": null,
   "metadata": {},
   "outputs": [],
   "source": [
    "def outer():\n",
    "    x = 'old'\n",
    "    def changer():\n",
    "        nonlocal x\n",
    "        print(x)\n",
    "        x = 'new'\n",
    "    changer()\n",
    "    print(x)\n",
    "outer()"
   ]
  },
  {
   "cell_type": "markdown",
   "metadata": {},
   "source": [
    "### Arguments\n",
    "\n",
    "- Arguments are passed by assignment. This means that we use the assignment (=) to pass arguments."
   ]
  },
  {
   "cell_type": "code",
   "execution_count": null,
   "metadata": {},
   "outputs": [],
   "source": [
    "def a_func(arg1, arg2, arg3):\n",
    "    return arg1 + (arg2 * arg3)\n",
    "\n",
    "print(a_func(arg1=1, arg2=2, arg3=3))"
   ]
  },
  {
   "cell_type": "markdown",
   "metadata": {},
   "source": [
    "- Arguments are passed by position unless you say otherwise."
   ]
  },
  {
   "cell_type": "code",
   "execution_count": null,
   "metadata": {},
   "outputs": [],
   "source": [
    "print(a_func(1, 2, 3))\n",
    "print(a_func(1, arg3=1, arg2=5))"
   ]
  },
  {
   "cell_type": "markdown",
   "metadata": {},
   "source": [
    "### Keyword Arguments\n",
    "\n",
    "You can define *default* arguments by assigning them inside the parentheses of the `def` expression."
   ]
  },
  {
   "cell_type": "code",
   "execution_count": null,
   "metadata": {},
   "outputs": [],
   "source": [
    "def powers(a, power=2):\n",
    "    \"\"\"Calculates powers to an argument.\n",
    "    If not specified otherwise the power\n",
    "    of 2 will be calculated.\n",
    "    \"\"\"\n",
    "    return a ** power\n",
    "print(powers(2))\n",
    "print(powers(2, 5))"
   ]
  },
  {
   "cell_type": "markdown",
   "metadata": {},
   "source": [
    "### Nested functions\n",
    "\n",
    "Functions can be nested in other statements."
   ]
  },
  {
   "cell_type": "code",
   "execution_count": null,
   "metadata": {},
   "outputs": [],
   "source": [
    "test = True\n",
    "if test:\n",
    "    def func():\n",
    "        return \"The test is true. I am a function.\"\n",
    "else:\n",
    "    def func():\n",
    "        return \"The test is false. Sad times. I am still a function.\"\n",
    "print(func())"
   ]
  },
  {
   "cell_type": "markdown",
   "metadata": {},
   "source": [
    "### Docstrings\n",
    "\n",
    "As you have already seen some of the previous functions have segments with triple quotes. These are there for documentation purposes. If you want to help other people (and your future self) write a short summary of what your function does. These docstrings can be accessed via the built-in function `help()`."
   ]
  },
  {
   "cell_type": "code",
   "execution_count": null,
   "metadata": {},
   "outputs": [],
   "source": [
    "help(powers)"
   ]
  },
  {
   "cell_type": "markdown",
   "metadata": {},
   "source": [
    "## Writing functions\n",
    "\n",
    "With this we can go straight to some more advanced function stuffs. "
   ]
  },
  {
   "cell_type": "code",
   "execution_count": null,
   "metadata": {},
   "outputs": [],
   "source": [
    "print_hello_world()"
   ]
  },
  {
   "cell_type": "markdown",
   "metadata": {},
   "source": [
    "To access the docstring you can call the built-in function `help()` on the function itself. Note, how the function is **not** called. The parentheses are omitted."
   ]
  },
  {
   "cell_type": "code",
   "execution_count": null,
   "metadata": {},
   "outputs": [],
   "source": [
    "help(print_hello_world)"
   ]
  },
  {
   "cell_type": "markdown",
   "metadata": {},
   "source": [
    "### Return values\n",
    "\n",
    "Let's assign the output of the function to a variable and check that variable out."
   ]
  },
  {
   "cell_type": "code",
   "execution_count": null,
   "metadata": {},
   "outputs": [],
   "source": [
    "out = print_hello_world()"
   ]
  },
  {
   "cell_type": "code",
   "execution_count": null,
   "metadata": {},
   "outputs": [],
   "source": [
    "print(out)"
   ]
  },
  {
   "cell_type": "markdown",
   "metadata": {},
   "source": [
    "See, how the function returned a `None`? That's because in python all functions return something. If not further specified, they return `None`. Let's specify the return value of our function. By executing the next cell, you overwrite the previously defined function. Be careful not to overwrite built-in functions. They are lost, until you restart the program."
   ]
  },
  {
   "cell_type": "code",
   "execution_count": null,
   "metadata": {},
   "outputs": [],
   "source": [
    "def print_hello_world():\n",
    "    \"\"\"Prints \"Hello World!\"\n",
    "    and returns a string.\n",
    "    \"\"\"\n",
    "    print(\"Hello World!\")\n",
    "    return \"Python is awesome!\"\n",
    "    # Return is not a function, that's why it is shown in bold letters.\n",
    "    # It does not need the parentheses like print() does."
   ]
  },
  {
   "cell_type": "code",
   "execution_count": null,
   "metadata": {},
   "outputs": [],
   "source": [
    "out = print_hello_world()\n",
    "print(out)"
   ]
  },
  {
   "cell_type": "markdown",
   "metadata": {},
   "source": [
    "### Arguments\n",
    "\n",
    "Let's add some arguments to our function."
   ]
  },
  {
   "cell_type": "code",
   "execution_count": null,
   "metadata": {},
   "outputs": [],
   "source": [
    "def print_hello_user(username):\n",
    "    print(f\"Hello {username}!\")\n",
    "print_hello_user(\"Keith\")"
   ]
  },
  {
   "cell_type": "markdown",
   "metadata": {},
   "source": [
    "Let's use a user provided input to print the message."
   ]
  },
  {
   "cell_type": "code",
   "execution_count": null,
   "metadata": {},
   "outputs": [],
   "source": [
    "name = input(\"Please enter your name: \")"
   ]
  },
  {
   "cell_type": "code",
   "execution_count": null,
   "metadata": {},
   "outputs": [],
   "source": [
    "print_hello_user(name)"
   ]
  },
  {
   "cell_type": "markdown",
   "metadata": {},
   "source": [
    "You can also have multiple arguments, separated by comma."
   ]
  },
  {
   "cell_type": "code",
   "execution_count": null,
   "metadata": {},
   "outputs": [],
   "source": [
    "def print_hello_user(greeting, username):\n",
    "    print(f\"{greeting} {username}!\")\n",
    "print_hello_user(\"Nice to see you,\", \"Keith\")"
   ]
  },
  {
   "cell_type": "markdown",
   "metadata": {},
   "source": [
    "### Order of arguments matter\n",
    "\n",
    "The order of arguments matter when functions are called."
   ]
  },
  {
   "cell_type": "code",
   "execution_count": null,
   "metadata": {},
   "outputs": [],
   "source": [
    "name = 'Kurt'\n",
    "greet = 'Good afternoon,'\n",
    "print_hello_user(name, greet)"
   ]
  },
  {
   "cell_type": "markdown",
   "metadata": {},
   "source": [
    "But when you specifically type the name of the arguments, order does not matter anymore."
   ]
  },
  {
   "cell_type": "code",
   "execution_count": null,
   "metadata": {},
   "outputs": [],
   "source": [
    "print_hello_user(username=name, greeting=greet)"
   ]
  },
  {
   "cell_type": "markdown",
   "metadata": {},
   "source": [
    "### Return multiple values\n",
    "\n",
    "Let's recap the return statement at the end of functions. Instead of returning a more or less static string it would be beneficial to return something that has been calculated inside the function."
   ]
  },
  {
   "cell_type": "markdown",
   "metadata": {
    "solution2": "hidden",
    "solution2_first": true
   },
   "source": [
    "\\begin{exercise}\\label{ex:Multiplication}\n",
    "Write a function that takes two input arguments, x and y, multiplies them and returns the result.\n",
    "\\end{exercise}"
   ]
  },
  {
   "cell_type": "code",
   "execution_count": null,
   "metadata": {},
   "outputs": [],
   "source": [
    "def multiplication(x, y):\n",
    "    \"\"\"Instead of assigning a result to a useless variable return it directly\"\"\"\n",
    "    return x * y"
   ]
  },
  {
   "cell_type": "markdown",
   "metadata": {},
   "source": [
    "Sometimes you want your function to return multiple values. However ,the return statement breaks the execution of the function. Instead of two separate return statements, you should separate the return values with a comma."
   ]
  },
  {
   "cell_type": "code",
   "execution_count": null,
   "metadata": {},
   "outputs": [],
   "source": [
    "examplelist = [10,50,30,12,6,8,100]\n",
    "def exfunc(examplelist):\n",
    "    highest = max(examplelist)\n",
    "    lowest = min(examplelist)\n",
    "    first = examplelist[0]\n",
    "    last = examplelist[-1]\n",
    "    return highest\n",
    "    return lowest\n",
    "    return first\n",
    "    return last\n",
    "\n",
    "exfunc(examplelist)"
   ]
  },
  {
   "cell_type": "code",
   "execution_count": null,
   "metadata": {},
   "outputs": [],
   "source": [
    "examplelist = [10,50,30,12,6,8,100]\n",
    "def exfunc(examplelist):\n",
    "    highest = max(examplelist)\n",
    "    lowest = min(examplelist)\n",
    "    first = examplelist[0]\n",
    "    last = examplelist[-1]\n",
    "    return highest, lowest, first, last\n",
    "\n",
    "exfunc(examplelist)"
   ]
  },
  {
   "cell_type": "code",
   "execution_count": null,
   "metadata": {},
   "outputs": [],
   "source": [
    "print(type(exfunc(examplelist)))"
   ]
  },
  {
   "cell_type": "markdown",
   "metadata": {},
   "source": [
    "The return values are packed in  a tuple. Which makes sense, because you want to have the result be immutable as to not accidentally scramble it. The return tuple can be unpacked like this:"
   ]
  },
  {
   "cell_type": "code",
   "execution_count": null,
   "metadata": {},
   "outputs": [],
   "source": [
    "rval_one, rval_two, rval_three, rval_four = exfunc(examplelist)\n",
    "print(rval_two)"
   ]
  },
  {
   "cell_type": "markdown",
   "metadata": {},
   "source": [
    "More about packing and unpacking below."
   ]
  },
  {
   "cell_type": "markdown",
   "metadata": {},
   "source": [
    "### Nested functions\n",
    "\n",
    "Functions can also be nested. In fact that's one of the beautiful aspects of python. By stacking functions, you can create increasingly complex programs relying on a number of easy functions. Let me show it to you."
   ]
  },
  {
   "cell_type": "code",
   "execution_count": null,
   "metadata": {},
   "outputs": [],
   "source": [
    "def convert_12_h_to_24_h(time):\n",
    "    timevalue = int(time.split()[0]) # split the string into a list, use 0th element and make it an integer\n",
    "    if 'pm' in time:\n",
    "        timevalue = timevalue + 12\n",
    "    return timevalue\n",
    "\n",
    "def return_greeting(time):\n",
    "    # convert time string to numbers\n",
    "    if 'am' in time or 'pm' in time:\n",
    "        time = convert_12_h_to_24_h(time)\n",
    "    # decide on greeting\n",
    "    if time >= 0 and time < 6:\n",
    "        greeting = \"Sleep tight\"\n",
    "    elif time >= 6 and time < 12:\n",
    "        greeting = \"Good morning\"\n",
    "    elif time >= 12 and time < 18:\n",
    "        greeting = \"Good afternoon\"\n",
    "    elif time >= 18 and time < 22:\n",
    "        greeting = \"Good evening\"\n",
    "    else:\n",
    "        greeting = \"Good night\"\n",
    "    return greeting\n",
    "\n",
    "\n",
    "def print_hello_user_time(username, time):\n",
    "    greeting = return_greeting(time)\n",
    "    print(f\"{greeting} {username}!\")"
   ]
  },
  {
   "cell_type": "code",
   "execution_count": null,
   "metadata": {},
   "outputs": [],
   "source": [
    "print_hello_user_time(\"Sandra\", \"12 am\")"
   ]
  },
  {
   "cell_type": "markdown",
   "metadata": {},
   "source": [
    "\\begin{exercise}\\label{ex:timed_greeting}\n",
    "Take some time and try to understand the previous functions. Try and change something and see what happens.\n",
    "\\end{exercise}"
   ]
  },
  {
   "cell_type": "markdown",
   "metadata": {},
   "source": [
    "### Keyword arguments\n",
    "\n",
    "By explicitly stating the argument in your function, you can change the order in which you pass arguments to a function."
   ]
  },
  {
   "cell_type": "code",
   "execution_count": null,
   "metadata": {},
   "outputs": [],
   "source": [
    "def subtract(x, y):\n",
    "    \"\"\"Subtracts y from x.\"\"\"\n",
    "    return x - y\n",
    "\n",
    "one = subtract(5, 4)\n",
    "two = subtract(y=5, x=4)\n",
    "print(one, two)"
   ]
  },
  {
   "cell_type": "markdown",
   "metadata": {},
   "source": [
    "In the same fashion you can set the defaults for a functions arguments, when defining the function. In that case you only need to provide as many arguments as there are non-keyword arguments."
   ]
  },
  {
   "cell_type": "code",
   "execution_count": null,
   "metadata": {},
   "outputs": [],
   "source": [
    "def subtract(x, y=5):\n",
    "    \"\"\"Subtracts y from x.\n",
    "    If not specified otherwise 5 will be subtracted from x.\"\"\"\n",
    "    return x - y\n",
    "\n",
    "print(subtract(10))\n",
    "print(subtract(10, 20))"
   ]
  },
  {
   "cell_type": "markdown",
   "metadata": {},
   "source": [
    "## Lambda functions\n",
    "\n",
    "As previously stated, lambda functions are functions returned by the `lambda` keyword. They are often used as throwaway functions, that are only used a single time. They can come in quite useful, when something needs to be a function, but you want to make your code more readable. The keyword `lambda` returns a function that is now accessible under the assigned variable name.\n",
    "\n",
    "```python\n",
    "myfunc = lambda x: x * 2\n",
    "```\n",
    "\n",
    "Besides the `lambda` keyword, you can give arguments and use them in the expression after the colon (`:`). In this case, the input argument x is multiplied by 2. Multiple arguments can also be given like so:\n",
    "\n",
    "```python\n",
    "myfunc = lambda x, y: x + y\n",
    "```"
   ]
  },
  {
   "cell_type": "code",
   "execution_count": null,
   "metadata": {},
   "outputs": [],
   "source": [
    "myfunc = lambda x: x * 2\n",
    "myfunc(5)"
   ]
  },
  {
   "cell_type": "markdown",
   "metadata": {},
   "source": [
    "### Use case: filter\n",
    "\n",
    "The built-in `filter()` function can filter an iterable based on boolean values. It expects as the first argument a function (more on that later) and an iterable as the second. Let's say we have a list of ints and want to remove all ints below 10 and above 25"
   ]
  },
  {
   "cell_type": "code",
   "execution_count": null,
   "metadata": {},
   "outputs": [],
   "source": [
    "mylist = [i for i in range(50)]\n",
    "\n",
    "filtered = list(filter(lambda x: x >= 10 and x <= 25, mylist))\n",
    "print(filtered)"
   ]
  },
  {
   "cell_type": "markdown",
   "metadata": {},
   "source": [
    "The `lambda` function was directly supplied without writing a function with `def`. You have no way of using that function again, because it wasn't assigned to a variable. This makes the code easily to read. However, if you use this function (check whether greater than 9 and smaller than 26) often consider putting it into it own function.\n",
    "\n",
    "```python\n",
    "def in_range(x):\n",
    "    return x >= 10 and x <= 25\n",
    "```\n",
    "\n",
    "Because now, you can use this function repeatedly and a change in this function changes all code that uses this function.\n",
    "\n",
    "```python\n",
    "filtered = list(filter(in_range, [i for i in range(50)]))\n",
    "filtered = list(filter(in_range, [i ** 2 - 50 for i in range(50)]))\n",
    "filtered = list(filter(in_range, [i * 2 - 10 for i in range(50)]))\n",
    "```"
   ]
  },
  {
   "cell_type": "markdown",
   "metadata": {},
   "source": [
    "## Functions as arguments\n",
    "\n",
    "To further elaborate on functions as arguments. Keep in mind: Everything in python is an object and as such there is principally no difference between int, str and function."
   ]
  },
  {
   "cell_type": "code",
   "execution_count": null,
   "metadata": {},
   "outputs": [],
   "source": [
    "def apply_arithmetic(x, y, operation=lambda x, y: x + y):\n",
    "    return operation(x, y)\n",
    "\n",
    "print(apply_arithmetic(2, 5))"
   ]
  },
  {
   "cell_type": "code",
   "execution_count": null,
   "metadata": {},
   "outputs": [],
   "source": [
    "print(apply_arithmetic(2, 5, lambda x, y: x * y))"
   ]
  },
  {
   "cell_type": "markdown",
   "metadata": {},
   "source": [
    "## Classes\n",
    "\n",
    "Classes is where python starts to shine. Welcome to object-oriented programming. At first we want to get some terminology right. First we need to know the difference between `class` and the *instance* of a class. If we define a class like so (The `pass` statement can be used to do nothing here)."
   ]
  },
  {
   "cell_type": "code",
   "execution_count": null,
   "metadata": {},
   "outputs": [],
   "source": [
    "class MyClass:\n",
    "    pass"
   ]
  },
  {
   "cell_type": "markdown",
   "metadata": {},
   "source": [
    "After running this cell the `class MyClass` now is available to us, and we do stuff with it."
   ]
  },
  {
   "cell_type": "code",
   "execution_count": null,
   "metadata": {},
   "outputs": [],
   "source": [
    "print(MyClass)"
   ]
  },
  {
   "cell_type": "markdown",
   "metadata": {},
   "source": [
    "A class can be filled with *class variables*"
   ]
  },
  {
   "cell_type": "code",
   "execution_count": null,
   "metadata": {},
   "outputs": [],
   "source": [
    "class MyClass:\n",
    "    greeting = 'Hello'\n",
    "    name = 'John'\n",
    "\n",
    "print(MyClass.greeting)"
   ]
  },
  {
   "cell_type": "markdown",
   "metadata": {},
   "source": [
    "Classes can also be filled with methods. Methods are just like functions, except they belong to a class."
   ]
  },
  {
   "cell_type": "code",
   "execution_count": null,
   "metadata": {},
   "outputs": [],
   "source": [
    "class MyClass:\n",
    "    greeting = 'Hello'\n",
    "    name = 'John'\n",
    "    \n",
    "    def greet(self):\n",
    "        return f'{self.greeting} {self.name}!'\n",
    "    \n",
    "MyClass.greet(MyClass)"
   ]
  },
  {
   "cell_type": "markdown",
   "metadata": {},
   "source": [
    "You probably wonder, what the `self` inside the greet method does. That's because of *instances*. What you do normally with a class, is instantiate it by calling `MyClass()`. The `self` in the method refers to the current instance. Because we didn't instantiate the class, we don't have an instance and have to do the `MyClass.greet(MyClass)` workaround.\n",
    "\n",
    "\\begin{remark}\n",
    "Functions are called by using ```function()```, classes are instantiated by calling ```class()```.\n",
    "\\end{remark}"
   ]
  },
  {
   "cell_type": "code",
   "execution_count": null,
   "metadata": {},
   "outputs": [],
   "source": [
    "instance = MyClass()\n",
    "instance.greet()"
   ]
  },
  {
   "cell_type": "markdown",
   "metadata": {},
   "source": [
    "And this is where classes become interesting. Consider this:"
   ]
  },
  {
   "cell_type": "code",
   "execution_count": null,
   "metadata": {},
   "outputs": [],
   "source": [
    "john = MyClass()\n",
    "jane = MyClass()\n",
    "jane.greeting = 'Goodbye'\n",
    "jane.name = 'Jane'\n",
    "\n",
    "print(john.greet())\n",
    "print(jane.greet())"
   ]
  },
  {
   "cell_type": "markdown",
   "metadata": {},
   "source": [
    "We have two instances of one class, both doing something similar, but with different variables. Overwriting the variables if an instance like this:\n",
    "\n",
    "```python\n",
    "jane.greeting = 'Goodbye'\n",
    "jane.name = 'Jane'\n",
    "```\n",
    "\n",
    "What you would normally do is, using a special method called `__init__()`, which is called when the class is instantiated and set the variables of the instance like in the next cell. The `self` in the class refers to a current instance of that class. More on that in `03_intermediate_python.ipynb`.\n",
    "\n",
    "(Normally you would also not set the variables `greeting` and `name` as class variables but only as instance variables.)"
   ]
  },
  {
   "cell_type": "code",
   "execution_count": null,
   "metadata": {},
   "outputs": [],
   "source": [
    "class MyClass:\n",
    "    \n",
    "    def __init__(self, name, greeting):\n",
    "        self.greeting = greeting\n",
    "        self.name = name\n",
    "        \n",
    "    def greet(self):\n",
    "        return f'{self.greeting} {self.name}!'\n",
    "    \n",
    "    def change_greeting(self, new_greet=''):\n",
    "        if not new_greet:\n",
    "            self.greeting = input(f\"Give {self.name} a new greeting:\")\n",
    "        else:\n",
    "            self.greeting = new_greet"
   ]
  },
  {
   "cell_type": "code",
   "execution_count": null,
   "metadata": {},
   "outputs": [],
   "source": [
    "john = MyClass('John', 'Hello')\n",
    "jane = MyClass('Jane', 'Goodbye')"
   ]
  },
  {
   "cell_type": "code",
   "execution_count": null,
   "metadata": {},
   "outputs": [],
   "source": [
    "print(john.greet())\n",
    "print(jane.greet())"
   ]
  },
  {
   "cell_type": "markdown",
   "metadata": {},
   "source": [
    "You can also try to interactively change Jane's greeting by calling:\n",
    "\n",
    "```python\n",
    "jane.change_greeting()\n",
    "```"
   ]
  },
  {
   "cell_type": "code",
   "execution_count": null,
   "metadata": {},
   "outputs": [],
   "source": [
    "jane.change_greeting('Hi')"
   ]
  },
  {
   "cell_type": "code",
   "execution_count": null,
   "metadata": {},
   "outputs": [],
   "source": [
    "print(john.greet())\n",
    "print(jane.greet())"
   ]
  },
  {
   "cell_type": "markdown",
   "metadata": {},
   "source": [
    "## Moving on\n",
    "\n",
    "The last two notebooks [basics_00_datatypes.ipynb](https://mybinder.org/v2/gh/kevinsawade/start-science-here/HEAD?urlpath=%2Ftree%2F?filepath=python_tutorial%2Fbasic_python%2Fbasics_00_datatypes.ipynb) and this one ([basics_01_functions_classes.ipynb](https://mybinder.org/v2/gh/kevinsawade/start-science-here/HEAD?urlpath=%2Ftree%2F?filepath=python_tutorial%2Fbasic_python%2Fbasics_01_functions_and_classes.ipynb)) have brought you most of what you need to know to work yourself through some code. At this point you can choose, whether you want to continue with the python tutorials, which progressively become more advanced ([intermediate_02_OOP.ipynb](https://mybinder.org/v2/gh/kevinsawade/start-science-here/HEAD?urlpath=%2Ftree%2F?filepath=python_tutorial%2Fintermediate_python%2Fintermediate_02_OOP.ipynb)). You could also take a look at the builtin notebook introducing you to some of python's built-in modules ([builtins.ipynb](https://mybinder.org/v2/gh/kevinsawade/start-science-here/HEAD?urlpath=%2Ftree%2F?filepath=python_tutorial%2Fbuiltins%2Fbuiltins.ipynb)), or you take a look at the package-specific notebooks:\n",
    "\n",
    "- [NumPy.ipynb](https://mybinder.org/v2/gh/kevinsawade/start-science-here/HEAD?urlpath=%2Ftree%2F?filepath=python_tutorial%2Fpackages%2FNumPy.ipynb)\n",
    "- [MDTraj.ipynb](https://mybinder.org/v2/gh/kevinsawade/start-science-here/HEAD?urlpath=%2Ftree%2F?filepath=python_tutorial%2Fpackages%2FMDTraj.ipynb)\n",
    "- [matplotlib.ipynb](https://mybinder.org/v2/gh/kevinsawade/start-science-here/HEAD?urlpath=%2Ftree%2F?filepath=python_tutorial%2Fpackages%2Fmatplotlib.ipynb)\n",
    "- [pandas.ipynb](https://mybinder.org/v2/gh/kevinsawade/start-science-here/HEAD?urlpath=%2Ftree%2F?filepath=python_tutorial%2Fpackages%2Fpandas.ipynb)\n",
    "- [MDAnalysis.ipynb](https://mybinder.org/v2/gh/kevinsawade/start-science-here/HEAD?urlpath=%2Ftree%2F?filepath=python_tutorial%2Fpackages%2FMDAnalysis.ipynb)"
   ]
  }
 ],
 "metadata": {
  "language_info": {
   "name": "python"
  }
 },
 "nbformat": 4,
 "nbformat_minor": 2
}
