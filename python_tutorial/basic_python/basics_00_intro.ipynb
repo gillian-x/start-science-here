{
 "cells": [
  {
   "cell_type": "markdown",
   "id": "b02c2cfa",
   "metadata": {},
   "source": [
    "# Welcome\n",
    "\n",
    "This notebook is based on the tutorial series by **Rajath Kumar M P**. Visit his github to find out more: https://github.com/rajathkmp\n",
    "\n",
    "# How to navigate jupyter notebooks\n",
    "\n",
    "\n",
    "You are currently looking at a jupyter notebook. These notebooks are one of the possibilities how to write and execute python code. A jupyter notebook consists of separate code cells. A cell can be executed either by clicking on the play button in the tool bar on top or by pressing ```shift``` + ```enter```.\n",
    "\n",
    "\n",
    "# The zen of python\n",
    "\n",
    "This little snippet by Tim Peters contains 19 guiding principles how the python programming language should be used. We use it as a way to demonstrate how to execute code in jupyter-notebook cells. Click into the cell reading \"import this\" and run it by hitting \"shift\" and \"enter\" at the same time. Alternatively you can click on the \"run\" button in the top toolbar. After that continue in executing the cells. Have fun in learning python!"
   ]
  },
  {
   "cell_type": "code",
   "execution_count": null,
   "id": "84c4330d",
   "metadata": {
    "ExecuteTime": {
     "end_time": "2021-07-13T08:55:35.996928Z",
     "start_time": "2021-07-13T08:55:35.988214Z"
    }
   },
   "outputs": [],
   "source": [
    "import this"
   ]
  },
  {
   "cell_type": "markdown",
   "id": "73bd7c59",
   "metadata": {},
   "source": [
    "# Antigravity\n",
    "\n",
    "Just execute this cell. Trust me I'm a tutorial."
   ]
  },
  {
   "cell_type": "code",
   "execution_count": null,
   "id": "2fd6e192",
   "metadata": {},
   "outputs": [],
   "source": [
    "import antigravity"
   ]
  },
  {
   "cell_type": "markdown",
   "id": "12b28598",
   "metadata": {},
   "source": [
    "# Keywords\n",
    "\n",
    "Some words are automatically recognized by your viewer (in this case jupyter notebook) and highlighted accordingly. Keywords are case sensitive. See the examples below:"
   ]
  },
  {
   "cell_type": "code",
   "execution_count": null,
   "id": "ff43fdf0",
   "metadata": {
    "ExecuteTime": {
     "end_time": "2021-07-13T08:55:39.796105Z",
     "start_time": "2021-07-13T08:55:39.778297Z"
    }
   },
   "outputs": [],
   "source": [
    "import keyword\n",
    "keyword.kwlist"
   ]
  },
  {
   "cell_type": "markdown",
   "id": "ad937ceb",
   "metadata": {},
   "source": [
    "# Variables\n",
    "\n",
    "Values or other kinds of data in python is stored in variables. Variables are declared with an equal sign, which assigns the value on the right to the variable name on the left."
   ]
  },
  {
   "cell_type": "code",
   "execution_count": null,
   "id": "b3c71f28",
   "metadata": {
    "ExecuteTime": {
     "end_time": "2021-07-13T08:55:42.031067Z",
     "start_time": "2021-07-13T08:55:42.027093Z"
    }
   },
   "outputs": [],
   "source": [
    "a = 3\n",
    "b = 2\n",
    "c = 'Hello World!'"
   ]
  },
  {
   "cell_type": "markdown",
   "id": "98981233",
   "metadata": {},
   "source": [
    "Access the variables values this way. Note how the cell returns the string with the annotation ```Out [4]:``` or a different integer. However, this way you can only return the value of the last line in a code cell."
   ]
  },
  {
   "cell_type": "code",
   "execution_count": null,
   "id": "bbfda982",
   "metadata": {
    "ExecuteTime": {
     "end_time": "2021-07-13T08:55:42.610167Z",
     "start_time": "2021-07-13T08:55:42.604667Z"
    }
   },
   "outputs": [],
   "source": [
    "c"
   ]
  },
  {
   "cell_type": "code",
   "execution_count": null,
   "id": "ccabbe68",
   "metadata": {
    "ExecuteTime": {
     "end_time": "2021-07-13T08:55:45.948906Z",
     "start_time": "2021-07-13T08:55:45.943351Z"
    }
   },
   "outputs": [],
   "source": [
    "c\n",
    "b\n",
    "a"
   ]
  },
  {
   "cell_type": "markdown",
   "id": "c1fa5acf",
   "metadata": {},
   "source": [
    "If you want to see the values of multiple variables at once you can use the print function. See the examples below:\n",
    "```python\n",
    ">>> print(a) # prints variable a\n",
    "```\n",
    "Notice how the ```Out [x]:``` is missing from the output of these cells. This is because the print() function returns ```None```."
   ]
  },
  {
   "cell_type": "code",
   "execution_count": null,
   "id": "04b83e94",
   "metadata": {
    "ExecuteTime": {
     "end_time": "2021-07-13T08:55:46.596551Z",
     "start_time": "2021-07-13T08:55:46.590879Z"
    }
   },
   "outputs": [],
   "source": [
    "print(a)\n",
    "print(a + b)\n",
    "print(c)"
   ]
  },
  {
   "cell_type": "code",
   "execution_count": null,
   "id": "ffe1ac56",
   "metadata": {
    "ExecuteTime": {
     "end_time": "2021-07-13T08:55:46.776326Z",
     "start_time": "2021-07-13T08:55:46.771050Z"
    }
   },
   "outputs": [],
   "source": [
    "d = print(a)\n",
    "print(d)"
   ]
  },
  {
   "cell_type": "markdown",
   "id": "bcbcf50c",
   "metadata": {},
   "source": [
    "There are some best practices when declaring variables.\n",
    " - Variable names should say something about their content.\n",
    " - When the variable uses a built-in name (e.g. print, None) an underscore ('\\_') can be appended.\n",
    " - Throwaway variables are most often called '\\_\\_' (double underscore)\n",
    " \n",
    "In the next cell a string is declared as a variable called print_ (with trailing underscore)"
   ]
  },
  {
   "cell_type": "code",
   "execution_count": null,
   "id": "84257327",
   "metadata": {},
   "outputs": [],
   "source": [
    "print_ = 'This should be printed'\n",
    "print(print_)"
   ]
  },
  {
   "cell_type": "markdown",
   "id": "49f3ae33",
   "metadata": {},
   "source": [
    "# Comments\n",
    "\n",
    "Comments are declared by hashes (\\#). Python styleguides also dictate a space between the hash and the actual line. However, this is not a requirement for comments. Multi-line comments are declared by triple quotes ('''). If you like, you can un-comment the next lines and see how overwriting the print() function with a variable called print (without trailing underscore) breaks the system. If you want to resume you need to restart the Kernel. You can do this by clicking on \"Kernel\" in the top toolbar and then \"Restart\", or with button highlighted with a red box.\n",
    "\n",
    "<img src=\"../restart_kernel.png\" alt=\"Toc\" width=\"1500\"/>"
   ]
  },
  {
   "cell_type": "code",
   "execution_count": null,
   "id": "c2823260",
   "metadata": {},
   "outputs": [],
   "source": [
    "'''\n",
    "This is a multiline\n",
    "comment.\n",
    "'''\n",
    "\n",
    "a = 3\n",
    "\n",
    "# The next line breaks the system. Restart of the Kernel required.\n",
    "# print = 'This should be printed'\n",
    "\n",
    "print(a)"
   ]
  },
  {
   "cell_type": "markdown",
   "id": "ee6c9bf9",
   "metadata": {},
   "source": [
    "# Operators\n",
    "\n",
    "## Arithmetic operations\n",
    "\n",
    "Following operations are built into python.\n",
    "\n",
    "| $\\Large Symbol$ | $\\Large Task\\ Performed$ |\n",
    "|-----------------|-------------------------|\n",
    "| $\\Large +$      | Addition                |\n",
    "| $\\Large -$      | Subtraction             |\n",
    "| $\\Large *$      | Multiplication          |\n",
    "| $\\Large /$      | Division                |\n",
    "| $\\Large %$      | Modulo                  |\n",
    "| $\\Large //$     | Floor Division          |\n",
    "| $\\Large **$     | Power of                |"
   ]
  },
  {
   "cell_type": "code",
   "execution_count": null,
   "id": "8d1d7706",
   "metadata": {},
   "outputs": [],
   "source": [
    "print(1 + 3)\n",
    "print(3 ** 2)\n",
    "print(5 - 2)\n",
    "print(1 / 2) # The result of this operation is special. We'll learn later why."
   ]
  },
  {
   "cell_type": "markdown",
   "id": "6fa60fe8",
   "metadata": {},
   "source": [
    "Prepare for some modulo functions!"
   ]
  },
  {
   "cell_type": "markdown",
   "id": "8b761ef6",
   "metadata": {
    "solution2": "shown",
    "solution2_first": true
   },
   "source": [
    "\\begin{exercise}\\label{ex:modulo}\n",
    "What does the modulo operation calculate?\n",
    "\\end{exercise}"
   ]
  },
  {
   "cell_type": "markdown",
   "id": "2007e69a",
   "metadata": {
    "solution2": "shown"
   },
   "source": [
    "It computes the remainder of a division."
   ]
  },
  {
   "cell_type": "code",
   "execution_count": null,
   "id": "9ca727e2",
   "metadata": {},
   "outputs": [],
   "source": [
    "\\begin{exercise}\\label{ex:modulo}\n",
    "What does the modulo operation calculate?\n",
    "\\end{exercise}\n",
    "\n",
    "It computes the remainder of a division.print(5 % 5)\n",
    "print(5 % 2)\n",
    "print(9 % 3)\n",
    "print(9 % 5)"
   ]
  },
  {
   "cell_type": "markdown",
   "id": "8166f9d8",
   "metadata": {
    "solution2": "hidden",
    "solution2_first": true
   },
   "source": [
    "\\begin{exercise}\\label{ex:modulo}\n",
    "What does the modulo operation calculate?\n",
    "\\end{exercise}"
   ]
  },
  {
   "cell_type": "markdown",
   "id": "552bb343",
   "metadata": {},
   "source": [
    "## Relational operators\n",
    "\n",
    "Following relational operators are in python:\n",
    "\n",
    "| $\\Large Symbol$ | $\\Large Task Performed$              |\n",
    "|----------------|---------------------------------------|\n",
    "| $\\Large ==$    | True if euqal                         |\n",
    "| $\\Large !=$    | True if not equal                     |\n",
    "| $\\Large <$     | less than                             |\n",
    "| $\\Large >$     | greater than                          |\n",
    "| $\\Large <=$    | less than or equal to                 |\n",
    "| $\\Large >=$    | greater than or equal to              |\n",
    "| $\\Large is$    | Identity operator                     |"
   ]
  },
  {
   "cell_type": "code",
   "execution_count": null,
   "id": "e5160581",
   "metadata": {},
   "outputs": [],
   "source": [
    "print(5 == 5)"
   ]
  },
  {
   "cell_type": "code",
   "execution_count": null,
   "id": "a3b64b64",
   "metadata": {},
   "outputs": [],
   "source": [
    "print(4 <= 5)"
   ]
  },
  {
   "cell_type": "code",
   "execution_count": null,
   "id": "a4f064d1",
   "metadata": {},
   "outputs": [],
   "source": [
    "print(5 != 5)"
   ]
  },
  {
   "cell_type": "code",
   "execution_count": null,
   "id": "0d38a13e",
   "metadata": {},
   "outputs": [],
   "source": [
    "a = 5\n",
    "b = 5.0\n",
    "print(a == b)\n",
    "print(a is b)"
   ]
  },
  {
   "cell_type": "markdown",
   "id": "55a1ace0",
   "metadata": {
    "solution2": "hidden",
    "solution2_first": true
   },
   "source": [
    "\\begin{exercise}\\label{ex:equality_operator}\n",
    "Can you already guess, why the second relational operation is False?\n",
    "\\end{exercise}"
   ]
  },
  {
   "cell_type": "markdown",
   "id": "c1ba129b",
   "metadata": {
    "solution2": "hidden"
   },
   "source": [
    "I have to admit that this question requires a certain amount of prior knowledge. It boils down to datatypes. a is an integer and b is a float. Datatypes will be introduced later on. Stay tuned."
   ]
  },
  {
   "cell_type": "markdown",
   "id": "9ba51607",
   "metadata": {},
   "source": [
    "## Bitwise operators\n",
    "\n",
    "Following bitwise operators are available:\n",
    "\n",
    "| $\\Large Symbol$ | $\\Large Task Performed$              |\n",
    "|----------------|---------------------------------------|\n",
    "| $\\Large \\&$    | Logical And                           |\n",
    "| $\\Large |$     | Logical OR                            |\n",
    "| $\\Large \\hat{}$| XOR (exclusive OR)                    |\n",
    "| $\\Large \\sim$  | Negate                                |\n",
    "| $\\Large >>$    | Right shift                           |\n",
    "| $\\Large <<$    | Left shift                            |"
   ]
  },
  {
   "cell_type": "code",
   "execution_count": null,
   "id": "bcf372d0",
   "metadata": {},
   "outputs": [],
   "source": [
    "a = 2 # 0b10 in binary\n",
    "b = 3 # 0b11 in binary"
   ]
  },
  {
   "cell_type": "code",
   "execution_count": null,
   "id": "8e406022",
   "metadata": {},
   "outputs": [],
   "source": [
    "print(bin(a))\n",
    "print(bin(b))\n",
    "print(a & b)\n",
    "print(bin(a & b))"
   ]
  },
  {
   "cell_type": "markdown",
   "id": "a95a43ae",
   "metadata": {},
   "source": [
    "The result can be explained by remembering that '&' is a **bitwise** operator. So let's compare the binaries on a bitwise basis:\n",
    "\n",
    "- First bits: 1 & 1 equals 1\n",
    "- Second bits: 1 & 0 equals 0"
   ]
  },
  {
   "cell_type": "code",
   "execution_count": null,
   "id": "a759d006",
   "metadata": {},
   "outputs": [],
   "source": [
    "print(1 & 1)\n",
    "print(0 & 1)"
   ]
  },
  {
   "cell_type": "code",
   "execution_count": null,
   "id": "379d6a21",
   "metadata": {},
   "outputs": [],
   "source": [
    "print(5 >> 1)"
   ]
  },
  {
   "cell_type": "markdown",
   "id": "ead494e1",
   "metadata": {},
   "source": [
    "0000 0101 -> 5\n",
    "\n",
    "Shifting the digits by 1 to the right and zero padding\n",
    "\n",
    "0000 0010 -> 2"
   ]
  },
  {
   "cell_type": "code",
   "execution_count": null,
   "id": "fa73249b",
   "metadata": {},
   "outputs": [],
   "source": [
    "print(5 << 1)"
   ]
  },
  {
   "cell_type": "code",
   "execution_count": null,
   "id": "2ee5327d",
   "metadata": {},
   "outputs": [],
   "source": []
  }
 ],
 "metadata": {
  "kernelspec": {
   "display_name": "Python 3 (ipykernel)",
   "language": "python",
   "name": "python3"
  },
  "language_info": {
   "codemirror_mode": {
    "name": "ipython",
    "version": 3
   },
   "file_extension": ".py",
   "mimetype": "text/x-python",
   "name": "python",
   "nbconvert_exporter": "python",
   "pygments_lexer": "ipython3",
   "version": "3.9.6"
  },
  "latex_envs": {
   "LaTeX_envs_menu_present": true,
   "autoclose": false,
   "autocomplete": true,
   "bibliofile": "biblio.bib",
   "cite_by": "apalike",
   "current_citInitial": 1,
   "eqLabelWithNumbers": true,
   "eqNumInitial": 1,
   "hotkeys": {
    "equation": "Ctrl-E",
    "itemize": "Ctrl-I"
   },
   "labels_anchors": false,
   "latex_user_defs": false,
   "report_style_numbering": false,
   "user_envs_cfg": false
  },
  "toc": {
   "base_numbering": 1,
   "nav_menu": {},
   "number_sections": true,
   "sideBar": true,
   "skip_h1_title": false,
   "title_cell": "Table of Contents",
   "title_sidebar": "Contents",
   "toc_cell": false,
   "toc_position": {},
   "toc_section_display": true,
   "toc_window_display": false
  }
 },
 "nbformat": 4,
 "nbformat_minor": 5
}
